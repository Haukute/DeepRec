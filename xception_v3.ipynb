{
  "nbformat": 4,
  "nbformat_minor": 0,
  "metadata": {
    "colab": {
      "name": "run_model.ipynb",
      "version": "0.3.2",
      "provenance": [],
      "collapsed_sections": [
        "HAZn3tJ1Lm_T",
        "9EOEVgsOLcBF",
        "AxfivK-Bwt8B"
      ],
      "toc_visible": true
    },
    "kernelspec": {
      "name": "python3",
      "display_name": "Python 3"
    },
    "accelerator": "GPU"
  },
  "cells": [
    {
      "metadata": {
        "id": "MHOJF4Czy2Jn",
        "colab_type": "code",
        "outputId": "f3be5dfe-f530-4d3b-fecf-95aa427f3245",
        "colab": {
          "base_uri": "https://localhost:8080/",
          "height": 34
        }
      },
      "cell_type": "code",
      "source": [
        "!ls"
      ],
      "execution_count": 0,
      "outputs": [
        {
          "output_type": "stream",
          "text": [
            "my_model.h5  ratings.dat  sample_data  u1.test\n"
          ],
          "name": "stdout"
        }
      ]
    },
    {
      "metadata": {
        "id": "W4J85_1woFf0",
        "colab_type": "code",
        "colab": {}
      },
      "cell_type": "code",
      "source": [
        ""
      ],
      "execution_count": 0,
      "outputs": []
    },
    {
      "metadata": {
        "id": "avIhwrc1oFdD",
        "colab_type": "code",
        "colab": {}
      },
      "cell_type": "code",
      "source": [
        "import tensorflow as tf\n",
        "graph = tf.get_default_graph()"
      ],
      "execution_count": 0,
      "outputs": []
    },
    {
      "metadata": {
        "id": "IRPTZXXnoFZd",
        "colab_type": "code",
        "colab": {}
      },
      "cell_type": "code",
      "source": [
        ""
      ],
      "execution_count": 0,
      "outputs": []
    },
    {
      "metadata": {
        "id": "vUNWh3b3SDXF",
        "colab_type": "text"
      },
      "cell_type": "markdown",
      "source": [
        "# **Deep Recommend**"
      ]
    },
    {
      "metadata": {
        "id": "B0XasOO87alm",
        "colab_type": "code",
        "colab": {
          "base_uri": "https://localhost:8080/",
          "height": 173
        },
        "outputId": "f6ac43b0-3ec2-4c4c-c53b-8a6fa55688ab"
      },
      "cell_type": "code",
      "source": [
        "!pip install keras --upgrade"
      ],
      "execution_count": 16,
      "outputs": [
        {
          "output_type": "stream",
          "text": [
            "Requirement already up-to-date: keras in /usr/local/lib/python3.6/dist-packages (2.2.4)\n",
            "Requirement already satisfied, skipping upgrade: scipy>=0.14 in /usr/local/lib/python3.6/dist-packages (from keras) (1.1.0)\n",
            "Requirement already satisfied, skipping upgrade: numpy>=1.9.1 in /usr/local/lib/python3.6/dist-packages (from keras) (1.14.6)\n",
            "Requirement already satisfied, skipping upgrade: pyyaml in /usr/local/lib/python3.6/dist-packages (from keras) (3.13)\n",
            "Requirement already satisfied, skipping upgrade: six>=1.9.0 in /usr/local/lib/python3.6/dist-packages (from keras) (1.11.0)\n",
            "Requirement already satisfied, skipping upgrade: keras-preprocessing>=1.0.5 in /usr/local/lib/python3.6/dist-packages (from keras) (1.0.9)\n",
            "Requirement already satisfied, skipping upgrade: h5py in /usr/local/lib/python3.6/dist-packages (from keras) (2.8.0)\n",
            "Requirement already satisfied, skipping upgrade: keras-applications>=1.0.6 in /usr/local/lib/python3.6/dist-packages (from keras) (1.0.7)\n"
          ],
          "name": "stdout"
        }
      ]
    },
    {
      "metadata": {
        "id": "WnU_KUfm66E-",
        "colab_type": "code",
        "colab": {}
      },
      "cell_type": "code",
      "source": [
        "import numpy as np\n",
        "import pandas as pd"
      ],
      "execution_count": 0,
      "outputs": []
    },
    {
      "metadata": {
        "id": "I3Yudpo8SC9v",
        "colab_type": "code",
        "colab": {}
      },
      "cell_type": "code",
      "source": [
        "ff = 'ratings.dat'"
      ],
      "execution_count": 0,
      "outputs": []
    },
    {
      "metadata": {
        "id": "So62lzBR8dUb",
        "colab_type": "code",
        "colab": {}
      },
      "cell_type": "code",
      "source": [
        ""
      ],
      "execution_count": 0,
      "outputs": []
    },
    {
      "metadata": {
        "id": "OvN0bqucSA9K",
        "colab_type": "code",
        "outputId": "930f0a3a-3d0c-4b5f-c397-2b71e8913787",
        "colab": {
          "base_uri": "https://localhost:8080/",
          "height": 71
        }
      },
      "cell_type": "code",
      "source": [
        "name = ['user', 'item', 'rating', 'time']\n",
        "dff = pd.read_csv(ff, sep='::', names = name)\n",
        "dff = dff.drop(columns = ['time'])"
      ],
      "execution_count": 6,
      "outputs": [
        {
          "output_type": "stream",
          "text": [
            "/usr/local/lib/python3.6/dist-packages/ipykernel_launcher.py:2: ParserWarning: Falling back to the 'python' engine because the 'c' engine does not support regex separators (separators > 1 char and different from '\\s+' are interpreted as regex); you can avoid this warning by specifying engine='python'.\n",
            "  \n"
          ],
          "name": "stderr"
        }
      ]
    },
    {
      "metadata": {
        "id": "zAeQMBgqSkhS",
        "colab_type": "code",
        "outputId": "a4eb422c-f6b1-40ad-b270-ad0c70701b4f",
        "colab": {
          "base_uri": "https://localhost:8080/",
          "height": 204
        }
      },
      "cell_type": "code",
      "source": [
        "dff.head()"
      ],
      "execution_count": 7,
      "outputs": [
        {
          "output_type": "execute_result",
          "data": {
            "text/html": [
              "<div>\n",
              "<style scoped>\n",
              "    .dataframe tbody tr th:only-of-type {\n",
              "        vertical-align: middle;\n",
              "    }\n",
              "\n",
              "    .dataframe tbody tr th {\n",
              "        vertical-align: top;\n",
              "    }\n",
              "\n",
              "    .dataframe thead th {\n",
              "        text-align: right;\n",
              "    }\n",
              "</style>\n",
              "<table border=\"1\" class=\"dataframe\">\n",
              "  <thead>\n",
              "    <tr style=\"text-align: right;\">\n",
              "      <th></th>\n",
              "      <th>user</th>\n",
              "      <th>item</th>\n",
              "      <th>rating</th>\n",
              "    </tr>\n",
              "  </thead>\n",
              "  <tbody>\n",
              "    <tr>\n",
              "      <th>0</th>\n",
              "      <td>1</td>\n",
              "      <td>1193</td>\n",
              "      <td>5</td>\n",
              "    </tr>\n",
              "    <tr>\n",
              "      <th>1</th>\n",
              "      <td>1</td>\n",
              "      <td>661</td>\n",
              "      <td>3</td>\n",
              "    </tr>\n",
              "    <tr>\n",
              "      <th>2</th>\n",
              "      <td>1</td>\n",
              "      <td>914</td>\n",
              "      <td>3</td>\n",
              "    </tr>\n",
              "    <tr>\n",
              "      <th>3</th>\n",
              "      <td>1</td>\n",
              "      <td>3408</td>\n",
              "      <td>4</td>\n",
              "    </tr>\n",
              "    <tr>\n",
              "      <th>4</th>\n",
              "      <td>1</td>\n",
              "      <td>2355</td>\n",
              "      <td>5</td>\n",
              "    </tr>\n",
              "  </tbody>\n",
              "</table>\n",
              "</div>"
            ],
            "text/plain": [
              "   user  item  rating\n",
              "0     1  1193       5\n",
              "1     1   661       3\n",
              "2     1   914       3\n",
              "3     1  3408       4\n",
              "4     1  2355       5"
            ]
          },
          "metadata": {
            "tags": []
          },
          "execution_count": 7
        }
      ]
    },
    {
      "metadata": {
        "id": "w_6a1YsLTCtS",
        "colab_type": "code",
        "colab": {}
      },
      "cell_type": "code",
      "source": [
        "data_dim = len(dff.user.unique()), len(dff.item.unique())"
      ],
      "execution_count": 0,
      "outputs": []
    },
    {
      "metadata": {
        "id": "tHarp6e88vKG",
        "colab_type": "code",
        "outputId": "0779fa55-f72d-4009-a131-6c4819f1cc36",
        "colab": {
          "base_uri": "https://localhost:8080/",
          "height": 34
        }
      },
      "cell_type": "code",
      "source": [
        "data_dim"
      ],
      "execution_count": 9,
      "outputs": [
        {
          "output_type": "execute_result",
          "data": {
            "text/plain": [
              "(6040, 3706)"
            ]
          },
          "metadata": {
            "tags": []
          },
          "execution_count": 9
        }
      ]
    },
    {
      "metadata": {
        "id": "N5eiVP68w1da",
        "colab_type": "code",
        "colab": {}
      },
      "cell_type": "code",
      "source": [
        "from sklearn.model_selection import train_test_split"
      ],
      "execution_count": 0,
      "outputs": []
    },
    {
      "metadata": {
        "id": "V2xM2alzw1dd",
        "colab_type": "code",
        "colab": {}
      },
      "cell_type": "code",
      "source": [
        "data = np.array(dff)\n",
        "train, test = train_test_split(data, test_size=0.2)"
      ],
      "execution_count": 0,
      "outputs": []
    },
    {
      "metadata": {
        "id": "_2JGflFow1de",
        "colab_type": "code",
        "colab": {}
      },
      "cell_type": "code",
      "source": [
        "u_train = train[:,0]\n",
        "i_train = train[:,1]\n",
        "r_train = train[:,2]\n",
        "u_test = test[:,0]\n",
        "i_test = test[:,1]\n",
        "r_test = test[:,2]"
      ],
      "execution_count": 0,
      "outputs": []
    },
    {
      "metadata": {
        "id": "aDVU9T7WPDHd",
        "colab_type": "code",
        "colab": {}
      },
      "cell_type": "code",
      "source": [
        "# r_train = r_train/5\n",
        "# r_test = r_test/5"
      ],
      "execution_count": 0,
      "outputs": []
    },
    {
      "metadata": {
        "id": "qUSbF6n9w1dk",
        "colab_type": "code",
        "colab": {
          "base_uri": "https://localhost:8080/",
          "height": 34
        },
        "outputId": "68b3df87-402d-4f41-a19d-e215bee633b9"
      },
      "cell_type": "code",
      "source": [
        "from keras.models import Model\n",
        "from keras.callbacks import ModelCheckpoint\n",
        "from keras.layers import dot, concatenate, Embedding, Input, Flatten, Dropout, Dense, add\n",
        "from keras.models import Sequential\n",
        "from keras import optimizers\n",
        "from keras.layers.normalization import BatchNormalization\n",
        "from keras import backend as K"
      ],
      "execution_count": 13,
      "outputs": [
        {
          "output_type": "stream",
          "text": [
            "Using TensorFlow backend.\n"
          ],
          "name": "stderr"
        }
      ]
    },
    {
      "metadata": {
        "id": "x6OeRT2Aw1dn",
        "colab_type": "code",
        "colab": {}
      },
      "cell_type": "code",
      "source": [
        "len_dim_i = [100,200,300]\n",
        "len_dim_u = [100,200,300]\n",
        "len_dim_r = [100]"
      ],
      "execution_count": 0,
      "outputs": []
    },
    {
      "metadata": {
        "id": "KeR950zy-3lt",
        "colab_type": "code",
        "colab": {}
      },
      "cell_type": "code",
      "source": [
        "def rmse(y_true, y_pred):\n",
        "        return K.sqrt(K.mean(K.square(y_pred - y_true), axis=-1)) "
      ],
      "execution_count": 0,
      "outputs": []
    },
    {
      "metadata": {
        "id": "sQeQVpkyw1dq",
        "colab_type": "code",
        "colab": {}
      },
      "cell_type": "code",
      "source": [
        "user_id_input = Input(shape=[1], name='user')\n",
        "item_id_input = Input(shape=[1], name='item')\n",
        "\n",
        "user_embedding = Embedding(output_dim=10, input_dim=data_dim[0] + 1,\n",
        "                                   input_length=1, name='user_embedding')(user_id_input)\n",
        "item_embedding = Embedding(output_dim=10, input_dim=data_dim[1] + 1,\n",
        "                                   input_length=1, name='item_embedding')(item_id_input)\n",
        "#user-item init\n",
        "# user_layer = (Dense(100, activation=\"relu\"))(user_id_input)\n",
        "# item_layer = (Dense(100, activation=\"relu\"))(item_id_input)\n",
        "# sub_layer_user = add([user_embedding, user_id_input])\n",
        "# sub_layer_item = add([item_embedding, item_id_input])\n",
        "\n",
        "\n",
        "# user_embedding = (Dense(100, activation=\"relu\"))(user_embedding)\n",
        "# item_embedding = (Dense(100, activation=\"relu\"))(item_embedding)\n",
        "# sub_layer_user = (Dense(100, activation=\"relu\"))(sub_layer_user)\n",
        "# sub_layer_item = (Dense(100, activation=\"relu\"))(sub_layer_item)\n",
        "\n",
        "# for i in range(len(len_dim_u)):\n",
        "#     user_embedding = (Dense(len_dim_u[i], activation=\"relu\"))(user_embedding)\n",
        "#     user_embedding = (Dropout(0.1))(user_embedding)\n",
        "# for i in range(len(len_dim_i)):\n",
        "#     item_embedding = (Dense(len_dim_i[i], activation=\"relu\"))(item_embedding)\n",
        "#     item_embedding = (Dropout(0.1))(item_embedding)\n",
        "\n",
        "# sub_layer_user = add([user_embedding, user_layer])\n",
        "# sub_layer_item = add([item_embedding, item_layer])\n",
        "#1st block\n",
        "user_embedding = (Dense(100, activation=\"relu\", name = \"user_dense1\"))(user_embedding)\n",
        "user_embedding = (BatchNormalization(name=\"batch_user1\"))(user_embedding)\n",
        "item_embedding = (Dense(100, activation=\"relu\",name = \"item_dense1\"))(item_embedding)\n",
        "item_embedding = (BatchNormalization(name=\"batch_item1\"))(item_embedding)\n",
        "\n",
        "sub_layer_user = (Dense(100, activation=\"relu\", name = \"subuser_layer1\"))(user_id_input)\n",
        "sub_layer_item = (Dense(100, activation=\"relu\", name = \"subitem_layer1\"))(item_id_input)\n",
        "#xcep\n",
        "sub_layer_user = add([user_embedding, sub_layer_user])\n",
        "sub_layer_item = add([item_embedding, sub_layer_item])\n",
        "\n",
        "user_embedding = (Dense(150, activation=\"relu\", name = \"user_dense2\"))(user_embedding)\n",
        "user_embedding = (BatchNormalization(name=\"batch_user2\"))(user_embedding)\n",
        "item_embedding = (Dense(150, activation=\"relu\", name = \"item_dense2\"))(item_embedding)\n",
        "item_embedding = (BatchNormalization(name=\"batch_item2\"))(item_embedding)\n",
        "\n",
        "sub_layer_user = (Dense(150, activation=\"relu\",name = \"subuser_layer2\"))(user_id_input)\n",
        "sub_layer_item = (Dense(150, activation=\"relu\",name = \"subitem_layer2\"))(item_id_input)\n",
        "#xcep\n",
        "sub_layer_user = add([user_embedding, sub_layer_user])\n",
        "sub_layer_item = add([item_embedding, sub_layer_item])\n",
        "\n",
        "#2nd block\n",
        "user_embedding = (Dense(200, activation=\"relu\", name = \"user_dense3\"))(user_embedding)\n",
        "user_embedding = (BatchNormalization(name=\"batch_user3\"))(user_embedding)\n",
        "item_embedding = (Dense(200, activation=\"relu\", name = \"item_dense3\"))(item_embedding)\n",
        "item_embedding = (BatchNormalization(name=\"batch_item3\"))(item_embedding)\n",
        "\n",
        "sub_layer_user = (Dense(200, activation=\"relu\",name = \"subuser_layer3\"))(sub_layer_user)\n",
        "sub_layer_item = (Dense(200, activation=\"relu\",name = \"subitem_layer3\"))(sub_layer_item)\n",
        "\n",
        "user_embedding = add([user_embedding, sub_layer_user])\n",
        "item_embedding = add([item_embedding, sub_layer_item])\n",
        "\n",
        "user_vecs = Flatten()(user_embedding)\n",
        "item_vecs = Flatten()(item_embedding)\n",
        "\n",
        "    \n",
        "# y = merge([user_vecs, item_vecs], mode='dot', output_shape=(1,))\n",
        "y = add([user_vecs, item_vecs])\n",
        "# # y = (Dense(1, activation=\"relu\"))(y)\n",
        "# for i in range(len(len_dim_r)):\n",
        "#     y = (Dense(len_dim_r[i], activation=\"relu\"))(y)\n",
        "#     y = (BatchNormalization())(y)\n",
        "#     y = (Dropout(0.2))(y)\n",
        "# y = Dense(1, activation=\"relu\")(y)\n",
        "# M = Sequential()\n",
        "# M.add(y)\n",
        "# y = (Dropout(0.25))(y)\n",
        "y = (Dense(100, activation=\"relu\", name = \"fc1\"))(y)\n",
        "y = (BatchNormalization())(y)\n",
        "y = (Dropout(0.2))(y)\n",
        "y = (Dense(32, activation=\"relu\", name = \"fc2\"))(y)\n",
        "# y = (Dropout(0.25))(y)\n",
        "# y = (Dense(16))(y)\n",
        "# y = (Dropout(0.1))(y)\n",
        "y = (Dense(4, activation=\"relu\", name = \"fc3\"))(y)\n",
        "# y = (Dropout(0.2))(y)\n",
        "y = (Dense(1, activation='relu'))(y)\n",
        "\n",
        "model = Model(inputs=[user_id_input, item_id_input], outputs=[y])\n",
        "adam = optimizers.Adam(lr=0.0005)\n",
        "model.compile(optimizer=adam, loss='mae', metrics=['mse'])"
      ],
      "execution_count": 0,
      "outputs": []
    },
    {
      "metadata": {
        "id": "ZHl7HAHIJSMp",
        "colab_type": "code",
        "colab": {}
      },
      "cell_type": "code",
      "source": [
        ""
      ],
      "execution_count": 0,
      "outputs": []
    },
    {
      "metadata": {
        "id": "CIEH7wMqhH7-",
        "colab_type": "text"
      },
      "cell_type": "markdown",
      "source": [
        ""
      ]
    },
    {
      "metadata": {
        "id": "6sJSbOMKw1ds",
        "colab_type": "code",
        "outputId": "2e9a86c0-5645-4379-f603-383c3a0a48b0",
        "colab": {
          "base_uri": "https://localhost:8080/",
          "height": 904
        }
      },
      "cell_type": "code",
      "source": [
        "history = model.fit([u_train,i_train], r_train,validation_data=([u_test,i_test], r_test), batch_size=64, epochs = 25, verbose=1, shuffle=True)"
      ],
      "execution_count": 38,
      "outputs": [
        {
          "output_type": "stream",
          "text": [
            "Train on 800167 samples, validate on 200042 samples\n",
            "Epoch 1/25\n",
            "800167/800167 [==============================] - 325s 407us/step - loss: 0.8084 - mean_squared_error: 1.0712 - val_loss: 0.8882 - val_mean_squared_error: 2.9714\n",
            "Epoch 2/25\n",
            "800167/800167 [==============================] - 317s 396us/step - loss: 0.7343 - mean_squared_error: 0.9149 - val_loss: 0.8903 - val_mean_squared_error: 1.5407\n",
            "Epoch 3/25\n",
            "800167/800167 [==============================] - 321s 401us/step - loss: 0.7074 - mean_squared_error: 0.9214 - val_loss: 0.8704 - val_mean_squared_error: 1.4299\n",
            "Epoch 4/25\n",
            "800167/800167 [==============================] - 318s 397us/step - loss: 0.6994 - mean_squared_error: 0.9259 - val_loss: 0.8699 - val_mean_squared_error: 1.3922\n",
            "Epoch 5/25\n",
            "800167/800167 [==============================] - 319s 399us/step - loss: 0.6942 - mean_squared_error: 0.9273 - val_loss: 0.8704 - val_mean_squared_error: 1.3966\n",
            "Epoch 6/25\n",
            "800167/800167 [==============================] - 317s 396us/step - loss: 0.6892 - mean_squared_error: 0.9267 - val_loss: 0.8679 - val_mean_squared_error: 1.3974\n",
            "Epoch 7/25\n",
            "800167/800167 [==============================] - 316s 395us/step - loss: 0.6850 - mean_squared_error: 0.9227 - val_loss: 0.8681 - val_mean_squared_error: 1.3965\n",
            "Epoch 8/25\n",
            "800167/800167 [==============================] - 318s 397us/step - loss: 0.6834 - mean_squared_error: 0.9239 - val_loss: 0.8681 - val_mean_squared_error: 1.4093\n",
            "Epoch 9/25\n",
            "800167/800167 [==============================] - 317s 396us/step - loss: 0.6815 - mean_squared_error: 0.9220 - val_loss: 0.8662 - val_mean_squared_error: 1.4505\n",
            "Epoch 10/25\n",
            "800167/800167 [==============================] - 314s 392us/step - loss: 0.6801 - mean_squared_error: 0.9223 - val_loss: 0.8651 - val_mean_squared_error: 1.4000\n",
            "Epoch 11/25\n",
            "800167/800167 [==============================] - 305s 381us/step - loss: 0.6828 - mean_squared_error: 0.9269 - val_loss: 0.8730 - val_mean_squared_error: 1.4924\n",
            "Epoch 12/25\n",
            "800167/800167 [==============================] - 304s 380us/step - loss: 0.6793 - mean_squared_error: 0.9232 - val_loss: 0.8637 - val_mean_squared_error: 1.3945\n",
            "Epoch 13/25\n",
            "800167/800167 [==============================] - 304s 380us/step - loss: 0.6762 - mean_squared_error: 0.9189 - val_loss: 0.8665 - val_mean_squared_error: 1.3852\n",
            "Epoch 14/25\n",
            "800167/800167 [==============================] - 303s 379us/step - loss: 0.6752 - mean_squared_error: 0.9203 - val_loss: 0.8643 - val_mean_squared_error: 1.3927\n",
            "Epoch 15/25\n",
            "800167/800167 [==============================] - 302s 377us/step - loss: 0.6751 - mean_squared_error: 0.9198 - val_loss: 0.8637 - val_mean_squared_error: 1.3950\n",
            "Epoch 16/25\n",
            "800167/800167 [==============================] - 301s 377us/step - loss: 0.6736 - mean_squared_error: 0.9185 - val_loss: 0.8637 - val_mean_squared_error: 1.3955\n",
            "Epoch 17/25\n",
            "800167/800167 [==============================] - 302s 377us/step - loss: 0.6731 - mean_squared_error: 0.9178 - val_loss: 0.8724 - val_mean_squared_error: 1.6468\n",
            "Epoch 18/25\n",
            "800167/800167 [==============================] - 305s 381us/step - loss: 0.6715 - mean_squared_error: 0.9169 - val_loss: 0.8634 - val_mean_squared_error: 1.3936\n",
            "Epoch 19/25\n",
            "800167/800167 [==============================] - 304s 379us/step - loss: 0.6713 - mean_squared_error: 0.9171 - val_loss: 0.8659 - val_mean_squared_error: 1.4071\n",
            "Epoch 20/25\n",
            "800167/800167 [==============================] - 304s 380us/step - loss: 0.6711 - mean_squared_error: 0.9183 - val_loss: 0.8647 - val_mean_squared_error: 1.3945\n",
            "Epoch 21/25\n",
            "800167/800167 [==============================] - 304s 380us/step - loss: 0.6711 - mean_squared_error: 0.9183 - val_loss: 0.8640 - val_mean_squared_error: 1.3931\n",
            "Epoch 22/25\n",
            "800167/800167 [==============================] - 306s 383us/step - loss: 0.6703 - mean_squared_error: 0.9161 - val_loss: 0.8655 - val_mean_squared_error: 1.4008\n",
            "Epoch 23/25\n",
            "800167/800167 [==============================] - 305s 381us/step - loss: 0.6701 - mean_squared_error: 0.9179 - val_loss: 0.8646 - val_mean_squared_error: 1.4015\n",
            "Epoch 24/25\n",
            "800167/800167 [==============================] - 306s 382us/step - loss: 0.6696 - mean_squared_error: 0.9166 - val_loss: 0.8635 - val_mean_squared_error: 1.3886\n",
            "Epoch 25/25\n",
            "800167/800167 [==============================] - 305s 382us/step - loss: 0.6692 - mean_squared_error: 0.9179 - val_loss: 0.8642 - val_mean_squared_error: 1.3971\n"
          ],
          "name": "stdout"
        }
      ]
    },
    {
      "metadata": {
        "id": "ASRFXuC1w1dx",
        "colab_type": "code",
        "outputId": "d8b05375-e1a8-4195-8163-72ebbb830ff1",
        "colab": {
          "base_uri": "https://localhost:8080/",
          "height": 1343
        }
      },
      "cell_type": "code",
      "source": [
        "model.summary()"
      ],
      "execution_count": 39,
      "outputs": [
        {
          "output_type": "stream",
          "text": [
            "__________________________________________________________________________________________________\n",
            "Layer (type)                    Output Shape         Param #     Connected to                     \n",
            "==================================================================================================\n",
            "user (InputLayer)               (None, 1)            0                                            \n",
            "__________________________________________________________________________________________________\n",
            "item (InputLayer)               (None, 1)            0                                            \n",
            "__________________________________________________________________________________________________\n",
            "user_embedding (Embedding)      (None, 1, 10)        60410       user[0][0]                       \n",
            "__________________________________________________________________________________________________\n",
            "item_embedding (Embedding)      (None, 1, 10)        37070       item[0][0]                       \n",
            "__________________________________________________________________________________________________\n",
            "user_dense1 (Dense)             (None, 1, 100)       1100        user_embedding[0][0]             \n",
            "__________________________________________________________________________________________________\n",
            "item_dense1 (Dense)             (None, 1, 100)       1100        item_embedding[0][0]             \n",
            "__________________________________________________________________________________________________\n",
            "batch_user1 (BatchNormalization (None, 1, 100)       400         user_dense1[0][0]                \n",
            "__________________________________________________________________________________________________\n",
            "batch_item1 (BatchNormalization (None, 1, 100)       400         item_dense1[0][0]                \n",
            "__________________________________________________________________________________________________\n",
            "user_dense2 (Dense)             (None, 1, 150)       15150       batch_user1[0][0]                \n",
            "__________________________________________________________________________________________________\n",
            "item_dense2 (Dense)             (None, 1, 150)       15150       batch_item1[0][0]                \n",
            "__________________________________________________________________________________________________\n",
            "batch_user2 (BatchNormalization (None, 1, 150)       600         user_dense2[0][0]                \n",
            "__________________________________________________________________________________________________\n",
            "subuser_layer2 (Dense)          (None, 150)          300         user[0][0]                       \n",
            "__________________________________________________________________________________________________\n",
            "batch_item2 (BatchNormalization (None, 1, 150)       600         item_dense2[0][0]                \n",
            "__________________________________________________________________________________________________\n",
            "subitem_layer2 (Dense)          (None, 150)          300         item[0][0]                       \n",
            "__________________________________________________________________________________________________\n",
            "user_dense3 (Dense)             (None, 1, 200)       30200       batch_user2[0][0]                \n",
            "__________________________________________________________________________________________________\n",
            "add_49 (Add)                    (None, 1, 150)       0           batch_user2[0][0]                \n",
            "                                                                 subuser_layer2[0][0]             \n",
            "__________________________________________________________________________________________________\n",
            "item_dense3 (Dense)             (None, 1, 200)       30200       batch_item2[0][0]                \n",
            "__________________________________________________________________________________________________\n",
            "add_50 (Add)                    (None, 1, 150)       0           batch_item2[0][0]                \n",
            "                                                                 subitem_layer2[0][0]             \n",
            "__________________________________________________________________________________________________\n",
            "batch_user3 (BatchNormalization (None, 1, 200)       800         user_dense3[0][0]                \n",
            "__________________________________________________________________________________________________\n",
            "subuser_layer3 (Dense)          (None, 1, 200)       30200       add_49[0][0]                     \n",
            "__________________________________________________________________________________________________\n",
            "batch_item3 (BatchNormalization (None, 1, 200)       800         item_dense3[0][0]                \n",
            "__________________________________________________________________________________________________\n",
            "subitem_layer3 (Dense)          (None, 1, 200)       30200       add_50[0][0]                     \n",
            "__________________________________________________________________________________________________\n",
            "add_51 (Add)                    (None, 1, 200)       0           batch_user3[0][0]                \n",
            "                                                                 subuser_layer3[0][0]             \n",
            "__________________________________________________________________________________________________\n",
            "add_52 (Add)                    (None, 1, 200)       0           batch_item3[0][0]                \n",
            "                                                                 subitem_layer3[0][0]             \n",
            "__________________________________________________________________________________________________\n",
            "flatten_15 (Flatten)            (None, 200)          0           add_51[0][0]                     \n",
            "__________________________________________________________________________________________________\n",
            "flatten_16 (Flatten)            (None, 200)          0           add_52[0][0]                     \n",
            "__________________________________________________________________________________________________\n",
            "add_53 (Add)                    (None, 200)          0           flatten_15[0][0]                 \n",
            "                                                                 flatten_16[0][0]                 \n",
            "__________________________________________________________________________________________________\n",
            "fc1 (Dense)                     (None, 100)          20100       add_53[0][0]                     \n",
            "__________________________________________________________________________________________________\n",
            "batch_normalization_11 (BatchNo (None, 100)          400         fc1[0][0]                        \n",
            "__________________________________________________________________________________________________\n",
            "dropout_13 (Dropout)            (None, 100)          0           batch_normalization_11[0][0]     \n",
            "__________________________________________________________________________________________________\n",
            "fc2 (Dense)                     (None, 32)           3232        dropout_13[0][0]                 \n",
            "__________________________________________________________________________________________________\n",
            "fc3 (Dense)                     (None, 4)            132         fc2[0][0]                        \n",
            "__________________________________________________________________________________________________\n",
            "dense_23 (Dense)                (None, 1)            5           fc3[0][0]                        \n",
            "==================================================================================================\n",
            "Total params: 278,849\n",
            "Trainable params: 276,849\n",
            "Non-trainable params: 2,000\n",
            "__________________________________________________________________________________________________\n"
          ],
          "name": "stdout"
        }
      ]
    },
    {
      "metadata": {
        "id": "s7ZRKXj-cNVD",
        "colab_type": "code",
        "colab": {}
      },
      "cell_type": "code",
      "source": [
        "from IPython.display import SVG\n",
        "from keras.utils.vis_utils import model_to_dot"
      ],
      "execution_count": 0,
      "outputs": []
    },
    {
      "metadata": {
        "id": "nM-eF8ylcRc5",
        "colab_type": "code",
        "outputId": "41b55f78-5b3c-4eac-c699-1c8df04416af",
        "colab": {
          "base_uri": "https://localhost:8080/",
          "height": 1885
        }
      },
      "cell_type": "code",
      "source": [
        "SVG(model_to_dot(model,  show_shapes=True, show_layer_names=True, rankdir='HB').create(prog='dot', format='svg'))"
      ],
      "execution_count": 40,
      "outputs": [
        {
          "output_type": "execute_result",
          "data": {
            "text/plain": [
              "<IPython.core.display.SVG object>"
            ],
            "image/svg+xml": "<svg height=\"1383pt\" viewBox=\"0.00 0.00 1430.50 1383.00\" width=\"1431pt\" xmlns=\"http://www.w3.org/2000/svg\" xmlns:xlink=\"http://www.w3.org/1999/xlink\">\n<g class=\"graph\" id=\"graph0\" transform=\"scale(1 1) rotate(0) translate(4 1379)\">\n<title>G</title>\n<polygon fill=\"#ffffff\" points=\"-4,4 -4,-1379 1426.5,-1379 1426.5,4 -4,4\" stroke=\"transparent\"/>\n<!-- 140499464694024 -->\n<g class=\"node\" id=\"node1\">\n<title>140499464694024</title>\n<polygon fill=\"none\" points=\"232.5,-1328.5 232.5,-1374.5 473.5,-1374.5 473.5,-1328.5 232.5,-1328.5\" stroke=\"#000000\"/>\n<text fill=\"#000000\" font-family=\"Times,serif\" font-size=\"14.00\" text-anchor=\"middle\" x=\"288\" y=\"-1347.8\">user: InputLayer</text>\n<polyline fill=\"none\" points=\"343.5,-1328.5 343.5,-1374.5 \" stroke=\"#000000\"/>\n<text fill=\"#000000\" font-family=\"Times,serif\" font-size=\"14.00\" text-anchor=\"middle\" x=\"372.5\" y=\"-1359.3\">input:</text>\n<polyline fill=\"none\" points=\"343.5,-1351.5 401.5,-1351.5 \" stroke=\"#000000\"/>\n<text fill=\"#000000\" font-family=\"Times,serif\" font-size=\"14.00\" text-anchor=\"middle\" x=\"372.5\" y=\"-1336.3\">output:</text>\n<polyline fill=\"none\" points=\"401.5,-1328.5 401.5,-1374.5 \" stroke=\"#000000\"/>\n<text fill=\"#000000\" font-family=\"Times,serif\" font-size=\"14.00\" text-anchor=\"middle\" x=\"437.5\" y=\"-1359.3\">(None, 1)</text>\n<polyline fill=\"none\" points=\"401.5,-1351.5 473.5,-1351.5 \" stroke=\"#000000\"/>\n<text fill=\"#000000\" font-family=\"Times,serif\" font-size=\"14.00\" text-anchor=\"middle\" x=\"437.5\" y=\"-1336.3\">(None, 1)</text>\n</g>\n<!-- 140499464695088 -->\n<g class=\"node\" id=\"node3\">\n<title>140499464695088</title>\n<polygon fill=\"none\" points=\"74,-1245.5 74,-1291.5 414,-1291.5 414,-1245.5 74,-1245.5\" stroke=\"#000000\"/>\n<text fill=\"#000000\" font-family=\"Times,serif\" font-size=\"14.00\" text-anchor=\"middle\" x=\"167.5\" y=\"-1264.8\">user_embedding: Embedding</text>\n<polyline fill=\"none\" points=\"261,-1245.5 261,-1291.5 \" stroke=\"#000000\"/>\n<text fill=\"#000000\" font-family=\"Times,serif\" font-size=\"14.00\" text-anchor=\"middle\" x=\"290\" y=\"-1276.3\">input:</text>\n<polyline fill=\"none\" points=\"261,-1268.5 319,-1268.5 \" stroke=\"#000000\"/>\n<text fill=\"#000000\" font-family=\"Times,serif\" font-size=\"14.00\" text-anchor=\"middle\" x=\"290\" y=\"-1253.3\">output:</text>\n<polyline fill=\"none\" points=\"319,-1245.5 319,-1291.5 \" stroke=\"#000000\"/>\n<text fill=\"#000000\" font-family=\"Times,serif\" font-size=\"14.00\" text-anchor=\"middle\" x=\"366.5\" y=\"-1276.3\">(None, 1)</text>\n<polyline fill=\"none\" points=\"319,-1268.5 414,-1268.5 \" stroke=\"#000000\"/>\n<text fill=\"#000000\" font-family=\"Times,serif\" font-size=\"14.00\" text-anchor=\"middle\" x=\"366.5\" y=\"-1253.3\">(None, 1, 10)</text>\n</g>\n<!-- 140499464694024&#45;&gt;140499464695088 -->\n<g class=\"edge\" id=\"edge1\">\n<title>140499464694024-&gt;140499464695088</title>\n<path d=\"M322.6374,-1328.3799C310.222,-1318.9259 295.7122,-1307.8772 282.5604,-1297.8625\" fill=\"none\" stroke=\"#000000\"/>\n<polygon fill=\"#000000\" points=\"284.6542,-1295.0577 274.5778,-1291.784 280.4134,-1300.6269 284.6542,-1295.0577\" stroke=\"#000000\"/>\n</g>\n<!-- 140499461473952 -->\n<g class=\"node\" id=\"node12\">\n<title>140499461473952</title>\n<polygon fill=\"none\" points=\"390.5,-1079.5 390.5,-1125.5 681.5,-1125.5 681.5,-1079.5 390.5,-1079.5\" stroke=\"#000000\"/>\n<text fill=\"#000000\" font-family=\"Times,serif\" font-size=\"14.00\" text-anchor=\"middle\" x=\"463.5\" y=\"-1098.8\">subuser_layer2: Dense</text>\n<polyline fill=\"none\" points=\"536.5,-1079.5 536.5,-1125.5 \" stroke=\"#000000\"/>\n<text fill=\"#000000\" font-family=\"Times,serif\" font-size=\"14.00\" text-anchor=\"middle\" x=\"565.5\" y=\"-1110.3\">input:</text>\n<polyline fill=\"none\" points=\"536.5,-1102.5 594.5,-1102.5 \" stroke=\"#000000\"/>\n<text fill=\"#000000\" font-family=\"Times,serif\" font-size=\"14.00\" text-anchor=\"middle\" x=\"565.5\" y=\"-1087.3\">output:</text>\n<polyline fill=\"none\" points=\"594.5,-1079.5 594.5,-1125.5 \" stroke=\"#000000\"/>\n<text fill=\"#000000\" font-family=\"Times,serif\" font-size=\"14.00\" text-anchor=\"middle\" x=\"638\" y=\"-1110.3\">(None, 1)</text>\n<polyline fill=\"none\" points=\"594.5,-1102.5 681.5,-1102.5 \" stroke=\"#000000\"/>\n<text fill=\"#000000\" font-family=\"Times,serif\" font-size=\"14.00\" text-anchor=\"middle\" x=\"638\" y=\"-1087.3\">(None, 150)</text>\n</g>\n<!-- 140499464694024&#45;&gt;140499461473952 -->\n<g class=\"edge\" id=\"edge10\">\n<title>140499464694024-&gt;140499461473952</title>\n<path d=\"M384.6307,-1328.3056C397.4168,-1318.0317 411.7735,-1305.2746 423,-1292 465.1847,-1242.1194 501.3144,-1174.5955 520.7343,-1135.0743\" fill=\"none\" stroke=\"#000000\"/>\n<polygon fill=\"#000000\" points=\"524.087,-1136.1823 525.305,-1125.6577 517.7896,-1133.1255 524.087,-1136.1823\" stroke=\"#000000\"/>\n</g>\n<!-- 140499464694136 -->\n<g class=\"node\" id=\"node2\">\n<title>140499464694136</title>\n<polygon fill=\"none\" points=\"976.5,-1328.5 976.5,-1374.5 1219.5,-1374.5 1219.5,-1328.5 976.5,-1328.5\" stroke=\"#000000\"/>\n<text fill=\"#000000\" font-family=\"Times,serif\" font-size=\"14.00\" text-anchor=\"middle\" x=\"1033\" y=\"-1347.8\">item: InputLayer</text>\n<polyline fill=\"none\" points=\"1089.5,-1328.5 1089.5,-1374.5 \" stroke=\"#000000\"/>\n<text fill=\"#000000\" font-family=\"Times,serif\" font-size=\"14.00\" text-anchor=\"middle\" x=\"1118.5\" y=\"-1359.3\">input:</text>\n<polyline fill=\"none\" points=\"1089.5,-1351.5 1147.5,-1351.5 \" stroke=\"#000000\"/>\n<text fill=\"#000000\" font-family=\"Times,serif\" font-size=\"14.00\" text-anchor=\"middle\" x=\"1118.5\" y=\"-1336.3\">output:</text>\n<polyline fill=\"none\" points=\"1147.5,-1328.5 1147.5,-1374.5 \" stroke=\"#000000\"/>\n<text fill=\"#000000\" font-family=\"Times,serif\" font-size=\"14.00\" text-anchor=\"middle\" x=\"1183.5\" y=\"-1359.3\">(None, 1)</text>\n<polyline fill=\"none\" points=\"1147.5,-1351.5 1219.5,-1351.5 \" stroke=\"#000000\"/>\n<text fill=\"#000000\" font-family=\"Times,serif\" font-size=\"14.00\" text-anchor=\"middle\" x=\"1183.5\" y=\"-1336.3\">(None, 1)</text>\n</g>\n<!-- 140499464694472 -->\n<g class=\"node\" id=\"node4\">\n<title>140499464694472</title>\n<polygon fill=\"none\" points=\"800.5,-1245.5 800.5,-1291.5 1141.5,-1291.5 1141.5,-1245.5 800.5,-1245.5\" stroke=\"#000000\"/>\n<text fill=\"#000000\" font-family=\"Times,serif\" font-size=\"14.00\" text-anchor=\"middle\" x=\"894.5\" y=\"-1264.8\">item_embedding: Embedding</text>\n<polyline fill=\"none\" points=\"988.5,-1245.5 988.5,-1291.5 \" stroke=\"#000000\"/>\n<text fill=\"#000000\" font-family=\"Times,serif\" font-size=\"14.00\" text-anchor=\"middle\" x=\"1017.5\" y=\"-1276.3\">input:</text>\n<polyline fill=\"none\" points=\"988.5,-1268.5 1046.5,-1268.5 \" stroke=\"#000000\"/>\n<text fill=\"#000000\" font-family=\"Times,serif\" font-size=\"14.00\" text-anchor=\"middle\" x=\"1017.5\" y=\"-1253.3\">output:</text>\n<polyline fill=\"none\" points=\"1046.5,-1245.5 1046.5,-1291.5 \" stroke=\"#000000\"/>\n<text fill=\"#000000\" font-family=\"Times,serif\" font-size=\"14.00\" text-anchor=\"middle\" x=\"1094\" y=\"-1276.3\">(None, 1)</text>\n<polyline fill=\"none\" points=\"1046.5,-1268.5 1141.5,-1268.5 \" stroke=\"#000000\"/>\n<text fill=\"#000000\" font-family=\"Times,serif\" font-size=\"14.00\" text-anchor=\"middle\" x=\"1094\" y=\"-1253.3\">(None, 1, 10)</text>\n</g>\n<!-- 140499464694136&#45;&gt;140499464694472 -->\n<g class=\"edge\" id=\"edge2\">\n<title>140499464694136-&gt;140499464694472</title>\n<path d=\"M1062.6234,-1328.3799C1047.8848,-1318.7475 1030.613,-1307.4597 1015.0625,-1297.2967\" fill=\"none\" stroke=\"#000000\"/>\n<polygon fill=\"#000000\" points=\"1016.913,-1294.325 1006.6273,-1291.784 1013.0834,-1300.1846 1016.913,-1294.325\" stroke=\"#000000\"/>\n</g>\n<!-- 140499460544720 -->\n<g class=\"node\" id=\"node14\">\n<title>140499460544720</title>\n<polygon fill=\"none\" points=\"1107,-1162.5 1107,-1208.5 1399,-1208.5 1399,-1162.5 1107,-1162.5\" stroke=\"#000000\"/>\n<text fill=\"#000000\" font-family=\"Times,serif\" font-size=\"14.00\" text-anchor=\"middle\" x=\"1180.5\" y=\"-1181.8\">subitem_layer2: Dense</text>\n<polyline fill=\"none\" points=\"1254,-1162.5 1254,-1208.5 \" stroke=\"#000000\"/>\n<text fill=\"#000000\" font-family=\"Times,serif\" font-size=\"14.00\" text-anchor=\"middle\" x=\"1283\" y=\"-1193.3\">input:</text>\n<polyline fill=\"none\" points=\"1254,-1185.5 1312,-1185.5 \" stroke=\"#000000\"/>\n<text fill=\"#000000\" font-family=\"Times,serif\" font-size=\"14.00\" text-anchor=\"middle\" x=\"1283\" y=\"-1170.3\">output:</text>\n<polyline fill=\"none\" points=\"1312,-1162.5 1312,-1208.5 \" stroke=\"#000000\"/>\n<text fill=\"#000000\" font-family=\"Times,serif\" font-size=\"14.00\" text-anchor=\"middle\" x=\"1355.5\" y=\"-1193.3\">(None, 1)</text>\n<polyline fill=\"none\" points=\"1312,-1185.5 1399,-1185.5 \" stroke=\"#000000\"/>\n<text fill=\"#000000\" font-family=\"Times,serif\" font-size=\"14.00\" text-anchor=\"middle\" x=\"1355.5\" y=\"-1170.3\">(None, 150)</text>\n</g>\n<!-- 140499464694136&#45;&gt;140499460544720 -->\n<g class=\"edge\" id=\"edge12\">\n<title>140499464694136-&gt;140499460544720</title>\n<path d=\"M1119.5521,-1328.4184C1146.8904,-1299.1399 1194.117,-1248.5618 1224.435,-1216.0922\" fill=\"none\" stroke=\"#000000\"/>\n<polygon fill=\"#000000\" points=\"1227.1151,-1218.3503 1231.3817,-1208.6525 1221.9987,-1213.573 1227.1151,-1218.3503\" stroke=\"#000000\"/>\n</g>\n<!-- 140499464695368 -->\n<g class=\"node\" id=\"node5\">\n<title>140499464695368</title>\n<polygon fill=\"none\" points=\"62,-1162.5 62,-1208.5 352,-1208.5 352,-1162.5 62,-1162.5\" stroke=\"#000000\"/>\n<text fill=\"#000000\" font-family=\"Times,serif\" font-size=\"14.00\" text-anchor=\"middle\" x=\"127\" y=\"-1181.8\">user_dense1: Dense</text>\n<polyline fill=\"none\" points=\"192,-1162.5 192,-1208.5 \" stroke=\"#000000\"/>\n<text fill=\"#000000\" font-family=\"Times,serif\" font-size=\"14.00\" text-anchor=\"middle\" x=\"221\" y=\"-1193.3\">input:</text>\n<polyline fill=\"none\" points=\"192,-1185.5 250,-1185.5 \" stroke=\"#000000\"/>\n<text fill=\"#000000\" font-family=\"Times,serif\" font-size=\"14.00\" text-anchor=\"middle\" x=\"221\" y=\"-1170.3\">output:</text>\n<polyline fill=\"none\" points=\"250,-1162.5 250,-1208.5 \" stroke=\"#000000\"/>\n<text fill=\"#000000\" font-family=\"Times,serif\" font-size=\"14.00\" text-anchor=\"middle\" x=\"301\" y=\"-1193.3\">(None, 1, 10)</text>\n<polyline fill=\"none\" points=\"250,-1185.5 352,-1185.5 \" stroke=\"#000000\"/>\n<text fill=\"#000000\" font-family=\"Times,serif\" font-size=\"14.00\" text-anchor=\"middle\" x=\"301\" y=\"-1170.3\">(None, 1, 100)</text>\n</g>\n<!-- 140499464695088&#45;&gt;140499464695368 -->\n<g class=\"edge\" id=\"edge3\">\n<title>140499464695088-&gt;140499464695368</title>\n<path d=\"M233.6934,-1245.3799C229.9164,-1236.907 225.5683,-1227.1531 221.4927,-1218.0107\" fill=\"none\" stroke=\"#000000\"/>\n<polygon fill=\"#000000\" points=\"224.648,-1216.4925 217.3796,-1208.784 218.2545,-1219.3427 224.648,-1216.4925\" stroke=\"#000000\"/>\n</g>\n<!-- 140499464522216 -->\n<g class=\"node\" id=\"node6\">\n<title>140499464522216</title>\n<polygon fill=\"none\" points=\"797.5,-1162.5 797.5,-1208.5 1088.5,-1208.5 1088.5,-1162.5 797.5,-1162.5\" stroke=\"#000000\"/>\n<text fill=\"#000000\" font-family=\"Times,serif\" font-size=\"14.00\" text-anchor=\"middle\" x=\"863\" y=\"-1181.8\">item_dense1: Dense</text>\n<polyline fill=\"none\" points=\"928.5,-1162.5 928.5,-1208.5 \" stroke=\"#000000\"/>\n<text fill=\"#000000\" font-family=\"Times,serif\" font-size=\"14.00\" text-anchor=\"middle\" x=\"957.5\" y=\"-1193.3\">input:</text>\n<polyline fill=\"none\" points=\"928.5,-1185.5 986.5,-1185.5 \" stroke=\"#000000\"/>\n<text fill=\"#000000\" font-family=\"Times,serif\" font-size=\"14.00\" text-anchor=\"middle\" x=\"957.5\" y=\"-1170.3\">output:</text>\n<polyline fill=\"none\" points=\"986.5,-1162.5 986.5,-1208.5 \" stroke=\"#000000\"/>\n<text fill=\"#000000\" font-family=\"Times,serif\" font-size=\"14.00\" text-anchor=\"middle\" x=\"1037.5\" y=\"-1193.3\">(None, 1, 10)</text>\n<polyline fill=\"none\" points=\"986.5,-1185.5 1088.5,-1185.5 \" stroke=\"#000000\"/>\n<text fill=\"#000000\" font-family=\"Times,serif\" font-size=\"14.00\" text-anchor=\"middle\" x=\"1037.5\" y=\"-1170.3\">(None, 1, 100)</text>\n</g>\n<!-- 140499464694472&#45;&gt;140499464522216 -->\n<g class=\"edge\" id=\"edge4\">\n<title>140499464694472-&gt;140499464522216</title>\n<path d=\"M963.2004,-1245.3799C960.3722,-1236.9962 957.1209,-1227.3584 954.0649,-1218.2996\" fill=\"none\" stroke=\"#000000\"/>\n<polygon fill=\"#000000\" points=\"957.3678,-1217.1406 950.8548,-1208.784 950.735,-1219.3782 957.3678,-1217.1406\" stroke=\"#000000\"/>\n</g>\n<!-- 140499464694808 -->\n<g class=\"node\" id=\"node7\">\n<title>140499464694808</title>\n<polygon fill=\"none\" points=\"4,-1079.5 4,-1125.5 372,-1125.5 372,-1079.5 4,-1079.5\" stroke=\"#000000\"/>\n<text fill=\"#000000\" font-family=\"Times,serif\" font-size=\"14.00\" text-anchor=\"middle\" x=\"108\" y=\"-1098.8\">batch_user1: BatchNormalization</text>\n<polyline fill=\"none\" points=\"212,-1079.5 212,-1125.5 \" stroke=\"#000000\"/>\n<text fill=\"#000000\" font-family=\"Times,serif\" font-size=\"14.00\" text-anchor=\"middle\" x=\"241\" y=\"-1110.3\">input:</text>\n<polyline fill=\"none\" points=\"212,-1102.5 270,-1102.5 \" stroke=\"#000000\"/>\n<text fill=\"#000000\" font-family=\"Times,serif\" font-size=\"14.00\" text-anchor=\"middle\" x=\"241\" y=\"-1087.3\">output:</text>\n<polyline fill=\"none\" points=\"270,-1079.5 270,-1125.5 \" stroke=\"#000000\"/>\n<text fill=\"#000000\" font-family=\"Times,serif\" font-size=\"14.00\" text-anchor=\"middle\" x=\"321\" y=\"-1110.3\">(None, 1, 100)</text>\n<polyline fill=\"none\" points=\"270,-1102.5 372,-1102.5 \" stroke=\"#000000\"/>\n<text fill=\"#000000\" font-family=\"Times,serif\" font-size=\"14.00\" text-anchor=\"middle\" x=\"321\" y=\"-1087.3\">(None, 1, 100)</text>\n</g>\n<!-- 140499464695368&#45;&gt;140499464694808 -->\n<g class=\"edge\" id=\"edge5\">\n<title>140499464695368-&gt;140499464694808</title>\n<path d=\"M201.7074,-1162.3799C199.8087,-1154.0854 197.6289,-1144.5633 195.5746,-1135.5889\" fill=\"none\" stroke=\"#000000\"/>\n<polygon fill=\"#000000\" points=\"198.9733,-1134.7508 193.3301,-1125.784 192.1498,-1136.3129 198.9733,-1134.7508\" stroke=\"#000000\"/>\n</g>\n<!-- 140499464376216 -->\n<g class=\"node\" id=\"node8\">\n<title>140499464376216</title>\n<polygon fill=\"none\" points=\"758.5,-1079.5 758.5,-1125.5 1127.5,-1125.5 1127.5,-1079.5 758.5,-1079.5\" stroke=\"#000000\"/>\n<text fill=\"#000000\" font-family=\"Times,serif\" font-size=\"14.00\" text-anchor=\"middle\" x=\"863\" y=\"-1098.8\">batch_item1: BatchNormalization</text>\n<polyline fill=\"none\" points=\"967.5,-1079.5 967.5,-1125.5 \" stroke=\"#000000\"/>\n<text fill=\"#000000\" font-family=\"Times,serif\" font-size=\"14.00\" text-anchor=\"middle\" x=\"996.5\" y=\"-1110.3\">input:</text>\n<polyline fill=\"none\" points=\"967.5,-1102.5 1025.5,-1102.5 \" stroke=\"#000000\"/>\n<text fill=\"#000000\" font-family=\"Times,serif\" font-size=\"14.00\" text-anchor=\"middle\" x=\"996.5\" y=\"-1087.3\">output:</text>\n<polyline fill=\"none\" points=\"1025.5,-1079.5 1025.5,-1125.5 \" stroke=\"#000000\"/>\n<text fill=\"#000000\" font-family=\"Times,serif\" font-size=\"14.00\" text-anchor=\"middle\" x=\"1076.5\" y=\"-1110.3\">(None, 1, 100)</text>\n<polyline fill=\"none\" points=\"1025.5,-1102.5 1127.5,-1102.5 \" stroke=\"#000000\"/>\n<text fill=\"#000000\" font-family=\"Times,serif\" font-size=\"14.00\" text-anchor=\"middle\" x=\"1076.5\" y=\"-1087.3\">(None, 1, 100)</text>\n</g>\n<!-- 140499464522216&#45;&gt;140499464376216 -->\n<g class=\"edge\" id=\"edge6\">\n<title>140499464522216-&gt;140499464376216</title>\n<path d=\"M943,-1162.3799C943,-1154.1745 943,-1144.7679 943,-1135.8786\" fill=\"none\" stroke=\"#000000\"/>\n<polygon fill=\"#000000\" points=\"946.5001,-1135.784 943,-1125.784 939.5001,-1135.784 946.5001,-1135.784\" stroke=\"#000000\"/>\n</g>\n<!-- 140499462050480 -->\n<g class=\"node\" id=\"node9\">\n<title>140499462050480</title>\n<polygon fill=\"none\" points=\"43,-996.5 43,-1042.5 333,-1042.5 333,-996.5 43,-996.5\" stroke=\"#000000\"/>\n<text fill=\"#000000\" font-family=\"Times,serif\" font-size=\"14.00\" text-anchor=\"middle\" x=\"108\" y=\"-1015.8\">user_dense2: Dense</text>\n<polyline fill=\"none\" points=\"173,-996.5 173,-1042.5 \" stroke=\"#000000\"/>\n<text fill=\"#000000\" font-family=\"Times,serif\" font-size=\"14.00\" text-anchor=\"middle\" x=\"202\" y=\"-1027.3\">input:</text>\n<polyline fill=\"none\" points=\"173,-1019.5 231,-1019.5 \" stroke=\"#000000\"/>\n<text fill=\"#000000\" font-family=\"Times,serif\" font-size=\"14.00\" text-anchor=\"middle\" x=\"202\" y=\"-1004.3\">output:</text>\n<polyline fill=\"none\" points=\"231,-996.5 231,-1042.5 \" stroke=\"#000000\"/>\n<text fill=\"#000000\" font-family=\"Times,serif\" font-size=\"14.00\" text-anchor=\"middle\" x=\"282\" y=\"-1027.3\">(None, 1, 100)</text>\n<polyline fill=\"none\" points=\"231,-1019.5 333,-1019.5 \" stroke=\"#000000\"/>\n<text fill=\"#000000\" font-family=\"Times,serif\" font-size=\"14.00\" text-anchor=\"middle\" x=\"282\" y=\"-1004.3\">(None, 1, 150)</text>\n</g>\n<!-- 140499464694808&#45;&gt;140499462050480 -->\n<g class=\"edge\" id=\"edge7\">\n<title>140499464694808-&gt;140499462050480</title>\n<path d=\"M188,-1079.3799C188,-1071.1745 188,-1061.7679 188,-1052.8786\" fill=\"none\" stroke=\"#000000\"/>\n<polygon fill=\"#000000\" points=\"191.5001,-1052.784 188,-1042.784 184.5001,-1052.784 191.5001,-1052.784\" stroke=\"#000000\"/>\n</g>\n<!-- 140499461694464 -->\n<g class=\"node\" id=\"node10\">\n<title>140499461694464</title>\n<polygon fill=\"none\" points=\"797.5,-996.5 797.5,-1042.5 1088.5,-1042.5 1088.5,-996.5 797.5,-996.5\" stroke=\"#000000\"/>\n<text fill=\"#000000\" font-family=\"Times,serif\" font-size=\"14.00\" text-anchor=\"middle\" x=\"863\" y=\"-1015.8\">item_dense2: Dense</text>\n<polyline fill=\"none\" points=\"928.5,-996.5 928.5,-1042.5 \" stroke=\"#000000\"/>\n<text fill=\"#000000\" font-family=\"Times,serif\" font-size=\"14.00\" text-anchor=\"middle\" x=\"957.5\" y=\"-1027.3\">input:</text>\n<polyline fill=\"none\" points=\"928.5,-1019.5 986.5,-1019.5 \" stroke=\"#000000\"/>\n<text fill=\"#000000\" font-family=\"Times,serif\" font-size=\"14.00\" text-anchor=\"middle\" x=\"957.5\" y=\"-1004.3\">output:</text>\n<polyline fill=\"none\" points=\"986.5,-996.5 986.5,-1042.5 \" stroke=\"#000000\"/>\n<text fill=\"#000000\" font-family=\"Times,serif\" font-size=\"14.00\" text-anchor=\"middle\" x=\"1037.5\" y=\"-1027.3\">(None, 1, 100)</text>\n<polyline fill=\"none\" points=\"986.5,-1019.5 1088.5,-1019.5 \" stroke=\"#000000\"/>\n<text fill=\"#000000\" font-family=\"Times,serif\" font-size=\"14.00\" text-anchor=\"middle\" x=\"1037.5\" y=\"-1004.3\">(None, 1, 150)</text>\n</g>\n<!-- 140499464376216&#45;&gt;140499461694464 -->\n<g class=\"edge\" id=\"edge8\">\n<title>140499464376216-&gt;140499461694464</title>\n<path d=\"M943,-1079.3799C943,-1071.1745 943,-1061.7679 943,-1052.8786\" fill=\"none\" stroke=\"#000000\"/>\n<polygon fill=\"#000000\" points=\"946.5001,-1052.784 943,-1042.784 939.5001,-1052.784 946.5001,-1052.784\" stroke=\"#000000\"/>\n</g>\n<!-- 140499461617760 -->\n<g class=\"node\" id=\"node11\">\n<title>140499461617760</title>\n<polygon fill=\"none\" points=\"4,-913.5 4,-959.5 372,-959.5 372,-913.5 4,-913.5\" stroke=\"#000000\"/>\n<text fill=\"#000000\" font-family=\"Times,serif\" font-size=\"14.00\" text-anchor=\"middle\" x=\"108\" y=\"-932.8\">batch_user2: BatchNormalization</text>\n<polyline fill=\"none\" points=\"212,-913.5 212,-959.5 \" stroke=\"#000000\"/>\n<text fill=\"#000000\" font-family=\"Times,serif\" font-size=\"14.00\" text-anchor=\"middle\" x=\"241\" y=\"-944.3\">input:</text>\n<polyline fill=\"none\" points=\"212,-936.5 270,-936.5 \" stroke=\"#000000\"/>\n<text fill=\"#000000\" font-family=\"Times,serif\" font-size=\"14.00\" text-anchor=\"middle\" x=\"241\" y=\"-921.3\">output:</text>\n<polyline fill=\"none\" points=\"270,-913.5 270,-959.5 \" stroke=\"#000000\"/>\n<text fill=\"#000000\" font-family=\"Times,serif\" font-size=\"14.00\" text-anchor=\"middle\" x=\"321\" y=\"-944.3\">(None, 1, 150)</text>\n<polyline fill=\"none\" points=\"270,-936.5 372,-936.5 \" stroke=\"#000000\"/>\n<text fill=\"#000000\" font-family=\"Times,serif\" font-size=\"14.00\" text-anchor=\"middle\" x=\"321\" y=\"-921.3\">(None, 1, 150)</text>\n</g>\n<!-- 140499462050480&#45;&gt;140499461617760 -->\n<g class=\"edge\" id=\"edge9\">\n<title>140499462050480-&gt;140499461617760</title>\n<path d=\"M188,-996.3799C188,-988.1745 188,-978.7679 188,-969.8786\" fill=\"none\" stroke=\"#000000\"/>\n<polygon fill=\"#000000\" points=\"191.5001,-969.784 188,-959.784 184.5001,-969.784 191.5001,-969.784\" stroke=\"#000000\"/>\n</g>\n<!-- 140499461384792 -->\n<g class=\"node\" id=\"node13\">\n<title>140499461384792</title>\n<polygon fill=\"none\" points=\"758.5,-913.5 758.5,-959.5 1127.5,-959.5 1127.5,-913.5 758.5,-913.5\" stroke=\"#000000\"/>\n<text fill=\"#000000\" font-family=\"Times,serif\" font-size=\"14.00\" text-anchor=\"middle\" x=\"863\" y=\"-932.8\">batch_item2: BatchNormalization</text>\n<polyline fill=\"none\" points=\"967.5,-913.5 967.5,-959.5 \" stroke=\"#000000\"/>\n<text fill=\"#000000\" font-family=\"Times,serif\" font-size=\"14.00\" text-anchor=\"middle\" x=\"996.5\" y=\"-944.3\">input:</text>\n<polyline fill=\"none\" points=\"967.5,-936.5 1025.5,-936.5 \" stroke=\"#000000\"/>\n<text fill=\"#000000\" font-family=\"Times,serif\" font-size=\"14.00\" text-anchor=\"middle\" x=\"996.5\" y=\"-921.3\">output:</text>\n<polyline fill=\"none\" points=\"1025.5,-913.5 1025.5,-959.5 \" stroke=\"#000000\"/>\n<text fill=\"#000000\" font-family=\"Times,serif\" font-size=\"14.00\" text-anchor=\"middle\" x=\"1076.5\" y=\"-944.3\">(None, 1, 150)</text>\n<polyline fill=\"none\" points=\"1025.5,-936.5 1127.5,-936.5 \" stroke=\"#000000\"/>\n<text fill=\"#000000\" font-family=\"Times,serif\" font-size=\"14.00\" text-anchor=\"middle\" x=\"1076.5\" y=\"-921.3\">(None, 1, 150)</text>\n</g>\n<!-- 140499461694464&#45;&gt;140499461384792 -->\n<g class=\"edge\" id=\"edge11\">\n<title>140499461694464-&gt;140499461384792</title>\n<path d=\"M943,-996.3799C943,-988.1745 943,-978.7679 943,-969.8786\" fill=\"none\" stroke=\"#000000\"/>\n<polygon fill=\"#000000\" points=\"946.5001,-969.784 943,-959.784 939.5001,-969.784 946.5001,-969.784\" stroke=\"#000000\"/>\n</g>\n<!-- 140499459476392 -->\n<g class=\"node\" id=\"node15\">\n<title>140499459476392</title>\n<polygon fill=\"none\" points=\"41,-830.5 41,-876.5 331,-876.5 331,-830.5 41,-830.5\" stroke=\"#000000\"/>\n<text fill=\"#000000\" font-family=\"Times,serif\" font-size=\"14.00\" text-anchor=\"middle\" x=\"106\" y=\"-849.8\">user_dense3: Dense</text>\n<polyline fill=\"none\" points=\"171,-830.5 171,-876.5 \" stroke=\"#000000\"/>\n<text fill=\"#000000\" font-family=\"Times,serif\" font-size=\"14.00\" text-anchor=\"middle\" x=\"200\" y=\"-861.3\">input:</text>\n<polyline fill=\"none\" points=\"171,-853.5 229,-853.5 \" stroke=\"#000000\"/>\n<text fill=\"#000000\" font-family=\"Times,serif\" font-size=\"14.00\" text-anchor=\"middle\" x=\"200\" y=\"-838.3\">output:</text>\n<polyline fill=\"none\" points=\"229,-830.5 229,-876.5 \" stroke=\"#000000\"/>\n<text fill=\"#000000\" font-family=\"Times,serif\" font-size=\"14.00\" text-anchor=\"middle\" x=\"280\" y=\"-861.3\">(None, 1, 150)</text>\n<polyline fill=\"none\" points=\"229,-853.5 331,-853.5 \" stroke=\"#000000\"/>\n<text fill=\"#000000\" font-family=\"Times,serif\" font-size=\"14.00\" text-anchor=\"middle\" x=\"280\" y=\"-838.3\">(None, 1, 200)</text>\n</g>\n<!-- 140499461617760&#45;&gt;140499459476392 -->\n<g class=\"edge\" id=\"edge13\">\n<title>140499461617760-&gt;140499459476392</title>\n<path d=\"M187.4429,-913.3799C187.2452,-905.1745 187.0185,-895.7679 186.8043,-886.8786\" fill=\"none\" stroke=\"#000000\"/>\n<polygon fill=\"#000000\" points=\"190.301,-886.6968 186.5611,-876.784 183.3031,-886.8655 190.301,-886.6968\" stroke=\"#000000\"/>\n</g>\n<!-- 140499460110432 -->\n<g class=\"node\" id=\"node16\">\n<title>140499460110432</title>\n<polygon fill=\"none\" points=\"366.5,-830.5 366.5,-876.5 705.5,-876.5 705.5,-830.5 366.5,-830.5\" stroke=\"#000000\"/>\n<text fill=\"#000000\" font-family=\"Times,serif\" font-size=\"14.00\" text-anchor=\"middle\" x=\"412.5\" y=\"-849.8\">add_49: Add</text>\n<polyline fill=\"none\" points=\"458.5,-830.5 458.5,-876.5 \" stroke=\"#000000\"/>\n<text fill=\"#000000\" font-family=\"Times,serif\" font-size=\"14.00\" text-anchor=\"middle\" x=\"487.5\" y=\"-861.3\">input:</text>\n<polyline fill=\"none\" points=\"458.5,-853.5 516.5,-853.5 \" stroke=\"#000000\"/>\n<text fill=\"#000000\" font-family=\"Times,serif\" font-size=\"14.00\" text-anchor=\"middle\" x=\"487.5\" y=\"-838.3\">output:</text>\n<polyline fill=\"none\" points=\"516.5,-830.5 516.5,-876.5 \" stroke=\"#000000\"/>\n<text fill=\"#000000\" font-family=\"Times,serif\" font-size=\"14.00\" text-anchor=\"middle\" x=\"611\" y=\"-861.3\">[(None, 1, 150), (None, 150)]</text>\n<polyline fill=\"none\" points=\"516.5,-853.5 705.5,-853.5 \" stroke=\"#000000\"/>\n<text fill=\"#000000\" font-family=\"Times,serif\" font-size=\"14.00\" text-anchor=\"middle\" x=\"611\" y=\"-838.3\">(None, 1, 150)</text>\n</g>\n<!-- 140499461617760&#45;&gt;140499460110432 -->\n<g class=\"edge\" id=\"edge14\">\n<title>140499461617760-&gt;140499460110432</title>\n<path d=\"M284.4753,-913.4901C329.5454,-902.7406 383.3385,-889.9107 429.5882,-878.8798\" fill=\"none\" stroke=\"#000000\"/>\n<polygon fill=\"#000000\" points=\"430.4219,-882.2792 439.3371,-876.5547 428.7979,-875.4702 430.4219,-882.2792\" stroke=\"#000000\"/>\n</g>\n<!-- 140499461473952&#45;&gt;140499460110432 -->\n<g class=\"edge\" id=\"edge15\">\n<title>140499461473952-&gt;140499460110432</title>\n<path d=\"M536,-1079.0747C536,-1034.6558 536,-938.0605 536,-886.8789\" fill=\"none\" stroke=\"#000000\"/>\n<polygon fill=\"#000000\" points=\"539.5001,-886.6816 536,-876.6817 532.5001,-886.6817 539.5001,-886.6816\" stroke=\"#000000\"/>\n</g>\n<!-- 140499458753368 -->\n<g class=\"node\" id=\"node17\">\n<title>140499458753368</title>\n<polygon fill=\"none\" points=\"763.5,-830.5 763.5,-876.5 1054.5,-876.5 1054.5,-830.5 763.5,-830.5\" stroke=\"#000000\"/>\n<text fill=\"#000000\" font-family=\"Times,serif\" font-size=\"14.00\" text-anchor=\"middle\" x=\"829\" y=\"-849.8\">item_dense3: Dense</text>\n<polyline fill=\"none\" points=\"894.5,-830.5 894.5,-876.5 \" stroke=\"#000000\"/>\n<text fill=\"#000000\" font-family=\"Times,serif\" font-size=\"14.00\" text-anchor=\"middle\" x=\"923.5\" y=\"-861.3\">input:</text>\n<polyline fill=\"none\" points=\"894.5,-853.5 952.5,-853.5 \" stroke=\"#000000\"/>\n<text fill=\"#000000\" font-family=\"Times,serif\" font-size=\"14.00\" text-anchor=\"middle\" x=\"923.5\" y=\"-838.3\">output:</text>\n<polyline fill=\"none\" points=\"952.5,-830.5 952.5,-876.5 \" stroke=\"#000000\"/>\n<text fill=\"#000000\" font-family=\"Times,serif\" font-size=\"14.00\" text-anchor=\"middle\" x=\"1003.5\" y=\"-861.3\">(None, 1, 150)</text>\n<polyline fill=\"none\" points=\"952.5,-853.5 1054.5,-853.5 \" stroke=\"#000000\"/>\n<text fill=\"#000000\" font-family=\"Times,serif\" font-size=\"14.00\" text-anchor=\"middle\" x=\"1003.5\" y=\"-838.3\">(None, 1, 200)</text>\n</g>\n<!-- 140499461384792&#45;&gt;140499458753368 -->\n<g class=\"edge\" id=\"edge16\">\n<title>140499461384792-&gt;140499458753368</title>\n<path d=\"M933.5291,-913.3799C930.0948,-904.9962 926.1468,-895.3584 922.436,-886.2996\" fill=\"none\" stroke=\"#000000\"/>\n<polygon fill=\"#000000\" points=\"925.5676,-884.7109 918.538,-876.784 919.09,-887.3645 925.5676,-884.7109\" stroke=\"#000000\"/>\n</g>\n<!-- 140499459476560 -->\n<g class=\"node\" id=\"node18\">\n<title>140499459476560</title>\n<polygon fill=\"none\" points=\"1083.5,-830.5 1083.5,-876.5 1422.5,-876.5 1422.5,-830.5 1083.5,-830.5\" stroke=\"#000000\"/>\n<text fill=\"#000000\" font-family=\"Times,serif\" font-size=\"14.00\" text-anchor=\"middle\" x=\"1129.5\" y=\"-849.8\">add_50: Add</text>\n<polyline fill=\"none\" points=\"1175.5,-830.5 1175.5,-876.5 \" stroke=\"#000000\"/>\n<text fill=\"#000000\" font-family=\"Times,serif\" font-size=\"14.00\" text-anchor=\"middle\" x=\"1204.5\" y=\"-861.3\">input:</text>\n<polyline fill=\"none\" points=\"1175.5,-853.5 1233.5,-853.5 \" stroke=\"#000000\"/>\n<text fill=\"#000000\" font-family=\"Times,serif\" font-size=\"14.00\" text-anchor=\"middle\" x=\"1204.5\" y=\"-838.3\">output:</text>\n<polyline fill=\"none\" points=\"1233.5,-830.5 1233.5,-876.5 \" stroke=\"#000000\"/>\n<text fill=\"#000000\" font-family=\"Times,serif\" font-size=\"14.00\" text-anchor=\"middle\" x=\"1328\" y=\"-861.3\">[(None, 1, 150), (None, 150)]</text>\n<polyline fill=\"none\" points=\"1233.5,-853.5 1422.5,-853.5 \" stroke=\"#000000\"/>\n<text fill=\"#000000\" font-family=\"Times,serif\" font-size=\"14.00\" text-anchor=\"middle\" x=\"1328\" y=\"-838.3\">(None, 1, 150)</text>\n</g>\n<!-- 140499461384792&#45;&gt;140499459476560 -->\n<g class=\"edge\" id=\"edge17\">\n<title>140499461384792-&gt;140499459476560</title>\n<path d=\"M1028.9406,-913.4901C1068.7533,-902.8306 1116.207,-890.1252 1157.1722,-879.1571\" fill=\"none\" stroke=\"#000000\"/>\n<polygon fill=\"#000000\" points=\"1158.1377,-882.522 1166.8922,-876.5547 1156.3272,-875.7601 1158.1377,-882.522\" stroke=\"#000000\"/>\n</g>\n<!-- 140499460544720&#45;&gt;140499459476560 -->\n<g class=\"edge\" id=\"edge18\">\n<title>140499460544720-&gt;140499459476560</title>\n<path d=\"M1253,-1162.418C1253,-1104.7699 1253,-954.2943 1253,-886.9402\" fill=\"none\" stroke=\"#000000\"/>\n<polygon fill=\"#000000\" points=\"1256.5001,-886.8709 1253,-876.8709 1249.5001,-886.8709 1256.5001,-886.8709\" stroke=\"#000000\"/>\n</g>\n<!-- 140499459082784 -->\n<g class=\"node\" id=\"node19\">\n<title>140499459082784</title>\n<polygon fill=\"none\" points=\"0,-747.5 0,-793.5 368,-793.5 368,-747.5 0,-747.5\" stroke=\"#000000\"/>\n<text fill=\"#000000\" font-family=\"Times,serif\" font-size=\"14.00\" text-anchor=\"middle\" x=\"104\" y=\"-766.8\">batch_user3: BatchNormalization</text>\n<polyline fill=\"none\" points=\"208,-747.5 208,-793.5 \" stroke=\"#000000\"/>\n<text fill=\"#000000\" font-family=\"Times,serif\" font-size=\"14.00\" text-anchor=\"middle\" x=\"237\" y=\"-778.3\">input:</text>\n<polyline fill=\"none\" points=\"208,-770.5 266,-770.5 \" stroke=\"#000000\"/>\n<text fill=\"#000000\" font-family=\"Times,serif\" font-size=\"14.00\" text-anchor=\"middle\" x=\"237\" y=\"-755.3\">output:</text>\n<polyline fill=\"none\" points=\"266,-747.5 266,-793.5 \" stroke=\"#000000\"/>\n<text fill=\"#000000\" font-family=\"Times,serif\" font-size=\"14.00\" text-anchor=\"middle\" x=\"317\" y=\"-778.3\">(None, 1, 200)</text>\n<polyline fill=\"none\" points=\"266,-770.5 368,-770.5 \" stroke=\"#000000\"/>\n<text fill=\"#000000\" font-family=\"Times,serif\" font-size=\"14.00\" text-anchor=\"middle\" x=\"317\" y=\"-755.3\">(None, 1, 200)</text>\n</g>\n<!-- 140499459476392&#45;&gt;140499459082784 -->\n<g class=\"edge\" id=\"edge19\">\n<title>140499459476392-&gt;140499459082784</title>\n<path d=\"M185.4429,-830.3799C185.2452,-822.1745 185.0185,-812.7679 184.8043,-803.8786\" fill=\"none\" stroke=\"#000000\"/>\n<polygon fill=\"#000000\" points=\"188.301,-803.6968 184.5611,-793.784 181.3031,-803.8655 188.301,-803.6968\" stroke=\"#000000\"/>\n</g>\n<!-- 140499458520960 -->\n<g class=\"node\" id=\"node20\">\n<title>140499458520960</title>\n<polygon fill=\"none\" points=\"386,-747.5 386,-793.5 692,-793.5 692,-747.5 386,-747.5\" stroke=\"#000000\"/>\n<text fill=\"#000000\" font-family=\"Times,serif\" font-size=\"14.00\" text-anchor=\"middle\" x=\"459\" y=\"-766.8\">subuser_layer3: Dense</text>\n<polyline fill=\"none\" points=\"532,-747.5 532,-793.5 \" stroke=\"#000000\"/>\n<text fill=\"#000000\" font-family=\"Times,serif\" font-size=\"14.00\" text-anchor=\"middle\" x=\"561\" y=\"-778.3\">input:</text>\n<polyline fill=\"none\" points=\"532,-770.5 590,-770.5 \" stroke=\"#000000\"/>\n<text fill=\"#000000\" font-family=\"Times,serif\" font-size=\"14.00\" text-anchor=\"middle\" x=\"561\" y=\"-755.3\">output:</text>\n<polyline fill=\"none\" points=\"590,-747.5 590,-793.5 \" stroke=\"#000000\"/>\n<text fill=\"#000000\" font-family=\"Times,serif\" font-size=\"14.00\" text-anchor=\"middle\" x=\"641\" y=\"-778.3\">(None, 1, 150)</text>\n<polyline fill=\"none\" points=\"590,-770.5 692,-770.5 \" stroke=\"#000000\"/>\n<text fill=\"#000000\" font-family=\"Times,serif\" font-size=\"14.00\" text-anchor=\"middle\" x=\"641\" y=\"-755.3\">(None, 1, 200)</text>\n</g>\n<!-- 140499460110432&#45;&gt;140499458520960 -->\n<g class=\"edge\" id=\"edge20\">\n<title>140499460110432-&gt;140499458520960</title>\n<path d=\"M536.8357,-830.3799C537.1322,-822.1745 537.4722,-812.7679 537.7935,-803.8786\" fill=\"none\" stroke=\"#000000\"/>\n<polygon fill=\"#000000\" points=\"541.2948,-803.9039 538.1584,-793.784 534.2994,-803.651 541.2948,-803.9039\" stroke=\"#000000\"/>\n</g>\n<!-- 140499458846616 -->\n<g class=\"node\" id=\"node21\">\n<title>140499458846616</title>\n<polygon fill=\"none\" points=\"718.5,-747.5 718.5,-793.5 1087.5,-793.5 1087.5,-747.5 718.5,-747.5\" stroke=\"#000000\"/>\n<text fill=\"#000000\" font-family=\"Times,serif\" font-size=\"14.00\" text-anchor=\"middle\" x=\"823\" y=\"-766.8\">batch_item3: BatchNormalization</text>\n<polyline fill=\"none\" points=\"927.5,-747.5 927.5,-793.5 \" stroke=\"#000000\"/>\n<text fill=\"#000000\" font-family=\"Times,serif\" font-size=\"14.00\" text-anchor=\"middle\" x=\"956.5\" y=\"-778.3\">input:</text>\n<polyline fill=\"none\" points=\"927.5,-770.5 985.5,-770.5 \" stroke=\"#000000\"/>\n<text fill=\"#000000\" font-family=\"Times,serif\" font-size=\"14.00\" text-anchor=\"middle\" x=\"956.5\" y=\"-755.3\">output:</text>\n<polyline fill=\"none\" points=\"985.5,-747.5 985.5,-793.5 \" stroke=\"#000000\"/>\n<text fill=\"#000000\" font-family=\"Times,serif\" font-size=\"14.00\" text-anchor=\"middle\" x=\"1036.5\" y=\"-778.3\">(None, 1, 200)</text>\n<polyline fill=\"none\" points=\"985.5,-770.5 1087.5,-770.5 \" stroke=\"#000000\"/>\n<text fill=\"#000000\" font-family=\"Times,serif\" font-size=\"14.00\" text-anchor=\"middle\" x=\"1036.5\" y=\"-755.3\">(None, 1, 200)</text>\n</g>\n<!-- 140499458753368&#45;&gt;140499458846616 -->\n<g class=\"edge\" id=\"edge21\">\n<title>140499458753368-&gt;140499458846616</title>\n<path d=\"M907.3287,-830.3799C906.7355,-822.1745 906.0555,-812.7679 905.4129,-803.8786\" fill=\"none\" stroke=\"#000000\"/>\n<polygon fill=\"#000000\" points=\"908.8952,-803.5056 904.6832,-793.784 901.9134,-804.0104 908.8952,-803.5056\" stroke=\"#000000\"/>\n</g>\n<!-- 140499457499656 -->\n<g class=\"node\" id=\"node22\">\n<title>140499457499656</title>\n<polygon fill=\"none\" points=\"1105.5,-747.5 1105.5,-793.5 1412.5,-793.5 1412.5,-747.5 1105.5,-747.5\" stroke=\"#000000\"/>\n<text fill=\"#000000\" font-family=\"Times,serif\" font-size=\"14.00\" text-anchor=\"middle\" x=\"1179\" y=\"-766.8\">subitem_layer3: Dense</text>\n<polyline fill=\"none\" points=\"1252.5,-747.5 1252.5,-793.5 \" stroke=\"#000000\"/>\n<text fill=\"#000000\" font-family=\"Times,serif\" font-size=\"14.00\" text-anchor=\"middle\" x=\"1281.5\" y=\"-778.3\">input:</text>\n<polyline fill=\"none\" points=\"1252.5,-770.5 1310.5,-770.5 \" stroke=\"#000000\"/>\n<text fill=\"#000000\" font-family=\"Times,serif\" font-size=\"14.00\" text-anchor=\"middle\" x=\"1281.5\" y=\"-755.3\">output:</text>\n<polyline fill=\"none\" points=\"1310.5,-747.5 1310.5,-793.5 \" stroke=\"#000000\"/>\n<text fill=\"#000000\" font-family=\"Times,serif\" font-size=\"14.00\" text-anchor=\"middle\" x=\"1361.5\" y=\"-778.3\">(None, 1, 150)</text>\n<polyline fill=\"none\" points=\"1310.5,-770.5 1412.5,-770.5 \" stroke=\"#000000\"/>\n<text fill=\"#000000\" font-family=\"Times,serif\" font-size=\"14.00\" text-anchor=\"middle\" x=\"1361.5\" y=\"-755.3\">(None, 1, 200)</text>\n</g>\n<!-- 140499459476560&#45;&gt;140499457499656 -->\n<g class=\"edge\" id=\"edge22\">\n<title>140499459476560-&gt;140499457499656</title>\n<path d=\"M1254.6713,-830.3799C1255.2645,-822.1745 1255.9445,-812.7679 1256.5871,-803.8786\" fill=\"none\" stroke=\"#000000\"/>\n<polygon fill=\"#000000\" points=\"1260.0866,-804.0104 1257.3168,-793.784 1253.1048,-803.5056 1260.0866,-804.0104\" stroke=\"#000000\"/>\n</g>\n<!-- 140499457165128 -->\n<g class=\"node\" id=\"node23\">\n<title>140499457165128</title>\n<polygon fill=\"none\" points=\"358,-664.5 358,-710.5 712,-710.5 712,-664.5 358,-664.5\" stroke=\"#000000\"/>\n<text fill=\"#000000\" font-family=\"Times,serif\" font-size=\"14.00\" text-anchor=\"middle\" x=\"404\" y=\"-683.8\">add_51: Add</text>\n<polyline fill=\"none\" points=\"450,-664.5 450,-710.5 \" stroke=\"#000000\"/>\n<text fill=\"#000000\" font-family=\"Times,serif\" font-size=\"14.00\" text-anchor=\"middle\" x=\"479\" y=\"-695.3\">input:</text>\n<polyline fill=\"none\" points=\"450,-687.5 508,-687.5 \" stroke=\"#000000\"/>\n<text fill=\"#000000\" font-family=\"Times,serif\" font-size=\"14.00\" text-anchor=\"middle\" x=\"479\" y=\"-672.3\">output:</text>\n<polyline fill=\"none\" points=\"508,-664.5 508,-710.5 \" stroke=\"#000000\"/>\n<text fill=\"#000000\" font-family=\"Times,serif\" font-size=\"14.00\" text-anchor=\"middle\" x=\"610\" y=\"-695.3\">[(None, 1, 200), (None, 1, 200)]</text>\n<polyline fill=\"none\" points=\"508,-687.5 712,-687.5 \" stroke=\"#000000\"/>\n<text fill=\"#000000\" font-family=\"Times,serif\" font-size=\"14.00\" text-anchor=\"middle\" x=\"610\" y=\"-672.3\">(None, 1, 200)</text>\n</g>\n<!-- 140499459082784&#45;&gt;140499457165128 -->\n<g class=\"edge\" id=\"edge23\">\n<title>140499459082784-&gt;140499457165128</title>\n<path d=\"M281.3069,-747.4901C326.7657,-736.7406 381.0224,-723.9107 427.6709,-712.8798\" fill=\"none\" stroke=\"#000000\"/>\n<polygon fill=\"#000000\" points=\"428.5776,-716.262 437.5038,-710.5547 426.9667,-709.4499 428.5776,-716.262\" stroke=\"#000000\"/>\n</g>\n<!-- 140499458520960&#45;&gt;140499457165128 -->\n<g class=\"edge\" id=\"edge24\">\n<title>140499458520960-&gt;140499457165128</title>\n<path d=\"M537.8858,-747.3799C537.4903,-739.1745 537.037,-729.7679 536.6086,-720.8786\" fill=\"none\" stroke=\"#000000\"/>\n<polygon fill=\"#000000\" points=\"540.0995,-720.6039 536.1221,-710.784 533.1076,-720.9409 540.0995,-720.6039\" stroke=\"#000000\"/>\n</g>\n<!-- 140499456145952 -->\n<g class=\"node\" id=\"node24\">\n<title>140499456145952</title>\n<polygon fill=\"none\" points=\"730,-664.5 730,-710.5 1084,-710.5 1084,-664.5 730,-664.5\" stroke=\"#000000\"/>\n<text fill=\"#000000\" font-family=\"Times,serif\" font-size=\"14.00\" text-anchor=\"middle\" x=\"776\" y=\"-683.8\">add_52: Add</text>\n<polyline fill=\"none\" points=\"822,-664.5 822,-710.5 \" stroke=\"#000000\"/>\n<text fill=\"#000000\" font-family=\"Times,serif\" font-size=\"14.00\" text-anchor=\"middle\" x=\"851\" y=\"-695.3\">input:</text>\n<polyline fill=\"none\" points=\"822,-687.5 880,-687.5 \" stroke=\"#000000\"/>\n<text fill=\"#000000\" font-family=\"Times,serif\" font-size=\"14.00\" text-anchor=\"middle\" x=\"851\" y=\"-672.3\">output:</text>\n<polyline fill=\"none\" points=\"880,-664.5 880,-710.5 \" stroke=\"#000000\"/>\n<text fill=\"#000000\" font-family=\"Times,serif\" font-size=\"14.00\" text-anchor=\"middle\" x=\"982\" y=\"-695.3\">[(None, 1, 200), (None, 1, 200)]</text>\n<polyline fill=\"none\" points=\"880,-687.5 1084,-687.5 \" stroke=\"#000000\"/>\n<text fill=\"#000000\" font-family=\"Times,serif\" font-size=\"14.00\" text-anchor=\"middle\" x=\"982\" y=\"-672.3\">(None, 1, 200)</text>\n</g>\n<!-- 140499458846616&#45;&gt;140499456145952 -->\n<g class=\"edge\" id=\"edge25\">\n<title>140499458846616-&gt;140499456145952</title>\n<path d=\"M904.1142,-747.3799C904.5097,-739.1745 904.963,-729.7679 905.3914,-720.8786\" fill=\"none\" stroke=\"#000000\"/>\n<polygon fill=\"#000000\" points=\"908.8924,-720.9409 905.8779,-710.784 901.9005,-720.6039 908.8924,-720.9409\" stroke=\"#000000\"/>\n</g>\n<!-- 140499457499656&#45;&gt;140499456145952 -->\n<g class=\"edge\" id=\"edge26\">\n<title>140499457499656-&gt;140499456145952</title>\n<path d=\"M1161.4158,-747.4901C1115.8276,-736.7406 1061.4163,-723.9107 1014.6349,-712.8798\" fill=\"none\" stroke=\"#000000\"/>\n<polygon fill=\"#000000\" points=\"1015.3104,-709.4432 1004.774,-710.5547 1013.7038,-716.2563 1015.3104,-709.4432\" stroke=\"#000000\"/>\n</g>\n<!-- 140499456145896 -->\n<g class=\"node\" id=\"node25\">\n<title>140499456145896</title>\n<polygon fill=\"none\" points=\"430.5,-581.5 430.5,-627.5 711.5,-627.5 711.5,-581.5 430.5,-581.5\" stroke=\"#000000\"/>\n<text fill=\"#000000\" font-family=\"Times,serif\" font-size=\"14.00\" text-anchor=\"middle\" x=\"491\" y=\"-600.8\">flatten_15: Flatten</text>\n<polyline fill=\"none\" points=\"551.5,-581.5 551.5,-627.5 \" stroke=\"#000000\"/>\n<text fill=\"#000000\" font-family=\"Times,serif\" font-size=\"14.00\" text-anchor=\"middle\" x=\"580.5\" y=\"-612.3\">input:</text>\n<polyline fill=\"none\" points=\"551.5,-604.5 609.5,-604.5 \" stroke=\"#000000\"/>\n<text fill=\"#000000\" font-family=\"Times,serif\" font-size=\"14.00\" text-anchor=\"middle\" x=\"580.5\" y=\"-589.3\">output:</text>\n<polyline fill=\"none\" points=\"609.5,-581.5 609.5,-627.5 \" stroke=\"#000000\"/>\n<text fill=\"#000000\" font-family=\"Times,serif\" font-size=\"14.00\" text-anchor=\"middle\" x=\"660.5\" y=\"-612.3\">(None, 1, 200)</text>\n<polyline fill=\"none\" points=\"609.5,-604.5 711.5,-604.5 \" stroke=\"#000000\"/>\n<text fill=\"#000000\" font-family=\"Times,serif\" font-size=\"14.00\" text-anchor=\"middle\" x=\"660.5\" y=\"-589.3\">(None, 200)</text>\n</g>\n<!-- 140499457165128&#45;&gt;140499456145896 -->\n<g class=\"edge\" id=\"edge27\">\n<title>140499457165128-&gt;140499456145896</title>\n<path d=\"M545.028,-664.3799C548.703,-655.907 552.9336,-646.1531 556.899,-637.0107\" fill=\"none\" stroke=\"#000000\"/>\n<polygon fill=\"#000000\" points=\"560.1327,-638.351 560.9009,-627.784 553.7107,-635.5655 560.1327,-638.351\" stroke=\"#000000\"/>\n</g>\n<!-- 140499456147352 -->\n<g class=\"node\" id=\"node26\">\n<title>140499456147352</title>\n<polygon fill=\"none\" points=\"747.5,-581.5 747.5,-627.5 1028.5,-627.5 1028.5,-581.5 747.5,-581.5\" stroke=\"#000000\"/>\n<text fill=\"#000000\" font-family=\"Times,serif\" font-size=\"14.00\" text-anchor=\"middle\" x=\"808\" y=\"-600.8\">flatten_16: Flatten</text>\n<polyline fill=\"none\" points=\"868.5,-581.5 868.5,-627.5 \" stroke=\"#000000\"/>\n<text fill=\"#000000\" font-family=\"Times,serif\" font-size=\"14.00\" text-anchor=\"middle\" x=\"897.5\" y=\"-612.3\">input:</text>\n<polyline fill=\"none\" points=\"868.5,-604.5 926.5,-604.5 \" stroke=\"#000000\"/>\n<text fill=\"#000000\" font-family=\"Times,serif\" font-size=\"14.00\" text-anchor=\"middle\" x=\"897.5\" y=\"-589.3\">output:</text>\n<polyline fill=\"none\" points=\"926.5,-581.5 926.5,-627.5 \" stroke=\"#000000\"/>\n<text fill=\"#000000\" font-family=\"Times,serif\" font-size=\"14.00\" text-anchor=\"middle\" x=\"977.5\" y=\"-612.3\">(None, 1, 200)</text>\n<polyline fill=\"none\" points=\"926.5,-604.5 1028.5,-604.5 \" stroke=\"#000000\"/>\n<text fill=\"#000000\" font-family=\"Times,serif\" font-size=\"14.00\" text-anchor=\"middle\" x=\"977.5\" y=\"-589.3\">(None, 200)</text>\n</g>\n<!-- 140499456145952&#45;&gt;140499456147352 -->\n<g class=\"edge\" id=\"edge28\">\n<title>140499456145952-&gt;140499456147352</title>\n<path d=\"M901.7074,-664.3799C899.8087,-656.0854 897.6289,-646.5633 895.5746,-637.5889\" fill=\"none\" stroke=\"#000000\"/>\n<polygon fill=\"#000000\" points=\"898.9733,-636.7508 893.3301,-627.784 892.1498,-638.3129 898.9733,-636.7508\" stroke=\"#000000\"/>\n</g>\n<!-- 140499456339584 -->\n<g class=\"node\" id=\"node27\">\n<title>140499456339584</title>\n<polygon fill=\"none\" points=\"558,-498.5 558,-544.5 882,-544.5 882,-498.5 558,-498.5\" stroke=\"#000000\"/>\n<text fill=\"#000000\" font-family=\"Times,serif\" font-size=\"14.00\" text-anchor=\"middle\" x=\"604\" y=\"-517.8\">add_53: Add</text>\n<polyline fill=\"none\" points=\"650,-498.5 650,-544.5 \" stroke=\"#000000\"/>\n<text fill=\"#000000\" font-family=\"Times,serif\" font-size=\"14.00\" text-anchor=\"middle\" x=\"679\" y=\"-529.3\">input:</text>\n<polyline fill=\"none\" points=\"650,-521.5 708,-521.5 \" stroke=\"#000000\"/>\n<text fill=\"#000000\" font-family=\"Times,serif\" font-size=\"14.00\" text-anchor=\"middle\" x=\"679\" y=\"-506.3\">output:</text>\n<polyline fill=\"none\" points=\"708,-498.5 708,-544.5 \" stroke=\"#000000\"/>\n<text fill=\"#000000\" font-family=\"Times,serif\" font-size=\"14.00\" text-anchor=\"middle\" x=\"795\" y=\"-529.3\">[(None, 200), (None, 200)]</text>\n<polyline fill=\"none\" points=\"708,-521.5 882,-521.5 \" stroke=\"#000000\"/>\n<text fill=\"#000000\" font-family=\"Times,serif\" font-size=\"14.00\" text-anchor=\"middle\" x=\"795\" y=\"-506.3\">(None, 200)</text>\n</g>\n<!-- 140499456145896&#45;&gt;140499456339584 -->\n<g class=\"edge\" id=\"edge29\">\n<title>140499456145896-&gt;140499456339584</title>\n<path d=\"M612.5048,-581.3799C630.1908,-571.5279 650.9858,-559.9442 669.5493,-549.6034\" fill=\"none\" stroke=\"#000000\"/>\n<polygon fill=\"#000000\" points=\"671.4268,-552.564 678.4596,-544.6399 668.0203,-546.4488 671.4268,-552.564\" stroke=\"#000000\"/>\n</g>\n<!-- 140499456147352&#45;&gt;140499456339584 -->\n<g class=\"edge\" id=\"edge30\">\n<title>140499456147352-&gt;140499456339584</title>\n<path d=\"M841.2026,-581.3799C820.9894,-571.3936 797.1746,-559.6279 776.0292,-549.1811\" fill=\"none\" stroke=\"#000000\"/>\n<polygon fill=\"#000000\" points=\"777.3533,-545.9315 766.8375,-544.6399 774.2527,-552.2073 777.3533,-545.9315\" stroke=\"#000000\"/>\n</g>\n<!-- 140499455930832 -->\n<g class=\"node\" id=\"node28\">\n<title>140499455930832</title>\n<polygon fill=\"none\" points=\"609,-415.5 609,-461.5 831,-461.5 831,-415.5 609,-415.5\" stroke=\"#000000\"/>\n<text fill=\"#000000\" font-family=\"Times,serif\" font-size=\"14.00\" text-anchor=\"middle\" x=\"647.5\" y=\"-434.8\">fc1: Dense</text>\n<polyline fill=\"none\" points=\"686,-415.5 686,-461.5 \" stroke=\"#000000\"/>\n<text fill=\"#000000\" font-family=\"Times,serif\" font-size=\"14.00\" text-anchor=\"middle\" x=\"715\" y=\"-446.3\">input:</text>\n<polyline fill=\"none\" points=\"686,-438.5 744,-438.5 \" stroke=\"#000000\"/>\n<text fill=\"#000000\" font-family=\"Times,serif\" font-size=\"14.00\" text-anchor=\"middle\" x=\"715\" y=\"-423.3\">output:</text>\n<polyline fill=\"none\" points=\"744,-415.5 744,-461.5 \" stroke=\"#000000\"/>\n<text fill=\"#000000\" font-family=\"Times,serif\" font-size=\"14.00\" text-anchor=\"middle\" x=\"787.5\" y=\"-446.3\">(None, 200)</text>\n<polyline fill=\"none\" points=\"744,-438.5 831,-438.5 \" stroke=\"#000000\"/>\n<text fill=\"#000000\" font-family=\"Times,serif\" font-size=\"14.00\" text-anchor=\"middle\" x=\"787.5\" y=\"-423.3\">(None, 100)</text>\n</g>\n<!-- 140499456339584&#45;&gt;140499455930832 -->\n<g class=\"edge\" id=\"edge31\">\n<title>140499456339584-&gt;140499455930832</title>\n<path d=\"M720,-498.3799C720,-490.1745 720,-480.7679 720,-471.8786\" fill=\"none\" stroke=\"#000000\"/>\n<polygon fill=\"#000000\" points=\"723.5001,-471.784 720,-461.784 716.5001,-471.784 723.5001,-471.784\" stroke=\"#000000\"/>\n</g>\n<!-- 140499456018472 -->\n<g class=\"node\" id=\"node29\">\n<title>140499456018472</title>\n<polygon fill=\"none\" points=\"508.5,-332.5 508.5,-378.5 931.5,-378.5 931.5,-332.5 508.5,-332.5\" stroke=\"#000000\"/>\n<text fill=\"#000000\" font-family=\"Times,serif\" font-size=\"14.00\" text-anchor=\"middle\" x=\"647.5\" y=\"-351.8\">batch_normalization_11: BatchNormalization</text>\n<polyline fill=\"none\" points=\"786.5,-332.5 786.5,-378.5 \" stroke=\"#000000\"/>\n<text fill=\"#000000\" font-family=\"Times,serif\" font-size=\"14.00\" text-anchor=\"middle\" x=\"815.5\" y=\"-363.3\">input:</text>\n<polyline fill=\"none\" points=\"786.5,-355.5 844.5,-355.5 \" stroke=\"#000000\"/>\n<text fill=\"#000000\" font-family=\"Times,serif\" font-size=\"14.00\" text-anchor=\"middle\" x=\"815.5\" y=\"-340.3\">output:</text>\n<polyline fill=\"none\" points=\"844.5,-332.5 844.5,-378.5 \" stroke=\"#000000\"/>\n<text fill=\"#000000\" font-family=\"Times,serif\" font-size=\"14.00\" text-anchor=\"middle\" x=\"888\" y=\"-363.3\">(None, 100)</text>\n<polyline fill=\"none\" points=\"844.5,-355.5 931.5,-355.5 \" stroke=\"#000000\"/>\n<text fill=\"#000000\" font-family=\"Times,serif\" font-size=\"14.00\" text-anchor=\"middle\" x=\"888\" y=\"-340.3\">(None, 100)</text>\n</g>\n<!-- 140499455930832&#45;&gt;140499456018472 -->\n<g class=\"edge\" id=\"edge32\">\n<title>140499455930832-&gt;140499456018472</title>\n<path d=\"M720,-415.3799C720,-407.1745 720,-397.7679 720,-388.8786\" fill=\"none\" stroke=\"#000000\"/>\n<polygon fill=\"#000000\" points=\"723.5001,-388.784 720,-378.784 716.5001,-388.784 723.5001,-388.784\" stroke=\"#000000\"/>\n</g>\n<!-- 140499456019928 -->\n<g class=\"node\" id=\"node30\">\n<title>140499456019928</title>\n<polygon fill=\"none\" points=\"577,-249.5 577,-295.5 863,-295.5 863,-249.5 577,-249.5\" stroke=\"#000000\"/>\n<text fill=\"#000000\" font-family=\"Times,serif\" font-size=\"14.00\" text-anchor=\"middle\" x=\"647.5\" y=\"-268.8\">dropout_13: Dropout</text>\n<polyline fill=\"none\" points=\"718,-249.5 718,-295.5 \" stroke=\"#000000\"/>\n<text fill=\"#000000\" font-family=\"Times,serif\" font-size=\"14.00\" text-anchor=\"middle\" x=\"747\" y=\"-280.3\">input:</text>\n<polyline fill=\"none\" points=\"718,-272.5 776,-272.5 \" stroke=\"#000000\"/>\n<text fill=\"#000000\" font-family=\"Times,serif\" font-size=\"14.00\" text-anchor=\"middle\" x=\"747\" y=\"-257.3\">output:</text>\n<polyline fill=\"none\" points=\"776,-249.5 776,-295.5 \" stroke=\"#000000\"/>\n<text fill=\"#000000\" font-family=\"Times,serif\" font-size=\"14.00\" text-anchor=\"middle\" x=\"819.5\" y=\"-280.3\">(None, 100)</text>\n<polyline fill=\"none\" points=\"776,-272.5 863,-272.5 \" stroke=\"#000000\"/>\n<text fill=\"#000000\" font-family=\"Times,serif\" font-size=\"14.00\" text-anchor=\"middle\" x=\"819.5\" y=\"-257.3\">(None, 100)</text>\n</g>\n<!-- 140499456018472&#45;&gt;140499456019928 -->\n<g class=\"edge\" id=\"edge33\">\n<title>140499456018472-&gt;140499456019928</title>\n<path d=\"M720,-332.3799C720,-324.1745 720,-314.7679 720,-305.8786\" fill=\"none\" stroke=\"#000000\"/>\n<polygon fill=\"#000000\" points=\"723.5001,-305.784 720,-295.784 716.5001,-305.784 723.5001,-305.784\" stroke=\"#000000\"/>\n</g>\n<!-- 140499455608200 -->\n<g class=\"node\" id=\"node31\">\n<title>140499455608200</title>\n<polygon fill=\"none\" points=\"609,-166.5 609,-212.5 831,-212.5 831,-166.5 609,-166.5\" stroke=\"#000000\"/>\n<text fill=\"#000000\" font-family=\"Times,serif\" font-size=\"14.00\" text-anchor=\"middle\" x=\"647.5\" y=\"-185.8\">fc2: Dense</text>\n<polyline fill=\"none\" points=\"686,-166.5 686,-212.5 \" stroke=\"#000000\"/>\n<text fill=\"#000000\" font-family=\"Times,serif\" font-size=\"14.00\" text-anchor=\"middle\" x=\"715\" y=\"-197.3\">input:</text>\n<polyline fill=\"none\" points=\"686,-189.5 744,-189.5 \" stroke=\"#000000\"/>\n<text fill=\"#000000\" font-family=\"Times,serif\" font-size=\"14.00\" text-anchor=\"middle\" x=\"715\" y=\"-174.3\">output:</text>\n<polyline fill=\"none\" points=\"744,-166.5 744,-212.5 \" stroke=\"#000000\"/>\n<text fill=\"#000000\" font-family=\"Times,serif\" font-size=\"14.00\" text-anchor=\"middle\" x=\"787.5\" y=\"-197.3\">(None, 100)</text>\n<polyline fill=\"none\" points=\"744,-189.5 831,-189.5 \" stroke=\"#000000\"/>\n<text fill=\"#000000\" font-family=\"Times,serif\" font-size=\"14.00\" text-anchor=\"middle\" x=\"787.5\" y=\"-174.3\">(None, 32)</text>\n</g>\n<!-- 140499456019928&#45;&gt;140499455608200 -->\n<g class=\"edge\" id=\"edge34\">\n<title>140499456019928-&gt;140499455608200</title>\n<path d=\"M720,-249.3799C720,-241.1745 720,-231.7679 720,-222.8786\" fill=\"none\" stroke=\"#000000\"/>\n<polygon fill=\"#000000\" points=\"723.5001,-222.784 720,-212.784 716.5001,-222.784 723.5001,-222.784\" stroke=\"#000000\"/>\n</g>\n<!-- 140499455697024 -->\n<g class=\"node\" id=\"node32\">\n<title>140499455697024</title>\n<polygon fill=\"none\" points=\"612.5,-83.5 612.5,-129.5 827.5,-129.5 827.5,-83.5 612.5,-83.5\" stroke=\"#000000\"/>\n<text fill=\"#000000\" font-family=\"Times,serif\" font-size=\"14.00\" text-anchor=\"middle\" x=\"651\" y=\"-102.8\">fc3: Dense</text>\n<polyline fill=\"none\" points=\"689.5,-83.5 689.5,-129.5 \" stroke=\"#000000\"/>\n<text fill=\"#000000\" font-family=\"Times,serif\" font-size=\"14.00\" text-anchor=\"middle\" x=\"718.5\" y=\"-114.3\">input:</text>\n<polyline fill=\"none\" points=\"689.5,-106.5 747.5,-106.5 \" stroke=\"#000000\"/>\n<text fill=\"#000000\" font-family=\"Times,serif\" font-size=\"14.00\" text-anchor=\"middle\" x=\"718.5\" y=\"-91.3\">output:</text>\n<polyline fill=\"none\" points=\"747.5,-83.5 747.5,-129.5 \" stroke=\"#000000\"/>\n<text fill=\"#000000\" font-family=\"Times,serif\" font-size=\"14.00\" text-anchor=\"middle\" x=\"787.5\" y=\"-114.3\">(None, 32)</text>\n<polyline fill=\"none\" points=\"747.5,-106.5 827.5,-106.5 \" stroke=\"#000000\"/>\n<text fill=\"#000000\" font-family=\"Times,serif\" font-size=\"14.00\" text-anchor=\"middle\" x=\"787.5\" y=\"-91.3\">(None, 4)</text>\n</g>\n<!-- 140499455608200&#45;&gt;140499455697024 -->\n<g class=\"edge\" id=\"edge35\">\n<title>140499455608200-&gt;140499455697024</title>\n<path d=\"M720,-166.3799C720,-158.1745 720,-148.7679 720,-139.8786\" fill=\"none\" stroke=\"#000000\"/>\n<polygon fill=\"#000000\" points=\"723.5001,-139.784 720,-129.784 716.5001,-139.784 723.5001,-139.784\" stroke=\"#000000\"/>\n</g>\n<!-- 140499455502096 -->\n<g class=\"node\" id=\"node33\">\n<title>140499455502096</title>\n<polygon fill=\"none\" points=\"598,-.5 598,-46.5 842,-46.5 842,-.5 598,-.5\" stroke=\"#000000\"/>\n<text fill=\"#000000\" font-family=\"Times,serif\" font-size=\"14.00\" text-anchor=\"middle\" x=\"655\" y=\"-19.8\">dense_23: Dense</text>\n<polyline fill=\"none\" points=\"712,-.5 712,-46.5 \" stroke=\"#000000\"/>\n<text fill=\"#000000\" font-family=\"Times,serif\" font-size=\"14.00\" text-anchor=\"middle\" x=\"741\" y=\"-31.3\">input:</text>\n<polyline fill=\"none\" points=\"712,-23.5 770,-23.5 \" stroke=\"#000000\"/>\n<text fill=\"#000000\" font-family=\"Times,serif\" font-size=\"14.00\" text-anchor=\"middle\" x=\"741\" y=\"-8.3\">output:</text>\n<polyline fill=\"none\" points=\"770,-.5 770,-46.5 \" stroke=\"#000000\"/>\n<text fill=\"#000000\" font-family=\"Times,serif\" font-size=\"14.00\" text-anchor=\"middle\" x=\"806\" y=\"-31.3\">(None, 4)</text>\n<polyline fill=\"none\" points=\"770,-23.5 842,-23.5 \" stroke=\"#000000\"/>\n<text fill=\"#000000\" font-family=\"Times,serif\" font-size=\"14.00\" text-anchor=\"middle\" x=\"806\" y=\"-8.3\">(None, 1)</text>\n</g>\n<!-- 140499455697024&#45;&gt;140499455502096 -->\n<g class=\"edge\" id=\"edge36\">\n<title>140499455697024-&gt;140499455502096</title>\n<path d=\"M720,-83.3799C720,-75.1745 720,-65.7679 720,-56.8786\" fill=\"none\" stroke=\"#000000\"/>\n<polygon fill=\"#000000\" points=\"723.5001,-56.784 720,-46.784 716.5001,-56.784 723.5001,-56.784\" stroke=\"#000000\"/>\n</g>\n</g>\n</svg>"
          },
          "metadata": {
            "tags": []
          },
          "execution_count": 40
        }
      ]
    },
    {
      "metadata": {
        "id": "MAbt2hkMw1d2",
        "colab_type": "code",
        "colab": {}
      },
      "cell_type": "code",
      "source": [
        "# print(history)"
      ],
      "execution_count": 0,
      "outputs": []
    },
    {
      "metadata": {
        "id": "-clQPYuFw1d6",
        "colab_type": "code",
        "outputId": "d5956515-c036-4fbd-9e90-d3fb151eb79d",
        "colab": {
          "base_uri": "https://localhost:8080/",
          "height": 376
        }
      },
      "cell_type": "code",
      "source": [
        "import matplotlib.pyplot as plt\n",
        "plt.plot(history.history['loss'])\n",
        "plt.title('Model Loss')\n",
        "plt.ylabel('Loss')\n",
        "plt.xlabel('Epoch')\n",
        "plt.show()"
      ],
      "execution_count": 41,
      "outputs": [
        {
          "output_type": "display_data",
          "data": {
            "image/png": "[encoded data removed]",
            "text/plain": [
              "<Figure size 576x396 with 1 Axes>"
            ]
          },
          "metadata": {
            "tags": []
          }
        }
      ]
    },
    {
      "metadata": {
        "id": "DnheNY9ULare",
        "colab_type": "code",
        "colab": {}
      },
      "cell_type": "code",
      "source": [
        ""
      ],
      "execution_count": 0,
      "outputs": []
    }
  ]
}