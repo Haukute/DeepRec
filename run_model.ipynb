{
 "cells": [
  {
   "cell_type": "code",
   "execution_count": 1,
   "metadata": {},
   "outputs": [],
   "source": [
    "from DataSet import DataSet"
   ]
  },
  {
   "cell_type": "code",
   "execution_count": 2,
   "metadata": {},
   "outputs": [
    {
     "name": "stdout",
     "output_type": "stream",
     "text": [
      "Loading ml-1m data set...\n",
      "Loading Success!\n",
      "Data Info:\n",
      "\tUser Num: 6040\n",
      "\tItem Num: 3952\n",
      "\tData Size: 1000209\n"
     ]
    },
    {
     "data": {
      "image/png": "[encoded data removed]",
      "text/plain": [
       "<Figure size 432x288 with 1 Axes>"
      ]
     },
     "metadata": {
      "needs_background": "light"
     },
     "output_type": "display_data"
    }
   ],
   "source": [
    "filepath = './Data/ml-1m/ratings.dat'\n",
    "a = DataSet(filepath)"
   ]
  },
  {
   "cell_type": "code",
   "execution_count": 3,
   "metadata": {},
   "outputs": [
    {
     "data": {
      "text/plain": [
       "6040"
      ]
     },
     "execution_count": 3,
     "metadata": {},
     "output_type": "execute_result"
    }
   ],
   "source": [
    "a.shape[0]"
   ]
  },
  {
   "cell_type": "code",
   "execution_count": 3,
   "metadata": {},
   "outputs": [],
   "source": [
    "import numpy as np\n",
    "import pandas as pd\n"
   ]
  },
  {
   "cell_type": "code",
   "execution_count": 5,
   "metadata": {},
   "outputs": [],
   "source": [
    "df = pd.DataFrame(a.data, columns=['user', 'item', 'ratings', 'time'])\n",
    "df = df.drop(columns=['time'])"
   ]
  },
  {
   "cell_type": "code",
   "execution_count": 4,
   "metadata": {},
   "outputs": [],
   "source": [
    "filename = './Data/ml-1m/u.data'\n",
    "name = ['user', 'item', 'ratings', 'time']\n",
    "df1 = pd.read_csv(filename, sep='\\t', names = name)\n",
    "df1 = df1.drop(columns=['time'])"
   ]
  },
  {
   "cell_type": "code",
   "execution_count": 5,
   "metadata": {},
   "outputs": [],
   "source": [
    "data_dim = len(df1.user.unique()), len(df1.item.unique())"
   ]
  },
  {
   "cell_type": "code",
   "execution_count": 6,
   "metadata": {},
   "outputs": [
    {
     "data": {
      "text/plain": [
       "943"
      ]
     },
     "execution_count": 6,
     "metadata": {},
     "output_type": "execute_result"
    }
   ],
   "source": [
    "data_dim[0]"
   ]
  },
  {
   "cell_type": "code",
   "execution_count": 7,
   "metadata": {},
   "outputs": [],
   "source": [
    "from sklearn.model_selection import train_test_split"
   ]
  },
  {
   "cell_type": "code",
   "execution_count": 8,
   "metadata": {},
   "outputs": [],
   "source": [
    "data = np.array(df1)\n",
    "train, test = train_test_split(data, test_size=0.2)"
   ]
  },
  {
   "cell_type": "code",
   "execution_count": 9,
   "metadata": {},
   "outputs": [],
   "source": [
    "u_train = train[:,0]\n",
    "i_train = train[:,1]\n",
    "r_train = train[:,2]\n",
    "u_test = test[:,0]\n",
    "i_test = test[:,1]\n",
    "r_test = test[:,2]"
   ]
  },
  {
   "cell_type": "code",
   "execution_count": 6,
   "metadata": {},
   "outputs": [
    {
     "name": "stdout",
     "output_type": "stream",
     "text": [
      "Users: [3646 5656 4051 ... 3453  662  659] , shape = (1000209,)\n",
      "Movies: [2985  213 2797 ... 1294  410 2145] , shape = (1000209,)\n",
      "Ratings: [4. 5. 2. ... 4. 4. 3.] , shape = (1000209,)\n"
     ]
    }
   ],
   "source": [
    "shuffled_ratings = df.sample(frac = 1.)\n",
    "Users = shuffled_ratings['user'].values\n",
    "print ('Users:', Users, ', shape =', Users.shape)\n",
    "Movies = shuffled_ratings['item'].values\n",
    "print ('Movies:', Movies, ', shape =', Movies.shape)\n",
    "Ratings = shuffled_ratings['ratings'].values\n",
    "print ('Ratings:', Ratings, ', shape =', Ratings.shape)"
   ]
  },
  {
   "cell_type": "code",
   "execution_count": 10,
   "metadata": {},
   "outputs": [
    {
     "name": "stderr",
     "output_type": "stream",
     "text": [
      "Using TensorFlow backend.\n"
     ]
    }
   ],
   "source": [
    "from keras.models import Model\n",
    "from keras.callbacks import ModelCheckpoint\n",
    "from keras.layers import dot, concatenate, Embedding, Input, Flatten, Dropout, Dense,Conv1D\n",
    "from keras.models import Sequential\n",
    "from keras import optimizers"
   ]
  },
  {
   "cell_type": "code",
   "execution_count": 11,
   "metadata": {},
   "outputs": [],
   "source": [
    "len_dim_i = [64,128,128,256,512]\n",
    "len_dim_u = [64,128,128,256,512]\n",
    "len_dim_r = [1024,512,512,256,256,128]"
   ]
  },
  {
   "cell_type": "code",
   "execution_count": 11,
   "metadata": {},
   "outputs": [],
   "source": [
    "user_id_input = Input(shape=[1], name='user')\n",
    "item_id_input = Input(shape=[1], name='item')\n",
    "\n",
    "user_embedding = Embedding(output_dim=10, input_dim=data_dim[0] + 1,\n",
    "                                   input_length=1, name='user_embedding')(user_id_input)\n",
    "item_embedding = Embedding(output_dim=10, input_dim=data_dim[1] + 1,\n",
    "                                   input_length=1, name='item_embedding')(item_id_input)\n",
    "\n",
    "user_vecs = (Dense(10))(user_embedding)\n",
    "item_vecs = (Dense(10))(item_embedding)\n",
    "\n",
    "# reshape from shape: (batch_size, input_length, embedding_size)\n",
    "# to shape: (batch_size, input_length * embedding_size) which is\n",
    "# equal to shape: (batch_size, embedding_size)\n",
    "    \n",
    "\n",
    "user_vecs = Flatten()(user_embedding)\n",
    "item_vecs = Flatten()(item_embedding)\n",
    "\n",
    "    \n",
    "# y = merge([user_vecs, item_vecs], mode='dot', output_shape=(1,))\n",
    "y = dot([user_vecs, item_vecs], axes=1)\n",
    "for i in range(len(len_dim_r)):\n",
    "    y = (Dense(len_dim_r[i]))(y)\n",
    "    y = (Dropout(0.25))(y)\n",
    "# y = Dense(1, activation=\"relu\")(y)\n",
    "# M = Sequential()\n",
    "# M.add(y)\n",
    "y = (Dropout(0.4))(y)\n",
    "y = (Dense(64))(y)\n",
    "# y = (Dropout(0.2))(y)\n",
    "y = (Dense(32))(y)\n",
    "# y = (Dropout(0.2))(y)\n",
    "# y = (Dense(16))(y)\n",
    "# y = (Dropout(0.2))(y)\n",
    "y = (Dense(4))(y)\n",
    "y = (Dense(1, activation='relu'))(y)\n",
    "\n",
    "model = Model(inputs=[user_id_input, item_id_input], outputs=[y])\n",
    "adam = optimizers.Adam(lr=0.001)\n",
    "model.compile(optimizer=adam, loss='mae',metrics=['accuracy', 'mae'])"
   ]
  },
  {
   "cell_type": "code",
   "execution_count": 12,
   "metadata": {},
   "outputs": [
    {
     "name": "stdout",
     "output_type": "stream",
     "text": [
      "Train on 80000 samples, validate on 20000 samples\n",
      "Epoch 1/5\n",
      "80000/80000 [==============================] - 41s 507us/step - loss: 0.9472 - acc: 0.3257 - mean_absolute_error: 0.9472 - val_loss: 0.9193 - val_acc: 0.3442 - val_mean_absolute_error: 0.9193\n",
      "Epoch 2/5\n",
      "80000/80000 [==============================] - 41s 507us/step - loss: 0.9051 - acc: 0.3411 - mean_absolute_error: 0.9051 - val_loss: 0.8919 - val_acc: 0.3442 - val_mean_absolute_error: 0.8919\n",
      "Epoch 3/5\n",
      "80000/80000 [==============================] - 42s 527us/step - loss: 0.8912 - acc: 0.3503 - mean_absolute_error: 0.8912 - val_loss: 0.8488 - val_acc: 0.3604 - val_mean_absolute_error: 0.8488\n",
      "Epoch 4/5\n",
      "80000/80000 [==============================] - 43s 540us/step - loss: 0.7727 - acc: 0.4154 - mean_absolute_error: 0.7727 - val_loss: 0.8234 - val_acc: 0.3775 - val_mean_absolute_error: 0.8234\n",
      "Epoch 5/5\n",
      "80000/80000 [==============================] - 42s 530us/step - loss: 0.7197 - acc: 0.4477 - mean_absolute_error: 0.7197 - val_loss: 0.7981 - val_acc: 0.3790 - val_mean_absolute_error: 0.7981\n"
     ]
    }
   ],
   "source": [
    "history = model.fit([u_train,i_train], r_train,validation_data=([u_test,i_test], r_test), batch_size=64, epochs = 5, verbose=1)"
   ]
  },
  {
   "cell_type": "code",
   "execution_count": 18,
   "metadata": {},
   "outputs": [
    {
     "name": "stdout",
     "output_type": "stream",
     "text": [
      "__________________________________________________________________________________________________\n",
      "Layer (type)                    Output Shape         Param #     Connected to                     \n",
      "==================================================================================================\n",
      "user (InputLayer)               (None, 1)            0                                            \n",
      "__________________________________________________________________________________________________\n",
      "item (InputLayer)               (None, 1)            0                                            \n",
      "__________________________________________________________________________________________________\n",
      "user_embedding (Embedding)      (None, 1, 10)        9440        user[0][0]                       \n",
      "__________________________________________________________________________________________________\n",
      "item_embedding (Embedding)      (None, 1, 10)        16830       item[0][0]                       \n",
      "__________________________________________________________________________________________________\n",
      "flatten_1 (Flatten)             (None, 10)           0           user_embedding[0][0]             \n",
      "__________________________________________________________________________________________________\n",
      "flatten_2 (Flatten)             (None, 10)           0           item_embedding[0][0]             \n",
      "__________________________________________________________________________________________________\n",
      "dot_1 (Dot)                     (None, 1)            0           flatten_1[0][0]                  \n",
      "                                                                 flatten_2[0][0]                  \n",
      "__________________________________________________________________________________________________\n",
      "dense_3 (Dense)                 (None, 1024)         2048        dot_1[0][0]                      \n",
      "__________________________________________________________________________________________________\n",
      "dropout_1 (Dropout)             (None, 1024)         0           dense_3[0][0]                    \n",
      "__________________________________________________________________________________________________\n",
      "dense_4 (Dense)                 (None, 512)          524800      dropout_1[0][0]                  \n",
      "__________________________________________________________________________________________________\n",
      "dropout_2 (Dropout)             (None, 512)          0           dense_4[0][0]                    \n",
      "__________________________________________________________________________________________________\n",
      "dense_5 (Dense)                 (None, 512)          262656      dropout_2[0][0]                  \n",
      "__________________________________________________________________________________________________\n",
      "dropout_3 (Dropout)             (None, 512)          0           dense_5[0][0]                    \n",
      "__________________________________________________________________________________________________\n",
      "dense_6 (Dense)                 (None, 256)          131328      dropout_3[0][0]                  \n",
      "__________________________________________________________________________________________________\n",
      "dropout_4 (Dropout)             (None, 256)          0           dense_6[0][0]                    \n",
      "__________________________________________________________________________________________________\n",
      "dense_7 (Dense)                 (None, 256)          65792       dropout_4[0][0]                  \n",
      "__________________________________________________________________________________________________\n",
      "dropout_5 (Dropout)             (None, 256)          0           dense_7[0][0]                    \n",
      "__________________________________________________________________________________________________\n",
      "dense_8 (Dense)                 (None, 128)          32896       dropout_5[0][0]                  \n",
      "__________________________________________________________________________________________________\n",
      "dropout_6 (Dropout)             (None, 128)          0           dense_8[0][0]                    \n",
      "__________________________________________________________________________________________________\n",
      "dropout_7 (Dropout)             (None, 128)          0           dropout_6[0][0]                  \n",
      "__________________________________________________________________________________________________\n",
      "dense_9 (Dense)                 (None, 64)           8256        dropout_7[0][0]                  \n",
      "__________________________________________________________________________________________________\n",
      "dense_10 (Dense)                (None, 32)           2080        dense_9[0][0]                    \n",
      "__________________________________________________________________________________________________\n",
      "dense_11 (Dense)                (None, 4)            132         dense_10[0][0]                   \n",
      "__________________________________________________________________________________________________\n",
      "dense_12 (Dense)                (None, 1)            5           dense_11[0][0]                   \n",
      "==================================================================================================\n",
      "Total params: 1,056,263\n",
      "Trainable params: 1,056,263\n",
      "Non-trainable params: 0\n",
      "__________________________________________________________________________________________________\n"
     ]
    }
   ],
   "source": [
    "model.summary()"
   ]
  },
  {
   "cell_type": "code",
   "execution_count": 11,
   "metadata": {},
   "outputs": [],
   "source": [
    "# print(history)"
   ]
  },
  {
   "cell_type": "code",
   "execution_count": 16,
   "metadata": {},
   "outputs": [
    {
     "data": {
      "image/png": "[encoded data removed]",
      "text/plain": [
       "<Figure size 432x288 with 1 Axes>"
      ]
     },
     "metadata": {
      "needs_background": "light"
     },
     "output_type": "display_data"
    }
   ],
   "source": [
    "import matplotlib.pyplot as plt\n",
    "plt.plot(history.history['loss'])\n",
    "plt.title('Model Loss')\n",
    "plt.ylabel('Loss')\n",
    "plt.xlabel('Epoch')\n",
    "plt.show()"
   ]
  },
  {
   "cell_type": "code",
   "execution_count": 17,
   "metadata": {},
   "outputs": [
    {
     "data": {
      "image/png": "[encoded data removed]",
      "text/plain": [
       "<Figure size 432x288 with 1 Axes>"
      ]
     },
     "metadata": {
      "needs_background": "light"
     },
     "output_type": "display_data"
    }
   ],
   "source": [
    "# Plot training & validation loss values\n",
    "plt.plot(history.history['loss'])\n",
    "plt.plot(history.history['val_loss'])\n",
    "plt.title('Model loss')\n",
    "plt.ylabel('Loss')\n",
    "plt.xlabel('Epoch')\n",
    "plt.legend(['Train', 'Test'], loc='upper left')\n",
    "plt.show()"
   ]
  },
  {
   "cell_type": "code",
   "execution_count": 13,
   "metadata": {},
   "outputs": [],
   "source": [
    "# history.history['acc']"
   ]
  },
  {
   "cell_type": "code",
   "execution_count": 14,
   "metadata": {},
   "outputs": [],
   "source": [
    "# user_id_input = Input(shape=[1], name='user')\n",
    "# item_id_input = Input(shape=[1], name='item')\n",
    "\n",
    "# user_embedding = Embedding(output_dim=100, input_dim=a.shape[0] + 1,\n",
    "#                                    input_length=1, name='user_embedding')(user_id_input)\n",
    "# item_embedding = Embedding(output_dim=100, input_dim=a.shape[1] + 1,\n",
    "#                                    input_length=1, name='item_embedding')(item_id_input)\n",
    "\n",
    "# # reshape from shape: (batch_size, input_length, embedding_size)\n",
    "# # to shape: (batch_size, input_length * embedding_size) which is\n",
    "# # equal to shape: (batch_size, embedding_size)\n",
    "# user_vecs = Flatten()(user_embedding)\n",
    "# item_vecs = Flatten()(item_embedding)\n",
    "\n",
    "#         # y = merge([user_vecs, item_vecs], mode='dot', output_shape=(1,))\n",
    "# y = dot([user_vecs, item_vecs], axes=1)\n",
    "\n",
    "# y = Dense\n",
    "\n",
    "# model = Model(inputs=[user_id_input, item_id_input], outputs=[y])\n",
    "# model.compile(optimizer='adam', loss='mae',metrics=['accuracy'])"
   ]
  },
  {
   "cell_type": "code",
   "execution_count": 15,
   "metadata": {},
   "outputs": [],
   "source": [
    "# history = model.fit([Users,Movies], Ratings, batch_size=32, epochs = 5, verbose=1)"
   ]
  },
  {
   "cell_type": "code",
   "execution_count": 12,
   "metadata": {},
   "outputs": [],
   "source": [
    "def F_20(data_dim, dim_r_new):\n",
    "    user_id_input = Input(shape=[1], name='user')\n",
    "    item_id_input = Input(shape=[1], name='item')\n",
    "\n",
    "    user_embedding = Embedding(output_dim=20, input_dim=data_dim[0] + 1,\n",
    "                                   input_length=1, name='user_embedding')(user_id_input)\n",
    "    item_embedding = Embedding(output_dim=20, input_dim=data_dim[1] + 1,\n",
    "                                   input_length=1, name='item_embedding')(item_id_input)\n",
    "\n",
    "    user_vecs = (Dense(20))(user_embedding)\n",
    "    item_vecs = (Dense(20))(item_embedding)\n",
    "    for i in range(len(dim_u_new)):\n",
    "        user_vecs = (Dense(dim_u_new[i]))(user_vecs)\n",
    "        user_vecs = (Dropout(0.25))(user_vecs)\n",
    "    for i in range(len(dim_i_new)):\n",
    "        item_vecs = (Dense(dim_i_new[i]))(item_vecs)\n",
    "        item_vecs = (Dropout(0.25))(item_vecs)\n",
    "\n",
    "    # reshape from shape: (batch_size, input_length, embedding_size)\n",
    "    # to shape: (batch_size, input_length * embedding_size) which is\n",
    "    # equal to shape: (batch_size, embedding_size)\n",
    "    \n",
    "\n",
    "    user_vecs = Flatten()(user_embedding)\n",
    "    item_vecs = Flatten()(item_embedding)\n",
    "\n",
    "    \n",
    "    # y = merge([user_vecs, item_vecs], mode='dot', output_shape=(1,))\n",
    "    y = dot([user_vecs, item_vecs], axes=1)\n",
    "    for i in range(len(dim_r_new)):\n",
    "        y = (Dense(dim_r_new[i]))(y)\n",
    "        y = (Dropout(0.25))(y)\n",
    "    # y = Dense(1, activation=\"relu\")(y)\n",
    "    # M = Sequential()\n",
    "    # M.add(y)\n",
    "    y = (Dropout(0.4))(y)\n",
    "    y = (Dense(64))(y)\n",
    "    # y = (Dropout(0.2))(y)\n",
    "    y = (Dense(32))(y)\n",
    "    # y = (Dropout(0.2))(y)\n",
    "    # y = (Dense(16))(y)\n",
    "    # y = (Dropout(0.2))(y)\n",
    "    y = (Dense(4))(y)\n",
    "    y = (Dense(1, activation='relu'))(y)\n",
    "\n",
    "    model = Model(inputs=[user_id_input, item_id_input], outputs=[y])\n",
    "    adam = optimizers.Adam(lr=0.001)\n",
    "    model.compile(optimizer=adam, loss='mae',metrics=['accuracy', 'mae'])\n",
    "    return model"
   ]
  },
  {
   "cell_type": "code",
   "execution_count": 13,
   "metadata": {},
   "outputs": [],
   "source": [
    "dim_u_new = [16,16,32]\n",
    "dim_i_new = [16,16,32,32]\n",
    "dim_r_new = [512,256,128,128]\n",
    "new_m = F_20(data_dim, dim_r_new)"
   ]
  },
  {
   "cell_type": "code",
   "execution_count": 67,
   "metadata": {},
   "outputs": [
    {
     "name": "stdout",
     "output_type": "stream",
     "text": [
      "Train on 80000 samples, validate on 20000 samples\n",
      "Epoch 1/5\n",
      "80000/80000 [==============================] - 15s 188us/step - loss: 0.9457 - acc: 0.3269 - mean_absolute_error: 0.9457 - val_loss: 0.8164 - val_acc: 0.3856 - val_mean_absolute_error: 0.8164\n",
      "Epoch 2/5\n",
      "80000/80000 [==============================] - 12s 149us/step - loss: 0.7400 - acc: 0.4316 - mean_absolute_error: 0.7400 - val_loss: 0.7953 - val_acc: 0.3805 - val_mean_absolute_error: 0.7953\n",
      "Epoch 3/5\n",
      "80000/80000 [==============================] - 13s 166us/step - loss: 0.6640 - acc: 0.4827 - mean_absolute_error: 0.6640 - val_loss: 0.7792 - val_acc: 0.3995 - val_mean_absolute_error: 0.7792\n",
      "Epoch 4/5\n",
      "80000/80000 [==============================] - 13s 162us/step - loss: 0.6210 - acc: 0.5188 - mean_absolute_error: 0.6210 - val_loss: 0.8210 - val_acc: 0.3817 - val_mean_absolute_error: 0.8210\n",
      "Epoch 5/5\n",
      "80000/80000 [==============================] - 12s 151us/step - loss: 0.5949 - acc: 0.5397 - mean_absolute_error: 0.5949 - val_loss: 0.8215 - val_acc: 0.3861 - val_mean_absolute_error: 0.8215\n"
     ]
    }
   ],
   "source": [
    "his = new_m.fit([u_train,i_train], r_train,validation_data=([u_test,i_test], r_test), batch_size=64, epochs = 5, verbose=1)"
   ]
  },
  {
   "cell_type": "code",
   "execution_count": 14,
   "metadata": {},
   "outputs": [
    {
     "name": "stdout",
     "output_type": "stream",
     "text": [
      "__________________________________________________________________________________________________\n",
      "Layer (type)                    Output Shape         Param #     Connected to                     \n",
      "==================================================================================================\n",
      "user (InputLayer)               (None, 1)            0                                            \n",
      "__________________________________________________________________________________________________\n",
      "item (InputLayer)               (None, 1)            0                                            \n",
      "__________________________________________________________________________________________________\n",
      "user_embedding (Embedding)      (None, 1, 20)        18880       user[0][0]                       \n",
      "__________________________________________________________________________________________________\n",
      "item_embedding (Embedding)      (None, 1, 20)        33660       item[0][0]                       \n",
      "__________________________________________________________________________________________________\n",
      "flatten_1 (Flatten)             (None, 20)           0           user_embedding[0][0]             \n",
      "__________________________________________________________________________________________________\n",
      "flatten_2 (Flatten)             (None, 20)           0           item_embedding[0][0]             \n",
      "__________________________________________________________________________________________________\n",
      "dot_1 (Dot)                     (None, 1)            0           flatten_1[0][0]                  \n",
      "                                                                 flatten_2[0][0]                  \n",
      "__________________________________________________________________________________________________\n",
      "dense_10 (Dense)                (None, 512)          1024        dot_1[0][0]                      \n",
      "__________________________________________________________________________________________________\n",
      "dropout_8 (Dropout)             (None, 512)          0           dense_10[0][0]                   \n",
      "__________________________________________________________________________________________________\n",
      "dense_11 (Dense)                (None, 256)          131328      dropout_8[0][0]                  \n",
      "__________________________________________________________________________________________________\n",
      "dropout_9 (Dropout)             (None, 256)          0           dense_11[0][0]                   \n",
      "__________________________________________________________________________________________________\n",
      "dense_12 (Dense)                (None, 128)          32896       dropout_9[0][0]                  \n",
      "__________________________________________________________________________________________________\n",
      "dropout_10 (Dropout)            (None, 128)          0           dense_12[0][0]                   \n",
      "__________________________________________________________________________________________________\n",
      "dense_13 (Dense)                (None, 128)          16512       dropout_10[0][0]                 \n",
      "__________________________________________________________________________________________________\n",
      "dropout_11 (Dropout)            (None, 128)          0           dense_13[0][0]                   \n",
      "__________________________________________________________________________________________________\n",
      "dropout_12 (Dropout)            (None, 128)          0           dropout_11[0][0]                 \n",
      "__________________________________________________________________________________________________\n",
      "dense_14 (Dense)                (None, 64)           8256        dropout_12[0][0]                 \n",
      "__________________________________________________________________________________________________\n",
      "dense_15 (Dense)                (None, 32)           2080        dense_14[0][0]                   \n",
      "__________________________________________________________________________________________________\n",
      "dense_16 (Dense)                (None, 4)            132         dense_15[0][0]                   \n",
      "__________________________________________________________________________________________________\n",
      "dense_17 (Dense)                (None, 1)            5           dense_16[0][0]                   \n",
      "==================================================================================================\n",
      "Total params: 244,773\n",
      "Trainable params: 244,773\n",
      "Non-trainable params: 0\n",
      "__________________________________________________________________________________________________\n"
     ]
    }
   ],
   "source": [
    "new_m.summary()"
   ]
  },
  {
   "cell_type": "code",
   "execution_count": 15,
   "metadata": {},
   "outputs": [],
   "source": [
    "from IPython.display import SVG\n",
    "from keras.utils.vis_utils import model_to_dot"
   ]
  },
  {
   "cell_type": "code",
   "execution_count": null,
   "metadata": {},
   "outputs": [],
   "source": []
  }
 ],
 "metadata": {
  "kernelspec": {
   "display_name": "Python 3",
   "language": "python",
   "name": "python3"
  },
  "language_info": {
   "codemirror_mode": {
    "name": "ipython",
    "version": 3
   },
   "file_extension": ".py",
   "mimetype": "text/x-python",
   "name": "python",
   "nbconvert_exporter": "python",
   "pygments_lexer": "ipython3",
   "version": "3.6.5"
  }
 },
 "nbformat": 4,
 "nbformat_minor": 2
}
