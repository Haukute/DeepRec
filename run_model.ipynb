{
 "cells": [
  {
   "cell_type": "code",
   "execution_count": 1,
   "metadata": {},
   "outputs": [],
   "source": [
    "from DataSet import DataSet"
   ]
  },
  {
   "cell_type": "code",
   "execution_count": 2,
   "metadata": {},
   "outputs": [
    {
     "name": "stdout",
     "output_type": "stream",
     "text": [
      "Loading ml-1m data set...\n",
      "Loading Success!\n",
      "Data Info:\n",
      "\tUser Num: 6040\n",
      "\tItem Num: 3952\n",
      "\tData Size: 1000209\n"
     ]
    },
    {
     "data": {
      "image/png": "[encoded data removed]",
      "text/plain": [
       "<Figure size 432x288 with 1 Axes>"
      ]
     },
     "metadata": {
      "needs_background": "light"
     },
     "output_type": "display_data"
    }
   ],
   "source": [
    "filepath = './Data/ml-1m/ratings.dat'\n",
    "a = DataSet(filepath)"
   ]
  },
  {
   "cell_type": "code",
   "execution_count": 3,
   "metadata": {},
   "outputs": [
    {
     "data": {
      "text/plain": [
       "6040"
      ]
     },
     "execution_count": 3,
     "metadata": {},
     "output_type": "execute_result"
    }
   ],
   "source": [
    "a.shape[0]"
   ]
  },
  {
   "cell_type": "code",
   "execution_count": 4,
   "metadata": {},
   "outputs": [],
   "source": [
    "import numpy as np\n",
    "import pandas as pd\n"
   ]
  },
  {
   "cell_type": "code",
   "execution_count": 5,
   "metadata": {},
   "outputs": [
    {
     "ename": "NameError",
     "evalue": "name 'a' is not defined",
     "output_type": "error",
     "traceback": [
      "\u001b[0;31m---------------------------------------------------------------------------\u001b[0m",
      "\u001b[0;31mNameError\u001b[0m                                 Traceback (most recent call last)",
      "\u001b[0;32m<ipython-input-5-b94584401c82>\u001b[0m in \u001b[0;36m<module>\u001b[0;34m()\u001b[0m\n\u001b[0;32m----> 1\u001b[0;31m \u001b[0mdf\u001b[0m \u001b[0;34m=\u001b[0m \u001b[0mpd\u001b[0m\u001b[0;34m.\u001b[0m\u001b[0mDataFrame\u001b[0m\u001b[0;34m(\u001b[0m\u001b[0ma\u001b[0m\u001b[0;34m.\u001b[0m\u001b[0mdata\u001b[0m\u001b[0;34m,\u001b[0m \u001b[0mcolumns\u001b[0m\u001b[0;34m=\u001b[0m\u001b[0;34m[\u001b[0m\u001b[0;34m'user'\u001b[0m\u001b[0;34m,\u001b[0m \u001b[0;34m'item'\u001b[0m\u001b[0;34m,\u001b[0m \u001b[0;34m'ratings'\u001b[0m\u001b[0;34m,\u001b[0m \u001b[0;34m'time'\u001b[0m\u001b[0;34m]\u001b[0m\u001b[0;34m)\u001b[0m\u001b[0;34m\u001b[0m\u001b[0m\n\u001b[0m\u001b[1;32m      2\u001b[0m \u001b[0mdf\u001b[0m \u001b[0;34m=\u001b[0m \u001b[0mdf\u001b[0m\u001b[0;34m.\u001b[0m\u001b[0mdrop\u001b[0m\u001b[0;34m(\u001b[0m\u001b[0mcolumns\u001b[0m\u001b[0;34m=\u001b[0m\u001b[0;34m[\u001b[0m\u001b[0;34m'time'\u001b[0m\u001b[0;34m]\u001b[0m\u001b[0;34m)\u001b[0m\u001b[0;34m\u001b[0m\u001b[0m\n",
      "\u001b[0;31mNameError\u001b[0m: name 'a' is not defined"
     ]
    }
   ],
   "source": [
    "df = pd.DataFrame(a.data, columns=['user', 'item', 'ratings', 'time'])\n",
    "df = df.drop(columns=['time'])"
   ]
  },
  {
   "cell_type": "code",
   "execution_count": 6,
   "metadata": {},
   "outputs": [],
   "source": [
    "filename = './Data/ml-1m/u.data'\n",
    "name = ['user', 'item', 'ratings', 'time']\n",
    "df1 = pd.read_csv(filename, sep='\\t', names = name)\n",
    "df1 = df1.drop(columns=['time'])"
   ]
  },
  {
   "cell_type": "code",
   "execution_count": 7,
   "metadata": {},
   "outputs": [],
   "source": [
    "data_dim = len(df1.user.unique()), len(df1.item.unique())"
   ]
  },
  {
   "cell_type": "code",
   "execution_count": 8,
   "metadata": {},
   "outputs": [
    {
     "data": {
      "text/plain": [
       "943"
      ]
     },
     "execution_count": 8,
     "metadata": {},
     "output_type": "execute_result"
    }
   ],
   "source": [
    "data_dim[0]"
   ]
  },
  {
   "cell_type": "code",
   "execution_count": 9,
   "metadata": {},
   "outputs": [],
   "source": [
    "from sklearn.model_selection import train_test_split"
   ]
  },
  {
   "cell_type": "code",
   "execution_count": 10,
   "metadata": {},
   "outputs": [],
   "source": [
    "data = np.array(df1)\n",
    "train, test = train_test_split(data, test_size=0.2)"
   ]
  },
  {
   "cell_type": "code",
   "execution_count": 11,
   "metadata": {},
   "outputs": [],
   "source": [
    "u_train = train[:,0]\n",
    "i_train = train[:,1]\n",
    "r_train = train[:,2]\n",
    "u_test = test[:,0]\n",
    "i_test = test[:,1]\n",
    "r_test = test[:,2]"
   ]
  },
  {
   "cell_type": "code",
   "execution_count": 6,
   "metadata": {},
   "outputs": [
    {
     "name": "stdout",
     "output_type": "stream",
     "text": [
      "Users: [3646 5656 4051 ... 3453  662  659] , shape = (1000209,)\n",
      "Movies: [2985  213 2797 ... 1294  410 2145] , shape = (1000209,)\n",
      "Ratings: [4. 5. 2. ... 4. 4. 3.] , shape = (1000209,)\n"
     ]
    }
   ],
   "source": [
    "shuffled_ratings = df.sample(frac = 1.)\n",
    "Users = shuffled_ratings['user'].values\n",
    "print ('Users:', Users, ', shape =', Users.shape)\n",
    "Movies = shuffled_ratings['item'].values\n",
    "print ('Movies:', Movies, ', shape =', Movies.shape)\n",
    "Ratings = shuffled_ratings['ratings'].values\n",
    "print ('Ratings:', Ratings, ', shape =', Ratings.shape)"
   ]
  },
  {
   "cell_type": "code",
   "execution_count": 12,
   "metadata": {},
   "outputs": [],
   "source": [
    "from keras.models import Model\n",
    "from keras.callbacks import ModelCheckpoint\n",
    "from keras.layers import dot, concatenate, Embedding, Input, Flatten, Dropout, Dense,Conv1D\n",
    "from keras.models import Sequential\n",
    "from keras import optimizers"
   ]
  },
  {
   "cell_type": "code",
   "execution_count": 13,
   "metadata": {},
   "outputs": [],
   "source": [
    "len_dim_i = [64,128,128,256,512]\n",
    "len_dim_u = [64,128,128,256,512]\n",
    "len_dim_r = [600,300,150]"
   ]
  },
  {
   "cell_type": "code",
   "execution_count": 14,
   "metadata": {},
   "outputs": [],
   "source": [
    "user_id_input = Input(shape=[1], name='user')\n",
    "item_id_input = Input(shape=[1], name='item')\n",
    "\n",
    "user_embedding = Embedding(output_dim=10, input_dim=data_dim[0] + 1,\n",
    "                                   input_length=1, name='user_embedding')(user_id_input)\n",
    "item_embedding = Embedding(output_dim=10, input_dim=data_dim[1] + 1,\n",
    "                                   input_length=1, name='item_embedding')(item_id_input)\n",
    "\n",
    "# user_embedding = (Dense(10))(user_embedding)\n",
    "# item_embedding = (Dense(10))(item_embedding)\n",
    "\n",
    "# reshape from shape: (batch_size, input_length, embedding_size)\n",
    "# to shape: (batch_size, input_length * embedding_size) which is\n",
    "# equal to shape: (batch_size, embedding_size)\n",
    "    \n",
    "\n",
    "user_vecs = Flatten()(user_embedding)\n",
    "item_vecs = Flatten()(item_embedding)\n",
    "\n",
    "    \n",
    "# y = merge([user_vecs, item_vecs], mode='dot', output_shape=(1,))\n",
    "y = concatenate([user_vecs, item_vecs])\n",
    "for i in range(len(len_dim_r)):\n",
    "    y = (Dense(len_dim_r[i]))(y)\n",
    "#     y = (Dropout(0.25))(y)\n",
    "# y = Dense(1, activation=\"relu\")(y)\n",
    "# M = Sequential()\n",
    "# M.add(y)\n",
    "# y = (Dropout(0.4))(y)\n",
    "y = (Dense(64))(y)\n",
    "# y = (Dropout(0.2))(y)\n",
    "# y = (Dense(32))(y)\n",
    "# y = (Dropout(0.2))(y)\n",
    "# y = (Dense(16))(y)\n",
    "# y = (Dropout(0.2))(y)\n",
    "y = (Dense(4))(y)\n",
    "y = (Dense(1, activation='relu'))(y)\n",
    "\n",
    "model = Model(inputs=[user_id_input, item_id_input], outputs=[y])\n",
    "adam = optimizers.Adam(lr=0.001)\n",
    "model.compile(optimizer=adam, loss='mae',metrics=['accuracy'])"
   ]
  },
  {
   "cell_type": "code",
   "execution_count": 15,
   "metadata": {},
   "outputs": [
    {
     "name": "stdout",
     "output_type": "stream",
     "text": [
      "Train on 80000 samples, validate on 20000 samples\n",
      "Epoch 1/10\n",
      "80000/80000 [==============================] - 10s 127us/step - loss: 0.8149 - acc: 0.3882 - val_loss: 0.7579 - val_acc: 0.4102\n",
      "Epoch 2/10\n",
      "80000/80000 [==============================] - 10s 120us/step - loss: 0.7527 - acc: 0.4161 - val_loss: 0.7507 - val_acc: 0.4101\n",
      "Epoch 3/10\n",
      "80000/80000 [==============================] - 10s 121us/step - loss: 0.7420 - acc: 0.4245 - val_loss: 0.7456 - val_acc: 0.4150\n",
      "Epoch 4/10\n",
      "80000/80000 [==============================] - 10s 123us/step - loss: 0.7380 - acc: 0.4275 - val_loss: 0.7508 - val_acc: 0.4125\n",
      "Epoch 5/10\n",
      "80000/80000 [==============================] - 10s 127us/step - loss: 0.7340 - acc: 0.4301 - val_loss: 0.7455 - val_acc: 0.4247\n",
      "Epoch 6/10\n",
      "80000/80000 [==============================] - 10s 131us/step - loss: 0.7322 - acc: 0.4328 - val_loss: 0.7567 - val_acc: 0.4025\n",
      "Epoch 7/10\n",
      "80000/80000 [==============================] - 10s 130us/step - loss: 0.7296 - acc: 0.4332 - val_loss: 0.7531 - val_acc: 0.4310\n",
      "Epoch 8/10\n",
      "80000/80000 [==============================] - 10s 129us/step - loss: 0.7283 - acc: 0.4352 - val_loss: 0.7419 - val_acc: 0.4270\n",
      "Epoch 9/10\n",
      "80000/80000 [==============================] - 11s 132us/step - loss: 0.7275 - acc: 0.4333 - val_loss: 0.7419 - val_acc: 0.4252\n",
      "Epoch 10/10\n",
      "80000/80000 [==============================] - 11s 134us/step - loss: 0.7266 - acc: 0.4358 - val_loss: 0.7420 - val_acc: 0.4243\n"
     ]
    }
   ],
   "source": [
    "history = model.fit([u_train,i_train], r_train,validation_data=([u_test,i_test], r_test), batch_size=64, epochs = 10, verbose=1)"
   ]
  },
  {
   "cell_type": "code",
   "execution_count": 16,
   "metadata": {},
   "outputs": [
    {
     "name": "stdout",
     "output_type": "stream",
     "text": [
      "__________________________________________________________________________________________________\n",
      "Layer (type)                    Output Shape         Param #     Connected to                     \n",
      "==================================================================================================\n",
      "user (InputLayer)               (None, 1)            0                                            \n",
      "__________________________________________________________________________________________________\n",
      "item (InputLayer)               (None, 1)            0                                            \n",
      "__________________________________________________________________________________________________\n",
      "user_embedding (Embedding)      (None, 1, 10)        9440        user[0][0]                       \n",
      "__________________________________________________________________________________________________\n",
      "item_embedding (Embedding)      (None, 1, 10)        16830       item[0][0]                       \n",
      "__________________________________________________________________________________________________\n",
      "flatten_5 (Flatten)             (None, 10)           0           user_embedding[0][0]             \n",
      "__________________________________________________________________________________________________\n",
      "flatten_6 (Flatten)             (None, 10)           0           item_embedding[0][0]             \n",
      "__________________________________________________________________________________________________\n",
      "concatenate_1 (Concatenate)     (None, 20)           0           flatten_5[0][0]                  \n",
      "                                                                 flatten_6[0][0]                  \n",
      "__________________________________________________________________________________________________\n",
      "dense_17 (Dense)                (None, 600)          12600       concatenate_1[0][0]              \n",
      "__________________________________________________________________________________________________\n",
      "dense_18 (Dense)                (None, 300)          180300      dense_17[0][0]                   \n",
      "__________________________________________________________________________________________________\n",
      "dense_19 (Dense)                (None, 150)          45150       dense_18[0][0]                   \n",
      "__________________________________________________________________________________________________\n",
      "dense_20 (Dense)                (None, 64)           9664        dense_19[0][0]                   \n",
      "__________________________________________________________________________________________________\n",
      "dense_21 (Dense)                (None, 4)            260         dense_20[0][0]                   \n",
      "__________________________________________________________________________________________________\n",
      "dense_22 (Dense)                (None, 1)            5           dense_21[0][0]                   \n",
      "==================================================================================================\n",
      "Total params: 274,249\n",
      "Trainable params: 274,249\n",
      "Non-trainable params: 0\n",
      "__________________________________________________________________________________________________\n"
     ]
    }
   ],
   "source": [
    "model.summary()"
   ]
  },
  {
   "cell_type": "code",
   "execution_count": 25,
   "metadata": {},
   "outputs": [],
   "source": [
    "model.save('train_100k.h5')"
   ]
  },
  {
   "cell_type": "code",
   "execution_count": 2,
   "metadata": {},
   "outputs": [],
   "source": [
    "history = load_model('train_100k.h5')"
   ]
  },
  {
   "cell_type": "code",
   "execution_count": null,
   "metadata": {},
   "outputs": [],
   "source": []
  },
  {
   "cell_type": "code",
   "execution_count": 11,
   "metadata": {},
   "outputs": [],
   "source": [
    "# print(history)"
   ]
  },
  {
   "cell_type": "code",
   "execution_count": 16,
   "metadata": {},
   "outputs": [
    {
     "data": {
      "image/png": "[encoded data removed]",
      "text/plain": [
       "<Figure size 432x288 with 1 Axes>"
      ]
     },
     "metadata": {
      "needs_background": "light"
     },
     "output_type": "display_data"
    }
   ],
   "source": [
    "import matplotlib.pyplot as plt\n",
    "plt.plot(history.history['loss'])\n",
    "plt.title('Model Loss')\n",
    "plt.ylabel('Loss')\n",
    "plt.xlabel('Epoch')\n",
    "plt.show()"
   ]
  },
  {
   "cell_type": "code",
   "execution_count": 17,
   "metadata": {},
   "outputs": [
    {
     "data": {
      "image/png": "[encoded data removed]",
      "text/plain": [
       "<Figure size 432x288 with 1 Axes>"
      ]
     },
     "metadata": {
      "needs_background": "light"
     },
     "output_type": "display_data"
    }
   ],
   "source": [
    "# Plot training & validation loss values\n",
    "plt.plot(history.history['loss'])\n",
    "plt.plot(history.history['val_loss'])\n",
    "plt.title('Model loss')\n",
    "plt.ylabel('Loss')\n",
    "plt.xlabel('Epoch')\n",
    "plt.legend(['Train', 'Test'], loc='upper left')\n",
    "plt.show()"
   ]
  },
  {
   "cell_type": "code",
   "execution_count": 1,
   "metadata": {},
   "outputs": [
    {
     "name": "stderr",
     "output_type": "stream",
     "text": [
      "Using TensorFlow backend.\n"
     ]
    }
   ],
   "source": [
    "from keras.models import load_model"
   ]
  },
  {
   "cell_type": "code",
   "execution_count": 18,
   "metadata": {},
   "outputs": [],
   "source": [
    "filepath = '/home/hau/Recommendation/DMF/Data/ml-1m/u1.test'\n",
    "df = pd.read_csv(filepath, sep = '\\t', names = ['user', 'item', 'rating', 'time'])\n",
    "df = df.drop(columns=['time'])\n",
    "data = np.array(df)"
   ]
  },
  {
   "cell_type": "code",
   "execution_count": 19,
   "metadata": {},
   "outputs": [],
   "source": [
    "pre = model.predict([data[:,0], data[:,1]])"
   ]
  },
  {
   "cell_type": "code",
   "execution_count": 20,
   "metadata": {},
   "outputs": [],
   "source": [
    "re = np.concatenate((data, pre), axis=1)"
   ]
  },
  {
   "cell_type": "code",
   "execution_count": 21,
   "metadata": {},
   "outputs": [],
   "source": [
    "def get_user(input_user, matrix):\n",
    "    user_id = []\n",
    "    for i in range(len(matrix)):\n",
    "        if matrix[i][0] == input_user:\n",
    "            user_id.append(matrix[i])\n",
    "    user_id = np.array(user_id).reshape(-1,3)\n",
    "    return user_id"
   ]
  },
  {
   "cell_type": "code",
   "execution_count": 22,
   "metadata": {},
   "outputs": [],
   "source": [
    "def pre_dict(input_matrix):\n",
    "    model = load_model('/home/hau/Recommendation/DMF/train_100k.h5')\n",
    "    pre = model.predict([input_matrix[:,0], input_matrix[:,1]])\n",
    "    input_matrix = np.concatenate((input_matrix,pre), axis=1)\n",
    "    return input_matrix"
   ]
  },
  {
   "cell_type": "code",
   "execution_count": 23,
   "metadata": {},
   "outputs": [
    {
     "data": {
      "text/plain": [
       "array([[ 1.        ,  6.        ,  5.        ,  3.72561979],\n",
       "       [ 1.        , 10.        ,  3.        ,  4.13882399],\n",
       "       [ 1.        , 12.        ,  5.        ,  4.66038895],\n",
       "       [ 1.        , 14.        ,  5.        ,  4.11883068],\n",
       "       [ 1.        , 17.        ,  3.        ,  3.29185867],\n",
       "       [ 1.        , 20.        ,  4.        ,  3.72898817],\n",
       "       [ 1.        , 23.        ,  4.        ,  4.3413887 ],\n",
       "       [ 1.        , 24.        ,  3.        ,  3.74914432],\n",
       "       [ 1.        , 27.        ,  2.        ,  3.3182466 ],\n",
       "       [ 1.        , 31.        ,  3.        ,  3.71826053]])"
      ]
     },
     "execution_count": 23,
     "metadata": {},
     "output_type": "execute_result"
    }
   ],
   "source": [
    "pre_dict(input_matrix=get_user(1,data))[:10]"
   ]
  },
  {
   "cell_type": "code",
   "execution_count": 28,
   "metadata": {},
   "outputs": [
    {
     "name": "stdout",
     "output_type": "stream",
     "text": [
      "[[3.7256198]]\n",
      "[[4.1388235]]\n",
      "[[4.660389]]\n",
      "[[4.118831]]\n",
      "[[3.2918587]]\n",
      "[[3.7289884]]\n",
      "[[4.3413897]]\n",
      "[[3.7491443]]\n",
      "[[3.3182466]]\n",
      "[[3.7182605]]\n"
     ]
    }
   ],
   "source": [
    "for i in range(10):\n",
    "    print(model.predict([[data[i][0]],[data[i][1]]]))"
   ]
  },
  {
   "cell_type": "code",
   "execution_count": 13,
   "metadata": {},
   "outputs": [],
   "source": [
    "# history.history['acc']"
   ]
  },
  {
   "cell_type": "code",
   "execution_count": 14,
   "metadata": {},
   "outputs": [],
   "source": [
    "# user_id_input = Input(shape=[1], name='user')\n",
    "# item_id_input = Input(shape=[1], name='item')\n",
    "\n",
    "# user_embedding = Embedding(output_dim=100, input_dim=a.shape[0] + 1,\n",
    "#                                    input_length=1, name='user_embedding')(user_id_input)\n",
    "# item_embedding = Embedding(output_dim=100, input_dim=a.shape[1] + 1,\n",
    "#                                    input_length=1, name='item_embedding')(item_id_input)\n",
    "\n",
    "# # reshape from shape: (batch_size, input_length, embedding_size)\n",
    "# # to shape: (batch_size, input_length * embedding_size) which is\n",
    "# # equal to shape: (batch_size, embedding_size)\n",
    "# user_vecs = Flatten()(user_embedding)\n",
    "# item_vecs = Flatten()(item_embedding)\n",
    "\n",
    "#         # y = merge([user_vecs, item_vecs], mode='dot', output_shape=(1,))\n",
    "# y = dot([user_vecs, item_vecs], axes=1)\n",
    "\n",
    "# y = Dense\n",
    "\n",
    "# model = Model(inputs=[user_id_input, item_id_input], outputs=[y])\n",
    "# model.compile(optimizer='adam', loss='mae',metrics=['accuracy'])"
   ]
  },
  {
   "cell_type": "code",
   "execution_count": 15,
   "metadata": {},
   "outputs": [],
   "source": [
    "# history = model.fit([Users,Movies], Ratings, batch_size=32, epochs = 5, verbose=1)"
   ]
  },
  {
   "cell_type": "code",
   "execution_count": 12,
   "metadata": {},
   "outputs": [],
   "source": [
    "def F_20(data_dim, dim_r_new):\n",
    "    user_id_input = Input(shape=[1], name='user')\n",
    "    item_id_input = Input(shape=[1], name='item')\n",
    "\n",
    "    user_embedding = Embedding(output_dim=20, input_dim=data_dim[0] + 1,\n",
    "                                   input_length=1, name='user_embedding')(user_id_input)\n",
    "    item_embedding = Embedding(output_dim=20, input_dim=data_dim[1] + 1,\n",
    "                                   input_length=1, name='item_embedding')(item_id_input)\n",
    "\n",
    "    user_vecs = (Dense(20))(user_embedding)\n",
    "    item_vecs = (Dense(20))(item_embedding)\n",
    "    for i in range(len(dim_u_new)):\n",
    "        user_vecs = (Dense(dim_u_new[i]))(user_vecs)\n",
    "        user_vecs = (Dropout(0.25))(user_vecs)\n",
    "    for i in range(len(dim_i_new)):\n",
    "        item_vecs = (Dense(dim_i_new[i]))(item_vecs)\n",
    "        item_vecs = (Dropout(0.25))(item_vecs)\n",
    "\n",
    "    # reshape from shape: (batch_size, input_length, embedding_size)\n",
    "    # to shape: (batch_size, input_length * embedding_size) which is\n",
    "    # equal to shape: (batch_size, embedding_size)\n",
    "    \n",
    "\n",
    "    user_vecs = Flatten()(user_embedding)\n",
    "    item_vecs = Flatten()(item_embedding)\n",
    "\n",
    "    \n",
    "    # y = merge([user_vecs, item_vecs], mode='dot', output_shape=(1,))\n",
    "    y = dot([user_vecs, item_vecs], axes=1)\n",
    "    for i in range(len(dim_r_new)):\n",
    "        y = (Dense(dim_r_new[i]))(y)\n",
    "        y = (Dropout(0.25))(y)\n",
    "    # y = Dense(1, activation=\"relu\")(y)\n",
    "    # M = Sequential()\n",
    "    # M.add(y)\n",
    "    y = (Dropout(0.4))(y)\n",
    "    y = (Dense(64))(y)\n",
    "    # y = (Dropout(0.2))(y)\n",
    "    y = (Dense(32))(y)\n",
    "    # y = (Dropout(0.2))(y)\n",
    "    # y = (Dense(16))(y)\n",
    "    # y = (Dropout(0.2))(y)\n",
    "    y = (Dense(4))(y)\n",
    "    y = (Dense(1, activation='relu'))(y)\n",
    "\n",
    "    model = Model(inputs=[user_id_input, item_id_input], outputs=[y])\n",
    "    adam = optimizers.Adam(lr=0.001)\n",
    "    model.compile(optimizer=adam, loss='mae',metrics=['accuracy', 'mae'])\n",
    "    return model"
   ]
  },
  {
   "cell_type": "code",
   "execution_count": 13,
   "metadata": {},
   "outputs": [],
   "source": [
    "dim_u_new = [16,16,32]\n",
    "dim_i_new = [16,16,32,32]\n",
    "dim_r_new = [512,256,128,128]\n",
    "new_m = F_20(data_dim, dim_r_new)"
   ]
  },
  {
   "cell_type": "code",
   "execution_count": 67,
   "metadata": {},
   "outputs": [
    {
     "name": "stdout",
     "output_type": "stream",
     "text": [
      "Train on 80000 samples, validate on 20000 samples\n",
      "Epoch 1/5\n",
      "80000/80000 [==============================] - 15s 188us/step - loss: 0.9457 - acc: 0.3269 - mean_absolute_error: 0.9457 - val_loss: 0.8164 - val_acc: 0.3856 - val_mean_absolute_error: 0.8164\n",
      "Epoch 2/5\n",
      "80000/80000 [==============================] - 12s 149us/step - loss: 0.7400 - acc: 0.4316 - mean_absolute_error: 0.7400 - val_loss: 0.7953 - val_acc: 0.3805 - val_mean_absolute_error: 0.7953\n",
      "Epoch 3/5\n",
      "80000/80000 [==============================] - 13s 166us/step - loss: 0.6640 - acc: 0.4827 - mean_absolute_error: 0.6640 - val_loss: 0.7792 - val_acc: 0.3995 - val_mean_absolute_error: 0.7792\n",
      "Epoch 4/5\n",
      "80000/80000 [==============================] - 13s 162us/step - loss: 0.6210 - acc: 0.5188 - mean_absolute_error: 0.6210 - val_loss: 0.8210 - val_acc: 0.3817 - val_mean_absolute_error: 0.8210\n",
      "Epoch 5/5\n",
      "80000/80000 [==============================] - 12s 151us/step - loss: 0.5949 - acc: 0.5397 - mean_absolute_error: 0.5949 - val_loss: 0.8215 - val_acc: 0.3861 - val_mean_absolute_error: 0.8215\n"
     ]
    }
   ],
   "source": [
    "his = new_m.fit([u_train,i_train], r_train,validation_data=([u_test,i_test], r_test), batch_size=64, epochs = 5, verbose=1)"
   ]
  },
  {
   "cell_type": "code",
   "execution_count": 14,
   "metadata": {},
   "outputs": [
    {
     "name": "stdout",
     "output_type": "stream",
     "text": [
      "__________________________________________________________________________________________________\n",
      "Layer (type)                    Output Shape         Param #     Connected to                     \n",
      "==================================================================================================\n",
      "user (InputLayer)               (None, 1)            0                                            \n",
      "__________________________________________________________________________________________________\n",
      "item (InputLayer)               (None, 1)            0                                            \n",
      "__________________________________________________________________________________________________\n",
      "user_embedding (Embedding)      (None, 1, 20)        18880       user[0][0]                       \n",
      "__________________________________________________________________________________________________\n",
      "item_embedding (Embedding)      (None, 1, 20)        33660       item[0][0]                       \n",
      "__________________________________________________________________________________________________\n",
      "flatten_1 (Flatten)             (None, 20)           0           user_embedding[0][0]             \n",
      "__________________________________________________________________________________________________\n",
      "flatten_2 (Flatten)             (None, 20)           0           item_embedding[0][0]             \n",
      "__________________________________________________________________________________________________\n",
      "dot_1 (Dot)                     (None, 1)            0           flatten_1[0][0]                  \n",
      "                                                                 flatten_2[0][0]                  \n",
      "__________________________________________________________________________________________________\n",
      "dense_10 (Dense)                (None, 512)          1024        dot_1[0][0]                      \n",
      "__________________________________________________________________________________________________\n",
      "dropout_8 (Dropout)             (None, 512)          0           dense_10[0][0]                   \n",
      "__________________________________________________________________________________________________\n",
      "dense_11 (Dense)                (None, 256)          131328      dropout_8[0][0]                  \n",
      "__________________________________________________________________________________________________\n",
      "dropout_9 (Dropout)             (None, 256)          0           dense_11[0][0]                   \n",
      "__________________________________________________________________________________________________\n",
      "dense_12 (Dense)                (None, 128)          32896       dropout_9[0][0]                  \n",
      "__________________________________________________________________________________________________\n",
      "dropout_10 (Dropout)            (None, 128)          0           dense_12[0][0]                   \n",
      "__________________________________________________________________________________________________\n",
      "dense_13 (Dense)                (None, 128)          16512       dropout_10[0][0]                 \n",
      "__________________________________________________________________________________________________\n",
      "dropout_11 (Dropout)            (None, 128)          0           dense_13[0][0]                   \n",
      "__________________________________________________________________________________________________\n",
      "dropout_12 (Dropout)            (None, 128)          0           dropout_11[0][0]                 \n",
      "__________________________________________________________________________________________________\n",
      "dense_14 (Dense)                (None, 64)           8256        dropout_12[0][0]                 \n",
      "__________________________________________________________________________________________________\n",
      "dense_15 (Dense)                (None, 32)           2080        dense_14[0][0]                   \n",
      "__________________________________________________________________________________________________\n",
      "dense_16 (Dense)                (None, 4)            132         dense_15[0][0]                   \n",
      "__________________________________________________________________________________________________\n",
      "dense_17 (Dense)                (None, 1)            5           dense_16[0][0]                   \n",
      "==================================================================================================\n",
      "Total params: 244,773\n",
      "Trainable params: 244,773\n",
      "Non-trainable params: 0\n",
      "__________________________________________________________________________________________________\n"
     ]
    }
   ],
   "source": [
    "new_m.summary()"
   ]
  },
  {
   "cell_type": "code",
   "execution_count": 15,
   "metadata": {},
   "outputs": [],
   "source": [
    "from IPython.display import SVG\n",
    "from keras.utils.vis_utils import model_to_dot"
   ]
  },
  {
   "cell_type": "code",
   "execution_count": null,
   "metadata": {},
   "outputs": [],
   "source": []
  }
 ],
 "metadata": {
  "kernelspec": {
   "display_name": "Python 3",
   "language": "python",
   "name": "python3"
  },
  "language_info": {
   "codemirror_mode": {
    "name": "ipython",
    "version": 3
   },
   "file_extension": ".py",
   "mimetype": "text/x-python",
   "name": "python",
   "nbconvert_exporter": "python",
   "pygments_lexer": "ipython3",
   "version": "3.6.5"
  }
 },
 "nbformat": 4,
 "nbformat_minor": 2
}
