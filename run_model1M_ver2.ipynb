{
  "nbformat": 4,
  "nbformat_minor": 0,
  "metadata": {
    "colab": {
      "name": "run_model.ipynb",
      "version": "0.3.2",
      "provenance": []
    },
    "kernelspec": {
      "name": "python3",
      "display_name": "Python 3"
    },
    "accelerator": "GPU"
  },
  "cells": [
    {
      "metadata": {
        "id": "MHOJF4Czy2Jn",
        "colab_type": "code",
        "outputId": "a33c2a4a-517d-4b9b-ed52-97fe661cb8fa",
        "colab": {
          "base_uri": "https://localhost:8080/",
          "height": 34
        }
      },
      "cell_type": "code",
      "source": [
        "!ls"
      ],
      "execution_count": 1,
      "outputs": [
        {
          "output_type": "stream",
          "text": [
            "ratings.dat  sample_data\n"
          ],
          "name": "stdout"
        }
      ]
    },
    {
      "metadata": {
        "id": "DgLOEeR8w1dA",
        "colab_type": "code",
        "colab": {}
      },
      "cell_type": "code",
      "source": [
        "filepath = 'ratings.dat'\n",
        "# a = DataSet(filepath)"
      ],
      "execution_count": 0,
      "outputs": []
    },
    {
      "metadata": {
        "id": "TTfTEZl0w1dJ",
        "colab_type": "code",
        "colab": {}
      },
      "cell_type": "code",
      "source": [
        "import numpy as np\n",
        "import pandas as pd\n"
      ],
      "execution_count": 0,
      "outputs": []
    },
    {
      "metadata": {
        "id": "Iom03pJmw1dP",
        "colab_type": "code",
        "outputId": "76a79b73-3087-46c6-cb0c-2b7dbd6e0e13",
        "colab": {
          "base_uri": "https://localhost:8080/",
          "height": 71
        }
      },
      "cell_type": "code",
      "source": [
        "# filename = './Data/ml-1m/u.data'\n",
        "name = ['user', 'item', 'ratings', 'time']\n",
        "df1 = pd.read_csv('ratings.dat', sep='::', names = name)\n",
        "df1 = df1.drop(columns=['time'])"
      ],
      "execution_count": 4,
      "outputs": [
        {
          "output_type": "stream",
          "text": [
            "/usr/local/lib/python3.6/dist-packages/ipykernel_launcher.py:2: ParserWarning: Falling back to the 'python' engine because the 'c' engine does not support regex separators (separators > 1 char and different from '\\s+' are interpreted as regex); you can avoid this warning by specifying engine='python'.\n",
            "  \n"
          ],
          "name": "stderr"
        }
      ]
    },
    {
      "metadata": {
        "id": "JV7Jc13kw1dT",
        "colab_type": "code",
        "colab": {}
      },
      "cell_type": "code",
      "source": [
        "data_dim = len(df1.user.unique()), len(df1.item.unique())"
      ],
      "execution_count": 0,
      "outputs": []
    },
    {
      "metadata": {
        "id": "cg93D7srw1dW",
        "colab_type": "code",
        "outputId": "69a8db7e-9c63-4f93-af95-ae31b0b4d6b7",
        "colab": {
          "base_uri": "https://localhost:8080/",
          "height": 34
        }
      },
      "cell_type": "code",
      "source": [
        "data_dim[0]"
      ],
      "execution_count": 6,
      "outputs": [
        {
          "output_type": "execute_result",
          "data": {
            "text/plain": [
              "6040"
            ]
          },
          "metadata": {
            "tags": []
          },
          "execution_count": 6
        }
      ]
    },
    {
      "metadata": {
        "id": "N5eiVP68w1da",
        "colab_type": "code",
        "colab": {}
      },
      "cell_type": "code",
      "source": [
        "from sklearn.model_selection import train_test_split"
      ],
      "execution_count": 0,
      "outputs": []
    },
    {
      "metadata": {
        "id": "V2xM2alzw1dd",
        "colab_type": "code",
        "colab": {}
      },
      "cell_type": "code",
      "source": [
        "data = np.array(df1)\n",
        "train, test = train_test_split(data, test_size=0.2)"
      ],
      "execution_count": 0,
      "outputs": []
    },
    {
      "metadata": {
        "id": "_2JGflFow1de",
        "colab_type": "code",
        "colab": {}
      },
      "cell_type": "code",
      "source": [
        "u_train = train[:,0]\n",
        "i_train = train[:,1]\n",
        "r_train = train[:,2]\n",
        "u_test = test[:,0]\n",
        "i_test = test[:,1]\n",
        "r_test = test[:,2]"
      ],
      "execution_count": 0,
      "outputs": []
    },
    {
      "metadata": {
        "id": "aDVU9T7WPDHd",
        "colab_type": "code",
        "colab": {}
      },
      "cell_type": "code",
      "source": [
        "# r_train = r_train/5\n",
        "# r_test = r_test/5"
      ],
      "execution_count": 0,
      "outputs": []
    },
    {
      "metadata": {
        "id": "qUSbF6n9w1dk",
        "colab_type": "code",
        "outputId": "b1607873-4bb2-41ca-ca0b-30fa3ef95650",
        "colab": {
          "base_uri": "https://localhost:8080/",
          "height": 34
        }
      },
      "cell_type": "code",
      "source": [
        "from keras.models import Model\n",
        "from keras.callbacks import ModelCheckpoint\n",
        "from keras.layers import dot, concatenate, Embedding, Input, Flatten, Dropout, Dense\n",
        "from keras.models import Sequential\n",
        "from keras import optimizers\n",
        "from keras.layers.normalization import BatchNormalization"
      ],
      "execution_count": 11,
      "outputs": [
        {
          "output_type": "stream",
          "text": [
            "Using TensorFlow backend.\n"
          ],
          "name": "stderr"
        }
      ]
    },
    {
      "metadata": {
        "id": "x6OeRT2Aw1dn",
        "colab_type": "code",
        "colab": {}
      },
      "cell_type": "code",
      "source": [
        "len_dim_i = [128,256,512]\n",
        "len_dim_u = [128,256,512]\n",
        "len_dim_r = [600,300]"
      ],
      "execution_count": 0,
      "outputs": []
    },
    {
      "metadata": {
        "id": "sQeQVpkyw1dq",
        "colab_type": "code",
        "colab": {}
      },
      "cell_type": "code",
      "source": [
        "user_id_input = Input(shape=[1], name='user')\n",
        "item_id_input = Input(shape=[1], name='item')\n",
        "\n",
        "user_embedding = Embedding(output_dim=10, input_dim=data_dim[0] + 1,\n",
        "                                   input_length=1, name='user_embedding')(user_id_input)\n",
        "item_embedding = Embedding(output_dim=10, input_dim=data_dim[1] + 1,\n",
        "                                   input_length=1, name='item_embedding')(item_id_input)\n",
        "\n",
        "# reshape from shape: (batch_size, input_length, embedding_size)\n",
        "# to shape: (batch_size, input_length * embedding_size) which is\n",
        "# equal to shape: (batch_size, embedding_size)\n",
        "\n",
        "user_vecs = (Dense(300))(user_embedding)\n",
        "item_vecs = (Dense(300))(item_embedding)\n",
        "user_vecs = (Dense(600))(user_embedding)\n",
        "item_vecs = (Dense(600))(item_embedding)\n",
        "# for i in range(len(len_dim_u)):\n",
        "#     user_vecs = (Dense(len_dim_u[i], activation=\"relu\"))(user_vecs)\n",
        "# #     user_vecs = (Dropout(0.1))(user_vecs)\n",
        "# for i in range(len(len_dim_i)):\n",
        "#     item_vecs = (Dense(len_dim_i[i], activation=\"relu\"))(item_vecs)\n",
        "#     item_vecs = (Dropout(0.1))(item_vecs)\n",
        "user_vecs = Flatten()(user_embedding)\n",
        "item_vecs = Flatten()(item_embedding)\n",
        "\n",
        "    \n",
        "# y = merge([user_vecs, item_vecs], mode='dot', output_shape=(1,))\n",
        "y = concatenate([user_vecs, item_vecs])\n",
        "for i in range(len(len_dim_r)):\n",
        "    y = (Dense(len_dim_r[i], activation=\"relu\"))(y)\n",
        "    y = (BatchNormalization())(y)\n",
        "    y = (Dropout(0.2))(y)\n",
        "# y = Dense(1, activation=\"relu\")(y)\n",
        "# M = Sequential()\n",
        "# M.add(y)\n",
        "# y = (Dropout(0.25))(y)\n",
        "# y = (Dense(64))(y)\n",
        "# y = (Dropout(0.2))(y)\n",
        "# y = (Dense(32))(y)\n",
        "# y = (Dropout(0.25))(y)\n",
        "# y = (Dense(16))(y)\n",
        "# y = (Dropout(0.1))(y)\n",
        "# y = (Dense(4))(y)\n",
        "# y = (Dropout(0.2))(y)\n",
        "y = (Dense(1, activation='relu'))(y)\n",
        "\n",
        "model = Model(inputs=[user_id_input, item_id_input], outputs=[y])\n",
        "adam = optimizers.Adam(lr=0.0001)\n",
        "model.compile(optimizer=adam, loss='mse',metrics=['accuracy'])"
      ],
      "execution_count": 0,
      "outputs": []
    },
    {
      "metadata": {
        "id": "6sJSbOMKw1ds",
        "colab_type": "code",
        "outputId": "42f4a0cc-fd19-490b-850e-51ba8fa48192",
        "colab": {
          "base_uri": "https://localhost:8080/",
          "height": 1754
        }
      },
      "cell_type": "code",
      "source": [
        "history = model.fit([u_train,i_train], r_train,validation_data=([u_test,i_test], r_test), batch_size=512, epochs = 50, verbose=1)"
      ],
      "execution_count": 14,
      "outputs": [
        {
          "output_type": "stream",
          "text": [
            "Train on 800167 samples, validate on 200042 samples\n",
            "Epoch 1/50\n",
            "800167/800167 [==============================] - 21s 26us/step - loss: 4.1559 - acc: 0.2452 - val_loss: 3.2468 - val_acc: 0.2931\n",
            "Epoch 2/50\n",
            "800167/800167 [==============================] - 19s 24us/step - loss: 3.1914 - acc: 0.3076 - val_loss: 2.8831 - val_acc: 0.3378\n",
            "Epoch 3/50\n",
            "800167/800167 [==============================] - 19s 24us/step - loss: 2.8232 - acc: 0.3357 - val_loss: 2.4557 - val_acc: 0.3599\n",
            "Epoch 4/50\n",
            "800167/800167 [==============================] - 19s 24us/step - loss: 1.9264 - acc: 0.3610 - val_loss: 1.5458 - val_acc: 0.3853\n",
            "Epoch 5/50\n",
            "800167/800167 [==============================] - 19s 24us/step - loss: 1.4874 - acc: 0.3774 - val_loss: 1.1206 - val_acc: 0.3966\n",
            "Epoch 6/50\n",
            "800167/800167 [==============================] - 19s 24us/step - loss: 1.1225 - acc: 0.3891 - val_loss: 1.0033 - val_acc: 0.3956\n",
            "Epoch 7/50\n",
            "800167/800167 [==============================] - 19s 24us/step - loss: 0.9937 - acc: 0.3994 - val_loss: 0.9111 - val_acc: 0.4162\n",
            "Epoch 8/50\n",
            "800167/800167 [==============================] - 19s 24us/step - loss: 0.9184 - acc: 0.4115 - val_loss: 0.9031 - val_acc: 0.4137\n",
            "Epoch 9/50\n",
            "800167/800167 [==============================] - 19s 24us/step - loss: 0.9059 - acc: 0.4152 - val_loss: 0.8995 - val_acc: 0.4140\n",
            "Epoch 10/50\n",
            "800167/800167 [==============================] - 19s 24us/step - loss: 0.8953 - acc: 0.4180 - val_loss: 0.8944 - val_acc: 0.4203\n",
            "Epoch 11/50\n",
            "800167/800167 [==============================] - 19s 24us/step - loss: 0.8850 - acc: 0.4209 - val_loss: 0.8915 - val_acc: 0.4195\n",
            "Epoch 12/50\n",
            "800167/800167 [==============================] - 19s 24us/step - loss: 0.8779 - acc: 0.4228 - val_loss: 0.8898 - val_acc: 0.4236\n",
            "Epoch 13/50\n",
            "800167/800167 [==============================] - 20s 24us/step - loss: 0.8741 - acc: 0.4246 - val_loss: 0.8870 - val_acc: 0.4257\n",
            "Epoch 14/50\n",
            "800167/800167 [==============================] - 20s 24us/step - loss: 0.8666 - acc: 0.4262 - val_loss: 0.8858 - val_acc: 0.4237\n",
            "Epoch 15/50\n",
            "800167/800167 [==============================] - 20s 24us/step - loss: 0.8600 - acc: 0.4284 - val_loss: 0.8803 - val_acc: 0.4238\n",
            "Epoch 16/50\n",
            "800167/800167 [==============================] - 20s 24us/step - loss: 0.8547 - acc: 0.4296 - val_loss: 0.8806 - val_acc: 0.4266\n",
            "Epoch 17/50\n",
            "800167/800167 [==============================] - 19s 24us/step - loss: 0.8496 - acc: 0.4317 - val_loss: 0.8802 - val_acc: 0.4272\n",
            "Epoch 18/50\n",
            "800167/800167 [==============================] - 20s 24us/step - loss: 0.8415 - acc: 0.4332 - val_loss: 0.8782 - val_acc: 0.4252\n",
            "Epoch 19/50\n",
            "800167/800167 [==============================] - 20s 24us/step - loss: 0.8351 - acc: 0.4355 - val_loss: 0.8628 - val_acc: 0.4269\n",
            "Epoch 20/50\n",
            "800167/800167 [==============================] - 19s 24us/step - loss: 0.8285 - acc: 0.4358 - val_loss: 0.8325 - val_acc: 0.4275\n",
            "Epoch 21/50\n",
            "800167/800167 [==============================] - 20s 24us/step - loss: 0.8174 - acc: 0.4376 - val_loss: 0.8098 - val_acc: 0.4322\n",
            "Epoch 22/50\n",
            "800167/800167 [==============================] - 20s 24us/step - loss: 0.7692 - acc: 0.4398 - val_loss: 0.8047 - val_acc: 0.4333\n",
            "Epoch 23/50\n",
            "800167/800167 [==============================] - 20s 24us/step - loss: 0.7629 - acc: 0.4417 - val_loss: 0.8038 - val_acc: 0.4304\n",
            "Epoch 24/50\n",
            "800167/800167 [==============================] - 20s 24us/step - loss: 0.7584 - acc: 0.4428 - val_loss: 0.8029 - val_acc: 0.4302\n",
            "Epoch 25/50\n",
            "800167/800167 [==============================] - 20s 25us/step - loss: 0.7546 - acc: 0.4441 - val_loss: 0.8032 - val_acc: 0.4353\n",
            "Epoch 26/50\n",
            "800167/800167 [==============================] - 20s 25us/step - loss: 0.7499 - acc: 0.4461 - val_loss: 0.8021 - val_acc: 0.4305\n",
            "Epoch 27/50\n",
            "800167/800167 [==============================] - 20s 25us/step - loss: 0.7459 - acc: 0.4475 - val_loss: 0.8014 - val_acc: 0.4364\n",
            "Epoch 28/50\n",
            "800167/800167 [==============================] - 20s 25us/step - loss: 0.7422 - acc: 0.4482 - val_loss: 0.8022 - val_acc: 0.4331\n",
            "Epoch 29/50\n",
            "800167/800167 [==============================] - 20s 25us/step - loss: 0.7381 - acc: 0.4494 - val_loss: 0.8022 - val_acc: 0.4327\n",
            "Epoch 30/50\n",
            "800167/800167 [==============================] - 20s 24us/step - loss: 0.7344 - acc: 0.4501 - val_loss: 0.8023 - val_acc: 0.4334\n",
            "Epoch 31/50\n",
            "800167/800167 [==============================] - 20s 25us/step - loss: 0.7314 - acc: 0.4519 - val_loss: 0.8025 - val_acc: 0.4364\n",
            "Epoch 32/50\n",
            "800167/800167 [==============================] - 20s 25us/step - loss: 0.7276 - acc: 0.4526 - val_loss: 0.8036 - val_acc: 0.4374\n",
            "Epoch 33/50\n",
            "800167/800167 [==============================] - 20s 25us/step - loss: 0.7251 - acc: 0.4533 - val_loss: 0.8019 - val_acc: 0.4358\n",
            "Epoch 34/50\n",
            "800167/800167 [==============================] - 20s 25us/step - loss: 0.7214 - acc: 0.4542 - val_loss: 0.8039 - val_acc: 0.4332\n",
            "Epoch 35/50\n",
            "800167/800167 [==============================] - 20s 24us/step - loss: 0.7189 - acc: 0.4558 - val_loss: 0.8028 - val_acc: 0.4335\n",
            "Epoch 36/50\n",
            "800167/800167 [==============================] - 20s 24us/step - loss: 0.7160 - acc: 0.4563 - val_loss: 0.8059 - val_acc: 0.4346\n",
            "Epoch 37/50\n",
            "800167/800167 [==============================] - 20s 25us/step - loss: 0.7132 - acc: 0.4573 - val_loss: 0.8048 - val_acc: 0.4395\n",
            "Epoch 38/50\n",
            "800167/800167 [==============================] - 20s 25us/step - loss: 0.7101 - acc: 0.4585 - val_loss: 0.8042 - val_acc: 0.4330\n",
            "Epoch 39/50\n",
            "800167/800167 [==============================] - 20s 25us/step - loss: 0.7076 - acc: 0.4588 - val_loss: 0.8069 - val_acc: 0.4326\n",
            "Epoch 40/50\n",
            "800167/800167 [==============================] - 20s 25us/step - loss: 0.7052 - acc: 0.4597 - val_loss: 0.8044 - val_acc: 0.4356\n",
            "Epoch 41/50\n",
            "800167/800167 [==============================] - 20s 25us/step - loss: 0.7029 - acc: 0.4603 - val_loss: 0.8076 - val_acc: 0.4351\n",
            "Epoch 42/50\n",
            "800167/800167 [==============================] - 20s 25us/step - loss: 0.7003 - acc: 0.4612 - val_loss: 0.8060 - val_acc: 0.4368\n",
            "Epoch 43/50\n",
            "800167/800167 [==============================] - 20s 25us/step - loss: 0.6982 - acc: 0.4622 - val_loss: 0.8081 - val_acc: 0.4317\n",
            "Epoch 44/50\n",
            "800167/800167 [==============================] - 20s 25us/step - loss: 0.6961 - acc: 0.4623 - val_loss: 0.8060 - val_acc: 0.4356\n",
            "Epoch 45/50\n",
            "800167/800167 [==============================] - 20s 25us/step - loss: 0.6940 - acc: 0.4634 - val_loss: 0.8073 - val_acc: 0.4363\n",
            "Epoch 46/50\n",
            "800167/800167 [==============================] - 20s 25us/step - loss: 0.6919 - acc: 0.4636 - val_loss: 0.8114 - val_acc: 0.4365\n",
            "Epoch 47/50\n",
            "800167/800167 [==============================] - 20s 25us/step - loss: 0.6902 - acc: 0.4647 - val_loss: 0.8068 - val_acc: 0.4370\n",
            "Epoch 48/50\n",
            "800167/800167 [==============================] - 20s 25us/step - loss: 0.6883 - acc: 0.4646 - val_loss: 0.8075 - val_acc: 0.4366\n",
            "Epoch 49/50\n",
            "800167/800167 [==============================] - 20s 25us/step - loss: 0.6865 - acc: 0.4661 - val_loss: 0.8089 - val_acc: 0.4328\n",
            "Epoch 50/50\n",
            "800167/800167 [==============================] - 20s 25us/step - loss: 0.6850 - acc: 0.4665 - val_loss: 0.8092 - val_acc: 0.4335\n"
          ],
          "name": "stdout"
        }
      ]
    },
    {
      "metadata": {
        "id": "xORnKUt_DfS-",
        "colab_type": "code",
        "colab": {}
      },
      "cell_type": "code",
      "source": [
        ""
      ],
      "execution_count": 0,
      "outputs": []
    },
    {
      "metadata": {
        "id": "as1sPp3g2W0O",
        "colab_type": "code",
        "colab": {}
      },
      "cell_type": "code",
      "source": [
        ""
      ],
      "execution_count": 0,
      "outputs": []
    },
    {
      "metadata": {
        "id": "NX6e6rhM2Wq7",
        "colab_type": "text"
      },
      "cell_type": "markdown",
      "source": [
        ""
      ]
    },
    {
      "metadata": {
        "id": "ASRFXuC1w1dx",
        "colab_type": "code",
        "outputId": "6af57694-9b11-498f-9ce7-ab252a9213b2",
        "colab": {
          "base_uri": "https://localhost:8080/",
          "height": 629
        }
      },
      "cell_type": "code",
      "source": [
        "model.summary()"
      ],
      "execution_count": 15,
      "outputs": [
        {
          "output_type": "stream",
          "text": [
            "__________________________________________________________________________________________________\n",
            "Layer (type)                    Output Shape         Param #     Connected to                     \n",
            "==================================================================================================\n",
            "user (InputLayer)               (None, 1)            0                                            \n",
            "__________________________________________________________________________________________________\n",
            "item (InputLayer)               (None, 1)            0                                            \n",
            "__________________________________________________________________________________________________\n",
            "user_embedding (Embedding)      (None, 1, 10)        60410       user[0][0]                       \n",
            "__________________________________________________________________________________________________\n",
            "item_embedding (Embedding)      (None, 1, 10)        37070       item[0][0]                       \n",
            "__________________________________________________________________________________________________\n",
            "flatten_1 (Flatten)             (None, 10)           0           user_embedding[0][0]             \n",
            "__________________________________________________________________________________________________\n",
            "flatten_2 (Flatten)             (None, 10)           0           item_embedding[0][0]             \n",
            "__________________________________________________________________________________________________\n",
            "concatenate_1 (Concatenate)     (None, 20)           0           flatten_1[0][0]                  \n",
            "                                                                 flatten_2[0][0]                  \n",
            "__________________________________________________________________________________________________\n",
            "dense_5 (Dense)                 (None, 600)          12600       concatenate_1[0][0]              \n",
            "__________________________________________________________________________________________________\n",
            "batch_normalization_1 (BatchNor (None, 600)          2400        dense_5[0][0]                    \n",
            "__________________________________________________________________________________________________\n",
            "dropout_1 (Dropout)             (None, 600)          0           batch_normalization_1[0][0]      \n",
            "__________________________________________________________________________________________________\n",
            "dense_6 (Dense)                 (None, 300)          180300      dropout_1[0][0]                  \n",
            "__________________________________________________________________________________________________\n",
            "batch_normalization_2 (BatchNor (None, 300)          1200        dense_6[0][0]                    \n",
            "__________________________________________________________________________________________________\n",
            "dropout_2 (Dropout)             (None, 300)          0           batch_normalization_2[0][0]      \n",
            "__________________________________________________________________________________________________\n",
            "dense_7 (Dense)                 (None, 1)            301         dropout_2[0][0]                  \n",
            "==================================================================================================\n",
            "Total params: 294,281\n",
            "Trainable params: 292,481\n",
            "Non-trainable params: 1,800\n",
            "__________________________________________________________________________________________________\n"
          ],
          "name": "stdout"
        }
      ]
    },
    {
      "metadata": {
        "id": "s7ZRKXj-cNVD",
        "colab_type": "code",
        "colab": {}
      },
      "cell_type": "code",
      "source": [
        "from IPython.display import SVG\n",
        "from keras.utils.vis_utils import model_to_dot"
      ],
      "execution_count": 0,
      "outputs": []
    },
    {
      "metadata": {
        "id": "nM-eF8ylcRc5",
        "colab_type": "code",
        "colab": {
          "base_uri": "https://localhost:8080/",
          "height": 1221
        },
        "outputId": "4beb68a7-d0cf-42d5-a814-a7d47f3b378c"
      },
      "cell_type": "code",
      "source": [
        "SVG(model_to_dot(model,  show_shapes=True, show_layer_names=True, rankdir='HB').create(prog='dot', format='svg'))"
      ],
      "execution_count": 17,
      "outputs": [
        {
          "output_type": "execute_result",
          "data": {
            "text/plain": [
              "<IPython.core.display.SVG object>"
            ],
            "image/svg+xml": "<svg height=\"885pt\" viewBox=\"0.00 0.00 707.50 885.00\" width=\"708pt\" xmlns=\"http://www.w3.org/2000/svg\" xmlns:xlink=\"http://www.w3.org/1999/xlink\">\n<g class=\"graph\" id=\"graph0\" transform=\"scale(1 1) rotate(0) translate(4 881)\">\n<title>G</title>\n<polygon fill=\"#ffffff\" points=\"-4,4 -4,-881 703.5,-881 703.5,4 -4,4\" stroke=\"transparent\"/>\n<!-- 140438422460008 -->\n<g class=\"node\" id=\"node1\">\n<title>140438422460008</title>\n<polygon fill=\"none\" points=\"49.5,-830.5 49.5,-876.5 290.5,-876.5 290.5,-830.5 49.5,-830.5\" stroke=\"#000000\"/>\n<text fill=\"#000000\" font-family=\"Times,serif\" font-size=\"14.00\" text-anchor=\"middle\" x=\"105\" y=\"-849.8\">user: InputLayer</text>\n<polyline fill=\"none\" points=\"160.5,-830.5 160.5,-876.5 \" stroke=\"#000000\"/>\n<text fill=\"#000000\" font-family=\"Times,serif\" font-size=\"14.00\" text-anchor=\"middle\" x=\"189.5\" y=\"-861.3\">input:</text>\n<polyline fill=\"none\" points=\"160.5,-853.5 218.5,-853.5 \" stroke=\"#000000\"/>\n<text fill=\"#000000\" font-family=\"Times,serif\" font-size=\"14.00\" text-anchor=\"middle\" x=\"189.5\" y=\"-838.3\">output:</text>\n<polyline fill=\"none\" points=\"218.5,-830.5 218.5,-876.5 \" stroke=\"#000000\"/>\n<text fill=\"#000000\" font-family=\"Times,serif\" font-size=\"14.00\" text-anchor=\"middle\" x=\"254.5\" y=\"-861.3\">(None, 1)</text>\n<polyline fill=\"none\" points=\"218.5,-853.5 290.5,-853.5 \" stroke=\"#000000\"/>\n<text fill=\"#000000\" font-family=\"Times,serif\" font-size=\"14.00\" text-anchor=\"middle\" x=\"254.5\" y=\"-838.3\">(None, 1)</text>\n</g>\n<!-- 140438422460736 -->\n<g class=\"node\" id=\"node3\">\n<title>140438422460736</title>\n<polygon fill=\"none\" points=\"0,-747.5 0,-793.5 340,-793.5 340,-747.5 0,-747.5\" stroke=\"#000000\"/>\n<text fill=\"#000000\" font-family=\"Times,serif\" font-size=\"14.00\" text-anchor=\"middle\" x=\"93.5\" y=\"-766.8\">user_embedding: Embedding</text>\n<polyline fill=\"none\" points=\"187,-747.5 187,-793.5 \" stroke=\"#000000\"/>\n<text fill=\"#000000\" font-family=\"Times,serif\" font-size=\"14.00\" text-anchor=\"middle\" x=\"216\" y=\"-778.3\">input:</text>\n<polyline fill=\"none\" points=\"187,-770.5 245,-770.5 \" stroke=\"#000000\"/>\n<text fill=\"#000000\" font-family=\"Times,serif\" font-size=\"14.00\" text-anchor=\"middle\" x=\"216\" y=\"-755.3\">output:</text>\n<polyline fill=\"none\" points=\"245,-747.5 245,-793.5 \" stroke=\"#000000\"/>\n<text fill=\"#000000\" font-family=\"Times,serif\" font-size=\"14.00\" text-anchor=\"middle\" x=\"292.5\" y=\"-778.3\">(None, 1)</text>\n<polyline fill=\"none\" points=\"245,-770.5 340,-770.5 \" stroke=\"#000000\"/>\n<text fill=\"#000000\" font-family=\"Times,serif\" font-size=\"14.00\" text-anchor=\"middle\" x=\"292.5\" y=\"-755.3\">(None, 1, 10)</text>\n</g>\n<!-- 140438422460008&#45;&gt;140438422460736 -->\n<g class=\"edge\" id=\"edge1\">\n<title>140438422460008-&gt;140438422460736</title>\n<path d=\"M170,-830.3799C170,-822.1745 170,-812.7679 170,-803.8786\" fill=\"none\" stroke=\"#000000\"/>\n<polygon fill=\"#000000\" points=\"173.5001,-803.784 170,-793.784 166.5001,-803.784 173.5001,-803.784\" stroke=\"#000000\"/>\n</g>\n<!-- 140438422460120 -->\n<g class=\"node\" id=\"node2\">\n<title>140438422460120</title>\n<polygon fill=\"none\" points=\"407.5,-830.5 407.5,-876.5 650.5,-876.5 650.5,-830.5 407.5,-830.5\" stroke=\"#000000\"/>\n<text fill=\"#000000\" font-family=\"Times,serif\" font-size=\"14.00\" text-anchor=\"middle\" x=\"464\" y=\"-849.8\">item: InputLayer</text>\n<polyline fill=\"none\" points=\"520.5,-830.5 520.5,-876.5 \" stroke=\"#000000\"/>\n<text fill=\"#000000\" font-family=\"Times,serif\" font-size=\"14.00\" text-anchor=\"middle\" x=\"549.5\" y=\"-861.3\">input:</text>\n<polyline fill=\"none\" points=\"520.5,-853.5 578.5,-853.5 \" stroke=\"#000000\"/>\n<text fill=\"#000000\" font-family=\"Times,serif\" font-size=\"14.00\" text-anchor=\"middle\" x=\"549.5\" y=\"-838.3\">output:</text>\n<polyline fill=\"none\" points=\"578.5,-830.5 578.5,-876.5 \" stroke=\"#000000\"/>\n<text fill=\"#000000\" font-family=\"Times,serif\" font-size=\"14.00\" text-anchor=\"middle\" x=\"614.5\" y=\"-861.3\">(None, 1)</text>\n<polyline fill=\"none\" points=\"578.5,-853.5 650.5,-853.5 \" stroke=\"#000000\"/>\n<text fill=\"#000000\" font-family=\"Times,serif\" font-size=\"14.00\" text-anchor=\"middle\" x=\"614.5\" y=\"-838.3\">(None, 1)</text>\n</g>\n<!-- 140438422460848 -->\n<g class=\"node\" id=\"node4\">\n<title>140438422460848</title>\n<polygon fill=\"none\" points=\"358.5,-747.5 358.5,-793.5 699.5,-793.5 699.5,-747.5 358.5,-747.5\" stroke=\"#000000\"/>\n<text fill=\"#000000\" font-family=\"Times,serif\" font-size=\"14.00\" text-anchor=\"middle\" x=\"452.5\" y=\"-766.8\">item_embedding: Embedding</text>\n<polyline fill=\"none\" points=\"546.5,-747.5 546.5,-793.5 \" stroke=\"#000000\"/>\n<text fill=\"#000000\" font-family=\"Times,serif\" font-size=\"14.00\" text-anchor=\"middle\" x=\"575.5\" y=\"-778.3\">input:</text>\n<polyline fill=\"none\" points=\"546.5,-770.5 604.5,-770.5 \" stroke=\"#000000\"/>\n<text fill=\"#000000\" font-family=\"Times,serif\" font-size=\"14.00\" text-anchor=\"middle\" x=\"575.5\" y=\"-755.3\">output:</text>\n<polyline fill=\"none\" points=\"604.5,-747.5 604.5,-793.5 \" stroke=\"#000000\"/>\n<text fill=\"#000000\" font-family=\"Times,serif\" font-size=\"14.00\" text-anchor=\"middle\" x=\"652\" y=\"-778.3\">(None, 1)</text>\n<polyline fill=\"none\" points=\"604.5,-770.5 699.5,-770.5 \" stroke=\"#000000\"/>\n<text fill=\"#000000\" font-family=\"Times,serif\" font-size=\"14.00\" text-anchor=\"middle\" x=\"652\" y=\"-755.3\">(None, 1, 10)</text>\n</g>\n<!-- 140438422460120&#45;&gt;140438422460848 -->\n<g class=\"edge\" id=\"edge2\">\n<title>140438422460120-&gt;140438422460848</title>\n<path d=\"M529,-830.3799C529,-822.1745 529,-812.7679 529,-803.8786\" fill=\"none\" stroke=\"#000000\"/>\n<polygon fill=\"#000000\" points=\"532.5001,-803.784 529,-793.784 525.5001,-803.784 532.5001,-803.784\" stroke=\"#000000\"/>\n</g>\n<!-- 140438413634080 -->\n<g class=\"node\" id=\"node5\">\n<title>140438413634080</title>\n<polygon fill=\"none\" points=\"74,-664.5 74,-710.5 340,-710.5 340,-664.5 74,-664.5\" stroke=\"#000000\"/>\n<text fill=\"#000000\" font-family=\"Times,serif\" font-size=\"14.00\" text-anchor=\"middle\" x=\"130.5\" y=\"-683.8\">flatten_1: Flatten</text>\n<polyline fill=\"none\" points=\"187,-664.5 187,-710.5 \" stroke=\"#000000\"/>\n<text fill=\"#000000\" font-family=\"Times,serif\" font-size=\"14.00\" text-anchor=\"middle\" x=\"216\" y=\"-695.3\">input:</text>\n<polyline fill=\"none\" points=\"187,-687.5 245,-687.5 \" stroke=\"#000000\"/>\n<text fill=\"#000000\" font-family=\"Times,serif\" font-size=\"14.00\" text-anchor=\"middle\" x=\"216\" y=\"-672.3\">output:</text>\n<polyline fill=\"none\" points=\"245,-664.5 245,-710.5 \" stroke=\"#000000\"/>\n<text fill=\"#000000\" font-family=\"Times,serif\" font-size=\"14.00\" text-anchor=\"middle\" x=\"292.5\" y=\"-695.3\">(None, 1, 10)</text>\n<polyline fill=\"none\" points=\"245,-687.5 340,-687.5 \" stroke=\"#000000\"/>\n<text fill=\"#000000\" font-family=\"Times,serif\" font-size=\"14.00\" text-anchor=\"middle\" x=\"292.5\" y=\"-672.3\">(None, 10)</text>\n</g>\n<!-- 140438422460736&#45;&gt;140438413634080 -->\n<g class=\"edge\" id=\"edge3\">\n<title>140438422460736-&gt;140438413634080</title>\n<path d=\"M180.3066,-747.3799C184.0836,-738.907 188.4317,-729.1531 192.5073,-720.0107\" fill=\"none\" stroke=\"#000000\"/>\n<polygon fill=\"#000000\" points=\"195.7455,-721.3427 196.6204,-710.784 189.352,-718.4925 195.7455,-721.3427\" stroke=\"#000000\"/>\n</g>\n<!-- 140438413344608 -->\n<g class=\"node\" id=\"node6\">\n<title>140438413344608</title>\n<polygon fill=\"none\" points=\"377,-664.5 377,-710.5 643,-710.5 643,-664.5 377,-664.5\" stroke=\"#000000\"/>\n<text fill=\"#000000\" font-family=\"Times,serif\" font-size=\"14.00\" text-anchor=\"middle\" x=\"433.5\" y=\"-683.8\">flatten_2: Flatten</text>\n<polyline fill=\"none\" points=\"490,-664.5 490,-710.5 \" stroke=\"#000000\"/>\n<text fill=\"#000000\" font-family=\"Times,serif\" font-size=\"14.00\" text-anchor=\"middle\" x=\"519\" y=\"-695.3\">input:</text>\n<polyline fill=\"none\" points=\"490,-687.5 548,-687.5 \" stroke=\"#000000\"/>\n<text fill=\"#000000\" font-family=\"Times,serif\" font-size=\"14.00\" text-anchor=\"middle\" x=\"519\" y=\"-672.3\">output:</text>\n<polyline fill=\"none\" points=\"548,-664.5 548,-710.5 \" stroke=\"#000000\"/>\n<text fill=\"#000000\" font-family=\"Times,serif\" font-size=\"14.00\" text-anchor=\"middle\" x=\"595.5\" y=\"-695.3\">(None, 1, 10)</text>\n<polyline fill=\"none\" points=\"548,-687.5 643,-687.5 \" stroke=\"#000000\"/>\n<text fill=\"#000000\" font-family=\"Times,serif\" font-size=\"14.00\" text-anchor=\"middle\" x=\"595.5\" y=\"-672.3\">(None, 10)</text>\n</g>\n<!-- 140438422460848&#45;&gt;140438413344608 -->\n<g class=\"edge\" id=\"edge4\">\n<title>140438422460848-&gt;140438413344608</title>\n<path d=\"M523.7074,-747.3799C521.8087,-739.0854 519.6289,-729.5633 517.5746,-720.5889\" fill=\"none\" stroke=\"#000000\"/>\n<polygon fill=\"#000000\" points=\"520.9733,-719.7508 515.3301,-710.784 514.1498,-721.3129 520.9733,-719.7508\" stroke=\"#000000\"/>\n</g>\n<!-- 140438413341696 -->\n<g class=\"node\" id=\"node7\">\n<title>140438413341696</title>\n<polygon fill=\"none\" points=\"153,-581.5 153,-627.5 545,-627.5 545,-581.5 153,-581.5\" stroke=\"#000000\"/>\n<text fill=\"#000000\" font-family=\"Times,serif\" font-size=\"14.00\" text-anchor=\"middle\" x=\"240.5\" y=\"-600.8\">concatenate_1: Concatenate</text>\n<polyline fill=\"none\" points=\"328,-581.5 328,-627.5 \" stroke=\"#000000\"/>\n<text fill=\"#000000\" font-family=\"Times,serif\" font-size=\"14.00\" text-anchor=\"middle\" x=\"357\" y=\"-612.3\">input:</text>\n<polyline fill=\"none\" points=\"328,-604.5 386,-604.5 \" stroke=\"#000000\"/>\n<text fill=\"#000000\" font-family=\"Times,serif\" font-size=\"14.00\" text-anchor=\"middle\" x=\"357\" y=\"-589.3\">output:</text>\n<polyline fill=\"none\" points=\"386,-581.5 386,-627.5 \" stroke=\"#000000\"/>\n<text fill=\"#000000\" font-family=\"Times,serif\" font-size=\"14.00\" text-anchor=\"middle\" x=\"465.5\" y=\"-612.3\">[(None, 10), (None, 10)]</text>\n<polyline fill=\"none\" points=\"386,-604.5 545,-604.5 \" stroke=\"#000000\"/>\n<text fill=\"#000000\" font-family=\"Times,serif\" font-size=\"14.00\" text-anchor=\"middle\" x=\"465.5\" y=\"-589.3\">(None, 20)</text>\n</g>\n<!-- 140438413634080&#45;&gt;140438413341696 -->\n<g class=\"edge\" id=\"edge5\">\n<title>140438413634080-&gt;140438413341696</title>\n<path d=\"M246.5549,-664.3799C263.1869,-654.6583 282.7039,-643.2505 300.2158,-633.0147\" fill=\"none\" stroke=\"#000000\"/>\n<polygon fill=\"#000000\" points=\"302.2975,-635.852 309.1647,-627.784 298.7651,-629.8086 302.2975,-635.852\" stroke=\"#000000\"/>\n</g>\n<!-- 140438413344608&#45;&gt;140438413341696 -->\n<g class=\"edge\" id=\"edge6\">\n<title>140438413344608-&gt;140438413341696</title>\n<path d=\"M465.1525,-664.3799C445.8684,-654.4384 423.1636,-642.7334 402.9674,-632.3217\" fill=\"none\" stroke=\"#000000\"/>\n<polygon fill=\"#000000\" points=\"404.3781,-629.1113 393.8859,-627.6399 401.1705,-635.3331 404.3781,-629.1113\" stroke=\"#000000\"/>\n</g>\n<!-- 140438412936024 -->\n<g class=\"node\" id=\"node8\">\n<title>140438412936024</title>\n<polygon fill=\"none\" points=\"223,-498.5 223,-544.5 475,-544.5 475,-498.5 223,-498.5\" stroke=\"#000000\"/>\n<text fill=\"#000000\" font-family=\"Times,serif\" font-size=\"14.00\" text-anchor=\"middle\" x=\"276.5\" y=\"-517.8\">dense_5: Dense</text>\n<polyline fill=\"none\" points=\"330,-498.5 330,-544.5 \" stroke=\"#000000\"/>\n<text fill=\"#000000\" font-family=\"Times,serif\" font-size=\"14.00\" text-anchor=\"middle\" x=\"359\" y=\"-529.3\">input:</text>\n<polyline fill=\"none\" points=\"330,-521.5 388,-521.5 \" stroke=\"#000000\"/>\n<text fill=\"#000000\" font-family=\"Times,serif\" font-size=\"14.00\" text-anchor=\"middle\" x=\"359\" y=\"-506.3\">output:</text>\n<polyline fill=\"none\" points=\"388,-498.5 388,-544.5 \" stroke=\"#000000\"/>\n<text fill=\"#000000\" font-family=\"Times,serif\" font-size=\"14.00\" text-anchor=\"middle\" x=\"431.5\" y=\"-529.3\">(None, 20)</text>\n<polyline fill=\"none\" points=\"388,-521.5 475,-521.5 \" stroke=\"#000000\"/>\n<text fill=\"#000000\" font-family=\"Times,serif\" font-size=\"14.00\" text-anchor=\"middle\" x=\"431.5\" y=\"-506.3\">(None, 600)</text>\n</g>\n<!-- 140438413341696&#45;&gt;140438412936024 -->\n<g class=\"edge\" id=\"edge7\">\n<title>140438413341696-&gt;140438412936024</title>\n<path d=\"M349,-581.3799C349,-573.1745 349,-563.7679 349,-554.8786\" fill=\"none\" stroke=\"#000000\"/>\n<polygon fill=\"#000000\" points=\"352.5001,-554.784 349,-544.784 345.5001,-554.784 352.5001,-554.784\" stroke=\"#000000\"/>\n</g>\n<!-- 140438412786096 -->\n<g class=\"node\" id=\"node9\">\n<title>140438412786096</title>\n<polygon fill=\"none\" points=\"141,-415.5 141,-461.5 557,-461.5 557,-415.5 141,-415.5\" stroke=\"#000000\"/>\n<text fill=\"#000000\" font-family=\"Times,serif\" font-size=\"14.00\" text-anchor=\"middle\" x=\"276.5\" y=\"-434.8\">batch_normalization_1: BatchNormalization</text>\n<polyline fill=\"none\" points=\"412,-415.5 412,-461.5 \" stroke=\"#000000\"/>\n<text fill=\"#000000\" font-family=\"Times,serif\" font-size=\"14.00\" text-anchor=\"middle\" x=\"441\" y=\"-446.3\">input:</text>\n<polyline fill=\"none\" points=\"412,-438.5 470,-438.5 \" stroke=\"#000000\"/>\n<text fill=\"#000000\" font-family=\"Times,serif\" font-size=\"14.00\" text-anchor=\"middle\" x=\"441\" y=\"-423.3\">output:</text>\n<polyline fill=\"none\" points=\"470,-415.5 470,-461.5 \" stroke=\"#000000\"/>\n<text fill=\"#000000\" font-family=\"Times,serif\" font-size=\"14.00\" text-anchor=\"middle\" x=\"513.5\" y=\"-446.3\">(None, 600)</text>\n<polyline fill=\"none\" points=\"470,-438.5 557,-438.5 \" stroke=\"#000000\"/>\n<text fill=\"#000000\" font-family=\"Times,serif\" font-size=\"14.00\" text-anchor=\"middle\" x=\"513.5\" y=\"-423.3\">(None, 600)</text>\n</g>\n<!-- 140438412936024&#45;&gt;140438412786096 -->\n<g class=\"edge\" id=\"edge8\">\n<title>140438412936024-&gt;140438412786096</title>\n<path d=\"M349,-498.3799C349,-490.1745 349,-480.7679 349,-471.8786\" fill=\"none\" stroke=\"#000000\"/>\n<polygon fill=\"#000000\" points=\"352.5001,-471.784 349,-461.784 345.5001,-471.784 352.5001,-471.784\" stroke=\"#000000\"/>\n</g>\n<!-- 140438412787496 -->\n<g class=\"node\" id=\"node10\">\n<title>140438412787496</title>\n<polygon fill=\"none\" points=\"209.5,-332.5 209.5,-378.5 488.5,-378.5 488.5,-332.5 209.5,-332.5\" stroke=\"#000000\"/>\n<text fill=\"#000000\" font-family=\"Times,serif\" font-size=\"14.00\" text-anchor=\"middle\" x=\"276.5\" y=\"-351.8\">dropout_1: Dropout</text>\n<polyline fill=\"none\" points=\"343.5,-332.5 343.5,-378.5 \" stroke=\"#000000\"/>\n<text fill=\"#000000\" font-family=\"Times,serif\" font-size=\"14.00\" text-anchor=\"middle\" x=\"372.5\" y=\"-363.3\">input:</text>\n<polyline fill=\"none\" points=\"343.5,-355.5 401.5,-355.5 \" stroke=\"#000000\"/>\n<text fill=\"#000000\" font-family=\"Times,serif\" font-size=\"14.00\" text-anchor=\"middle\" x=\"372.5\" y=\"-340.3\">output:</text>\n<polyline fill=\"none\" points=\"401.5,-332.5 401.5,-378.5 \" stroke=\"#000000\"/>\n<text fill=\"#000000\" font-family=\"Times,serif\" font-size=\"14.00\" text-anchor=\"middle\" x=\"445\" y=\"-363.3\">(None, 600)</text>\n<polyline fill=\"none\" points=\"401.5,-355.5 488.5,-355.5 \" stroke=\"#000000\"/>\n<text fill=\"#000000\" font-family=\"Times,serif\" font-size=\"14.00\" text-anchor=\"middle\" x=\"445\" y=\"-340.3\">(None, 600)</text>\n</g>\n<!-- 140438412786096&#45;&gt;140438412787496 -->\n<g class=\"edge\" id=\"edge9\">\n<title>140438412786096-&gt;140438412787496</title>\n<path d=\"M349,-415.3799C349,-407.1745 349,-397.7679 349,-388.8786\" fill=\"none\" stroke=\"#000000\"/>\n<polygon fill=\"#000000\" points=\"352.5001,-388.784 349,-378.784 345.5001,-388.784 352.5001,-388.784\" stroke=\"#000000\"/>\n</g>\n<!-- 140438412787440 -->\n<g class=\"node\" id=\"node11\">\n<title>140438412787440</title>\n<polygon fill=\"none\" points=\"223,-249.5 223,-295.5 475,-295.5 475,-249.5 223,-249.5\" stroke=\"#000000\"/>\n<text fill=\"#000000\" font-family=\"Times,serif\" font-size=\"14.00\" text-anchor=\"middle\" x=\"276.5\" y=\"-268.8\">dense_6: Dense</text>\n<polyline fill=\"none\" points=\"330,-249.5 330,-295.5 \" stroke=\"#000000\"/>\n<text fill=\"#000000\" font-family=\"Times,serif\" font-size=\"14.00\" text-anchor=\"middle\" x=\"359\" y=\"-280.3\">input:</text>\n<polyline fill=\"none\" points=\"330,-272.5 388,-272.5 \" stroke=\"#000000\"/>\n<text fill=\"#000000\" font-family=\"Times,serif\" font-size=\"14.00\" text-anchor=\"middle\" x=\"359\" y=\"-257.3\">output:</text>\n<polyline fill=\"none\" points=\"388,-249.5 388,-295.5 \" stroke=\"#000000\"/>\n<text fill=\"#000000\" font-family=\"Times,serif\" font-size=\"14.00\" text-anchor=\"middle\" x=\"431.5\" y=\"-280.3\">(None, 600)</text>\n<polyline fill=\"none\" points=\"388,-272.5 475,-272.5 \" stroke=\"#000000\"/>\n<text fill=\"#000000\" font-family=\"Times,serif\" font-size=\"14.00\" text-anchor=\"middle\" x=\"431.5\" y=\"-257.3\">(None, 300)</text>\n</g>\n<!-- 140438412787496&#45;&gt;140438412787440 -->\n<g class=\"edge\" id=\"edge10\">\n<title>140438412787496-&gt;140438412787440</title>\n<path d=\"M349,-332.3799C349,-324.1745 349,-314.7679 349,-305.8786\" fill=\"none\" stroke=\"#000000\"/>\n<polygon fill=\"#000000\" points=\"352.5001,-305.784 349,-295.784 345.5001,-305.784 352.5001,-305.784\" stroke=\"#000000\"/>\n</g>\n<!-- 140438412494104 -->\n<g class=\"node\" id=\"node12\">\n<title>140438412494104</title>\n<polygon fill=\"none\" points=\"141,-166.5 141,-212.5 557,-212.5 557,-166.5 141,-166.5\" stroke=\"#000000\"/>\n<text fill=\"#000000\" font-family=\"Times,serif\" font-size=\"14.00\" text-anchor=\"middle\" x=\"276.5\" y=\"-185.8\">batch_normalization_2: BatchNormalization</text>\n<polyline fill=\"none\" points=\"412,-166.5 412,-212.5 \" stroke=\"#000000\"/>\n<text fill=\"#000000\" font-family=\"Times,serif\" font-size=\"14.00\" text-anchor=\"middle\" x=\"441\" y=\"-197.3\">input:</text>\n<polyline fill=\"none\" points=\"412,-189.5 470,-189.5 \" stroke=\"#000000\"/>\n<text fill=\"#000000\" font-family=\"Times,serif\" font-size=\"14.00\" text-anchor=\"middle\" x=\"441\" y=\"-174.3\">output:</text>\n<polyline fill=\"none\" points=\"470,-166.5 470,-212.5 \" stroke=\"#000000\"/>\n<text fill=\"#000000\" font-family=\"Times,serif\" font-size=\"14.00\" text-anchor=\"middle\" x=\"513.5\" y=\"-197.3\">(None, 300)</text>\n<polyline fill=\"none\" points=\"470,-189.5 557,-189.5 \" stroke=\"#000000\"/>\n<text fill=\"#000000\" font-family=\"Times,serif\" font-size=\"14.00\" text-anchor=\"middle\" x=\"513.5\" y=\"-174.3\">(None, 300)</text>\n</g>\n<!-- 140438412787440&#45;&gt;140438412494104 -->\n<g class=\"edge\" id=\"edge11\">\n<title>140438412787440-&gt;140438412494104</title>\n<path d=\"M349,-249.3799C349,-241.1745 349,-231.7679 349,-222.8786\" fill=\"none\" stroke=\"#000000\"/>\n<polygon fill=\"#000000\" points=\"352.5001,-222.784 349,-212.784 345.5001,-222.784 352.5001,-222.784\" stroke=\"#000000\"/>\n</g>\n<!-- 140438412248008 -->\n<g class=\"node\" id=\"node13\">\n<title>140438412248008</title>\n<polygon fill=\"none\" points=\"209.5,-83.5 209.5,-129.5 488.5,-129.5 488.5,-83.5 209.5,-83.5\" stroke=\"#000000\"/>\n<text fill=\"#000000\" font-family=\"Times,serif\" font-size=\"14.00\" text-anchor=\"middle\" x=\"276.5\" y=\"-102.8\">dropout_2: Dropout</text>\n<polyline fill=\"none\" points=\"343.5,-83.5 343.5,-129.5 \" stroke=\"#000000\"/>\n<text fill=\"#000000\" font-family=\"Times,serif\" font-size=\"14.00\" text-anchor=\"middle\" x=\"372.5\" y=\"-114.3\">input:</text>\n<polyline fill=\"none\" points=\"343.5,-106.5 401.5,-106.5 \" stroke=\"#000000\"/>\n<text fill=\"#000000\" font-family=\"Times,serif\" font-size=\"14.00\" text-anchor=\"middle\" x=\"372.5\" y=\"-91.3\">output:</text>\n<polyline fill=\"none\" points=\"401.5,-83.5 401.5,-129.5 \" stroke=\"#000000\"/>\n<text fill=\"#000000\" font-family=\"Times,serif\" font-size=\"14.00\" text-anchor=\"middle\" x=\"445\" y=\"-114.3\">(None, 300)</text>\n<polyline fill=\"none\" points=\"401.5,-106.5 488.5,-106.5 \" stroke=\"#000000\"/>\n<text fill=\"#000000\" font-family=\"Times,serif\" font-size=\"14.00\" text-anchor=\"middle\" x=\"445\" y=\"-91.3\">(None, 300)</text>\n</g>\n<!-- 140438412494104&#45;&gt;140438412248008 -->\n<g class=\"edge\" id=\"edge12\">\n<title>140438412494104-&gt;140438412248008</title>\n<path d=\"M349,-166.3799C349,-158.1745 349,-148.7679 349,-139.8786\" fill=\"none\" stroke=\"#000000\"/>\n<polygon fill=\"#000000\" points=\"352.5001,-139.784 349,-129.784 345.5001,-139.784 352.5001,-139.784\" stroke=\"#000000\"/>\n</g>\n<!-- 140438412936360 -->\n<g class=\"node\" id=\"node14\">\n<title>140438412936360</title>\n<polygon fill=\"none\" points=\"223,-.5 223,-46.5 475,-46.5 475,-.5 223,-.5\" stroke=\"#000000\"/>\n<text fill=\"#000000\" font-family=\"Times,serif\" font-size=\"14.00\" text-anchor=\"middle\" x=\"276.5\" y=\"-19.8\">dense_7: Dense</text>\n<polyline fill=\"none\" points=\"330,-.5 330,-46.5 \" stroke=\"#000000\"/>\n<text fill=\"#000000\" font-family=\"Times,serif\" font-size=\"14.00\" text-anchor=\"middle\" x=\"359\" y=\"-31.3\">input:</text>\n<polyline fill=\"none\" points=\"330,-23.5 388,-23.5 \" stroke=\"#000000\"/>\n<text fill=\"#000000\" font-family=\"Times,serif\" font-size=\"14.00\" text-anchor=\"middle\" x=\"359\" y=\"-8.3\">output:</text>\n<polyline fill=\"none\" points=\"388,-.5 388,-46.5 \" stroke=\"#000000\"/>\n<text fill=\"#000000\" font-family=\"Times,serif\" font-size=\"14.00\" text-anchor=\"middle\" x=\"431.5\" y=\"-31.3\">(None, 300)</text>\n<polyline fill=\"none\" points=\"388,-23.5 475,-23.5 \" stroke=\"#000000\"/>\n<text fill=\"#000000\" font-family=\"Times,serif\" font-size=\"14.00\" text-anchor=\"middle\" x=\"431.5\" y=\"-8.3\">(None, 1)</text>\n</g>\n<!-- 140438412248008&#45;&gt;140438412936360 -->\n<g class=\"edge\" id=\"edge13\">\n<title>140438412248008-&gt;140438412936360</title>\n<path d=\"M349,-83.3799C349,-75.1745 349,-65.7679 349,-56.8786\" fill=\"none\" stroke=\"#000000\"/>\n<polygon fill=\"#000000\" points=\"352.5001,-56.784 349,-46.784 345.5001,-56.784 352.5001,-56.784\" stroke=\"#000000\"/>\n</g>\n</g>\n</svg>"
          },
          "metadata": {
            "tags": []
          },
          "execution_count": 17
        }
      ]
    },
    {
      "metadata": {
        "id": "MAbt2hkMw1d2",
        "colab_type": "code",
        "colab": {}
      },
      "cell_type": "code",
      "source": [
        "# print(history)"
      ],
      "execution_count": 0,
      "outputs": []
    },
    {
      "metadata": {
        "id": "-clQPYuFw1d6",
        "colab_type": "code",
        "outputId": "184be9d7-a69f-4919-a5b9-aa2de763790f",
        "colab": {
          "base_uri": "https://localhost:8080/",
          "height": 376
        }
      },
      "cell_type": "code",
      "source": [
        "import matplotlib.pyplot as plt\n",
        "plt.plot(history.history['loss'])\n",
        "plt.title('Model Loss')\n",
        "plt.ylabel('Loss')\n",
        "plt.xlabel('Epoch')\n",
        "plt.show()"
      ],
      "execution_count": 19,
      "outputs": [
        {
          "output_type": "display_data",
          "data": {
            "image/png": "[encoded data removed]",
            "text/plain": [
              "<matplotlib.figure.Figure at 0x7fba5bef24a8>"
            ]
          },
          "metadata": {
            "tags": []
          }
        }
      ]
    },
    {
      "metadata": {
        "id": "DbphJTtnw1d-",
        "colab_type": "code",
        "outputId": "1aedc608-4335-4519-9328-f85d7293d4e8",
        "colab": {
          "base_uri": "https://localhost:8080/",
          "height": 376
        }
      },
      "cell_type": "code",
      "source": [
        "# Plot training & validation loss values\n",
        "plt.plot(history.history['loss'])\n",
        "plt.plot(history.history['val_loss'])\n",
        "plt.title('Model loss')\n",
        "plt.ylabel('Loss')\n",
        "plt.xlabel('Epoch')\n",
        "plt.legend(['Train', 'Test'], loc='upper left')\n",
        "plt.show()"
      ],
      "execution_count": 20,
      "outputs": [
        {
          "output_type": "display_data",
          "data": {
            "image/png": "[encoded data removed]",
            "text/plain": [
              "<matplotlib.figure.Figure at 0x7fba5bdf18d0>"
            ]
          },
          "metadata": {
            "tags": []
          }
        }
      ]
    },
    {
      "metadata": {
        "id": "lM_VSmhq4Hjx",
        "colab_type": "code",
        "outputId": "9115940b-63f1-4e2f-e7cc-6e3ca59e2f5f",
        "colab": {
          "base_uri": "https://localhost:8080/",
          "height": 376
        }
      },
      "cell_type": "code",
      "source": [
        "# Plot training & validation loss values\n",
        "plt.plot(history.history['acc'])\n",
        "plt.plot(history.history['val_acc'])\n",
        "plt.title('Model Accury')\n",
        "plt.ylabel('accury')\n",
        "plt.xlabel('Epoch')\n",
        "plt.legend(['Train', 'Test'], loc='upper left')\n",
        "plt.show()"
      ],
      "execution_count": 21,
      "outputs": [
        {
          "output_type": "display_data",
          "data": {
            "image/png": "[encoded data removed]",
            "text/plain": [
              "<matplotlib.figure.Figure at 0x7fba5befcb38>"
            ]
          },
          "metadata": {
            "tags": []
          }
        }
      ]
    }
  ]
}