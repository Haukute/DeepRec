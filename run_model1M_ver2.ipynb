{
  "nbformat": 4,
  "nbformat_minor": 0,
  "metadata": {
    "colab": {
      "name": "run_model.ipynb",
      "version": "0.3.2",
      "provenance": []
    },
    "kernelspec": {
      "name": "python3",
      "display_name": "Python 3"
    },
    "accelerator": "GPU"
  },
  "cells": [
    {
      "metadata": {
        "id": "t5DAYloayNK3",
        "colab_type": "code",
        "outputId": "74ab9f6b-f5af-4770-8475-4ea5b831618e",
        "colab": {
          "base_uri": "https://localhost:8080/",
          "height": 224
        }
      },
      "cell_type": "code",
      "source": [
        "!wget https://public.by.files.1drv.com/y4m8tMgxXE5fA09MgLieUYr8RW2bKqMIQZq2sQqTQ-KFhXo-Lovfy-zAATrX3_BVc36MtV6GCDuqLdc0OBbQb0zESlOTF-qi-dLTspKCGGkiTY9wKkroduI_iebB1BiX6WnKsyRSX2y3UOKKo4N9ldq_COsum-WDw_B-NLY27xs1Q4ComfBU7Yo8_HglHvlYb3H/DMF.zip"
      ],
      "execution_count": 0,
      "outputs": [
        {
          "output_type": "stream",
          "text": [
            "--2018-12-26 04:33:23--  https://public.by.files.1drv.com/y4m8tMgxXE5fA09MgLieUYr8RW2bKqMIQZq2sQqTQ-KFhXo-Lovfy-zAATrX3_BVc36MtV6GCDuqLdc0OBbQb0zESlOTF-qi-dLTspKCGGkiTY9wKkroduI_iebB1BiX6WnKsyRSX2y3UOKKo4N9ldq_COsum-WDw_B-NLY27xs1Q4ComfBU7Yo8_HglHvlYb3H/DMF.zip\n",
            "Resolving public.by.files.1drv.com (public.by.files.1drv.com)... 13.107.42.12\n",
            "Connecting to public.by.files.1drv.com (public.by.files.1drv.com)|13.107.42.12|:443... connected.\n",
            "HTTP request sent, awaiting response... 200 OK\n",
            "Length: 15629076 (15M) [application/zip]\n",
            "Saving to: ‘DMF.zip’\n",
            "\n",
            "DMF.zip             100%[===================>]  14.90M  9.95MB/s    in 1.5s    \n",
            "\n",
            "2018-12-26 04:33:30 (9.95 MB/s) - ‘DMF.zip’ saved [15629076/15629076]\n",
            "\n"
          ],
          "name": "stdout"
        }
      ]
    },
    {
      "metadata": {
        "id": "SVkLE6oJyhdX",
        "colab_type": "code",
        "colab": {}
      },
      "cell_type": "code",
      "source": [
        "import zipfile\n",
        "zip = zipfile.ZipFile('/content/DMF.zip')\n",
        "zip.extractall()"
      ],
      "execution_count": 0,
      "outputs": []
    },
    {
      "metadata": {
        "id": "MHOJF4Czy2Jn",
        "colab_type": "code",
        "outputId": "37cbd302-77f6-4861-c409-ea86e967a4a5",
        "colab": {
          "base_uri": "https://localhost:8080/",
          "height": 34
        }
      },
      "cell_type": "code",
      "source": [
        "!ls"
      ],
      "execution_count": 0,
      "outputs": [
        {
          "output_type": "stream",
          "text": [
            "ratings.dat  run_model.ipynb  sample_data\n"
          ],
          "name": "stdout"
        }
      ]
    },
    {
      "metadata": {
        "id": "IcsB3eVxw1c8",
        "colab_type": "code",
        "outputId": "e6b19ed8-a2ba-4996-9341-83b2e9536c50",
        "colab": {
          "base_uri": "https://localhost:8080/",
          "height": 299
        }
      },
      "cell_type": "code",
      "source": [
        "from DataSet import DataSet"
      ],
      "execution_count": 0,
      "outputs": [
        {
          "output_type": "error",
          "ename": "ModuleNotFoundError",
          "evalue": "ignored",
          "traceback": [
            "\u001b[0;31m---------------------------------------------------------------------------\u001b[0m",
            "\u001b[0;31mModuleNotFoundError\u001b[0m                       Traceback (most recent call last)",
            "\u001b[0;32m<ipython-input-1-2d62286ecf77>\u001b[0m in \u001b[0;36m<module>\u001b[0;34m()\u001b[0m\n\u001b[0;32m----> 1\u001b[0;31m \u001b[0;32mfrom\u001b[0m \u001b[0mDataSet\u001b[0m \u001b[0;32mimport\u001b[0m \u001b[0mDataSet\u001b[0m\u001b[0;34m\u001b[0m\u001b[0;34m\u001b[0m\u001b[0m\n\u001b[0m",
            "\u001b[0;31mModuleNotFoundError\u001b[0m: No module named 'DataSet'",
            "",
            "\u001b[0;31m---------------------------------------------------------------------------\u001b[0;32m\nNOTE: If your import is failing due to a missing package, you can\nmanually install dependencies using either !pip or !apt.\n\nTo view examples of installing some common dependencies, click the\n\"Open Examples\" button below.\n\u001b[0;31m---------------------------------------------------------------------------\u001b[0m\n"
          ]
        }
      ]
    },
    {
      "metadata": {
        "id": "DgLOEeR8w1dA",
        "colab_type": "code",
        "colab": {}
      },
      "cell_type": "code",
      "source": [
        "filepath = 'ratings.dat'\n",
        "# a = DataSet(filepath)"
      ],
      "execution_count": 0,
      "outputs": []
    },
    {
      "metadata": {
        "id": "n9TJKaT-w1dF",
        "colab_type": "code",
        "outputId": "20ffbe04-446e-43ab-f48c-b939234cb668",
        "colab": {}
      },
      "cell_type": "code",
      "source": [
        "a.shape[0]"
      ],
      "execution_count": 0,
      "outputs": [
        {
          "output_type": "execute_result",
          "data": {
            "text/plain": [
              "6040"
            ]
          },
          "metadata": {
            "tags": []
          },
          "execution_count": 3
        }
      ]
    },
    {
      "metadata": {
        "id": "TTfTEZl0w1dJ",
        "colab_type": "code",
        "colab": {}
      },
      "cell_type": "code",
      "source": [
        "import numpy as np\n",
        "import pandas as pd\n"
      ],
      "execution_count": 0,
      "outputs": []
    },
    {
      "metadata": {
        "id": "D03-QdRqw1dN",
        "colab_type": "code",
        "colab": {
          "base_uri": "https://localhost:8080/",
          "height": 180
        },
        "outputId": "284f6532-b35e-4f2e-abd5-dc93df4cf96e"
      },
      "cell_type": "code",
      "source": [
        "df = pd.DataFrame(a.data, columns=['user', 'item', 'ratings', 'time'])\n",
        "df = df.drop(columns=['time'])"
      ],
      "execution_count": 3,
      "outputs": [
        {
          "output_type": "error",
          "ename": "NameError",
          "evalue": "ignored",
          "traceback": [
            "\u001b[0;31m---------------------------------------------------------------------------\u001b[0m",
            "\u001b[0;31mNameError\u001b[0m                                 Traceback (most recent call last)",
            "\u001b[0;32m<ipython-input-3-b94584401c82>\u001b[0m in \u001b[0;36m<module>\u001b[0;34m()\u001b[0m\n\u001b[0;32m----> 1\u001b[0;31m \u001b[0mdf\u001b[0m \u001b[0;34m=\u001b[0m \u001b[0mpd\u001b[0m\u001b[0;34m.\u001b[0m\u001b[0mDataFrame\u001b[0m\u001b[0;34m(\u001b[0m\u001b[0ma\u001b[0m\u001b[0;34m.\u001b[0m\u001b[0mdata\u001b[0m\u001b[0;34m,\u001b[0m \u001b[0mcolumns\u001b[0m\u001b[0;34m=\u001b[0m\u001b[0;34m[\u001b[0m\u001b[0;34m'user'\u001b[0m\u001b[0;34m,\u001b[0m \u001b[0;34m'item'\u001b[0m\u001b[0;34m,\u001b[0m \u001b[0;34m'ratings'\u001b[0m\u001b[0;34m,\u001b[0m \u001b[0;34m'time'\u001b[0m\u001b[0;34m]\u001b[0m\u001b[0;34m)\u001b[0m\u001b[0;34m\u001b[0m\u001b[0;34m\u001b[0m\u001b[0m\n\u001b[0m\u001b[1;32m      2\u001b[0m \u001b[0mdf\u001b[0m \u001b[0;34m=\u001b[0m \u001b[0mdf\u001b[0m\u001b[0;34m.\u001b[0m\u001b[0mdrop\u001b[0m\u001b[0;34m(\u001b[0m\u001b[0mcolumns\u001b[0m\u001b[0;34m=\u001b[0m\u001b[0;34m[\u001b[0m\u001b[0;34m'time'\u001b[0m\u001b[0;34m]\u001b[0m\u001b[0;34m)\u001b[0m\u001b[0;34m\u001b[0m\u001b[0;34m\u001b[0m\u001b[0m\n",
            "\u001b[0;31mNameError\u001b[0m: name 'a' is not defined"
          ]
        }
      ]
    },
    {
      "metadata": {
        "id": "Iom03pJmw1dP",
        "colab_type": "code",
        "outputId": "0e60ce68-91b9-493b-a827-4be3c36b8adc",
        "colab": {
          "base_uri": "https://localhost:8080/",
          "height": 71
        }
      },
      "cell_type": "code",
      "source": [
        "# filename = './Data/ml-1m/u.data'\n",
        "name = ['user', 'item', 'ratings', 'time']\n",
        "df1 = pd.read_csv('ratings.dat', sep='::', names = name)\n",
        "df1 = df1.drop(columns=['time'])"
      ],
      "execution_count": 9,
      "outputs": [
        {
          "output_type": "stream",
          "text": [
            "/usr/local/lib/python3.6/dist-packages/ipykernel_launcher.py:2: ParserWarning: Falling back to the 'python' engine because the 'c' engine does not support regex separators (separators > 1 char and different from '\\s+' are interpreted as regex); you can avoid this warning by specifying engine='python'.\n",
            "  \n"
          ],
          "name": "stderr"
        }
      ]
    },
    {
      "metadata": {
        "id": "JV7Jc13kw1dT",
        "colab_type": "code",
        "colab": {}
      },
      "cell_type": "code",
      "source": [
        "data_dim = len(df1.user.unique()), len(df1.item.unique())"
      ],
      "execution_count": 0,
      "outputs": []
    },
    {
      "metadata": {
        "id": "cg93D7srw1dW",
        "colab_type": "code",
        "outputId": "b6cf6f4a-0ba0-4df7-e908-bb1b367a0d04",
        "colab": {
          "base_uri": "https://localhost:8080/",
          "height": 34
        }
      },
      "cell_type": "code",
      "source": [
        "data_dim[0]"
      ],
      "execution_count": 12,
      "outputs": [
        {
          "output_type": "execute_result",
          "data": {
            "text/plain": [
              "6040"
            ]
          },
          "metadata": {
            "tags": []
          },
          "execution_count": 12
        }
      ]
    },
    {
      "metadata": {
        "id": "N5eiVP68w1da",
        "colab_type": "code",
        "colab": {}
      },
      "cell_type": "code",
      "source": [
        "from sklearn.model_selection import train_test_split"
      ],
      "execution_count": 0,
      "outputs": []
    },
    {
      "metadata": {
        "id": "V2xM2alzw1dd",
        "colab_type": "code",
        "colab": {}
      },
      "cell_type": "code",
      "source": [
        "data = np.array(df1)\n",
        "train, test = train_test_split(data, test_size=0.2)"
      ],
      "execution_count": 0,
      "outputs": []
    },
    {
      "metadata": {
        "id": "_2JGflFow1de",
        "colab_type": "code",
        "colab": {}
      },
      "cell_type": "code",
      "source": [
        "u_train = train[:,0]\n",
        "i_train = train[:,1]\n",
        "r_train = train[:,2]\n",
        "u_test = test[:,0]\n",
        "i_test = test[:,1]\n",
        "r_test = test[:,2]"
      ],
      "execution_count": 0,
      "outputs": []
    },
    {
      "metadata": {
        "id": "aDVU9T7WPDHd",
        "colab_type": "code",
        "colab": {}
      },
      "cell_type": "code",
      "source": [
        "r_train = r_train/5\n",
        "r_test = r_test/5"
      ],
      "execution_count": 0,
      "outputs": []
    },
    {
      "metadata": {
        "id": "uyPNh4yaw1dh",
        "colab_type": "code",
        "outputId": "30d0d391-4e1f-4edb-93f5-928155b6d4d5",
        "colab": {}
      },
      "cell_type": "code",
      "source": [
        "shuffled_ratings = df.sample(frac = 1.)\n",
        "Users = shuffled_ratings['user'].values\n",
        "print ('Users:', Users, ', shape =', Users.shape)\n",
        "Movies = shuffled_ratings['item'].values\n",
        "print ('Movies:', Movies, ', shape =', Movies.shape)\n",
        "Ratings = shuffled_ratings['ratings'].values\n",
        "print ('Ratings:', Ratings, ', shape =', Ratings.shape)"
      ],
      "execution_count": 0,
      "outputs": [
        {
          "output_type": "stream",
          "text": [
            "Users: [3646 5656 4051 ... 3453  662  659] , shape = (1000209,)\n",
            "Movies: [2985  213 2797 ... 1294  410 2145] , shape = (1000209,)\n",
            "Ratings: [4. 5. 2. ... 4. 4. 3.] , shape = (1000209,)\n"
          ],
          "name": "stdout"
        }
      ]
    },
    {
      "metadata": {
        "id": "qUSbF6n9w1dk",
        "colab_type": "code",
        "outputId": "751483a6-7521-46a7-8577-23a638dc5e40",
        "colab": {
          "base_uri": "https://localhost:8080/",
          "height": 34
        }
      },
      "cell_type": "code",
      "source": [
        "from keras.models import Model\n",
        "from keras.callbacks import ModelCheckpoint\n",
        "from keras.layers import dot, concatenate, Embedding, Input, Flatten, Dropout, Dense\n",
        "from keras.models import Sequential\n",
        "from keras import optimizers\n",
        "from keras.layers.normalization import BatchNormalization"
      ],
      "execution_count": 16,
      "outputs": [
        {
          "output_type": "stream",
          "text": [
            "Using TensorFlow backend.\n"
          ],
          "name": "stderr"
        }
      ]
    },
    {
      "metadata": {
        "id": "x6OeRT2Aw1dn",
        "colab_type": "code",
        "colab": {}
      },
      "cell_type": "code",
      "source": [
        "len_dim_i = [128,256,512]\n",
        "len_dim_u = [128,256,512]\n",
        "len_dim_r = [600,300]"
      ],
      "execution_count": 0,
      "outputs": []
    },
    {
      "metadata": {
        "id": "sQeQVpkyw1dq",
        "colab_type": "code",
        "colab": {}
      },
      "cell_type": "code",
      "source": [
        "user_id_input = Input(shape=[1], name='user')\n",
        "item_id_input = Input(shape=[1], name='item')\n",
        "\n",
        "user_embedding = Embedding(output_dim=10, input_dim=data_dim[0] + 1,\n",
        "                                   input_length=1, name='user_embedding')(user_id_input)\n",
        "item_embedding = Embedding(output_dim=10, input_dim=data_dim[1] + 1,\n",
        "                                   input_length=1, name='item_embedding')(item_id_input)\n",
        "\n",
        "# reshape from shape: (batch_size, input_length, embedding_size)\n",
        "# to shape: (batch_size, input_length * embedding_size) which is\n",
        "# equal to shape: (batch_size, embedding_size)\n",
        "\n",
        "user_vecs = (Dense(300))(user_embedding)\n",
        "item_vecs = (Dense(300))(item_embedding)\n",
        "user_vecs = (Dense(600))(user_embedding)\n",
        "item_vecs = (Dense(600))(item_embedding)\n",
        "# for i in range(len(len_dim_u)):\n",
        "#     user_vecs = (Dense(len_dim_u[i], activation=\"relu\"))(user_vecs)\n",
        "# #     user_vecs = (Dropout(0.1))(user_vecs)\n",
        "# for i in range(len(len_dim_i)):\n",
        "#     item_vecs = (Dense(len_dim_i[i], activation=\"relu\"))(item_vecs)\n",
        "#     item_vecs = (Dropout(0.1))(item_vecs)\n",
        "user_vecs = Flatten()(user_embedding)\n",
        "item_vecs = Flatten()(item_embedding)\n",
        "\n",
        "    \n",
        "# y = merge([user_vecs, item_vecs], mode='dot', output_shape=(1,))\n",
        "y = concatenate([user_vecs, item_vecs])\n",
        "for i in range(len(len_dim_r)):\n",
        "    y = (Dense(len_dim_r[i], activation=\"relu\"))(y)\n",
        "    y = (BatchNormalization())(y)\n",
        "    y = (Dropout(0.2))(y)\n",
        "# y = Dense(1, activation=\"relu\")(y)\n",
        "# M = Sequential()\n",
        "# M.add(y)\n",
        "# y = (Dropout(0.25))(y)\n",
        "# y = (Dense(64))(y)\n",
        "# y = (Dropout(0.2))(y)\n",
        "# y = (Dense(32))(y)\n",
        "# y = (Dropout(0.25))(y)\n",
        "# y = (Dense(16))(y)\n",
        "# y = (Dropout(0.1))(y)\n",
        "# y = (Dense(4))(y)\n",
        "# y = (Dropout(0.2))(y)\n",
        "y = (Dense(1, activation='relu'))(y)\n",
        "\n",
        "model = Model(inputs=[user_id_input, item_id_input], outputs=[y])\n",
        "adam = optimizers.Adam(lr=0.0001)\n",
        "model.compile(optimizer=adam, loss='mse',metrics=['accuracy'])"
      ],
      "execution_count": 0,
      "outputs": []
    },
    {
      "metadata": {
        "id": "6sJSbOMKw1ds",
        "colab_type": "code",
        "outputId": "f81ef51a-3ee8-4b93-cdc4-f56f8280f0fe",
        "colab": {
          "base_uri": "https://localhost:8080/",
          "height": 1754
        }
      },
      "cell_type": "code",
      "source": [
        "history = model.fit([u_train,i_train], r_train,validation_data=([u_test,i_test], r_test), batch_size=512, epochs = 50, verbose=1)"
      ],
      "execution_count": 31,
      "outputs": [
        {
          "output_type": "stream",
          "text": [
            "Train on 800167 samples, validate on 200042 samples\n",
            "Epoch 1/50\n",
            "800167/800167 [==============================] - 21s 26us/step - loss: 3.4607 - acc: 0.2508 - val_loss: 1.8325 - val_acc: 0.3313\n",
            "Epoch 2/50\n",
            "800167/800167 [==============================] - 19s 24us/step - loss: 1.6861 - acc: 0.3305 - val_loss: 1.3429 - val_acc: 0.3644\n",
            "Epoch 3/50\n",
            "800167/800167 [==============================] - 19s 24us/step - loss: 1.2978 - acc: 0.3657 - val_loss: 1.1480 - val_acc: 0.3890\n",
            "Epoch 4/50\n",
            "800167/800167 [==============================] - 20s 25us/step - loss: 1.1488 - acc: 0.3873 - val_loss: 0.9891 - val_acc: 0.4028\n",
            "Epoch 5/50\n",
            "800167/800167 [==============================] - 20s 25us/step - loss: 0.9895 - acc: 0.4024 - val_loss: 0.9469 - val_acc: 0.4095\n",
            "Epoch 6/50\n",
            "800167/800167 [==============================] - 20s 25us/step - loss: 0.9464 - acc: 0.4100 - val_loss: 0.9276 - val_acc: 0.4133\n",
            "Epoch 7/50\n",
            "800167/800167 [==============================] - 20s 25us/step - loss: 0.9038 - acc: 0.4143 - val_loss: 0.8875 - val_acc: 0.4189\n",
            "Epoch 8/50\n",
            "800167/800167 [==============================] - 20s 25us/step - loss: 0.8775 - acc: 0.4180 - val_loss: 0.8832 - val_acc: 0.4160\n",
            "Epoch 9/50\n",
            "800167/800167 [==============================] - 20s 25us/step - loss: 0.8694 - acc: 0.4205 - val_loss: 0.8820 - val_acc: 0.4241\n",
            "Epoch 10/50\n",
            "800167/800167 [==============================] - 20s 25us/step - loss: 0.8600 - acc: 0.4231 - val_loss: 0.8771 - val_acc: 0.4266\n",
            "Epoch 11/50\n",
            "800167/800167 [==============================] - 20s 25us/step - loss: 0.8396 - acc: 0.4262 - val_loss: 0.8401 - val_acc: 0.4215\n",
            "Epoch 12/50\n",
            "800167/800167 [==============================] - 20s 25us/step - loss: 0.8206 - acc: 0.4282 - val_loss: 0.8390 - val_acc: 0.4283\n",
            "Epoch 13/50\n",
            "800167/800167 [==============================] - 20s 25us/step - loss: 0.8041 - acc: 0.4301 - val_loss: 0.8185 - val_acc: 0.4272\n",
            "Epoch 14/50\n",
            "800167/800167 [==============================] - 20s 25us/step - loss: 0.7936 - acc: 0.4316 - val_loss: 0.8172 - val_acc: 0.4269\n",
            "Epoch 15/50\n",
            "800167/800167 [==============================] - 20s 25us/step - loss: 0.7879 - acc: 0.4335 - val_loss: 0.8169 - val_acc: 0.4221\n",
            "Epoch 16/50\n",
            "800167/800167 [==============================] - 20s 25us/step - loss: 0.7831 - acc: 0.4347 - val_loss: 0.8140 - val_acc: 0.4256\n",
            "Epoch 17/50\n",
            "800167/800167 [==============================] - 20s 25us/step - loss: 0.7781 - acc: 0.4369 - val_loss: 0.8125 - val_acc: 0.4279\n",
            "Epoch 18/50\n",
            "800167/800167 [==============================] - 20s 25us/step - loss: 0.7736 - acc: 0.4377 - val_loss: 0.8122 - val_acc: 0.4295\n",
            "Epoch 19/50\n",
            "800167/800167 [==============================] - 20s 25us/step - loss: 0.7692 - acc: 0.4386 - val_loss: 0.8122 - val_acc: 0.4256\n",
            "Epoch 20/50\n",
            "800167/800167 [==============================] - 20s 25us/step - loss: 0.7647 - acc: 0.4408 - val_loss: 0.8093 - val_acc: 0.4299\n",
            "Epoch 21/50\n",
            "800167/800167 [==============================] - 20s 25us/step - loss: 0.7608 - acc: 0.4418 - val_loss: 0.8096 - val_acc: 0.4258\n",
            "Epoch 22/50\n",
            "800167/800167 [==============================] - 20s 25us/step - loss: 0.7565 - acc: 0.4433 - val_loss: 0.8095 - val_acc: 0.4305\n",
            "Epoch 23/50\n",
            "800167/800167 [==============================] - 20s 25us/step - loss: 0.7523 - acc: 0.4440 - val_loss: 0.8119 - val_acc: 0.4197\n",
            "Epoch 24/50\n",
            "800167/800167 [==============================] - 20s 25us/step - loss: 0.7493 - acc: 0.4450 - val_loss: 0.8082 - val_acc: 0.4290\n",
            "Epoch 25/50\n",
            "800167/800167 [==============================] - 20s 25us/step - loss: 0.7458 - acc: 0.4457 - val_loss: 0.8086 - val_acc: 0.4296\n",
            "Epoch 26/50\n",
            "800167/800167 [==============================] - 20s 25us/step - loss: 0.7429 - acc: 0.4473 - val_loss: 0.8079 - val_acc: 0.4293\n",
            "Epoch 27/50\n",
            "800167/800167 [==============================] - 20s 25us/step - loss: 0.7397 - acc: 0.4476 - val_loss: 0.8101 - val_acc: 0.4226\n",
            "Epoch 28/50\n",
            "800167/800167 [==============================] - 20s 25us/step - loss: 0.7372 - acc: 0.4487 - val_loss: 0.8126 - val_acc: 0.4359\n",
            "Epoch 29/50\n",
            "800167/800167 [==============================] - 20s 25us/step - loss: 0.7338 - acc: 0.4499 - val_loss: 0.8110 - val_acc: 0.4256\n",
            "Epoch 30/50\n",
            "800167/800167 [==============================] - 20s 25us/step - loss: 0.7318 - acc: 0.4502 - val_loss: 0.8104 - val_acc: 0.4277\n",
            "Epoch 31/50\n",
            "800167/800167 [==============================] - 20s 25us/step - loss: 0.7285 - acc: 0.4520 - val_loss: 0.8110 - val_acc: 0.4278\n",
            "Epoch 32/50\n",
            "800167/800167 [==============================] - 20s 25us/step - loss: 0.7269 - acc: 0.4521 - val_loss: 0.8113 - val_acc: 0.4302\n",
            "Epoch 33/50\n",
            "800167/800167 [==============================] - 20s 25us/step - loss: 0.7237 - acc: 0.4529 - val_loss: 0.8116 - val_acc: 0.4282\n",
            "Epoch 34/50\n",
            "800167/800167 [==============================] - 20s 25us/step - loss: 0.7223 - acc: 0.4537 - val_loss: 0.8117 - val_acc: 0.4266\n",
            "Epoch 35/50\n",
            "800167/800167 [==============================] - 20s 25us/step - loss: 0.7194 - acc: 0.4550 - val_loss: 0.8119 - val_acc: 0.4266\n",
            "Epoch 36/50\n",
            "800167/800167 [==============================] - 20s 25us/step - loss: 0.7177 - acc: 0.4555 - val_loss: 0.8119 - val_acc: 0.4284\n",
            "Epoch 37/50\n",
            "800167/800167 [==============================] - 20s 25us/step - loss: 0.7157 - acc: 0.4562 - val_loss: 0.8138 - val_acc: 0.4293\n",
            "Epoch 38/50\n",
            "800167/800167 [==============================] - 20s 25us/step - loss: 0.7143 - acc: 0.4568 - val_loss: 0.8121 - val_acc: 0.4291\n",
            "Epoch 39/50\n",
            "800167/800167 [==============================] - 20s 25us/step - loss: 0.7121 - acc: 0.4577 - val_loss: 0.8141 - val_acc: 0.4292\n",
            "Epoch 40/50\n",
            "800167/800167 [==============================] - 20s 25us/step - loss: 0.7102 - acc: 0.4572 - val_loss: 0.8142 - val_acc: 0.4262\n",
            "Epoch 41/50\n",
            "800167/800167 [==============================] - 20s 25us/step - loss: 0.7082 - acc: 0.4580 - val_loss: 0.8146 - val_acc: 0.4253\n",
            "Epoch 42/50\n",
            "800167/800167 [==============================] - 20s 25us/step - loss: 0.7062 - acc: 0.4584 - val_loss: 0.8151 - val_acc: 0.4283\n",
            "Epoch 43/50\n",
            "800167/800167 [==============================] - 20s 25us/step - loss: 0.7052 - acc: 0.4594 - val_loss: 0.8159 - val_acc: 0.4303\n",
            "Epoch 44/50\n",
            "800167/800167 [==============================] - 20s 25us/step - loss: 0.7035 - acc: 0.4595 - val_loss: 0.8163 - val_acc: 0.4292\n",
            "Epoch 45/50\n",
            "800167/800167 [==============================] - 20s 25us/step - loss: 0.7017 - acc: 0.4602 - val_loss: 0.8182 - val_acc: 0.4336\n",
            "Epoch 46/50\n",
            "800167/800167 [==============================] - 20s 25us/step - loss: 0.7001 - acc: 0.4610 - val_loss: 0.8180 - val_acc: 0.4244\n",
            "Epoch 47/50\n",
            "800167/800167 [==============================] - 20s 25us/step - loss: 0.6987 - acc: 0.4613 - val_loss: 0.8181 - val_acc: 0.4317\n",
            "Epoch 48/50\n",
            "800167/800167 [==============================] - 20s 24us/step - loss: 0.6971 - acc: 0.4623 - val_loss: 0.8155 - val_acc: 0.4303\n",
            "Epoch 49/50\n",
            "800167/800167 [==============================] - 19s 24us/step - loss: 0.6962 - acc: 0.4623 - val_loss: 0.8187 - val_acc: 0.4289\n",
            "Epoch 50/50\n",
            "800167/800167 [==============================] - 19s 24us/step - loss: 0.6943 - acc: 0.4633 - val_loss: 0.8184 - val_acc: 0.4304\n"
          ],
          "name": "stdout"
        }
      ]
    },
    {
      "metadata": {
        "id": "xORnKUt_DfS-",
        "colab_type": "code",
        "colab": {}
      },
      "cell_type": "code",
      "source": [
        ""
      ],
      "execution_count": 0,
      "outputs": []
    },
    {
      "metadata": {
        "id": "as1sPp3g2W0O",
        "colab_type": "code",
        "colab": {}
      },
      "cell_type": "code",
      "source": [
        ""
      ],
      "execution_count": 0,
      "outputs": []
    },
    {
      "metadata": {
        "id": "NX6e6rhM2Wq7",
        "colab_type": "text"
      },
      "cell_type": "markdown",
      "source": [
        ""
      ]
    },
    {
      "metadata": {
        "id": "ASRFXuC1w1dx",
        "colab_type": "code",
        "outputId": "5d8a4a76-6aa9-424c-f558-a22956f664e1",
        "colab": {
          "base_uri": "https://localhost:8080/",
          "height": 629
        }
      },
      "cell_type": "code",
      "source": [
        "model.summary()"
      ],
      "execution_count": 32,
      "outputs": [
        {
          "output_type": "stream",
          "text": [
            "__________________________________________________________________________________________________\n",
            "Layer (type)                    Output Shape         Param #     Connected to                     \n",
            "==================================================================================================\n",
            "user (InputLayer)               (None, 1)            0                                            \n",
            "__________________________________________________________________________________________________\n",
            "item (InputLayer)               (None, 1)            0                                            \n",
            "__________________________________________________________________________________________________\n",
            "user_embedding (Embedding)      (None, 1, 10)        60410       user[0][0]                       \n",
            "__________________________________________________________________________________________________\n",
            "item_embedding (Embedding)      (None, 1, 10)        37070       item[0][0]                       \n",
            "__________________________________________________________________________________________________\n",
            "flatten_9 (Flatten)             (None, 10)           0           user_embedding[0][0]             \n",
            "__________________________________________________________________________________________________\n",
            "flatten_10 (Flatten)            (None, 10)           0           item_embedding[0][0]             \n",
            "__________________________________________________________________________________________________\n",
            "concatenate_5 (Concatenate)     (None, 20)           0           flatten_9[0][0]                  \n",
            "                                                                 flatten_10[0][0]                 \n",
            "__________________________________________________________________________________________________\n",
            "dense_36 (Dense)                (None, 300)          6300        concatenate_5[0][0]              \n",
            "__________________________________________________________________________________________________\n",
            "batch_normalization_13 (BatchNo (None, 300)          1200        dense_36[0][0]                   \n",
            "__________________________________________________________________________________________________\n",
            "dropout_14 (Dropout)            (None, 300)          0           batch_normalization_13[0][0]     \n",
            "__________________________________________________________________________________________________\n",
            "dense_37 (Dense)                (None, 600)          180600      dropout_14[0][0]                 \n",
            "__________________________________________________________________________________________________\n",
            "batch_normalization_14 (BatchNo (None, 600)          2400        dense_37[0][0]                   \n",
            "__________________________________________________________________________________________________\n",
            "dropout_15 (Dropout)            (None, 600)          0           batch_normalization_14[0][0]     \n",
            "__________________________________________________________________________________________________\n",
            "dense_38 (Dense)                (None, 1)            601         dropout_15[0][0]                 \n",
            "==================================================================================================\n",
            "Total params: 288,581\n",
            "Trainable params: 286,781\n",
            "Non-trainable params: 1,800\n",
            "__________________________________________________________________________________________________\n"
          ],
          "name": "stdout"
        }
      ]
    },
    {
      "metadata": {
        "id": "s7ZRKXj-cNVD",
        "colab_type": "code",
        "colab": {}
      },
      "cell_type": "code",
      "source": [
        "from IPython.display import SVG\n",
        "from keras.utils.vis_utils import model_to_dot"
      ],
      "execution_count": 0,
      "outputs": []
    },
    {
      "metadata": {
        "id": "nM-eF8ylcRc5",
        "colab_type": "code",
        "colab": {
          "base_uri": "https://localhost:8080/",
          "height": 1221
        },
        "outputId": "38777045-7c5a-4086-b154-b77cc7a34394"
      },
      "cell_type": "code",
      "source": [
        "SVG(model_to_dot(model,  show_shapes=True, show_layer_names=True, rankdir='HB').create(prog='dot', format='svg'))"
      ],
      "execution_count": 33,
      "outputs": [
        {
          "output_type": "execute_result",
          "data": {
            "text/plain": [
              "<IPython.core.display.SVG object>"
            ],
            "image/svg+xml": "<svg height=\"885pt\" viewBox=\"0.00 0.00 707.50 885.00\" width=\"708pt\" xmlns=\"http://www.w3.org/2000/svg\" xmlns:xlink=\"http://www.w3.org/1999/xlink\">\n<g class=\"graph\" id=\"graph0\" transform=\"scale(1 1) rotate(0) translate(4 881)\">\n<title>G</title>\n<polygon fill=\"#ffffff\" points=\"-4,4 -4,-881 703.5,-881 703.5,4 -4,4\" stroke=\"transparent\"/>\n<!-- 140543061764192 -->\n<g class=\"node\" id=\"node1\">\n<title>140543061764192</title>\n<polygon fill=\"none\" points=\"49.5,-830.5 49.5,-876.5 290.5,-876.5 290.5,-830.5 49.5,-830.5\" stroke=\"#000000\"/>\n<text fill=\"#000000\" font-family=\"Times,serif\" font-size=\"14.00\" text-anchor=\"middle\" x=\"105\" y=\"-849.8\">user: InputLayer</text>\n<polyline fill=\"none\" points=\"160.5,-830.5 160.5,-876.5 \" stroke=\"#000000\"/>\n<text fill=\"#000000\" font-family=\"Times,serif\" font-size=\"14.00\" text-anchor=\"middle\" x=\"189.5\" y=\"-861.3\">input:</text>\n<polyline fill=\"none\" points=\"160.5,-853.5 218.5,-853.5 \" stroke=\"#000000\"/>\n<text fill=\"#000000\" font-family=\"Times,serif\" font-size=\"14.00\" text-anchor=\"middle\" x=\"189.5\" y=\"-838.3\">output:</text>\n<polyline fill=\"none\" points=\"218.5,-830.5 218.5,-876.5 \" stroke=\"#000000\"/>\n<text fill=\"#000000\" font-family=\"Times,serif\" font-size=\"14.00\" text-anchor=\"middle\" x=\"254.5\" y=\"-861.3\">(None, 1)</text>\n<polyline fill=\"none\" points=\"218.5,-853.5 290.5,-853.5 \" stroke=\"#000000\"/>\n<text fill=\"#000000\" font-family=\"Times,serif\" font-size=\"14.00\" text-anchor=\"middle\" x=\"254.5\" y=\"-838.3\">(None, 1)</text>\n</g>\n<!-- 140543061764248 -->\n<g class=\"node\" id=\"node3\">\n<title>140543061764248</title>\n<polygon fill=\"none\" points=\"0,-747.5 0,-793.5 340,-793.5 340,-747.5 0,-747.5\" stroke=\"#000000\"/>\n<text fill=\"#000000\" font-family=\"Times,serif\" font-size=\"14.00\" text-anchor=\"middle\" x=\"93.5\" y=\"-766.8\">user_embedding: Embedding</text>\n<polyline fill=\"none\" points=\"187,-747.5 187,-793.5 \" stroke=\"#000000\"/>\n<text fill=\"#000000\" font-family=\"Times,serif\" font-size=\"14.00\" text-anchor=\"middle\" x=\"216\" y=\"-778.3\">input:</text>\n<polyline fill=\"none\" points=\"187,-770.5 245,-770.5 \" stroke=\"#000000\"/>\n<text fill=\"#000000\" font-family=\"Times,serif\" font-size=\"14.00\" text-anchor=\"middle\" x=\"216\" y=\"-755.3\">output:</text>\n<polyline fill=\"none\" points=\"245,-747.5 245,-793.5 \" stroke=\"#000000\"/>\n<text fill=\"#000000\" font-family=\"Times,serif\" font-size=\"14.00\" text-anchor=\"middle\" x=\"292.5\" y=\"-778.3\">(None, 1)</text>\n<polyline fill=\"none\" points=\"245,-770.5 340,-770.5 \" stroke=\"#000000\"/>\n<text fill=\"#000000\" font-family=\"Times,serif\" font-size=\"14.00\" text-anchor=\"middle\" x=\"292.5\" y=\"-755.3\">(None, 1, 10)</text>\n</g>\n<!-- 140543061764192&#45;&gt;140543061764248 -->\n<g class=\"edge\" id=\"edge1\">\n<title>140543061764192-&gt;140543061764248</title>\n<path d=\"M170,-830.3799C170,-822.1745 170,-812.7679 170,-803.8786\" fill=\"none\" stroke=\"#000000\"/>\n<polygon fill=\"#000000\" points=\"173.5001,-803.784 170,-793.784 166.5001,-803.784 173.5001,-803.784\" stroke=\"#000000\"/>\n</g>\n<!-- 140543061764304 -->\n<g class=\"node\" id=\"node2\">\n<title>140543061764304</title>\n<polygon fill=\"none\" points=\"407.5,-830.5 407.5,-876.5 650.5,-876.5 650.5,-830.5 407.5,-830.5\" stroke=\"#000000\"/>\n<text fill=\"#000000\" font-family=\"Times,serif\" font-size=\"14.00\" text-anchor=\"middle\" x=\"464\" y=\"-849.8\">item: InputLayer</text>\n<polyline fill=\"none\" points=\"520.5,-830.5 520.5,-876.5 \" stroke=\"#000000\"/>\n<text fill=\"#000000\" font-family=\"Times,serif\" font-size=\"14.00\" text-anchor=\"middle\" x=\"549.5\" y=\"-861.3\">input:</text>\n<polyline fill=\"none\" points=\"520.5,-853.5 578.5,-853.5 \" stroke=\"#000000\"/>\n<text fill=\"#000000\" font-family=\"Times,serif\" font-size=\"14.00\" text-anchor=\"middle\" x=\"549.5\" y=\"-838.3\">output:</text>\n<polyline fill=\"none\" points=\"578.5,-830.5 578.5,-876.5 \" stroke=\"#000000\"/>\n<text fill=\"#000000\" font-family=\"Times,serif\" font-size=\"14.00\" text-anchor=\"middle\" x=\"614.5\" y=\"-861.3\">(None, 1)</text>\n<polyline fill=\"none\" points=\"578.5,-853.5 650.5,-853.5 \" stroke=\"#000000\"/>\n<text fill=\"#000000\" font-family=\"Times,serif\" font-size=\"14.00\" text-anchor=\"middle\" x=\"614.5\" y=\"-838.3\">(None, 1)</text>\n</g>\n<!-- 140543061764472 -->\n<g class=\"node\" id=\"node4\">\n<title>140543061764472</title>\n<polygon fill=\"none\" points=\"358.5,-747.5 358.5,-793.5 699.5,-793.5 699.5,-747.5 358.5,-747.5\" stroke=\"#000000\"/>\n<text fill=\"#000000\" font-family=\"Times,serif\" font-size=\"14.00\" text-anchor=\"middle\" x=\"452.5\" y=\"-766.8\">item_embedding: Embedding</text>\n<polyline fill=\"none\" points=\"546.5,-747.5 546.5,-793.5 \" stroke=\"#000000\"/>\n<text fill=\"#000000\" font-family=\"Times,serif\" font-size=\"14.00\" text-anchor=\"middle\" x=\"575.5\" y=\"-778.3\">input:</text>\n<polyline fill=\"none\" points=\"546.5,-770.5 604.5,-770.5 \" stroke=\"#000000\"/>\n<text fill=\"#000000\" font-family=\"Times,serif\" font-size=\"14.00\" text-anchor=\"middle\" x=\"575.5\" y=\"-755.3\">output:</text>\n<polyline fill=\"none\" points=\"604.5,-747.5 604.5,-793.5 \" stroke=\"#000000\"/>\n<text fill=\"#000000\" font-family=\"Times,serif\" font-size=\"14.00\" text-anchor=\"middle\" x=\"652\" y=\"-778.3\">(None, 1)</text>\n<polyline fill=\"none\" points=\"604.5,-770.5 699.5,-770.5 \" stroke=\"#000000\"/>\n<text fill=\"#000000\" font-family=\"Times,serif\" font-size=\"14.00\" text-anchor=\"middle\" x=\"652\" y=\"-755.3\">(None, 1, 10)</text>\n</g>\n<!-- 140543061764304&#45;&gt;140543061764472 -->\n<g class=\"edge\" id=\"edge2\">\n<title>140543061764304-&gt;140543061764472</title>\n<path d=\"M529,-830.3799C529,-822.1745 529,-812.7679 529,-803.8786\" fill=\"none\" stroke=\"#000000\"/>\n<polygon fill=\"#000000\" points=\"532.5001,-803.784 529,-793.784 525.5001,-803.784 532.5001,-803.784\" stroke=\"#000000\"/>\n</g>\n<!-- 140543061135544 -->\n<g class=\"node\" id=\"node5\">\n<title>140543061135544</title>\n<polygon fill=\"none\" points=\"72,-664.5 72,-710.5 338,-710.5 338,-664.5 72,-664.5\" stroke=\"#000000\"/>\n<text fill=\"#000000\" font-family=\"Times,serif\" font-size=\"14.00\" text-anchor=\"middle\" x=\"128.5\" y=\"-683.8\">flatten_9: Flatten</text>\n<polyline fill=\"none\" points=\"185,-664.5 185,-710.5 \" stroke=\"#000000\"/>\n<text fill=\"#000000\" font-family=\"Times,serif\" font-size=\"14.00\" text-anchor=\"middle\" x=\"214\" y=\"-695.3\">input:</text>\n<polyline fill=\"none\" points=\"185,-687.5 243,-687.5 \" stroke=\"#000000\"/>\n<text fill=\"#000000\" font-family=\"Times,serif\" font-size=\"14.00\" text-anchor=\"middle\" x=\"214\" y=\"-672.3\">output:</text>\n<polyline fill=\"none\" points=\"243,-664.5 243,-710.5 \" stroke=\"#000000\"/>\n<text fill=\"#000000\" font-family=\"Times,serif\" font-size=\"14.00\" text-anchor=\"middle\" x=\"290.5\" y=\"-695.3\">(None, 1, 10)</text>\n<polyline fill=\"none\" points=\"243,-687.5 338,-687.5 \" stroke=\"#000000\"/>\n<text fill=\"#000000\" font-family=\"Times,serif\" font-size=\"14.00\" text-anchor=\"middle\" x=\"290.5\" y=\"-672.3\">(None, 10)</text>\n</g>\n<!-- 140543061764248&#45;&gt;140543061135544 -->\n<g class=\"edge\" id=\"edge3\">\n<title>140543061764248-&gt;140543061135544</title>\n<path d=\"M179.7495,-747.3799C183.3224,-738.907 187.4354,-729.1531 191.2907,-720.0107\" fill=\"none\" stroke=\"#000000\"/>\n<polygon fill=\"#000000\" points=\"194.5208,-721.3582 195.1814,-710.784 188.0709,-718.6383 194.5208,-721.3582\" stroke=\"#000000\"/>\n</g>\n<!-- 140543060844496 -->\n<g class=\"node\" id=\"node6\">\n<title>140543060844496</title>\n<polygon fill=\"none\" points=\"374,-664.5 374,-710.5 648,-710.5 648,-664.5 374,-664.5\" stroke=\"#000000\"/>\n<text fill=\"#000000\" font-family=\"Times,serif\" font-size=\"14.00\" text-anchor=\"middle\" x=\"434.5\" y=\"-683.8\">flatten_10: Flatten</text>\n<polyline fill=\"none\" points=\"495,-664.5 495,-710.5 \" stroke=\"#000000\"/>\n<text fill=\"#000000\" font-family=\"Times,serif\" font-size=\"14.00\" text-anchor=\"middle\" x=\"524\" y=\"-695.3\">input:</text>\n<polyline fill=\"none\" points=\"495,-687.5 553,-687.5 \" stroke=\"#000000\"/>\n<text fill=\"#000000\" font-family=\"Times,serif\" font-size=\"14.00\" text-anchor=\"middle\" x=\"524\" y=\"-672.3\">output:</text>\n<polyline fill=\"none\" points=\"553,-664.5 553,-710.5 \" stroke=\"#000000\"/>\n<text fill=\"#000000\" font-family=\"Times,serif\" font-size=\"14.00\" text-anchor=\"middle\" x=\"600.5\" y=\"-695.3\">(None, 1, 10)</text>\n<polyline fill=\"none\" points=\"553,-687.5 648,-687.5 \" stroke=\"#000000\"/>\n<text fill=\"#000000\" font-family=\"Times,serif\" font-size=\"14.00\" text-anchor=\"middle\" x=\"600.5\" y=\"-672.3\">(None, 10)</text>\n</g>\n<!-- 140543061764472&#45;&gt;140543060844496 -->\n<g class=\"edge\" id=\"edge4\">\n<title>140543061764472-&gt;140543060844496</title>\n<path d=\"M523.986,-747.3799C522.1872,-739.0854 520.1222,-729.5633 518.1759,-720.5889\" fill=\"none\" stroke=\"#000000\"/>\n<polygon fill=\"#000000\" points=\"521.5895,-719.815 516.0495,-710.784 514.7485,-721.2987 521.5895,-719.815\" stroke=\"#000000\"/>\n</g>\n<!-- 140543061085096 -->\n<g class=\"node\" id=\"node7\">\n<title>140543061085096</title>\n<polygon fill=\"none\" points=\"153,-581.5 153,-627.5 545,-627.5 545,-581.5 153,-581.5\" stroke=\"#000000\"/>\n<text fill=\"#000000\" font-family=\"Times,serif\" font-size=\"14.00\" text-anchor=\"middle\" x=\"240.5\" y=\"-600.8\">concatenate_5: Concatenate</text>\n<polyline fill=\"none\" points=\"328,-581.5 328,-627.5 \" stroke=\"#000000\"/>\n<text fill=\"#000000\" font-family=\"Times,serif\" font-size=\"14.00\" text-anchor=\"middle\" x=\"357\" y=\"-612.3\">input:</text>\n<polyline fill=\"none\" points=\"328,-604.5 386,-604.5 \" stroke=\"#000000\"/>\n<text fill=\"#000000\" font-family=\"Times,serif\" font-size=\"14.00\" text-anchor=\"middle\" x=\"357\" y=\"-589.3\">output:</text>\n<polyline fill=\"none\" points=\"386,-581.5 386,-627.5 \" stroke=\"#000000\"/>\n<text fill=\"#000000\" font-family=\"Times,serif\" font-size=\"14.00\" text-anchor=\"middle\" x=\"465.5\" y=\"-612.3\">[(None, 10), (None, 10)]</text>\n<polyline fill=\"none\" points=\"386,-604.5 545,-604.5 \" stroke=\"#000000\"/>\n<text fill=\"#000000\" font-family=\"Times,serif\" font-size=\"14.00\" text-anchor=\"middle\" x=\"465.5\" y=\"-589.3\">(None, 20)</text>\n</g>\n<!-- 140543061135544&#45;&gt;140543061085096 -->\n<g class=\"edge\" id=\"edge5\">\n<title>140543061135544-&gt;140543061085096</title>\n<path d=\"M245.112,-664.3799C262.0492,-654.6175 281.9366,-643.1546 299.7524,-632.8857\" fill=\"none\" stroke=\"#000000\"/>\n<polygon fill=\"#000000\" points=\"301.9375,-635.6661 308.8536,-627.6399 298.4419,-629.6014 301.9375,-635.6661\" stroke=\"#000000\"/>\n</g>\n<!-- 140543060844496&#45;&gt;140543061085096 -->\n<g class=\"edge\" id=\"edge6\">\n<title>140543060844496-&gt;140543061085096</title>\n<path d=\"M465.874,-664.3799C446.4701,-654.4384 423.6242,-642.7334 403.3026,-632.3217\" fill=\"none\" stroke=\"#000000\"/>\n<polygon fill=\"#000000\" points=\"404.6606,-629.0849 394.1647,-627.6399 401.4687,-635.3148 404.6606,-629.0849\" stroke=\"#000000\"/>\n</g>\n<!-- 140543060844384 -->\n<g class=\"node\" id=\"node8\">\n<title>140543060844384</title>\n<polygon fill=\"none\" points=\"219.5,-498.5 219.5,-544.5 478.5,-544.5 478.5,-498.5 219.5,-498.5\" stroke=\"#000000\"/>\n<text fill=\"#000000\" font-family=\"Times,serif\" font-size=\"14.00\" text-anchor=\"middle\" x=\"276.5\" y=\"-517.8\">dense_36: Dense</text>\n<polyline fill=\"none\" points=\"333.5,-498.5 333.5,-544.5 \" stroke=\"#000000\"/>\n<text fill=\"#000000\" font-family=\"Times,serif\" font-size=\"14.00\" text-anchor=\"middle\" x=\"362.5\" y=\"-529.3\">input:</text>\n<polyline fill=\"none\" points=\"333.5,-521.5 391.5,-521.5 \" stroke=\"#000000\"/>\n<text fill=\"#000000\" font-family=\"Times,serif\" font-size=\"14.00\" text-anchor=\"middle\" x=\"362.5\" y=\"-506.3\">output:</text>\n<polyline fill=\"none\" points=\"391.5,-498.5 391.5,-544.5 \" stroke=\"#000000\"/>\n<text fill=\"#000000\" font-family=\"Times,serif\" font-size=\"14.00\" text-anchor=\"middle\" x=\"435\" y=\"-529.3\">(None, 20)</text>\n<polyline fill=\"none\" points=\"391.5,-521.5 478.5,-521.5 \" stroke=\"#000000\"/>\n<text fill=\"#000000\" font-family=\"Times,serif\" font-size=\"14.00\" text-anchor=\"middle\" x=\"435\" y=\"-506.3\">(None, 300)</text>\n</g>\n<!-- 140543061085096&#45;&gt;140543060844384 -->\n<g class=\"edge\" id=\"edge7\">\n<title>140543061085096-&gt;140543060844384</title>\n<path d=\"M349,-581.3799C349,-573.1745 349,-563.7679 349,-554.8786\" fill=\"none\" stroke=\"#000000\"/>\n<polygon fill=\"#000000\" points=\"352.5001,-554.784 349,-544.784 345.5001,-554.784 352.5001,-554.784\" stroke=\"#000000\"/>\n</g>\n<!-- 140543060675272 -->\n<g class=\"node\" id=\"node9\">\n<title>140543060675272</title>\n<polygon fill=\"none\" points=\"137.5,-415.5 137.5,-461.5 560.5,-461.5 560.5,-415.5 137.5,-415.5\" stroke=\"#000000\"/>\n<text fill=\"#000000\" font-family=\"Times,serif\" font-size=\"14.00\" text-anchor=\"middle\" x=\"276.5\" y=\"-434.8\">batch_normalization_13: BatchNormalization</text>\n<polyline fill=\"none\" points=\"415.5,-415.5 415.5,-461.5 \" stroke=\"#000000\"/>\n<text fill=\"#000000\" font-family=\"Times,serif\" font-size=\"14.00\" text-anchor=\"middle\" x=\"444.5\" y=\"-446.3\">input:</text>\n<polyline fill=\"none\" points=\"415.5,-438.5 473.5,-438.5 \" stroke=\"#000000\"/>\n<text fill=\"#000000\" font-family=\"Times,serif\" font-size=\"14.00\" text-anchor=\"middle\" x=\"444.5\" y=\"-423.3\">output:</text>\n<polyline fill=\"none\" points=\"473.5,-415.5 473.5,-461.5 \" stroke=\"#000000\"/>\n<text fill=\"#000000\" font-family=\"Times,serif\" font-size=\"14.00\" text-anchor=\"middle\" x=\"517\" y=\"-446.3\">(None, 300)</text>\n<polyline fill=\"none\" points=\"473.5,-438.5 560.5,-438.5 \" stroke=\"#000000\"/>\n<text fill=\"#000000\" font-family=\"Times,serif\" font-size=\"14.00\" text-anchor=\"middle\" x=\"517\" y=\"-423.3\">(None, 300)</text>\n</g>\n<!-- 140543060844384&#45;&gt;140543060675272 -->\n<g class=\"edge\" id=\"edge8\">\n<title>140543060844384-&gt;140543060675272</title>\n<path d=\"M349,-498.3799C349,-490.1745 349,-480.7679 349,-471.8786\" fill=\"none\" stroke=\"#000000\"/>\n<polygon fill=\"#000000\" points=\"352.5001,-471.784 349,-461.784 345.5001,-471.784 352.5001,-471.784\" stroke=\"#000000\"/>\n</g>\n<!-- 140543060676000 -->\n<g class=\"node\" id=\"node10\">\n<title>140543060676000</title>\n<polygon fill=\"none\" points=\"206,-332.5 206,-378.5 492,-378.5 492,-332.5 206,-332.5\" stroke=\"#000000\"/>\n<text fill=\"#000000\" font-family=\"Times,serif\" font-size=\"14.00\" text-anchor=\"middle\" x=\"276.5\" y=\"-351.8\">dropout_14: Dropout</text>\n<polyline fill=\"none\" points=\"347,-332.5 347,-378.5 \" stroke=\"#000000\"/>\n<text fill=\"#000000\" font-family=\"Times,serif\" font-size=\"14.00\" text-anchor=\"middle\" x=\"376\" y=\"-363.3\">input:</text>\n<polyline fill=\"none\" points=\"347,-355.5 405,-355.5 \" stroke=\"#000000\"/>\n<text fill=\"#000000\" font-family=\"Times,serif\" font-size=\"14.00\" text-anchor=\"middle\" x=\"376\" y=\"-340.3\">output:</text>\n<polyline fill=\"none\" points=\"405,-332.5 405,-378.5 \" stroke=\"#000000\"/>\n<text fill=\"#000000\" font-family=\"Times,serif\" font-size=\"14.00\" text-anchor=\"middle\" x=\"448.5\" y=\"-363.3\">(None, 300)</text>\n<polyline fill=\"none\" points=\"405,-355.5 492,-355.5 \" stroke=\"#000000\"/>\n<text fill=\"#000000\" font-family=\"Times,serif\" font-size=\"14.00\" text-anchor=\"middle\" x=\"448.5\" y=\"-340.3\">(None, 300)</text>\n</g>\n<!-- 140543060675272&#45;&gt;140543060676000 -->\n<g class=\"edge\" id=\"edge9\">\n<title>140543060675272-&gt;140543060676000</title>\n<path d=\"M349,-415.3799C349,-407.1745 349,-397.7679 349,-388.8786\" fill=\"none\" stroke=\"#000000\"/>\n<polygon fill=\"#000000\" points=\"352.5001,-388.784 349,-378.784 345.5001,-388.784 352.5001,-388.784\" stroke=\"#000000\"/>\n</g>\n<!-- 140543060818016 -->\n<g class=\"node\" id=\"node11\">\n<title>140543060818016</title>\n<polygon fill=\"none\" points=\"219.5,-249.5 219.5,-295.5 478.5,-295.5 478.5,-249.5 219.5,-249.5\" stroke=\"#000000\"/>\n<text fill=\"#000000\" font-family=\"Times,serif\" font-size=\"14.00\" text-anchor=\"middle\" x=\"276.5\" y=\"-268.8\">dense_37: Dense</text>\n<polyline fill=\"none\" points=\"333.5,-249.5 333.5,-295.5 \" stroke=\"#000000\"/>\n<text fill=\"#000000\" font-family=\"Times,serif\" font-size=\"14.00\" text-anchor=\"middle\" x=\"362.5\" y=\"-280.3\">input:</text>\n<polyline fill=\"none\" points=\"333.5,-272.5 391.5,-272.5 \" stroke=\"#000000\"/>\n<text fill=\"#000000\" font-family=\"Times,serif\" font-size=\"14.00\" text-anchor=\"middle\" x=\"362.5\" y=\"-257.3\">output:</text>\n<polyline fill=\"none\" points=\"391.5,-249.5 391.5,-295.5 \" stroke=\"#000000\"/>\n<text fill=\"#000000\" font-family=\"Times,serif\" font-size=\"14.00\" text-anchor=\"middle\" x=\"435\" y=\"-280.3\">(None, 300)</text>\n<polyline fill=\"none\" points=\"391.5,-272.5 478.5,-272.5 \" stroke=\"#000000\"/>\n<text fill=\"#000000\" font-family=\"Times,serif\" font-size=\"14.00\" text-anchor=\"middle\" x=\"435\" y=\"-257.3\">(None, 600)</text>\n</g>\n<!-- 140543060676000&#45;&gt;140543060818016 -->\n<g class=\"edge\" id=\"edge10\">\n<title>140543060676000-&gt;140543060818016</title>\n<path d=\"M349,-332.3799C349,-324.1745 349,-314.7679 349,-305.8786\" fill=\"none\" stroke=\"#000000\"/>\n<polygon fill=\"#000000\" points=\"352.5001,-305.784 349,-295.784 345.5001,-305.784 352.5001,-305.784\" stroke=\"#000000\"/>\n</g>\n<!-- 140543060413352 -->\n<g class=\"node\" id=\"node12\">\n<title>140543060413352</title>\n<polygon fill=\"none\" points=\"137.5,-166.5 137.5,-212.5 560.5,-212.5 560.5,-166.5 137.5,-166.5\" stroke=\"#000000\"/>\n<text fill=\"#000000\" font-family=\"Times,serif\" font-size=\"14.00\" text-anchor=\"middle\" x=\"276.5\" y=\"-185.8\">batch_normalization_14: BatchNormalization</text>\n<polyline fill=\"none\" points=\"415.5,-166.5 415.5,-212.5 \" stroke=\"#000000\"/>\n<text fill=\"#000000\" font-family=\"Times,serif\" font-size=\"14.00\" text-anchor=\"middle\" x=\"444.5\" y=\"-197.3\">input:</text>\n<polyline fill=\"none\" points=\"415.5,-189.5 473.5,-189.5 \" stroke=\"#000000\"/>\n<text fill=\"#000000\" font-family=\"Times,serif\" font-size=\"14.00\" text-anchor=\"middle\" x=\"444.5\" y=\"-174.3\">output:</text>\n<polyline fill=\"none\" points=\"473.5,-166.5 473.5,-212.5 \" stroke=\"#000000\"/>\n<text fill=\"#000000\" font-family=\"Times,serif\" font-size=\"14.00\" text-anchor=\"middle\" x=\"517\" y=\"-197.3\">(None, 600)</text>\n<polyline fill=\"none\" points=\"473.5,-189.5 560.5,-189.5 \" stroke=\"#000000\"/>\n<text fill=\"#000000\" font-family=\"Times,serif\" font-size=\"14.00\" text-anchor=\"middle\" x=\"517\" y=\"-174.3\">(None, 600)</text>\n</g>\n<!-- 140543060818016&#45;&gt;140543060413352 -->\n<g class=\"edge\" id=\"edge11\">\n<title>140543060818016-&gt;140543060413352</title>\n<path d=\"M349,-249.3799C349,-241.1745 349,-231.7679 349,-222.8786\" fill=\"none\" stroke=\"#000000\"/>\n<polygon fill=\"#000000\" points=\"352.5001,-222.784 349,-212.784 345.5001,-222.784 352.5001,-222.784\" stroke=\"#000000\"/>\n</g>\n<!-- 140543060133368 -->\n<g class=\"node\" id=\"node13\">\n<title>140543060133368</title>\n<polygon fill=\"none\" points=\"206,-83.5 206,-129.5 492,-129.5 492,-83.5 206,-83.5\" stroke=\"#000000\"/>\n<text fill=\"#000000\" font-family=\"Times,serif\" font-size=\"14.00\" text-anchor=\"middle\" x=\"276.5\" y=\"-102.8\">dropout_15: Dropout</text>\n<polyline fill=\"none\" points=\"347,-83.5 347,-129.5 \" stroke=\"#000000\"/>\n<text fill=\"#000000\" font-family=\"Times,serif\" font-size=\"14.00\" text-anchor=\"middle\" x=\"376\" y=\"-114.3\">input:</text>\n<polyline fill=\"none\" points=\"347,-106.5 405,-106.5 \" stroke=\"#000000\"/>\n<text fill=\"#000000\" font-family=\"Times,serif\" font-size=\"14.00\" text-anchor=\"middle\" x=\"376\" y=\"-91.3\">output:</text>\n<polyline fill=\"none\" points=\"405,-83.5 405,-129.5 \" stroke=\"#000000\"/>\n<text fill=\"#000000\" font-family=\"Times,serif\" font-size=\"14.00\" text-anchor=\"middle\" x=\"448.5\" y=\"-114.3\">(None, 600)</text>\n<polyline fill=\"none\" points=\"405,-106.5 492,-106.5 \" stroke=\"#000000\"/>\n<text fill=\"#000000\" font-family=\"Times,serif\" font-size=\"14.00\" text-anchor=\"middle\" x=\"448.5\" y=\"-91.3\">(None, 600)</text>\n</g>\n<!-- 140543060413352&#45;&gt;140543060133368 -->\n<g class=\"edge\" id=\"edge12\">\n<title>140543060413352-&gt;140543060133368</title>\n<path d=\"M349,-166.3799C349,-158.1745 349,-148.7679 349,-139.8786\" fill=\"none\" stroke=\"#000000\"/>\n<polygon fill=\"#000000\" points=\"352.5001,-139.784 349,-129.784 345.5001,-139.784 352.5001,-139.784\" stroke=\"#000000\"/>\n</g>\n<!-- 140543060843432 -->\n<g class=\"node\" id=\"node14\">\n<title>140543060843432</title>\n<polygon fill=\"none\" points=\"219.5,-.5 219.5,-46.5 478.5,-46.5 478.5,-.5 219.5,-.5\" stroke=\"#000000\"/>\n<text fill=\"#000000\" font-family=\"Times,serif\" font-size=\"14.00\" text-anchor=\"middle\" x=\"276.5\" y=\"-19.8\">dense_38: Dense</text>\n<polyline fill=\"none\" points=\"333.5,-.5 333.5,-46.5 \" stroke=\"#000000\"/>\n<text fill=\"#000000\" font-family=\"Times,serif\" font-size=\"14.00\" text-anchor=\"middle\" x=\"362.5\" y=\"-31.3\">input:</text>\n<polyline fill=\"none\" points=\"333.5,-23.5 391.5,-23.5 \" stroke=\"#000000\"/>\n<text fill=\"#000000\" font-family=\"Times,serif\" font-size=\"14.00\" text-anchor=\"middle\" x=\"362.5\" y=\"-8.3\">output:</text>\n<polyline fill=\"none\" points=\"391.5,-.5 391.5,-46.5 \" stroke=\"#000000\"/>\n<text fill=\"#000000\" font-family=\"Times,serif\" font-size=\"14.00\" text-anchor=\"middle\" x=\"435\" y=\"-31.3\">(None, 600)</text>\n<polyline fill=\"none\" points=\"391.5,-23.5 478.5,-23.5 \" stroke=\"#000000\"/>\n<text fill=\"#000000\" font-family=\"Times,serif\" font-size=\"14.00\" text-anchor=\"middle\" x=\"435\" y=\"-8.3\">(None, 1)</text>\n</g>\n<!-- 140543060133368&#45;&gt;140543060843432 -->\n<g class=\"edge\" id=\"edge13\">\n<title>140543060133368-&gt;140543060843432</title>\n<path d=\"M349,-83.3799C349,-75.1745 349,-65.7679 349,-56.8786\" fill=\"none\" stroke=\"#000000\"/>\n<polygon fill=\"#000000\" points=\"352.5001,-56.784 349,-46.784 345.5001,-56.784 352.5001,-56.784\" stroke=\"#000000\"/>\n</g>\n</g>\n</svg>"
          },
          "metadata": {
            "tags": []
          },
          "execution_count": 33
        }
      ]
    },
    {
      "metadata": {
        "id": "MAbt2hkMw1d2",
        "colab_type": "code",
        "colab": {}
      },
      "cell_type": "code",
      "source": [
        "# print(history)"
      ],
      "execution_count": 0,
      "outputs": []
    },
    {
      "metadata": {
        "id": "-clQPYuFw1d6",
        "colab_type": "code",
        "outputId": "7bcdd2ca-56ac-401c-f72c-5b51ad08e217",
        "colab": {
          "base_uri": "https://localhost:8080/",
          "height": 376
        }
      },
      "cell_type": "code",
      "source": [
        "import matplotlib.pyplot as plt\n",
        "plt.plot(history.history['loss'])\n",
        "plt.title('Model Loss')\n",
        "plt.ylabel('Loss')\n",
        "plt.xlabel('Epoch')\n",
        "plt.show()"
      ],
      "execution_count": 0,
      "outputs": [
        {
          "output_type": "display_data",
          "data": {
            "image/png": "[encoded data removed]",
            "text/plain": [
              "<matplotlib.figure.Figure at 0x7f15f75b06d8>"
            ]
          },
          "metadata": {
            "tags": []
          }
        }
      ]
    },
    {
      "metadata": {
        "id": "DbphJTtnw1d-",
        "colab_type": "code",
        "outputId": "7f6e6102-b08a-46fd-d773-c848b4f27e0a",
        "colab": {
          "base_uri": "https://localhost:8080/",
          "height": 376
        }
      },
      "cell_type": "code",
      "source": [
        "# Plot training & validation loss values\n",
        "plt.plot(history.history['loss'])\n",
        "plt.plot(history.history['val_loss'])\n",
        "plt.title('Model loss')\n",
        "plt.ylabel('Loss')\n",
        "plt.xlabel('Epoch')\n",
        "plt.legend(['Train', 'Test'], loc='upper left')\n",
        "plt.show()"
      ],
      "execution_count": 0,
      "outputs": [
        {
          "output_type": "display_data",
          "data": {
            "image/png": "[encoded data removed]",
            "text/plain": [
              "<matplotlib.figure.Figure at 0x7f15f753a860>"
            ]
          },
          "metadata": {
            "tags": []
          }
        }
      ]
    },
    {
      "metadata": {
        "id": "lM_VSmhq4Hjx",
        "colab_type": "code",
        "outputId": "d2865178-1f38-4b47-c497-dfd8fb6db487",
        "colab": {
          "base_uri": "https://localhost:8080/",
          "height": 376
        }
      },
      "cell_type": "code",
      "source": [
        "# Plot training & validation loss values\n",
        "plt.plot(history.history['acc'])\n",
        "plt.plot(history.history['val_acc'])\n",
        "plt.title('Model Accury')\n",
        "plt.ylabel('accury')\n",
        "plt.xlabel('Epoch')\n",
        "plt.legend(['Train', 'Test'], loc='upper left')\n",
        "plt.show()"
      ],
      "execution_count": 0,
      "outputs": [
        {
          "output_type": "display_data",
          "data": {
            "image/png": "[encoded data removed]",
            "text/plain": [
              "<matplotlib.figure.Figure at 0x7f15f7697a20>"
            ]
          },
          "metadata": {
            "tags": []
          }
        }
      ]
    },
    {
      "metadata": {
        "id": "TJTMHkro4xiN",
        "colab_type": "code",
        "outputId": "2e5ca886-1f4a-4df8-a56f-0bff5533f754",
        "colab": {
          "base_uri": "https://localhost:8080/",
          "height": 376
        }
      },
      "cell_type": "code",
      "source": [
        "# Plot training & validation loss values\n",
        "plt.plot(history.history['mean_absolute_error'])\n",
        "plt.title('Model Mean absolute error')\n",
        "plt.ylabel('MAE')\n",
        "plt.xlabel('Epoch')\n",
        "plt.show()"
      ],
      "execution_count": 0,
      "outputs": [
        {
          "output_type": "display_data",
          "data": {
            "image/png": "[encoded data removed]",
            "text/plain": [
              "<matplotlib.figure.Figure at 0x7f15f8754588>"
            ]
          },
          "metadata": {
            "tags": []
          }
        }
      ]
    },
    {
      "metadata": {
        "id": "z7YJ-ZFQw1eC",
        "colab_type": "code",
        "colab": {}
      },
      "cell_type": "code",
      "source": [
        "# history.history['acc']"
      ],
      "execution_count": 0,
      "outputs": []
    },
    {
      "metadata": {
        "id": "pSK-4Vedw1eE",
        "colab_type": "code",
        "colab": {}
      },
      "cell_type": "code",
      "source": [
        "# user_id_input = Input(shape=[1], name='user')\n",
        "# item_id_input = Input(shape=[1], name='item')\n",
        "\n",
        "# user_embedding = Embedding(output_dim=100, input_dim=a.shape[0] + 1,\n",
        "#                                    input_length=1, name='user_embedding')(user_id_input)\n",
        "# item_embedding = Embedding(output_dim=100, input_dim=a.shape[1] + 1,\n",
        "#                                    input_length=1, name='item_embedding')(item_id_input)\n",
        "\n",
        "# # reshape from shape: (batch_size, input_length, embedding_size)\n",
        "# # to shape: (batch_size, input_length * embedding_size) which is\n",
        "# # equal to shape: (batch_size, embedding_size)\n",
        "# user_vecs = Flatten()(user_embedding)\n",
        "# item_vecs = Flatten()(item_embedding)\n",
        "\n",
        "#         # y = merge([user_vecs, item_vecs], mode='dot', output_shape=(1,))\n",
        "# y = dot([user_vecs, item_vecs], axes=1)\n",
        "\n",
        "# y = Dense\n",
        "\n",
        "# model = Model(inputs=[user_id_input, item_id_input], outputs=[y])\n",
        "# model.compile(optimizer='adam', loss='mae',metrics=['accuracy'])"
      ],
      "execution_count": 0,
      "outputs": []
    },
    {
      "metadata": {
        "id": "5qEkGyiQw1eG",
        "colab_type": "code",
        "colab": {}
      },
      "cell_type": "code",
      "source": [
        "# history = model.fit([Users,Movies], Ratings, batch_size=32, epochs = 5, verbose=1)"
      ],
      "execution_count": 0,
      "outputs": []
    },
    {
      "metadata": {
        "id": "4uM_7ZqTlo_h",
        "colab_type": "code",
        "colab": {}
      },
      "cell_type": "code",
      "source": [
        "from sklearn.cluster import KMeans\n",
        "kmeans_1 = KMeans(n_clusters=10, n_init=20, n_jobs=4)\n",
        "predictions = kmeans_1.fit_predict(filepath)"
      ],
      "execution_count": 0,
      "outputs": []
    },
    {
      "metadata": {
        "id": "ow9Z64DuzZ8M",
        "colab_type": "code",
        "colab": {}
      },
      "cell_type": "code",
      "source": [
        "def encoder()"
      ],
      "execution_count": 0,
      "outputs": []
    }
  ]
}