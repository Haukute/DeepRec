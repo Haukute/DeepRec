{
  "nbformat": 4,
  "nbformat_minor": 0,
  "metadata": {
    "colab": {
      "name": "run_model.ipynb",
      "version": "0.3.2",
      "provenance": [],
      "toc_visible": true
    },
    "kernelspec": {
      "name": "python3",
      "display_name": "Python 3"
    },
    "accelerator": "GPU"
  },
  "cells": [
    {
      "metadata": {
        "id": "MHOJF4Czy2Jn",
        "colab_type": "code",
        "outputId": "f3be5dfe-f530-4d3b-fecf-95aa427f3245",
        "colab": {
          "base_uri": "https://localhost:8080/",
          "height": 34
        }
      },
      "cell_type": "code",
      "source": [
        "!ls"
      ],
      "execution_count": 0,
      "outputs": [
        {
          "output_type": "stream",
          "text": [
            "my_model.h5  ratings.dat  sample_data  u1.test\n"
          ],
          "name": "stdout"
        }
      ]
    },
    {
      "metadata": {
        "id": "W4J85_1woFf0",
        "colab_type": "code",
        "colab": {}
      },
      "cell_type": "code",
      "source": [
        ""
      ],
      "execution_count": 0,
      "outputs": []
    },
    {
      "metadata": {
        "id": "avIhwrc1oFdD",
        "colab_type": "code",
        "colab": {}
      },
      "cell_type": "code",
      "source": [
        "import tensorflow as tf\n",
        "graph = tf.get_default_graph()"
      ],
      "execution_count": 0,
      "outputs": []
    },
    {
      "metadata": {
        "id": "IRPTZXXnoFZd",
        "colab_type": "code",
        "colab": {}
      },
      "cell_type": "code",
      "source": [
        ""
      ],
      "execution_count": 0,
      "outputs": []
    },
    {
      "metadata": {
        "id": "DgLOEeR8w1dA",
        "colab_type": "code",
        "colab": {}
      },
      "cell_type": "code",
      "source": [
        "filepath = 'ratings_data.txt'\n",
        "# a = DataSet(filepath)"
      ],
      "execution_count": 0,
      "outputs": []
    },
    {
      "metadata": {
        "id": "TTfTEZl0w1dJ",
        "colab_type": "code",
        "colab": {}
      },
      "cell_type": "code",
      "source": [
        "import numpy as np\n",
        "import pandas as pd\n"
      ],
      "execution_count": 0,
      "outputs": []
    },
    {
      "metadata": {
        "id": "Iom03pJmw1dP",
        "colab_type": "code",
        "colab": {}
      },
      "cell_type": "code",
      "source": [
        "# filename = './Data/ml-1m/u.data'\n",
        "# name = ['user', 'item', 'ratings', 'time']\n",
        "# df1 = pd.read_csv(filepath)\n",
        "# df1 = df1.drop(columns=['time'])"
      ],
      "execution_count": 0,
      "outputs": []
    },
    {
      "metadata": {
        "id": "lvKhXFLBawDv",
        "colab_type": "code",
        "colab": {}
      },
      "cell_type": "code",
      "source": [
        "trustfile = 'trusts.txt'\n",
        "ratefile = 'movie-ratings.txt'"
      ],
      "execution_count": 0,
      "outputs": []
    },
    {
      "metadata": {
        "id": "gzqR_HgDa07h",
        "colab_type": "code",
        "colab": {}
      },
      "cell_type": "code",
      "source": [
        "name = ['userID', 'movieID', 'genreID', 'reviewID', 'movieRating', 'date']\n",
        "df = pd.read_csv(ratefile, sep=',',names=name)\n",
        "df = df.drop(columns=['genreID','reviewID','date'])\n"
      ],
      "execution_count": 0,
      "outputs": []
    },
    {
      "metadata": {
        "id": "csB-ngPbJvzL",
        "colab_type": "code",
        "colab": {}
      },
      "cell_type": "code",
      "source": [
        "lenu, leni = len(df.userID.unique()), len(df.movieID.unique())"
      ],
      "execution_count": 0,
      "outputs": []
    },
    {
      "metadata": {
        "id": "5iyb-GKvbGKv",
        "colab_type": "code",
        "colab": {}
      },
      "cell_type": "code",
      "source": [
        "trustname = ['trustorID', 'trusteeID', 'trustValue']\n",
        "dft = pd.read_csv(trustfile, sep = ',', names = trustname)"
      ],
      "execution_count": 0,
      "outputs": []
    },
    {
      "metadata": {
        "id": "Rx28Z6p0a7Rf",
        "colab_type": "code",
        "outputId": "4429e17c-abfa-4ce8-dd03-cff95ac24ff7",
        "colab": {
          "base_uri": "https://localhost:8080/",
          "height": 34
        }
      },
      "cell_type": "code",
      "source": [
        "df.movieID.max()"
      ],
      "execution_count": 0,
      "outputs": [
        {
          "output_type": "execute_result",
          "data": {
            "text/plain": [
              "16121"
            ]
          },
          "metadata": {
            "tags": []
          },
          "execution_count": 50
        }
      ]
    },
    {
      "metadata": {
        "id": "s0TZ-nC5bWLn",
        "colab_type": "code",
        "outputId": "dc8190df-f899-462d-b46a-8cac035d42ea",
        "colab": {
          "base_uri": "https://localhost:8080/",
          "height": 204
        }
      },
      "cell_type": "code",
      "source": [
        "dft.head()"
      ],
      "execution_count": 0,
      "outputs": [
        {
          "output_type": "execute_result",
          "data": {
            "text/html": [
              "<div>\n",
              "<style scoped>\n",
              "    .dataframe tbody tr th:only-of-type {\n",
              "        vertical-align: middle;\n",
              "    }\n",
              "\n",
              "    .dataframe tbody tr th {\n",
              "        vertical-align: top;\n",
              "    }\n",
              "\n",
              "    .dataframe thead th {\n",
              "        text-align: right;\n",
              "    }\n",
              "</style>\n",
              "<table border=\"1\" class=\"dataframe\">\n",
              "  <thead>\n",
              "    <tr style=\"text-align: right;\">\n",
              "      <th></th>\n",
              "      <th>trustorID</th>\n",
              "      <th>trusteeID</th>\n",
              "      <th>trustValue</th>\n",
              "    </tr>\n",
              "  </thead>\n",
              "  <tbody>\n",
              "    <tr>\n",
              "      <th>0</th>\n",
              "      <td>8874</td>\n",
              "      <td>14430</td>\n",
              "      <td>1</td>\n",
              "    </tr>\n",
              "    <tr>\n",
              "      <th>1</th>\n",
              "      <td>6417</td>\n",
              "      <td>17660</td>\n",
              "      <td>1</td>\n",
              "    </tr>\n",
              "    <tr>\n",
              "      <th>2</th>\n",
              "      <td>4218</td>\n",
              "      <td>953</td>\n",
              "      <td>1</td>\n",
              "    </tr>\n",
              "    <tr>\n",
              "      <th>3</th>\n",
              "      <td>4218</td>\n",
              "      <td>3304</td>\n",
              "      <td>1</td>\n",
              "    </tr>\n",
              "    <tr>\n",
              "      <th>4</th>\n",
              "      <td>4218</td>\n",
              "      <td>3977</td>\n",
              "      <td>1</td>\n",
              "    </tr>\n",
              "  </tbody>\n",
              "</table>\n",
              "</div>"
            ],
            "text/plain": [
              "   trustorID  trusteeID  trustValue\n",
              "0       8874      14430           1\n",
              "1       6417      17660           1\n",
              "2       4218        953           1\n",
              "3       4218       3304           1\n",
              "4       4218       3977           1"
            ]
          },
          "metadata": {
            "tags": []
          },
          "execution_count": 10
        }
      ]
    },
    {
      "metadata": {
        "id": "YDl7s8K0VlQ3",
        "colab_type": "code",
        "colab": {}
      },
      "cell_type": "code",
      "source": [
        "from collections import defaultdict"
      ],
      "execution_count": 0,
      "outputs": []
    },
    {
      "metadata": {
        "id": "i93dnjnbbn42",
        "colab_type": "code",
        "colab": {}
      },
      "cell_type": "code",
      "source": [
        "trustmatrix = np.array(dft)"
      ],
      "execution_count": 0,
      "outputs": []
    },
    {
      "metadata": {
        "id": "Uu21fbhvbsO5",
        "colab_type": "code",
        "outputId": "b4f2739d-6dd7-4c4e-c5df-e1c6fe88b50b",
        "colab": {
          "base_uri": "https://localhost:8080/",
          "height": 34
        }
      },
      "cell_type": "code",
      "source": [
        "trustmatrix.shape"
      ],
      "execution_count": 0,
      "outputs": [
        {
          "output_type": "execute_result",
          "data": {
            "text/plain": [
              "(40133, 3)"
            ]
          },
          "metadata": {
            "tags": []
          },
          "execution_count": 13
        }
      ]
    },
    {
      "metadata": {
        "id": "RZGY6WazNn85",
        "colab_type": "code",
        "outputId": "c0d20bf6-0fd0-4c49-9edc-9cb60d6d47ae",
        "colab": {
          "base_uri": "https://localhost:8080/",
          "height": 34
        }
      },
      "cell_type": "code",
      "source": [
        "trustmatrix[1][0]"
      ],
      "execution_count": 0,
      "outputs": [
        {
          "output_type": "execute_result",
          "data": {
            "text/plain": [
              "6417"
            ]
          },
          "metadata": {
            "tags": []
          },
          "execution_count": 14
        }
      ]
    },
    {
      "metadata": {
        "id": "KlK6ba4Fd5g6",
        "colab_type": "code",
        "outputId": "fb6cfa77-bd21-4e41-87fe-4eaf336cc4cd",
        "colab": {
          "base_uri": "https://localhost:8080/",
          "height": 34
        }
      },
      "cell_type": "code",
      "source": [
        "len(dft.trusteeID.unique())"
      ],
      "execution_count": 0,
      "outputs": [
        {
          "output_type": "execute_result",
          "data": {
            "text/plain": [
              "4299"
            ]
          },
          "metadata": {
            "tags": []
          },
          "execution_count": 15
        }
      ]
    },
    {
      "metadata": {
        "id": "xOdkO-x8Nz03",
        "colab_type": "code",
        "colab": {}
      },
      "cell_type": "code",
      "source": [
        "trustor = defaultdict(dict)"
      ],
      "execution_count": 0,
      "outputs": []
    },
    {
      "metadata": {
        "id": "LLKv45BNNhTH",
        "colab_type": "code",
        "outputId": "f210c576-14e3-4a21-ba56-be9d26d931c3",
        "colab": {
          "base_uri": "https://localhost:8080/",
          "height": 214
        }
      },
      "cell_type": "code",
      "source": [
        "\n",
        "for i in range(len(trustmatrix)):\n",
        "  if trustmatrix[i][0] not in trustor:\n",
        "    trustor[trustmatrix[i][0]] = {}\n",
        "  trustor[trustmatrix[i][0]].append(trustmatrix[i][1])\n",
        "  "
      ],
      "execution_count": 0,
      "outputs": [
        {
          "output_type": "error",
          "ename": "AttributeError",
          "evalue": "ignored",
          "traceback": [
            "\u001b[0;31m---------------------------------------------------------------------------\u001b[0m",
            "\u001b[0;31mAttributeError\u001b[0m                            Traceback (most recent call last)",
            "\u001b[0;32m<ipython-input-28-aa1c87ecc894>\u001b[0m in \u001b[0;36m<module>\u001b[0;34m()\u001b[0m\n\u001b[1;32m      3\u001b[0m   \u001b[0;32mif\u001b[0m \u001b[0mtrustmatrix\u001b[0m\u001b[0;34m[\u001b[0m\u001b[0mi\u001b[0m\u001b[0;34m]\u001b[0m\u001b[0;34m[\u001b[0m\u001b[0;36m0\u001b[0m\u001b[0;34m]\u001b[0m \u001b[0;32mnot\u001b[0m \u001b[0;32min\u001b[0m \u001b[0mtrustor\u001b[0m\u001b[0;34m:\u001b[0m\u001b[0;34m\u001b[0m\u001b[0;34m\u001b[0m\u001b[0m\n\u001b[1;32m      4\u001b[0m     \u001b[0mtrustor\u001b[0m\u001b[0;34m[\u001b[0m\u001b[0mtrustmatrix\u001b[0m\u001b[0;34m[\u001b[0m\u001b[0mi\u001b[0m\u001b[0;34m]\u001b[0m\u001b[0;34m[\u001b[0m\u001b[0;36m0\u001b[0m\u001b[0;34m]\u001b[0m\u001b[0;34m]\u001b[0m \u001b[0;34m=\u001b[0m \u001b[0;34m{\u001b[0m\u001b[0;34m}\u001b[0m\u001b[0;34m\u001b[0m\u001b[0;34m\u001b[0m\u001b[0m\n\u001b[0;32m----> 5\u001b[0;31m   \u001b[0mtrustor\u001b[0m\u001b[0;34m[\u001b[0m\u001b[0mtrustmatrix\u001b[0m\u001b[0;34m[\u001b[0m\u001b[0mi\u001b[0m\u001b[0;34m]\u001b[0m\u001b[0;34m[\u001b[0m\u001b[0;36m0\u001b[0m\u001b[0;34m]\u001b[0m\u001b[0;34m]\u001b[0m\u001b[0;34m.\u001b[0m\u001b[0mappend\u001b[0m\u001b[0;34m(\u001b[0m\u001b[0mtrustmatrix\u001b[0m\u001b[0;34m[\u001b[0m\u001b[0mi\u001b[0m\u001b[0;34m]\u001b[0m\u001b[0;34m[\u001b[0m\u001b[0;36m1\u001b[0m\u001b[0;34m]\u001b[0m\u001b[0;34m)\u001b[0m\u001b[0;34m\u001b[0m\u001b[0;34m\u001b[0m\u001b[0m\n\u001b[0m\u001b[1;32m      6\u001b[0m \u001b[0;34m\u001b[0m\u001b[0m\n",
            "\u001b[0;31mAttributeError\u001b[0m: 'dict' object has no attribute 'append'"
          ]
        }
      ]
    },
    {
      "metadata": {
        "id": "j6fUuRhlVLiQ",
        "colab_type": "code",
        "outputId": "cc55159f-a64a-4ce8-90f7-a0c2066aed05",
        "colab": {
          "base_uri": "https://localhost:8080/",
          "height": 34
        }
      },
      "cell_type": "code",
      "source": [
        "trustor[1132]"
      ],
      "execution_count": 0,
      "outputs": [
        {
          "output_type": "execute_result",
          "data": {
            "text/plain": [
              "{3825: 1, 13287: 1, 14923: 1, 18256: 1}"
            ]
          },
          "metadata": {
            "tags": []
          },
          "execution_count": 27
        }
      ]
    },
    {
      "metadata": {
        "id": "S4-fIsFdbxL-",
        "colab_type": "code",
        "outputId": "4063d9de-cedf-427f-cd51-bb0bb025d3cb",
        "colab": {
          "base_uri": "https://localhost:8080/",
          "height": 34
        }
      },
      "cell_type": "code",
      "source": [
        ""
      ],
      "execution_count": 0,
      "outputs": [
        {
          "output_type": "execute_result",
          "data": {
            "text/plain": [
              "{3825: 1, 13287: 1, 14923: 1, 18256: 1}"
            ]
          },
          "metadata": {
            "tags": []
          },
          "execution_count": 30
        }
      ]
    },
    {
      "metadata": {
        "id": "mH2bbRm0Byh3",
        "colab_type": "code",
        "colab": {}
      },
      "cell_type": "code",
      "source": [
        "\n",
        "# frame = pd.read_csv(filepath,sep=' ', names=['user', 'item', 'rating'])\n"
      ],
      "execution_count": 0,
      "outputs": []
    },
    {
      "metadata": {
        "id": "GEQ5qdSpCL55",
        "colab_type": "code",
        "colab": {}
      },
      "cell_type": "code",
      "source": [
        "data_dim = len(frame.user.unique()), len(frame.item.unique())\n",
        "data = np.array(frame)\n",
        "train, test = train_test_split(data, test_size=0.2)"
      ],
      "execution_count": 0,
      "outputs": []
    },
    {
      "metadata": {
        "id": "9JEnBPgXbKqs",
        "colab_type": "code",
        "outputId": "a1e5b8ea-dd3b-4001-89d0-5cbc25337247",
        "colab": {
          "base_uri": "https://localhost:8080/",
          "height": 204
        }
      },
      "cell_type": "code",
      "source": [
        "df.head()"
      ],
      "execution_count": 0,
      "outputs": [
        {
          "output_type": "execute_result",
          "data": {
            "text/html": [
              "<div>\n",
              "<style scoped>\n",
              "    .dataframe tbody tr th:only-of-type {\n",
              "        vertical-align: middle;\n",
              "    }\n",
              "\n",
              "    .dataframe tbody tr th {\n",
              "        vertical-align: top;\n",
              "    }\n",
              "\n",
              "    .dataframe thead th {\n",
              "        text-align: right;\n",
              "    }\n",
              "</style>\n",
              "<table border=\"1\" class=\"dataframe\">\n",
              "  <thead>\n",
              "    <tr style=\"text-align: right;\">\n",
              "      <th></th>\n",
              "      <th>user</th>\n",
              "      <th>item</th>\n",
              "      <th>ratings</th>\n",
              "    </tr>\n",
              "  </thead>\n",
              "  <tbody>\n",
              "    <tr>\n",
              "      <th>0</th>\n",
              "      <td>1</td>\n",
              "      <td>1193</td>\n",
              "      <td>5</td>\n",
              "    </tr>\n",
              "    <tr>\n",
              "      <th>1</th>\n",
              "      <td>1</td>\n",
              "      <td>661</td>\n",
              "      <td>3</td>\n",
              "    </tr>\n",
              "    <tr>\n",
              "      <th>2</th>\n",
              "      <td>1</td>\n",
              "      <td>914</td>\n",
              "      <td>3</td>\n",
              "    </tr>\n",
              "    <tr>\n",
              "      <th>3</th>\n",
              "      <td>1</td>\n",
              "      <td>3408</td>\n",
              "      <td>4</td>\n",
              "    </tr>\n",
              "    <tr>\n",
              "      <th>4</th>\n",
              "      <td>1</td>\n",
              "      <td>2355</td>\n",
              "      <td>5</td>\n",
              "    </tr>\n",
              "  </tbody>\n",
              "</table>\n",
              "</div>"
            ],
            "text/plain": [
              "   user  item  ratings\n",
              "0     1  1193        5\n",
              "1     1   661        3\n",
              "2     1   914        3\n",
              "3     1  3408        4\n",
              "4     1  2355        5"
            ]
          },
          "metadata": {
            "tags": []
          },
          "execution_count": 4
        }
      ]
    },
    {
      "metadata": {
        "id": "JV7Jc13kw1dT",
        "colab_type": "code",
        "colab": {}
      },
      "cell_type": "code",
      "source": [
        "data_dim = len(df.userID.unique()), len(df.movieID.unique())"
      ],
      "execution_count": 0,
      "outputs": []
    },
    {
      "metadata": {
        "id": "cg93D7srw1dW",
        "colab_type": "code",
        "outputId": "3ec2987e-51aa-450e-a04b-f3b4c399d315",
        "colab": {
          "base_uri": "https://localhost:8080/",
          "height": 34
        }
      },
      "cell_type": "code",
      "source": [
        "data_dim[0]"
      ],
      "execution_count": 0,
      "outputs": [
        {
          "output_type": "execute_result",
          "data": {
            "text/plain": [
              "17615"
            ]
          },
          "metadata": {
            "tags": []
          },
          "execution_count": 57
        }
      ]
    },
    {
      "metadata": {
        "id": "vUNWh3b3SDXF",
        "colab_type": "text"
      },
      "cell_type": "markdown",
      "source": [
        "# **Deep Recommend**"
      ]
    },
    {
      "metadata": {
        "id": "I3Yudpo8SC9v",
        "colab_type": "code",
        "colab": {}
      },
      "cell_type": "code",
      "source": [
        "ff = 'ratings.dat'"
      ],
      "execution_count": 0,
      "outputs": []
    },
    {
      "metadata": {
        "id": "OvN0bqucSA9K",
        "colab_type": "code",
        "outputId": "3149b14f-a495-423f-83d7-69faaad664f0",
        "colab": {
          "base_uri": "https://localhost:8080/",
          "height": 71
        }
      },
      "cell_type": "code",
      "source": [
        "name = ['user', 'item', 'rating', 'time']\n",
        "dff = pd.read_csv(ff, sep='::', names = name)\n",
        "dff = dff.drop(columns = ['time'])"
      ],
      "execution_count": 0,
      "outputs": [
        {
          "output_type": "stream",
          "text": [
            "/usr/local/lib/python3.6/dist-packages/ipykernel_launcher.py:2: ParserWarning: Falling back to the 'python' engine because the 'c' engine does not support regex separators (separators > 1 char and different from '\\s+' are interpreted as regex); you can avoid this warning by specifying engine='python'.\n",
            "  \n"
          ],
          "name": "stderr"
        }
      ]
    },
    {
      "metadata": {
        "id": "zAeQMBgqSkhS",
        "colab_type": "code",
        "outputId": "d7552bab-2019-47b6-8a59-55846fa1c960",
        "colab": {
          "base_uri": "https://localhost:8080/",
          "height": 204
        }
      },
      "cell_type": "code",
      "source": [
        "dff.head()"
      ],
      "execution_count": 0,
      "outputs": [
        {
          "output_type": "execute_result",
          "data": {
            "text/html": [
              "<div>\n",
              "<style scoped>\n",
              "    .dataframe tbody tr th:only-of-type {\n",
              "        vertical-align: middle;\n",
              "    }\n",
              "\n",
              "    .dataframe tbody tr th {\n",
              "        vertical-align: top;\n",
              "    }\n",
              "\n",
              "    .dataframe thead th {\n",
              "        text-align: right;\n",
              "    }\n",
              "</style>\n",
              "<table border=\"1\" class=\"dataframe\">\n",
              "  <thead>\n",
              "    <tr style=\"text-align: right;\">\n",
              "      <th></th>\n",
              "      <th>user</th>\n",
              "      <th>item</th>\n",
              "      <th>rating</th>\n",
              "    </tr>\n",
              "  </thead>\n",
              "  <tbody>\n",
              "    <tr>\n",
              "      <th>0</th>\n",
              "      <td>1</td>\n",
              "      <td>1193</td>\n",
              "      <td>5</td>\n",
              "    </tr>\n",
              "    <tr>\n",
              "      <th>1</th>\n",
              "      <td>1</td>\n",
              "      <td>661</td>\n",
              "      <td>3</td>\n",
              "    </tr>\n",
              "    <tr>\n",
              "      <th>2</th>\n",
              "      <td>1</td>\n",
              "      <td>914</td>\n",
              "      <td>3</td>\n",
              "    </tr>\n",
              "    <tr>\n",
              "      <th>3</th>\n",
              "      <td>1</td>\n",
              "      <td>3408</td>\n",
              "      <td>4</td>\n",
              "    </tr>\n",
              "    <tr>\n",
              "      <th>4</th>\n",
              "      <td>1</td>\n",
              "      <td>2355</td>\n",
              "      <td>5</td>\n",
              "    </tr>\n",
              "  </tbody>\n",
              "</table>\n",
              "</div>"
            ],
            "text/plain": [
              "   user  item  rating\n",
              "0     1  1193       5\n",
              "1     1   661       3\n",
              "2     1   914       3\n",
              "3     1  3408       4\n",
              "4     1  2355       5"
            ]
          },
          "metadata": {
            "tags": []
          },
          "execution_count": 11
        }
      ]
    },
    {
      "metadata": {
        "id": "w_6a1YsLTCtS",
        "colab_type": "code",
        "colab": {}
      },
      "cell_type": "code",
      "source": [
        "data_dim = len(dff.user.unique()), len(dff.item.unique())"
      ],
      "execution_count": 0,
      "outputs": []
    },
    {
      "metadata": {
        "id": "N5eiVP68w1da",
        "colab_type": "code",
        "colab": {}
      },
      "cell_type": "code",
      "source": [
        "from sklearn.model_selection import train_test_split"
      ],
      "execution_count": 0,
      "outputs": []
    },
    {
      "metadata": {
        "id": "V2xM2alzw1dd",
        "colab_type": "code",
        "colab": {}
      },
      "cell_type": "code",
      "source": [
        "data = np.array(dff)\n",
        "train, test = train_test_split(data, test_size=0.2)"
      ],
      "execution_count": 0,
      "outputs": []
    },
    {
      "metadata": {
        "id": "_2JGflFow1de",
        "colab_type": "code",
        "colab": {}
      },
      "cell_type": "code",
      "source": [
        "u_train = train[:,0]\n",
        "i_train = train[:,1]\n",
        "r_train = train[:,2]\n",
        "u_test = test[:,0]\n",
        "i_test = test[:,1]\n",
        "r_test = test[:,2]"
      ],
      "execution_count": 0,
      "outputs": []
    },
    {
      "metadata": {
        "id": "aDVU9T7WPDHd",
        "colab_type": "code",
        "colab": {}
      },
      "cell_type": "code",
      "source": [
        "# r_train = r_train/5\n",
        "# r_test = r_test/5"
      ],
      "execution_count": 0,
      "outputs": []
    },
    {
      "metadata": {
        "id": "qUSbF6n9w1dk",
        "colab_type": "code",
        "outputId": "8ee84dfa-abe6-4d96-a169-69f7e5fc08cd",
        "colab": {
          "base_uri": "https://localhost:8080/",
          "height": 34
        }
      },
      "cell_type": "code",
      "source": [
        "from keras.models import Model\n",
        "from keras.callbacks import ModelCheckpoint\n",
        "from keras.layers import dot, concatenate, Embedding, Input, Flatten, Dropout, Dense\n",
        "from keras.models import Sequential\n",
        "from keras import optimizers\n",
        "from keras.layers.normalization import BatchNormalization\n",
        "from keras import backend as K"
      ],
      "execution_count": 0,
      "outputs": [
        {
          "output_type": "stream",
          "text": [
            "Using TensorFlow backend.\n"
          ],
          "name": "stderr"
        }
      ]
    },
    {
      "metadata": {
        "id": "x6OeRT2Aw1dn",
        "colab_type": "code",
        "colab": {}
      },
      "cell_type": "code",
      "source": [
        "len_dim_i = [100,200,300]\n",
        "len_dim_u = [100,200,300]\n",
        "len_dim_r = [300,200,100]"
      ],
      "execution_count": 0,
      "outputs": []
    },
    {
      "metadata": {
        "id": "KeR950zy-3lt",
        "colab_type": "code",
        "colab": {}
      },
      "cell_type": "code",
      "source": [
        "def rmse(y_true, y_pred):\n",
        "        return K.sqrt(K.mean(K.square(y_pred - y_true), axis=-1)) "
      ],
      "execution_count": 0,
      "outputs": []
    },
    {
      "metadata": {
        "id": "sQeQVpkyw1dq",
        "colab_type": "code",
        "colab": {}
      },
      "cell_type": "code",
      "source": [
        "user_id_input = Input(shape=[1], name='user')\n",
        "item_id_input = Input(shape=[1], name='item')\n",
        "\n",
        "user_embedding = Embedding(output_dim=10, input_dim=data_dim[0] + 1,\n",
        "                                   input_length=1, name='user_embedding')(user_id_input)\n",
        "item_embedding = Embedding(output_dim=10, input_dim=data_dim[1] + 1,\n",
        "                                   input_length=1, name='item_embedding')(item_id_input)\n",
        "\n",
        "# reshape from shape: (batch_size, input_length, embedding_size)\n",
        "# to shape: (batch_size, input_length * embedding_size) which is\n",
        "# equal to shape: (batch_size, embedding_size)\n",
        "\n",
        "# user_embedding = (Dense(300))(user_embedding)\n",
        "# item_embedding = (Dense(300))(item_embedding)\n",
        "# user_embedding = (Dense(600))(user_embedding)\n",
        "# item_embedding = (Dense(600))(item_embedding)\n",
        "# user_embedding = (Dense(1200))(user_embedding)\n",
        "# item_embedding = (Dense(1200))(item_embedding)\n",
        "for i in range(len(len_dim_u)):\n",
        "    user_embedding = (Dense(len_dim_u[i], activation=\"relu\"))(user_embedding)\n",
        "    user_embedding = (Dropout(0.1))(user_embedding)\n",
        "for i in range(len(len_dim_i)):\n",
        "    item_embedding = (Dense(len_dim_i[i], activation=\"relu\"))(item_embedding)\n",
        "    item_embedding = (Dropout(0.1))(item_embedding)\n",
        "user_vecs = Flatten()(user_embedding)\n",
        "item_vecs = Flatten()(item_embedding)\n",
        "\n",
        "    \n",
        "# y = merge([user_vecs, item_vecs], mode='dot', output_shape=(1,))\n",
        "y = concatenate([user_vecs, item_vecs])\n",
        "# y = (Dense(1, activation=\"relu\"))(y)\n",
        "for i in range(len(len_dim_r)):\n",
        "    y = (Dense(len_dim_r[i], activation=\"relu\"))(y)\n",
        "    y = (BatchNormalization())(y)\n",
        "    y = (Dropout(0.2))(y)\n",
        "# y = Dense(1, activation=\"relu\")(y)\n",
        "# M = Sequential()\n",
        "# M.add(y)\n",
        "# y = (Dropout(0.25))(y)\n",
        "# y = (Dense(64))(y)\n",
        "# y = (Dropout(0.2))(y)\n",
        "# y = (Dense(32))(y)\n",
        "# y = (Dropout(0.25))(y)\n",
        "# y = (Dense(16))(y)\n",
        "# y = (Dropout(0.1))(y)\n",
        "# y = (Dense(4))(y)\n",
        "# y = (Dropout(0.2))(y)\n",
        "y = (Dense(1, activation='relu'))(y)\n",
        "\n",
        "model = Model(inputs=[user_id_input, item_id_input], outputs=[y])\n",
        "adam = optimizers.Adam(lr=0.0001)\n",
        "model.compile(optimizer=adam, loss='mae')"
      ],
      "execution_count": 0,
      "outputs": []
    },
    {
      "metadata": {
        "id": "ZHl7HAHIJSMp",
        "colab_type": "code",
        "colab": {}
      },
      "cell_type": "code",
      "source": [
        ""
      ],
      "execution_count": 0,
      "outputs": []
    },
    {
      "metadata": {
        "id": "CIEH7wMqhH7-",
        "colab_type": "text"
      },
      "cell_type": "markdown",
      "source": [
        ""
      ]
    },
    {
      "metadata": {
        "id": "6sJSbOMKw1ds",
        "colab_type": "code",
        "outputId": "4d965b5b-419f-4c8c-9a6d-11f0fe59723e",
        "colab": {
          "base_uri": "https://localhost:8080/",
          "height": 544
        }
      },
      "cell_type": "code",
      "source": [
        "history = model.fit([u_train,i_train], r_train,validation_data=([u_test,i_test], r_test), batch_size=32, epochs = 15, verbose=1, shuffle=True)"
      ],
      "execution_count": 28,
      "outputs": [
        {
          "output_type": "stream",
          "text": [
            "Train on 800167 samples, validate on 200042 samples\n",
            "Epoch 1/15\n",
            "800167/800167 [==============================] - 502s 627us/step - loss: 1.0374 - val_loss: 0.7622\n",
            "Epoch 2/15\n",
            "800167/800167 [==============================] - 506s 632us/step - loss: 0.7971 - val_loss: 0.7201\n",
            "Epoch 3/15\n",
            "800167/800167 [==============================] - 501s 627us/step - loss: 0.7642 - val_loss: 0.7173\n",
            "Epoch 4/15\n",
            "800167/800167 [==============================] - 519s 649us/step - loss: 0.7483 - val_loss: 0.7085\n",
            "Epoch 5/15\n",
            "800167/800167 [==============================] - 492s 614us/step - loss: 0.7354 - val_loss: 0.7015\n",
            "Epoch 6/15\n",
            "800167/800167 [==============================] - 521s 652us/step - loss: 0.7264 - val_loss: 0.6956\n",
            "Epoch 7/15\n",
            "800167/800167 [==============================] - 502s 627us/step - loss: 0.7201 - val_loss: 0.7015\n",
            "Epoch 8/15\n",
            "800167/800167 [==============================] - 509s 636us/step - loss: 0.7162 - val_loss: 0.6968\n",
            "Epoch 9/15\n",
            "800167/800167 [==============================] - 467s 584us/step - loss: 0.7125 - val_loss: 0.6951\n",
            "Epoch 10/15\n",
            "800167/800167 [==============================] - 450s 563us/step - loss: 0.7083 - val_loss: 0.6898\n",
            "Epoch 11/15\n",
            "800167/800167 [==============================] - 441s 551us/step - loss: 0.7056 - val_loss: 0.6884\n",
            "Epoch 12/15\n",
            "800167/800167 [==============================] - 443s 553us/step - loss: 0.7035 - val_loss: 0.6923\n",
            "Epoch 13/15\n",
            "800167/800167 [==============================] - 440s 550us/step - loss: 0.7018 - val_loss: 0.6915\n",
            "Epoch 14/15\n",
            "800167/800167 [==============================] - 426s 532us/step - loss: 0.6987 - val_loss: 0.6906\n",
            "Epoch 15/15\n",
            "800167/800167 [==============================] - 437s 547us/step - loss: 0.6978 - val_loss: 0.6864\n"
          ],
          "name": "stdout"
        }
      ]
    },
    {
      "metadata": {
        "id": "H5l4TREoJ96E",
        "colab_type": "code",
        "colab": {}
      },
      "cell_type": "code",
      "source": [
        ""
      ],
      "execution_count": 0,
      "outputs": []
    },
    {
      "metadata": {
        "id": "1WqQ180SJ91u",
        "colab_type": "code",
        "colab": {}
      },
      "cell_type": "code",
      "source": [
        ""
      ],
      "execution_count": 0,
      "outputs": []
    },
    {
      "metadata": {
        "id": "q4JS5hbREEJZ",
        "colab_type": "code",
        "colab": {}
      },
      "cell_type": "code",
      "source": [
        ""
      ],
      "execution_count": 0,
      "outputs": []
    },
    {
      "metadata": {
        "id": "qaAliMsfEEjJ",
        "colab_type": "code",
        "colab": {}
      },
      "cell_type": "code",
      "source": [
        ""
      ],
      "execution_count": 0,
      "outputs": []
    },
    {
      "metadata": {
        "id": "xORnKUt_DfS-",
        "colab_type": "code",
        "colab": {}
      },
      "cell_type": "code",
      "source": [
        ""
      ],
      "execution_count": 0,
      "outputs": []
    },
    {
      "metadata": {
        "id": "as1sPp3g2W0O",
        "colab_type": "code",
        "colab": {}
      },
      "cell_type": "code",
      "source": [
        ""
      ],
      "execution_count": 0,
      "outputs": []
    },
    {
      "metadata": {
        "id": "NX6e6rhM2Wq7",
        "colab_type": "text"
      },
      "cell_type": "markdown",
      "source": [
        ""
      ]
    },
    {
      "metadata": {
        "id": "ASRFXuC1w1dx",
        "colab_type": "code",
        "outputId": "b3ef9f2d-39a7-4162-b7ae-60ada21d044d",
        "colab": {
          "base_uri": "https://localhost:8080/",
          "height": 1139
        }
      },
      "cell_type": "code",
      "source": [
        "model.summary()"
      ],
      "execution_count": 29,
      "outputs": [
        {
          "output_type": "stream",
          "text": [
            "__________________________________________________________________________________________________\n",
            "Layer (type)                    Output Shape         Param #     Connected to                     \n",
            "==================================================================================================\n",
            "user (InputLayer)               (None, 1)            0                                            \n",
            "__________________________________________________________________________________________________\n",
            "item (InputLayer)               (None, 1)            0                                            \n",
            "__________________________________________________________________________________________________\n",
            "user_embedding (Embedding)      (None, 1, 10)        60410       user[0][0]                       \n",
            "__________________________________________________________________________________________________\n",
            "item_embedding (Embedding)      (None, 1, 10)        37070       item[0][0]                       \n",
            "__________________________________________________________________________________________________\n",
            "dense_21 (Dense)                (None, 1, 100)       1100        user_embedding[0][0]             \n",
            "__________________________________________________________________________________________________\n",
            "dense_24 (Dense)                (None, 1, 100)       1100        item_embedding[0][0]             \n",
            "__________________________________________________________________________________________________\n",
            "dropout_19 (Dropout)            (None, 1, 100)       0           dense_21[0][0]                   \n",
            "__________________________________________________________________________________________________\n",
            "dropout_22 (Dropout)            (None, 1, 100)       0           dense_24[0][0]                   \n",
            "__________________________________________________________________________________________________\n",
            "dense_22 (Dense)                (None, 1, 200)       20200       dropout_19[0][0]                 \n",
            "__________________________________________________________________________________________________\n",
            "dense_25 (Dense)                (None, 1, 200)       20200       dropout_22[0][0]                 \n",
            "__________________________________________________________________________________________________\n",
            "dropout_20 (Dropout)            (None, 1, 200)       0           dense_22[0][0]                   \n",
            "__________________________________________________________________________________________________\n",
            "dropout_23 (Dropout)            (None, 1, 200)       0           dense_25[0][0]                   \n",
            "__________________________________________________________________________________________________\n",
            "dense_23 (Dense)                (None, 1, 300)       60300       dropout_20[0][0]                 \n",
            "__________________________________________________________________________________________________\n",
            "dense_26 (Dense)                (None, 1, 300)       60300       dropout_23[0][0]                 \n",
            "__________________________________________________________________________________________________\n",
            "dropout_21 (Dropout)            (None, 1, 300)       0           dense_23[0][0]                   \n",
            "__________________________________________________________________________________________________\n",
            "dropout_24 (Dropout)            (None, 1, 300)       0           dense_26[0][0]                   \n",
            "__________________________________________________________________________________________________\n",
            "flatten_5 (Flatten)             (None, 300)          0           dropout_21[0][0]                 \n",
            "__________________________________________________________________________________________________\n",
            "flatten_6 (Flatten)             (None, 300)          0           dropout_24[0][0]                 \n",
            "__________________________________________________________________________________________________\n",
            "concatenate_3 (Concatenate)     (None, 600)          0           flatten_5[0][0]                  \n",
            "                                                                 flatten_6[0][0]                  \n",
            "__________________________________________________________________________________________________\n",
            "dense_27 (Dense)                (None, 300)          180300      concatenate_3[0][0]              \n",
            "__________________________________________________________________________________________________\n",
            "batch_normalization_7 (BatchNor (None, 300)          1200        dense_27[0][0]                   \n",
            "__________________________________________________________________________________________________\n",
            "dropout_25 (Dropout)            (None, 300)          0           batch_normalization_7[0][0]      \n",
            "__________________________________________________________________________________________________\n",
            "dense_28 (Dense)                (None, 200)          60200       dropout_25[0][0]                 \n",
            "__________________________________________________________________________________________________\n",
            "batch_normalization_8 (BatchNor (None, 200)          800         dense_28[0][0]                   \n",
            "__________________________________________________________________________________________________\n",
            "dropout_26 (Dropout)            (None, 200)          0           batch_normalization_8[0][0]      \n",
            "__________________________________________________________________________________________________\n",
            "dense_29 (Dense)                (None, 100)          20100       dropout_26[0][0]                 \n",
            "__________________________________________________________________________________________________\n",
            "batch_normalization_9 (BatchNor (None, 100)          400         dense_29[0][0]                   \n",
            "__________________________________________________________________________________________________\n",
            "dropout_27 (Dropout)            (None, 100)          0           batch_normalization_9[0][0]      \n",
            "__________________________________________________________________________________________________\n",
            "dense_30 (Dense)                (None, 1)            101         dropout_27[0][0]                 \n",
            "==================================================================================================\n",
            "Total params: 523,781\n",
            "Trainable params: 522,581\n",
            "Non-trainable params: 1,200\n",
            "__________________________________________________________________________________________________\n"
          ],
          "name": "stdout"
        }
      ]
    },
    {
      "metadata": {
        "id": "s7ZRKXj-cNVD",
        "colab_type": "code",
        "colab": {}
      },
      "cell_type": "code",
      "source": [
        "from IPython.display import SVG\n",
        "from keras.utils.vis_utils import model_to_dot"
      ],
      "execution_count": 0,
      "outputs": []
    },
    {
      "metadata": {
        "id": "nM-eF8ylcRc5",
        "colab_type": "code",
        "outputId": "27db9891-1bf2-473c-fbab-cd015bd977f6",
        "colab": {
          "base_uri": "https://localhost:8080/",
          "height": 2217
        }
      },
      "cell_type": "code",
      "source": [
        "SVG(model_to_dot(model,  show_shapes=True, show_layer_names=True, rankdir='HB').create(prog='dot', format='svg'))"
      ],
      "execution_count": 31,
      "outputs": [
        {
          "output_type": "execute_result",
          "data": {
            "text/plain": [
              "<IPython.core.display.SVG object>"
            ],
            "image/svg+xml": "<svg height=\"1632pt\" viewBox=\"0.00 0.00 707.50 1632.00\" width=\"708pt\" xmlns=\"http://www.w3.org/2000/svg\" xmlns:xlink=\"http://www.w3.org/1999/xlink\">\n<g class=\"graph\" id=\"graph0\" transform=\"scale(1 1) rotate(0) translate(4 1628)\">\n<title>G</title>\n<polygon fill=\"#ffffff\" points=\"-4,4 -4,-1628 703.5,-1628 703.5,4 -4,4\" stroke=\"transparent\"/>\n<!-- 139627062118440 -->\n<g class=\"node\" id=\"node1\">\n<title>139627062118440</title>\n<polygon fill=\"none\" points=\"49.5,-1577.5 49.5,-1623.5 290.5,-1623.5 290.5,-1577.5 49.5,-1577.5\" stroke=\"#000000\"/>\n<text fill=\"#000000\" font-family=\"Times,serif\" font-size=\"14.00\" text-anchor=\"middle\" x=\"105\" y=\"-1596.8\">user: InputLayer</text>\n<polyline fill=\"none\" points=\"160.5,-1577.5 160.5,-1623.5 \" stroke=\"#000000\"/>\n<text fill=\"#000000\" font-family=\"Times,serif\" font-size=\"14.00\" text-anchor=\"middle\" x=\"189.5\" y=\"-1608.3\">input:</text>\n<polyline fill=\"none\" points=\"160.5,-1600.5 218.5,-1600.5 \" stroke=\"#000000\"/>\n<text fill=\"#000000\" font-family=\"Times,serif\" font-size=\"14.00\" text-anchor=\"middle\" x=\"189.5\" y=\"-1585.3\">output:</text>\n<polyline fill=\"none\" points=\"218.5,-1577.5 218.5,-1623.5 \" stroke=\"#000000\"/>\n<text fill=\"#000000\" font-family=\"Times,serif\" font-size=\"14.00\" text-anchor=\"middle\" x=\"254.5\" y=\"-1608.3\">(None, 1)</text>\n<polyline fill=\"none\" points=\"218.5,-1600.5 290.5,-1600.5 \" stroke=\"#000000\"/>\n<text fill=\"#000000\" font-family=\"Times,serif\" font-size=\"14.00\" text-anchor=\"middle\" x=\"254.5\" y=\"-1585.3\">(None, 1)</text>\n</g>\n<!-- 139627062119672 -->\n<g class=\"node\" id=\"node3\">\n<title>139627062119672</title>\n<polygon fill=\"none\" points=\"0,-1494.5 0,-1540.5 340,-1540.5 340,-1494.5 0,-1494.5\" stroke=\"#000000\"/>\n<text fill=\"#000000\" font-family=\"Times,serif\" font-size=\"14.00\" text-anchor=\"middle\" x=\"93.5\" y=\"-1513.8\">user_embedding: Embedding</text>\n<polyline fill=\"none\" points=\"187,-1494.5 187,-1540.5 \" stroke=\"#000000\"/>\n<text fill=\"#000000\" font-family=\"Times,serif\" font-size=\"14.00\" text-anchor=\"middle\" x=\"216\" y=\"-1525.3\">input:</text>\n<polyline fill=\"none\" points=\"187,-1517.5 245,-1517.5 \" stroke=\"#000000\"/>\n<text fill=\"#000000\" font-family=\"Times,serif\" font-size=\"14.00\" text-anchor=\"middle\" x=\"216\" y=\"-1502.3\">output:</text>\n<polyline fill=\"none\" points=\"245,-1494.5 245,-1540.5 \" stroke=\"#000000\"/>\n<text fill=\"#000000\" font-family=\"Times,serif\" font-size=\"14.00\" text-anchor=\"middle\" x=\"292.5\" y=\"-1525.3\">(None, 1)</text>\n<polyline fill=\"none\" points=\"245,-1517.5 340,-1517.5 \" stroke=\"#000000\"/>\n<text fill=\"#000000\" font-family=\"Times,serif\" font-size=\"14.00\" text-anchor=\"middle\" x=\"292.5\" y=\"-1502.3\">(None, 1, 10)</text>\n</g>\n<!-- 139627062118440&#45;&gt;139627062119672 -->\n<g class=\"edge\" id=\"edge1\">\n<title>139627062118440-&gt;139627062119672</title>\n<path d=\"M170,-1577.3799C170,-1569.1745 170,-1559.7679 170,-1550.8786\" fill=\"none\" stroke=\"#000000\"/>\n<polygon fill=\"#000000\" points=\"173.5001,-1550.784 170,-1540.784 166.5001,-1550.784 173.5001,-1550.784\" stroke=\"#000000\"/>\n</g>\n<!-- 139627062118552 -->\n<g class=\"node\" id=\"node2\">\n<title>139627062118552</title>\n<polygon fill=\"none\" points=\"407.5,-1577.5 407.5,-1623.5 650.5,-1623.5 650.5,-1577.5 407.5,-1577.5\" stroke=\"#000000\"/>\n<text fill=\"#000000\" font-family=\"Times,serif\" font-size=\"14.00\" text-anchor=\"middle\" x=\"464\" y=\"-1596.8\">item: InputLayer</text>\n<polyline fill=\"none\" points=\"520.5,-1577.5 520.5,-1623.5 \" stroke=\"#000000\"/>\n<text fill=\"#000000\" font-family=\"Times,serif\" font-size=\"14.00\" text-anchor=\"middle\" x=\"549.5\" y=\"-1608.3\">input:</text>\n<polyline fill=\"none\" points=\"520.5,-1600.5 578.5,-1600.5 \" stroke=\"#000000\"/>\n<text fill=\"#000000\" font-family=\"Times,serif\" font-size=\"14.00\" text-anchor=\"middle\" x=\"549.5\" y=\"-1585.3\">output:</text>\n<polyline fill=\"none\" points=\"578.5,-1577.5 578.5,-1623.5 \" stroke=\"#000000\"/>\n<text fill=\"#000000\" font-family=\"Times,serif\" font-size=\"14.00\" text-anchor=\"middle\" x=\"614.5\" y=\"-1608.3\">(None, 1)</text>\n<polyline fill=\"none\" points=\"578.5,-1600.5 650.5,-1600.5 \" stroke=\"#000000\"/>\n<text fill=\"#000000\" font-family=\"Times,serif\" font-size=\"14.00\" text-anchor=\"middle\" x=\"614.5\" y=\"-1585.3\">(None, 1)</text>\n</g>\n<!-- 139627062119056 -->\n<g class=\"node\" id=\"node4\">\n<title>139627062119056</title>\n<polygon fill=\"none\" points=\"358.5,-1494.5 358.5,-1540.5 699.5,-1540.5 699.5,-1494.5 358.5,-1494.5\" stroke=\"#000000\"/>\n<text fill=\"#000000\" font-family=\"Times,serif\" font-size=\"14.00\" text-anchor=\"middle\" x=\"452.5\" y=\"-1513.8\">item_embedding: Embedding</text>\n<polyline fill=\"none\" points=\"546.5,-1494.5 546.5,-1540.5 \" stroke=\"#000000\"/>\n<text fill=\"#000000\" font-family=\"Times,serif\" font-size=\"14.00\" text-anchor=\"middle\" x=\"575.5\" y=\"-1525.3\">input:</text>\n<polyline fill=\"none\" points=\"546.5,-1517.5 604.5,-1517.5 \" stroke=\"#000000\"/>\n<text fill=\"#000000\" font-family=\"Times,serif\" font-size=\"14.00\" text-anchor=\"middle\" x=\"575.5\" y=\"-1502.3\">output:</text>\n<polyline fill=\"none\" points=\"604.5,-1494.5 604.5,-1540.5 \" stroke=\"#000000\"/>\n<text fill=\"#000000\" font-family=\"Times,serif\" font-size=\"14.00\" text-anchor=\"middle\" x=\"652\" y=\"-1525.3\">(None, 1)</text>\n<polyline fill=\"none\" points=\"604.5,-1517.5 699.5,-1517.5 \" stroke=\"#000000\"/>\n<text fill=\"#000000\" font-family=\"Times,serif\" font-size=\"14.00\" text-anchor=\"middle\" x=\"652\" y=\"-1502.3\">(None, 1, 10)</text>\n</g>\n<!-- 139627062118552&#45;&gt;139627062119056 -->\n<g class=\"edge\" id=\"edge2\">\n<title>139627062118552-&gt;139627062119056</title>\n<path d=\"M529,-1577.3799C529,-1569.1745 529,-1559.7679 529,-1550.8786\" fill=\"none\" stroke=\"#000000\"/>\n<polygon fill=\"#000000\" points=\"532.5001,-1550.784 529,-1540.784 525.5001,-1550.784 532.5001,-1550.784\" stroke=\"#000000\"/>\n</g>\n<!-- 139627062119784 -->\n<g class=\"node\" id=\"node5\">\n<title>139627062119784</title>\n<polygon fill=\"none\" points=\"43,-1411.5 43,-1457.5 317,-1457.5 317,-1411.5 43,-1411.5\" stroke=\"#000000\"/>\n<text fill=\"#000000\" font-family=\"Times,serif\" font-size=\"14.00\" text-anchor=\"middle\" x=\"100\" y=\"-1430.8\">dense_21: Dense</text>\n<polyline fill=\"none\" points=\"157,-1411.5 157,-1457.5 \" stroke=\"#000000\"/>\n<text fill=\"#000000\" font-family=\"Times,serif\" font-size=\"14.00\" text-anchor=\"middle\" x=\"186\" y=\"-1442.3\">input:</text>\n<polyline fill=\"none\" points=\"157,-1434.5 215,-1434.5 \" stroke=\"#000000\"/>\n<text fill=\"#000000\" font-family=\"Times,serif\" font-size=\"14.00\" text-anchor=\"middle\" x=\"186\" y=\"-1419.3\">output:</text>\n<polyline fill=\"none\" points=\"215,-1411.5 215,-1457.5 \" stroke=\"#000000\"/>\n<text fill=\"#000000\" font-family=\"Times,serif\" font-size=\"14.00\" text-anchor=\"middle\" x=\"266\" y=\"-1442.3\">(None, 1, 10)</text>\n<polyline fill=\"none\" points=\"215,-1434.5 317,-1434.5 \" stroke=\"#000000\"/>\n<text fill=\"#000000\" font-family=\"Times,serif\" font-size=\"14.00\" text-anchor=\"middle\" x=\"266\" y=\"-1419.3\">(None, 1, 100)</text>\n</g>\n<!-- 139627062119672&#45;&gt;139627062119784 -->\n<g class=\"edge\" id=\"edge3\">\n<title>139627062119672-&gt;139627062119784</title>\n<path d=\"M172.7856,-1494.3799C173.7742,-1486.1745 174.9075,-1476.7679 175.9785,-1467.8786\" fill=\"none\" stroke=\"#000000\"/>\n<polygon fill=\"#000000\" points=\"179.4733,-1468.1309 177.1947,-1457.784 172.5236,-1467.2935 179.4733,-1468.1309\" stroke=\"#000000\"/>\n</g>\n<!-- 139627062118384 -->\n<g class=\"node\" id=\"node6\">\n<title>139627062118384</title>\n<polygon fill=\"none\" points=\"389,-1411.5 389,-1457.5 663,-1457.5 663,-1411.5 389,-1411.5\" stroke=\"#000000\"/>\n<text fill=\"#000000\" font-family=\"Times,serif\" font-size=\"14.00\" text-anchor=\"middle\" x=\"446\" y=\"-1430.8\">dense_24: Dense</text>\n<polyline fill=\"none\" points=\"503,-1411.5 503,-1457.5 \" stroke=\"#000000\"/>\n<text fill=\"#000000\" font-family=\"Times,serif\" font-size=\"14.00\" text-anchor=\"middle\" x=\"532\" y=\"-1442.3\">input:</text>\n<polyline fill=\"none\" points=\"503,-1434.5 561,-1434.5 \" stroke=\"#000000\"/>\n<text fill=\"#000000\" font-family=\"Times,serif\" font-size=\"14.00\" text-anchor=\"middle\" x=\"532\" y=\"-1419.3\">output:</text>\n<polyline fill=\"none\" points=\"561,-1411.5 561,-1457.5 \" stroke=\"#000000\"/>\n<text fill=\"#000000\" font-family=\"Times,serif\" font-size=\"14.00\" text-anchor=\"middle\" x=\"612\" y=\"-1442.3\">(None, 1, 10)</text>\n<polyline fill=\"none\" points=\"561,-1434.5 663,-1434.5 \" stroke=\"#000000\"/>\n<text fill=\"#000000\" font-family=\"Times,serif\" font-size=\"14.00\" text-anchor=\"middle\" x=\"612\" y=\"-1419.3\">(None, 1, 100)</text>\n</g>\n<!-- 139627062119056&#45;&gt;139627062118384 -->\n<g class=\"edge\" id=\"edge4\">\n<title>139627062119056-&gt;139627062118384</title>\n<path d=\"M528.1643,-1494.3799C527.8678,-1486.1745 527.5278,-1476.7679 527.2065,-1467.8786\" fill=\"none\" stroke=\"#000000\"/>\n<polygon fill=\"#000000\" points=\"530.7006,-1467.651 526.8416,-1457.784 523.7052,-1467.9039 530.7006,-1467.651\" stroke=\"#000000\"/>\n</g>\n<!-- 139627062057392 -->\n<g class=\"node\" id=\"node7\">\n<title>139627062057392</title>\n<polygon fill=\"none\" points=\"49.5,-1328.5 49.5,-1374.5 350.5,-1374.5 350.5,-1328.5 49.5,-1328.5\" stroke=\"#000000\"/>\n<text fill=\"#000000\" font-family=\"Times,serif\" font-size=\"14.00\" text-anchor=\"middle\" x=\"120\" y=\"-1347.8\">dropout_19: Dropout</text>\n<polyline fill=\"none\" points=\"190.5,-1328.5 190.5,-1374.5 \" stroke=\"#000000\"/>\n<text fill=\"#000000\" font-family=\"Times,serif\" font-size=\"14.00\" text-anchor=\"middle\" x=\"219.5\" y=\"-1359.3\">input:</text>\n<polyline fill=\"none\" points=\"190.5,-1351.5 248.5,-1351.5 \" stroke=\"#000000\"/>\n<text fill=\"#000000\" font-family=\"Times,serif\" font-size=\"14.00\" text-anchor=\"middle\" x=\"219.5\" y=\"-1336.3\">output:</text>\n<polyline fill=\"none\" points=\"248.5,-1328.5 248.5,-1374.5 \" stroke=\"#000000\"/>\n<text fill=\"#000000\" font-family=\"Times,serif\" font-size=\"14.00\" text-anchor=\"middle\" x=\"299.5\" y=\"-1359.3\">(None, 1, 100)</text>\n<polyline fill=\"none\" points=\"248.5,-1351.5 350.5,-1351.5 \" stroke=\"#000000\"/>\n<text fill=\"#000000\" font-family=\"Times,serif\" font-size=\"14.00\" text-anchor=\"middle\" x=\"299.5\" y=\"-1336.3\">(None, 1, 100)</text>\n</g>\n<!-- 139627062119784&#45;&gt;139627062057392 -->\n<g class=\"edge\" id=\"edge5\">\n<title>139627062119784-&gt;139627062057392</title>\n<path d=\"M185.5711,-1411.3799C187.5698,-1403.0854 189.8643,-1393.5633 192.0268,-1384.5889\" fill=\"none\" stroke=\"#000000\"/>\n<polygon fill=\"#000000\" points=\"195.4493,-1385.3257 194.3894,-1374.784 188.6441,-1383.6858 195.4493,-1385.3257\" stroke=\"#000000\"/>\n</g>\n<!-- 139627060201736 -->\n<g class=\"node\" id=\"node8\">\n<title>139627060201736</title>\n<polygon fill=\"none\" points=\"373.5,-1328.5 373.5,-1374.5 674.5,-1374.5 674.5,-1328.5 373.5,-1328.5\" stroke=\"#000000\"/>\n<text fill=\"#000000\" font-family=\"Times,serif\" font-size=\"14.00\" text-anchor=\"middle\" x=\"444\" y=\"-1347.8\">dropout_22: Dropout</text>\n<polyline fill=\"none\" points=\"514.5,-1328.5 514.5,-1374.5 \" stroke=\"#000000\"/>\n<text fill=\"#000000\" font-family=\"Times,serif\" font-size=\"14.00\" text-anchor=\"middle\" x=\"543.5\" y=\"-1359.3\">input:</text>\n<polyline fill=\"none\" points=\"514.5,-1351.5 572.5,-1351.5 \" stroke=\"#000000\"/>\n<text fill=\"#000000\" font-family=\"Times,serif\" font-size=\"14.00\" text-anchor=\"middle\" x=\"543.5\" y=\"-1336.3\">output:</text>\n<polyline fill=\"none\" points=\"572.5,-1328.5 572.5,-1374.5 \" stroke=\"#000000\"/>\n<text fill=\"#000000\" font-family=\"Times,serif\" font-size=\"14.00\" text-anchor=\"middle\" x=\"623.5\" y=\"-1359.3\">(None, 1, 100)</text>\n<polyline fill=\"none\" points=\"572.5,-1351.5 674.5,-1351.5 \" stroke=\"#000000\"/>\n<text fill=\"#000000\" font-family=\"Times,serif\" font-size=\"14.00\" text-anchor=\"middle\" x=\"623.5\" y=\"-1336.3\">(None, 1, 100)</text>\n</g>\n<!-- 139627062118384&#45;&gt;139627060201736 -->\n<g class=\"edge\" id=\"edge6\">\n<title>139627062118384-&gt;139627060201736</title>\n<path d=\"M525.4429,-1411.3799C525.2452,-1403.1745 525.0185,-1393.7679 524.8043,-1384.8786\" fill=\"none\" stroke=\"#000000\"/>\n<polygon fill=\"#000000\" points=\"528.301,-1384.6968 524.5611,-1374.784 521.3031,-1384.8655 528.301,-1384.6968\" stroke=\"#000000\"/>\n</g>\n<!-- 139627062058456 -->\n<g class=\"node\" id=\"node9\">\n<title>139627062058456</title>\n<polygon fill=\"none\" points=\"63,-1245.5 63,-1291.5 337,-1291.5 337,-1245.5 63,-1245.5\" stroke=\"#000000\"/>\n<text fill=\"#000000\" font-family=\"Times,serif\" font-size=\"14.00\" text-anchor=\"middle\" x=\"120\" y=\"-1264.8\">dense_22: Dense</text>\n<polyline fill=\"none\" points=\"177,-1245.5 177,-1291.5 \" stroke=\"#000000\"/>\n<text fill=\"#000000\" font-family=\"Times,serif\" font-size=\"14.00\" text-anchor=\"middle\" x=\"206\" y=\"-1276.3\">input:</text>\n<polyline fill=\"none\" points=\"177,-1268.5 235,-1268.5 \" stroke=\"#000000\"/>\n<text fill=\"#000000\" font-family=\"Times,serif\" font-size=\"14.00\" text-anchor=\"middle\" x=\"206\" y=\"-1253.3\">output:</text>\n<polyline fill=\"none\" points=\"235,-1245.5 235,-1291.5 \" stroke=\"#000000\"/>\n<text fill=\"#000000\" font-family=\"Times,serif\" font-size=\"14.00\" text-anchor=\"middle\" x=\"286\" y=\"-1276.3\">(None, 1, 100)</text>\n<polyline fill=\"none\" points=\"235,-1268.5 337,-1268.5 \" stroke=\"#000000\"/>\n<text fill=\"#000000\" font-family=\"Times,serif\" font-size=\"14.00\" text-anchor=\"middle\" x=\"286\" y=\"-1253.3\">(None, 1, 200)</text>\n</g>\n<!-- 139627062057392&#45;&gt;139627062058456 -->\n<g class=\"edge\" id=\"edge7\">\n<title>139627062057392-&gt;139627062058456</title>\n<path d=\"M200,-1328.3799C200,-1320.1745 200,-1310.7679 200,-1301.8786\" fill=\"none\" stroke=\"#000000\"/>\n<polygon fill=\"#000000\" points=\"203.5001,-1301.784 200,-1291.784 196.5001,-1301.784 203.5001,-1301.784\" stroke=\"#000000\"/>\n</g>\n<!-- 139627060594392 -->\n<g class=\"node\" id=\"node10\">\n<title>139627060594392</title>\n<polygon fill=\"none\" points=\"385,-1245.5 385,-1291.5 659,-1291.5 659,-1245.5 385,-1245.5\" stroke=\"#000000\"/>\n<text fill=\"#000000\" font-family=\"Times,serif\" font-size=\"14.00\" text-anchor=\"middle\" x=\"442\" y=\"-1264.8\">dense_25: Dense</text>\n<polyline fill=\"none\" points=\"499,-1245.5 499,-1291.5 \" stroke=\"#000000\"/>\n<text fill=\"#000000\" font-family=\"Times,serif\" font-size=\"14.00\" text-anchor=\"middle\" x=\"528\" y=\"-1276.3\">input:</text>\n<polyline fill=\"none\" points=\"499,-1268.5 557,-1268.5 \" stroke=\"#000000\"/>\n<text fill=\"#000000\" font-family=\"Times,serif\" font-size=\"14.00\" text-anchor=\"middle\" x=\"528\" y=\"-1253.3\">output:</text>\n<polyline fill=\"none\" points=\"557,-1245.5 557,-1291.5 \" stroke=\"#000000\"/>\n<text fill=\"#000000\" font-family=\"Times,serif\" font-size=\"14.00\" text-anchor=\"middle\" x=\"608\" y=\"-1276.3\">(None, 1, 100)</text>\n<polyline fill=\"none\" points=\"557,-1268.5 659,-1268.5 \" stroke=\"#000000\"/>\n<text fill=\"#000000\" font-family=\"Times,serif\" font-size=\"14.00\" text-anchor=\"middle\" x=\"608\" y=\"-1253.3\">(None, 1, 200)</text>\n</g>\n<!-- 139627060201736&#45;&gt;139627060594392 -->\n<g class=\"edge\" id=\"edge8\">\n<title>139627060201736-&gt;139627060594392</title>\n<path d=\"M523.4429,-1328.3799C523.2452,-1320.1745 523.0185,-1310.7679 522.8043,-1301.8786\" fill=\"none\" stroke=\"#000000\"/>\n<polygon fill=\"#000000\" points=\"526.301,-1301.6968 522.5611,-1291.784 519.3031,-1301.8655 526.301,-1301.6968\" stroke=\"#000000\"/>\n</g>\n<!-- 139627057427904 -->\n<g class=\"node\" id=\"node11\">\n<title>139627057427904</title>\n<polygon fill=\"none\" points=\"49.5,-1162.5 49.5,-1208.5 350.5,-1208.5 350.5,-1162.5 49.5,-1162.5\" stroke=\"#000000\"/>\n<text fill=\"#000000\" font-family=\"Times,serif\" font-size=\"14.00\" text-anchor=\"middle\" x=\"120\" y=\"-1181.8\">dropout_20: Dropout</text>\n<polyline fill=\"none\" points=\"190.5,-1162.5 190.5,-1208.5 \" stroke=\"#000000\"/>\n<text fill=\"#000000\" font-family=\"Times,serif\" font-size=\"14.00\" text-anchor=\"middle\" x=\"219.5\" y=\"-1193.3\">input:</text>\n<polyline fill=\"none\" points=\"190.5,-1185.5 248.5,-1185.5 \" stroke=\"#000000\"/>\n<text fill=\"#000000\" font-family=\"Times,serif\" font-size=\"14.00\" text-anchor=\"middle\" x=\"219.5\" y=\"-1170.3\">output:</text>\n<polyline fill=\"none\" points=\"248.5,-1162.5 248.5,-1208.5 \" stroke=\"#000000\"/>\n<text fill=\"#000000\" font-family=\"Times,serif\" font-size=\"14.00\" text-anchor=\"middle\" x=\"299.5\" y=\"-1193.3\">(None, 1, 200)</text>\n<polyline fill=\"none\" points=\"248.5,-1185.5 350.5,-1185.5 \" stroke=\"#000000\"/>\n<text fill=\"#000000\" font-family=\"Times,serif\" font-size=\"14.00\" text-anchor=\"middle\" x=\"299.5\" y=\"-1170.3\">(None, 1, 200)</text>\n</g>\n<!-- 139627062058456&#45;&gt;139627057427904 -->\n<g class=\"edge\" id=\"edge9\">\n<title>139627062058456-&gt;139627057427904</title>\n<path d=\"M200,-1245.3799C200,-1237.1745 200,-1227.7679 200,-1218.8786\" fill=\"none\" stroke=\"#000000\"/>\n<polygon fill=\"#000000\" points=\"203.5001,-1218.784 200,-1208.784 196.5001,-1218.784 203.5001,-1218.784\" stroke=\"#000000\"/>\n</g>\n<!-- 139627060044800 -->\n<g class=\"node\" id=\"node12\">\n<title>139627060044800</title>\n<polygon fill=\"none\" points=\"370.5,-1162.5 370.5,-1208.5 671.5,-1208.5 671.5,-1162.5 370.5,-1162.5\" stroke=\"#000000\"/>\n<text fill=\"#000000\" font-family=\"Times,serif\" font-size=\"14.00\" text-anchor=\"middle\" x=\"441\" y=\"-1181.8\">dropout_23: Dropout</text>\n<polyline fill=\"none\" points=\"511.5,-1162.5 511.5,-1208.5 \" stroke=\"#000000\"/>\n<text fill=\"#000000\" font-family=\"Times,serif\" font-size=\"14.00\" text-anchor=\"middle\" x=\"540.5\" y=\"-1193.3\">input:</text>\n<polyline fill=\"none\" points=\"511.5,-1185.5 569.5,-1185.5 \" stroke=\"#000000\"/>\n<text fill=\"#000000\" font-family=\"Times,serif\" font-size=\"14.00\" text-anchor=\"middle\" x=\"540.5\" y=\"-1170.3\">output:</text>\n<polyline fill=\"none\" points=\"569.5,-1162.5 569.5,-1208.5 \" stroke=\"#000000\"/>\n<text fill=\"#000000\" font-family=\"Times,serif\" font-size=\"14.00\" text-anchor=\"middle\" x=\"620.5\" y=\"-1193.3\">(None, 1, 200)</text>\n<polyline fill=\"none\" points=\"569.5,-1185.5 671.5,-1185.5 \" stroke=\"#000000\"/>\n<text fill=\"#000000\" font-family=\"Times,serif\" font-size=\"14.00\" text-anchor=\"middle\" x=\"620.5\" y=\"-1170.3\">(None, 1, 200)</text>\n</g>\n<!-- 139627060594392&#45;&gt;139627060044800 -->\n<g class=\"edge\" id=\"edge10\">\n<title>139627060594392-&gt;139627060044800</title>\n<path d=\"M521.7214,-1245.3799C521.6226,-1237.1745 521.5093,-1227.7679 521.4022,-1218.8786\" fill=\"none\" stroke=\"#000000\"/>\n<polygon fill=\"#000000\" points=\"524.9008,-1218.7411 521.2805,-1208.784 517.9014,-1218.8255 524.9008,-1218.7411\" stroke=\"#000000\"/>\n</g>\n<!-- 139627057216928 -->\n<g class=\"node\" id=\"node13\">\n<title>139627057216928</title>\n<polygon fill=\"none\" points=\"63,-1079.5 63,-1125.5 337,-1125.5 337,-1079.5 63,-1079.5\" stroke=\"#000000\"/>\n<text fill=\"#000000\" font-family=\"Times,serif\" font-size=\"14.00\" text-anchor=\"middle\" x=\"120\" y=\"-1098.8\">dense_23: Dense</text>\n<polyline fill=\"none\" points=\"177,-1079.5 177,-1125.5 \" stroke=\"#000000\"/>\n<text fill=\"#000000\" font-family=\"Times,serif\" font-size=\"14.00\" text-anchor=\"middle\" x=\"206\" y=\"-1110.3\">input:</text>\n<polyline fill=\"none\" points=\"177,-1102.5 235,-1102.5 \" stroke=\"#000000\"/>\n<text fill=\"#000000\" font-family=\"Times,serif\" font-size=\"14.00\" text-anchor=\"middle\" x=\"206\" y=\"-1087.3\">output:</text>\n<polyline fill=\"none\" points=\"235,-1079.5 235,-1125.5 \" stroke=\"#000000\"/>\n<text fill=\"#000000\" font-family=\"Times,serif\" font-size=\"14.00\" text-anchor=\"middle\" x=\"286\" y=\"-1110.3\">(None, 1, 200)</text>\n<polyline fill=\"none\" points=\"235,-1102.5 337,-1102.5 \" stroke=\"#000000\"/>\n<text fill=\"#000000\" font-family=\"Times,serif\" font-size=\"14.00\" text-anchor=\"middle\" x=\"286\" y=\"-1087.3\">(None, 1, 300)</text>\n</g>\n<!-- 139627057427904&#45;&gt;139627057216928 -->\n<g class=\"edge\" id=\"edge11\">\n<title>139627057427904-&gt;139627057216928</title>\n<path d=\"M200,-1162.3799C200,-1154.1745 200,-1144.7679 200,-1135.8786\" fill=\"none\" stroke=\"#000000\"/>\n<polygon fill=\"#000000\" points=\"203.5001,-1135.784 200,-1125.784 196.5001,-1135.784 203.5001,-1135.784\" stroke=\"#000000\"/>\n</g>\n<!-- 139627059116016 -->\n<g class=\"node\" id=\"node14\">\n<title>139627059116016</title>\n<polygon fill=\"none\" points=\"383,-1079.5 383,-1125.5 657,-1125.5 657,-1079.5 383,-1079.5\" stroke=\"#000000\"/>\n<text fill=\"#000000\" font-family=\"Times,serif\" font-size=\"14.00\" text-anchor=\"middle\" x=\"440\" y=\"-1098.8\">dense_26: Dense</text>\n<polyline fill=\"none\" points=\"497,-1079.5 497,-1125.5 \" stroke=\"#000000\"/>\n<text fill=\"#000000\" font-family=\"Times,serif\" font-size=\"14.00\" text-anchor=\"middle\" x=\"526\" y=\"-1110.3\">input:</text>\n<polyline fill=\"none\" points=\"497,-1102.5 555,-1102.5 \" stroke=\"#000000\"/>\n<text fill=\"#000000\" font-family=\"Times,serif\" font-size=\"14.00\" text-anchor=\"middle\" x=\"526\" y=\"-1087.3\">output:</text>\n<polyline fill=\"none\" points=\"555,-1079.5 555,-1125.5 \" stroke=\"#000000\"/>\n<text fill=\"#000000\" font-family=\"Times,serif\" font-size=\"14.00\" text-anchor=\"middle\" x=\"606\" y=\"-1110.3\">(None, 1, 200)</text>\n<polyline fill=\"none\" points=\"555,-1102.5 657,-1102.5 \" stroke=\"#000000\"/>\n<text fill=\"#000000\" font-family=\"Times,serif\" font-size=\"14.00\" text-anchor=\"middle\" x=\"606\" y=\"-1087.3\">(None, 1, 300)</text>\n</g>\n<!-- 139627060044800&#45;&gt;139627059116016 -->\n<g class=\"edge\" id=\"edge12\">\n<title>139627060044800-&gt;139627059116016</title>\n<path d=\"M520.7214,-1162.3799C520.6226,-1154.1745 520.5093,-1144.7679 520.4022,-1135.8786\" fill=\"none\" stroke=\"#000000\"/>\n<polygon fill=\"#000000\" points=\"523.9008,-1135.7411 520.2805,-1125.784 516.9014,-1135.8255 523.9008,-1135.7411\" stroke=\"#000000\"/>\n</g>\n<!-- 139627059292144 -->\n<g class=\"node\" id=\"node15\">\n<title>139627059292144</title>\n<polygon fill=\"none\" points=\"49.5,-996.5 49.5,-1042.5 350.5,-1042.5 350.5,-996.5 49.5,-996.5\" stroke=\"#000000\"/>\n<text fill=\"#000000\" font-family=\"Times,serif\" font-size=\"14.00\" text-anchor=\"middle\" x=\"120\" y=\"-1015.8\">dropout_21: Dropout</text>\n<polyline fill=\"none\" points=\"190.5,-996.5 190.5,-1042.5 \" stroke=\"#000000\"/>\n<text fill=\"#000000\" font-family=\"Times,serif\" font-size=\"14.00\" text-anchor=\"middle\" x=\"219.5\" y=\"-1027.3\">input:</text>\n<polyline fill=\"none\" points=\"190.5,-1019.5 248.5,-1019.5 \" stroke=\"#000000\"/>\n<text fill=\"#000000\" font-family=\"Times,serif\" font-size=\"14.00\" text-anchor=\"middle\" x=\"219.5\" y=\"-1004.3\">output:</text>\n<polyline fill=\"none\" points=\"248.5,-996.5 248.5,-1042.5 \" stroke=\"#000000\"/>\n<text fill=\"#000000\" font-family=\"Times,serif\" font-size=\"14.00\" text-anchor=\"middle\" x=\"299.5\" y=\"-1027.3\">(None, 1, 300)</text>\n<polyline fill=\"none\" points=\"248.5,-1019.5 350.5,-1019.5 \" stroke=\"#000000\"/>\n<text fill=\"#000000\" font-family=\"Times,serif\" font-size=\"14.00\" text-anchor=\"middle\" x=\"299.5\" y=\"-1004.3\">(None, 1, 300)</text>\n</g>\n<!-- 139627057216928&#45;&gt;139627059292144 -->\n<g class=\"edge\" id=\"edge13\">\n<title>139627057216928-&gt;139627059292144</title>\n<path d=\"M200,-1079.3799C200,-1071.1745 200,-1061.7679 200,-1052.8786\" fill=\"none\" stroke=\"#000000\"/>\n<polygon fill=\"#000000\" points=\"203.5001,-1052.784 200,-1042.784 196.5001,-1052.784 203.5001,-1052.784\" stroke=\"#000000\"/>\n</g>\n<!-- 139627058869920 -->\n<g class=\"node\" id=\"node16\">\n<title>139627058869920</title>\n<polygon fill=\"none\" points=\"369.5,-996.5 369.5,-1042.5 670.5,-1042.5 670.5,-996.5 369.5,-996.5\" stroke=\"#000000\"/>\n<text fill=\"#000000\" font-family=\"Times,serif\" font-size=\"14.00\" text-anchor=\"middle\" x=\"440\" y=\"-1015.8\">dropout_24: Dropout</text>\n<polyline fill=\"none\" points=\"510.5,-996.5 510.5,-1042.5 \" stroke=\"#000000\"/>\n<text fill=\"#000000\" font-family=\"Times,serif\" font-size=\"14.00\" text-anchor=\"middle\" x=\"539.5\" y=\"-1027.3\">input:</text>\n<polyline fill=\"none\" points=\"510.5,-1019.5 568.5,-1019.5 \" stroke=\"#000000\"/>\n<text fill=\"#000000\" font-family=\"Times,serif\" font-size=\"14.00\" text-anchor=\"middle\" x=\"539.5\" y=\"-1004.3\">output:</text>\n<polyline fill=\"none\" points=\"568.5,-996.5 568.5,-1042.5 \" stroke=\"#000000\"/>\n<text fill=\"#000000\" font-family=\"Times,serif\" font-size=\"14.00\" text-anchor=\"middle\" x=\"619.5\" y=\"-1027.3\">(None, 1, 300)</text>\n<polyline fill=\"none\" points=\"568.5,-1019.5 670.5,-1019.5 \" stroke=\"#000000\"/>\n<text fill=\"#000000\" font-family=\"Times,serif\" font-size=\"14.00\" text-anchor=\"middle\" x=\"619.5\" y=\"-1004.3\">(None, 1, 300)</text>\n</g>\n<!-- 139627059116016&#45;&gt;139627058869920 -->\n<g class=\"edge\" id=\"edge14\">\n<title>139627059116016-&gt;139627058869920</title>\n<path d=\"M520,-1079.3799C520,-1071.1745 520,-1061.7679 520,-1052.8786\" fill=\"none\" stroke=\"#000000\"/>\n<polygon fill=\"#000000\" points=\"523.5001,-1052.784 520,-1042.784 516.5001,-1052.784 523.5001,-1052.784\" stroke=\"#000000\"/>\n</g>\n<!-- 139627059293600 -->\n<g class=\"node\" id=\"node17\">\n<title>139627059293600</title>\n<polygon fill=\"none\" points=\"77.5,-913.5 77.5,-959.5 350.5,-959.5 350.5,-913.5 77.5,-913.5\" stroke=\"#000000\"/>\n<text fill=\"#000000\" font-family=\"Times,serif\" font-size=\"14.00\" text-anchor=\"middle\" x=\"134\" y=\"-932.8\">flatten_5: Flatten</text>\n<polyline fill=\"none\" points=\"190.5,-913.5 190.5,-959.5 \" stroke=\"#000000\"/>\n<text fill=\"#000000\" font-family=\"Times,serif\" font-size=\"14.00\" text-anchor=\"middle\" x=\"219.5\" y=\"-944.3\">input:</text>\n<polyline fill=\"none\" points=\"190.5,-936.5 248.5,-936.5 \" stroke=\"#000000\"/>\n<text fill=\"#000000\" font-family=\"Times,serif\" font-size=\"14.00\" text-anchor=\"middle\" x=\"219.5\" y=\"-921.3\">output:</text>\n<polyline fill=\"none\" points=\"248.5,-913.5 248.5,-959.5 \" stroke=\"#000000\"/>\n<text fill=\"#000000\" font-family=\"Times,serif\" font-size=\"14.00\" text-anchor=\"middle\" x=\"299.5\" y=\"-944.3\">(None, 1, 300)</text>\n<polyline fill=\"none\" points=\"248.5,-936.5 350.5,-936.5 \" stroke=\"#000000\"/>\n<text fill=\"#000000\" font-family=\"Times,serif\" font-size=\"14.00\" text-anchor=\"middle\" x=\"299.5\" y=\"-921.3\">(None, 300)</text>\n</g>\n<!-- 139627059292144&#45;&gt;139627059293600 -->\n<g class=\"edge\" id=\"edge15\">\n<title>139627059292144-&gt;139627059293600</title>\n<path d=\"M203.8998,-996.3799C205.2838,-988.1745 206.8705,-978.7679 208.3699,-969.8786\" fill=\"none\" stroke=\"#000000\"/>\n<polygon fill=\"#000000\" points=\"211.8605,-970.2269 210.0726,-959.784 204.958,-969.0625 211.8605,-970.2269\" stroke=\"#000000\"/>\n</g>\n<!-- 139627058746424 -->\n<g class=\"node\" id=\"node18\">\n<title>139627058746424</title>\n<polygon fill=\"none\" points=\"375.5,-913.5 375.5,-959.5 648.5,-959.5 648.5,-913.5 375.5,-913.5\" stroke=\"#000000\"/>\n<text fill=\"#000000\" font-family=\"Times,serif\" font-size=\"14.00\" text-anchor=\"middle\" x=\"432\" y=\"-932.8\">flatten_6: Flatten</text>\n<polyline fill=\"none\" points=\"488.5,-913.5 488.5,-959.5 \" stroke=\"#000000\"/>\n<text fill=\"#000000\" font-family=\"Times,serif\" font-size=\"14.00\" text-anchor=\"middle\" x=\"517.5\" y=\"-944.3\">input:</text>\n<polyline fill=\"none\" points=\"488.5,-936.5 546.5,-936.5 \" stroke=\"#000000\"/>\n<text fill=\"#000000\" font-family=\"Times,serif\" font-size=\"14.00\" text-anchor=\"middle\" x=\"517.5\" y=\"-921.3\">output:</text>\n<polyline fill=\"none\" points=\"546.5,-913.5 546.5,-959.5 \" stroke=\"#000000\"/>\n<text fill=\"#000000\" font-family=\"Times,serif\" font-size=\"14.00\" text-anchor=\"middle\" x=\"597.5\" y=\"-944.3\">(None, 1, 300)</text>\n<polyline fill=\"none\" points=\"546.5,-936.5 648.5,-936.5 \" stroke=\"#000000\"/>\n<text fill=\"#000000\" font-family=\"Times,serif\" font-size=\"14.00\" text-anchor=\"middle\" x=\"597.5\" y=\"-921.3\">(None, 300)</text>\n</g>\n<!-- 139627058869920&#45;&gt;139627058746424 -->\n<g class=\"edge\" id=\"edge16\">\n<title>139627058869920-&gt;139627058746424</title>\n<path d=\"M517.7716,-996.3799C516.9807,-988.1745 516.074,-978.7679 515.2172,-969.8786\" fill=\"none\" stroke=\"#000000\"/>\n<polygon fill=\"#000000\" points=\"518.6876,-969.4021 514.2442,-959.784 511.7199,-970.0737 518.6876,-969.4021\" stroke=\"#000000\"/>\n</g>\n<!-- 139627058984272 -->\n<g class=\"node\" id=\"node19\">\n<title>139627058984272</title>\n<polygon fill=\"none\" points=\"155.5,-830.5 155.5,-876.5 562.5,-876.5 562.5,-830.5 155.5,-830.5\" stroke=\"#000000\"/>\n<text fill=\"#000000\" font-family=\"Times,serif\" font-size=\"14.00\" text-anchor=\"middle\" x=\"243\" y=\"-849.8\">concatenate_3: Concatenate</text>\n<polyline fill=\"none\" points=\"330.5,-830.5 330.5,-876.5 \" stroke=\"#000000\"/>\n<text fill=\"#000000\" font-family=\"Times,serif\" font-size=\"14.00\" text-anchor=\"middle\" x=\"359.5\" y=\"-861.3\">input:</text>\n<polyline fill=\"none\" points=\"330.5,-853.5 388.5,-853.5 \" stroke=\"#000000\"/>\n<text fill=\"#000000\" font-family=\"Times,serif\" font-size=\"14.00\" text-anchor=\"middle\" x=\"359.5\" y=\"-838.3\">output:</text>\n<polyline fill=\"none\" points=\"388.5,-830.5 388.5,-876.5 \" stroke=\"#000000\"/>\n<text fill=\"#000000\" font-family=\"Times,serif\" font-size=\"14.00\" text-anchor=\"middle\" x=\"475.5\" y=\"-861.3\">[(None, 300), (None, 300)]</text>\n<polyline fill=\"none\" points=\"388.5,-853.5 562.5,-853.5 \" stroke=\"#000000\"/>\n<text fill=\"#000000\" font-family=\"Times,serif\" font-size=\"14.00\" text-anchor=\"middle\" x=\"475.5\" y=\"-838.3\">(None, 600)</text>\n</g>\n<!-- 139627059293600&#45;&gt;139627058984272 -->\n<g class=\"edge\" id=\"edge17\">\n<title>139627059293600-&gt;139627058984272</title>\n<path d=\"M254.3906,-913.3799C271.4453,-903.6175 291.4708,-892.1546 309.4104,-881.8857\" fill=\"none\" stroke=\"#000000\"/>\n<polygon fill=\"#000000\" points=\"311.6348,-884.6454 318.5748,-876.6399 308.1573,-878.5703 311.6348,-884.6454\" stroke=\"#000000\"/>\n</g>\n<!-- 139627058746424&#45;&gt;139627058984272 -->\n<g class=\"edge\" id=\"edge18\">\n<title>139627058746424-&gt;139627058984272</title>\n<path d=\"M469.381,-913.3799C451.1376,-903.4832 429.6727,-891.8388 410.5453,-881.4625\" fill=\"none\" stroke=\"#000000\"/>\n<polygon fill=\"#000000\" points=\"412.1144,-878.3319 401.6556,-876.6399 408.7765,-884.4849 412.1144,-878.3319\" stroke=\"#000000\"/>\n</g>\n<!-- 139627058333680 -->\n<g class=\"node\" id=\"node20\">\n<title>139627058333680</title>\n<polygon fill=\"none\" points=\"229.5,-747.5 229.5,-793.5 488.5,-793.5 488.5,-747.5 229.5,-747.5\" stroke=\"#000000\"/>\n<text fill=\"#000000\" font-family=\"Times,serif\" font-size=\"14.00\" text-anchor=\"middle\" x=\"286.5\" y=\"-766.8\">dense_27: Dense</text>\n<polyline fill=\"none\" points=\"343.5,-747.5 343.5,-793.5 \" stroke=\"#000000\"/>\n<text fill=\"#000000\" font-family=\"Times,serif\" font-size=\"14.00\" text-anchor=\"middle\" x=\"372.5\" y=\"-778.3\">input:</text>\n<polyline fill=\"none\" points=\"343.5,-770.5 401.5,-770.5 \" stroke=\"#000000\"/>\n<text fill=\"#000000\" font-family=\"Times,serif\" font-size=\"14.00\" text-anchor=\"middle\" x=\"372.5\" y=\"-755.3\">output:</text>\n<polyline fill=\"none\" points=\"401.5,-747.5 401.5,-793.5 \" stroke=\"#000000\"/>\n<text fill=\"#000000\" font-family=\"Times,serif\" font-size=\"14.00\" text-anchor=\"middle\" x=\"445\" y=\"-778.3\">(None, 600)</text>\n<polyline fill=\"none\" points=\"401.5,-770.5 488.5,-770.5 \" stroke=\"#000000\"/>\n<text fill=\"#000000\" font-family=\"Times,serif\" font-size=\"14.00\" text-anchor=\"middle\" x=\"445\" y=\"-755.3\">(None, 300)</text>\n</g>\n<!-- 139627058984272&#45;&gt;139627058333680 -->\n<g class=\"edge\" id=\"edge19\">\n<title>139627058984272-&gt;139627058333680</title>\n<path d=\"M359,-830.3799C359,-822.1745 359,-812.7679 359,-803.8786\" fill=\"none\" stroke=\"#000000\"/>\n<polygon fill=\"#000000\" points=\"362.5001,-803.784 359,-793.784 355.5001,-803.784 362.5001,-803.784\" stroke=\"#000000\"/>\n</g>\n<!-- 139627058065360 -->\n<g class=\"node\" id=\"node21\">\n<title>139627058065360</title>\n<polygon fill=\"none\" points=\"151,-664.5 151,-710.5 567,-710.5 567,-664.5 151,-664.5\" stroke=\"#000000\"/>\n<text fill=\"#000000\" font-family=\"Times,serif\" font-size=\"14.00\" text-anchor=\"middle\" x=\"286.5\" y=\"-683.8\">batch_normalization_7: BatchNormalization</text>\n<polyline fill=\"none\" points=\"422,-664.5 422,-710.5 \" stroke=\"#000000\"/>\n<text fill=\"#000000\" font-family=\"Times,serif\" font-size=\"14.00\" text-anchor=\"middle\" x=\"451\" y=\"-695.3\">input:</text>\n<polyline fill=\"none\" points=\"422,-687.5 480,-687.5 \" stroke=\"#000000\"/>\n<text fill=\"#000000\" font-family=\"Times,serif\" font-size=\"14.00\" text-anchor=\"middle\" x=\"451\" y=\"-672.3\">output:</text>\n<polyline fill=\"none\" points=\"480,-664.5 480,-710.5 \" stroke=\"#000000\"/>\n<text fill=\"#000000\" font-family=\"Times,serif\" font-size=\"14.00\" text-anchor=\"middle\" x=\"523.5\" y=\"-695.3\">(None, 300)</text>\n<polyline fill=\"none\" points=\"480,-687.5 567,-687.5 \" stroke=\"#000000\"/>\n<text fill=\"#000000\" font-family=\"Times,serif\" font-size=\"14.00\" text-anchor=\"middle\" x=\"523.5\" y=\"-672.3\">(None, 300)</text>\n</g>\n<!-- 139627058333680&#45;&gt;139627058065360 -->\n<g class=\"edge\" id=\"edge20\">\n<title>139627058333680-&gt;139627058065360</title>\n<path d=\"M359,-747.3799C359,-739.1745 359,-729.7679 359,-720.8786\" fill=\"none\" stroke=\"#000000\"/>\n<polygon fill=\"#000000\" points=\"362.5001,-720.784 359,-710.784 355.5001,-720.784 362.5001,-720.784\" stroke=\"#000000\"/>\n</g>\n<!-- 139627058064296 -->\n<g class=\"node\" id=\"node22\">\n<title>139627058064296</title>\n<polygon fill=\"none\" points=\"216,-581.5 216,-627.5 502,-627.5 502,-581.5 216,-581.5\" stroke=\"#000000\"/>\n<text fill=\"#000000\" font-family=\"Times,serif\" font-size=\"14.00\" text-anchor=\"middle\" x=\"286.5\" y=\"-600.8\">dropout_25: Dropout</text>\n<polyline fill=\"none\" points=\"357,-581.5 357,-627.5 \" stroke=\"#000000\"/>\n<text fill=\"#000000\" font-family=\"Times,serif\" font-size=\"14.00\" text-anchor=\"middle\" x=\"386\" y=\"-612.3\">input:</text>\n<polyline fill=\"none\" points=\"357,-604.5 415,-604.5 \" stroke=\"#000000\"/>\n<text fill=\"#000000\" font-family=\"Times,serif\" font-size=\"14.00\" text-anchor=\"middle\" x=\"386\" y=\"-589.3\">output:</text>\n<polyline fill=\"none\" points=\"415,-581.5 415,-627.5 \" stroke=\"#000000\"/>\n<text fill=\"#000000\" font-family=\"Times,serif\" font-size=\"14.00\" text-anchor=\"middle\" x=\"458.5\" y=\"-612.3\">(None, 300)</text>\n<polyline fill=\"none\" points=\"415,-604.5 502,-604.5 \" stroke=\"#000000\"/>\n<text fill=\"#000000\" font-family=\"Times,serif\" font-size=\"14.00\" text-anchor=\"middle\" x=\"458.5\" y=\"-589.3\">(None, 300)</text>\n</g>\n<!-- 139627058065360&#45;&gt;139627058064296 -->\n<g class=\"edge\" id=\"edge21\">\n<title>139627058065360-&gt;139627058064296</title>\n<path d=\"M359,-664.3799C359,-656.1745 359,-646.7679 359,-637.8786\" fill=\"none\" stroke=\"#000000\"/>\n<polygon fill=\"#000000\" points=\"362.5001,-637.784 359,-627.784 355.5001,-637.784 362.5001,-637.784\" stroke=\"#000000\"/>\n</g>\n<!-- 139627058206312 -->\n<g class=\"node\" id=\"node23\">\n<title>139627058206312</title>\n<polygon fill=\"none\" points=\"229.5,-498.5 229.5,-544.5 488.5,-544.5 488.5,-498.5 229.5,-498.5\" stroke=\"#000000\"/>\n<text fill=\"#000000\" font-family=\"Times,serif\" font-size=\"14.00\" text-anchor=\"middle\" x=\"286.5\" y=\"-517.8\">dense_28: Dense</text>\n<polyline fill=\"none\" points=\"343.5,-498.5 343.5,-544.5 \" stroke=\"#000000\"/>\n<text fill=\"#000000\" font-family=\"Times,serif\" font-size=\"14.00\" text-anchor=\"middle\" x=\"372.5\" y=\"-529.3\">input:</text>\n<polyline fill=\"none\" points=\"343.5,-521.5 401.5,-521.5 \" stroke=\"#000000\"/>\n<text fill=\"#000000\" font-family=\"Times,serif\" font-size=\"14.00\" text-anchor=\"middle\" x=\"372.5\" y=\"-506.3\">output:</text>\n<polyline fill=\"none\" points=\"401.5,-498.5 401.5,-544.5 \" stroke=\"#000000\"/>\n<text fill=\"#000000\" font-family=\"Times,serif\" font-size=\"14.00\" text-anchor=\"middle\" x=\"445\" y=\"-529.3\">(None, 300)</text>\n<polyline fill=\"none\" points=\"401.5,-521.5 488.5,-521.5 \" stroke=\"#000000\"/>\n<text fill=\"#000000\" font-family=\"Times,serif\" font-size=\"14.00\" text-anchor=\"middle\" x=\"445\" y=\"-506.3\">(None, 200)</text>\n</g>\n<!-- 139627058064296&#45;&gt;139627058206312 -->\n<g class=\"edge\" id=\"edge22\">\n<title>139627058064296-&gt;139627058206312</title>\n<path d=\"M359,-581.3799C359,-573.1745 359,-563.7679 359,-554.8786\" fill=\"none\" stroke=\"#000000\"/>\n<polygon fill=\"#000000\" points=\"362.5001,-554.784 359,-544.784 355.5001,-554.784 362.5001,-554.784\" stroke=\"#000000\"/>\n</g>\n<!-- 139627057777072 -->\n<g class=\"node\" id=\"node24\">\n<title>139627057777072</title>\n<polygon fill=\"none\" points=\"151,-415.5 151,-461.5 567,-461.5 567,-415.5 151,-415.5\" stroke=\"#000000\"/>\n<text fill=\"#000000\" font-family=\"Times,serif\" font-size=\"14.00\" text-anchor=\"middle\" x=\"286.5\" y=\"-434.8\">batch_normalization_8: BatchNormalization</text>\n<polyline fill=\"none\" points=\"422,-415.5 422,-461.5 \" stroke=\"#000000\"/>\n<text fill=\"#000000\" font-family=\"Times,serif\" font-size=\"14.00\" text-anchor=\"middle\" x=\"451\" y=\"-446.3\">input:</text>\n<polyline fill=\"none\" points=\"422,-438.5 480,-438.5 \" stroke=\"#000000\"/>\n<text fill=\"#000000\" font-family=\"Times,serif\" font-size=\"14.00\" text-anchor=\"middle\" x=\"451\" y=\"-423.3\">output:</text>\n<polyline fill=\"none\" points=\"480,-415.5 480,-461.5 \" stroke=\"#000000\"/>\n<text fill=\"#000000\" font-family=\"Times,serif\" font-size=\"14.00\" text-anchor=\"middle\" x=\"523.5\" y=\"-446.3\">(None, 200)</text>\n<polyline fill=\"none\" points=\"480,-438.5 567,-438.5 \" stroke=\"#000000\"/>\n<text fill=\"#000000\" font-family=\"Times,serif\" font-size=\"14.00\" text-anchor=\"middle\" x=\"523.5\" y=\"-423.3\">(None, 200)</text>\n</g>\n<!-- 139627058206312&#45;&gt;139627057777072 -->\n<g class=\"edge\" id=\"edge23\">\n<title>139627058206312-&gt;139627057777072</title>\n<path d=\"M359,-498.3799C359,-490.1745 359,-480.7679 359,-471.8786\" fill=\"none\" stroke=\"#000000\"/>\n<polygon fill=\"#000000\" points=\"362.5001,-471.784 359,-461.784 355.5001,-471.784 362.5001,-471.784\" stroke=\"#000000\"/>\n</g>\n<!-- 139627057512288 -->\n<g class=\"node\" id=\"node25\">\n<title>139627057512288</title>\n<polygon fill=\"none\" points=\"216,-332.5 216,-378.5 502,-378.5 502,-332.5 216,-332.5\" stroke=\"#000000\"/>\n<text fill=\"#000000\" font-family=\"Times,serif\" font-size=\"14.00\" text-anchor=\"middle\" x=\"286.5\" y=\"-351.8\">dropout_26: Dropout</text>\n<polyline fill=\"none\" points=\"357,-332.5 357,-378.5 \" stroke=\"#000000\"/>\n<text fill=\"#000000\" font-family=\"Times,serif\" font-size=\"14.00\" text-anchor=\"middle\" x=\"386\" y=\"-363.3\">input:</text>\n<polyline fill=\"none\" points=\"357,-355.5 415,-355.5 \" stroke=\"#000000\"/>\n<text fill=\"#000000\" font-family=\"Times,serif\" font-size=\"14.00\" text-anchor=\"middle\" x=\"386\" y=\"-340.3\">output:</text>\n<polyline fill=\"none\" points=\"415,-332.5 415,-378.5 \" stroke=\"#000000\"/>\n<text fill=\"#000000\" font-family=\"Times,serif\" font-size=\"14.00\" text-anchor=\"middle\" x=\"458.5\" y=\"-363.3\">(None, 200)</text>\n<polyline fill=\"none\" points=\"415,-355.5 502,-355.5 \" stroke=\"#000000\"/>\n<text fill=\"#000000\" font-family=\"Times,serif\" font-size=\"14.00\" text-anchor=\"middle\" x=\"458.5\" y=\"-340.3\">(None, 200)</text>\n</g>\n<!-- 139627057777072&#45;&gt;139627057512288 -->\n<g class=\"edge\" id=\"edge24\">\n<title>139627057777072-&gt;139627057512288</title>\n<path d=\"M359,-415.3799C359,-407.1745 359,-397.7679 359,-388.8786\" fill=\"none\" stroke=\"#000000\"/>\n<polygon fill=\"#000000\" points=\"362.5001,-388.784 359,-378.784 355.5001,-388.784 362.5001,-388.784\" stroke=\"#000000\"/>\n</g>\n<!-- 139627056239728 -->\n<g class=\"node\" id=\"node26\">\n<title>139627056239728</title>\n<polygon fill=\"none\" points=\"229.5,-249.5 229.5,-295.5 488.5,-295.5 488.5,-249.5 229.5,-249.5\" stroke=\"#000000\"/>\n<text fill=\"#000000\" font-family=\"Times,serif\" font-size=\"14.00\" text-anchor=\"middle\" x=\"286.5\" y=\"-268.8\">dense_29: Dense</text>\n<polyline fill=\"none\" points=\"343.5,-249.5 343.5,-295.5 \" stroke=\"#000000\"/>\n<text fill=\"#000000\" font-family=\"Times,serif\" font-size=\"14.00\" text-anchor=\"middle\" x=\"372.5\" y=\"-280.3\">input:</text>\n<polyline fill=\"none\" points=\"343.5,-272.5 401.5,-272.5 \" stroke=\"#000000\"/>\n<text fill=\"#000000\" font-family=\"Times,serif\" font-size=\"14.00\" text-anchor=\"middle\" x=\"372.5\" y=\"-257.3\">output:</text>\n<polyline fill=\"none\" points=\"401.5,-249.5 401.5,-295.5 \" stroke=\"#000000\"/>\n<text fill=\"#000000\" font-family=\"Times,serif\" font-size=\"14.00\" text-anchor=\"middle\" x=\"445\" y=\"-280.3\">(None, 200)</text>\n<polyline fill=\"none\" points=\"401.5,-272.5 488.5,-272.5 \" stroke=\"#000000\"/>\n<text fill=\"#000000\" font-family=\"Times,serif\" font-size=\"14.00\" text-anchor=\"middle\" x=\"445\" y=\"-257.3\">(None, 100)</text>\n</g>\n<!-- 139627057512288&#45;&gt;139627056239728 -->\n<g class=\"edge\" id=\"edge25\">\n<title>139627057512288-&gt;139627056239728</title>\n<path d=\"M359,-332.3799C359,-324.1745 359,-314.7679 359,-305.8786\" fill=\"none\" stroke=\"#000000\"/>\n<polygon fill=\"#000000\" points=\"362.5001,-305.784 359,-295.784 355.5001,-305.784 362.5001,-305.784\" stroke=\"#000000\"/>\n</g>\n<!-- 139627056351160 -->\n<g class=\"node\" id=\"node27\">\n<title>139627056351160</title>\n<polygon fill=\"none\" points=\"151,-166.5 151,-212.5 567,-212.5 567,-166.5 151,-166.5\" stroke=\"#000000\"/>\n<text fill=\"#000000\" font-family=\"Times,serif\" font-size=\"14.00\" text-anchor=\"middle\" x=\"286.5\" y=\"-185.8\">batch_normalization_9: BatchNormalization</text>\n<polyline fill=\"none\" points=\"422,-166.5 422,-212.5 \" stroke=\"#000000\"/>\n<text fill=\"#000000\" font-family=\"Times,serif\" font-size=\"14.00\" text-anchor=\"middle\" x=\"451\" y=\"-197.3\">input:</text>\n<polyline fill=\"none\" points=\"422,-189.5 480,-189.5 \" stroke=\"#000000\"/>\n<text fill=\"#000000\" font-family=\"Times,serif\" font-size=\"14.00\" text-anchor=\"middle\" x=\"451\" y=\"-174.3\">output:</text>\n<polyline fill=\"none\" points=\"480,-166.5 480,-212.5 \" stroke=\"#000000\"/>\n<text fill=\"#000000\" font-family=\"Times,serif\" font-size=\"14.00\" text-anchor=\"middle\" x=\"523.5\" y=\"-197.3\">(None, 100)</text>\n<polyline fill=\"none\" points=\"480,-189.5 567,-189.5 \" stroke=\"#000000\"/>\n<text fill=\"#000000\" font-family=\"Times,serif\" font-size=\"14.00\" text-anchor=\"middle\" x=\"523.5\" y=\"-174.3\">(None, 100)</text>\n</g>\n<!-- 139627056239728&#45;&gt;139627056351160 -->\n<g class=\"edge\" id=\"edge26\">\n<title>139627056239728-&gt;139627056351160</title>\n<path d=\"M359,-249.3799C359,-241.1745 359,-231.7679 359,-222.8786\" fill=\"none\" stroke=\"#000000\"/>\n<polygon fill=\"#000000\" points=\"362.5001,-222.784 359,-212.784 355.5001,-222.784 362.5001,-222.784\" stroke=\"#000000\"/>\n</g>\n<!-- 139627056073864 -->\n<g class=\"node\" id=\"node28\">\n<title>139627056073864</title>\n<polygon fill=\"none\" points=\"216,-83.5 216,-129.5 502,-129.5 502,-83.5 216,-83.5\" stroke=\"#000000\"/>\n<text fill=\"#000000\" font-family=\"Times,serif\" font-size=\"14.00\" text-anchor=\"middle\" x=\"286.5\" y=\"-102.8\">dropout_27: Dropout</text>\n<polyline fill=\"none\" points=\"357,-83.5 357,-129.5 \" stroke=\"#000000\"/>\n<text fill=\"#000000\" font-family=\"Times,serif\" font-size=\"14.00\" text-anchor=\"middle\" x=\"386\" y=\"-114.3\">input:</text>\n<polyline fill=\"none\" points=\"357,-106.5 415,-106.5 \" stroke=\"#000000\"/>\n<text fill=\"#000000\" font-family=\"Times,serif\" font-size=\"14.00\" text-anchor=\"middle\" x=\"386\" y=\"-91.3\">output:</text>\n<polyline fill=\"none\" points=\"415,-83.5 415,-129.5 \" stroke=\"#000000\"/>\n<text fill=\"#000000\" font-family=\"Times,serif\" font-size=\"14.00\" text-anchor=\"middle\" x=\"458.5\" y=\"-114.3\">(None, 100)</text>\n<polyline fill=\"none\" points=\"415,-106.5 502,-106.5 \" stroke=\"#000000\"/>\n<text fill=\"#000000\" font-family=\"Times,serif\" font-size=\"14.00\" text-anchor=\"middle\" x=\"458.5\" y=\"-91.3\">(None, 100)</text>\n</g>\n<!-- 139627056351160&#45;&gt;139627056073864 -->\n<g class=\"edge\" id=\"edge27\">\n<title>139627056351160-&gt;139627056073864</title>\n<path d=\"M359,-166.3799C359,-158.1745 359,-148.7679 359,-139.8786\" fill=\"none\" stroke=\"#000000\"/>\n<polygon fill=\"#000000\" points=\"362.5001,-139.784 359,-129.784 355.5001,-139.784 362.5001,-139.784\" stroke=\"#000000\"/>\n</g>\n<!-- 139627058333232 -->\n<g class=\"node\" id=\"node29\">\n<title>139627058333232</title>\n<polygon fill=\"none\" points=\"229.5,-.5 229.5,-46.5 488.5,-46.5 488.5,-.5 229.5,-.5\" stroke=\"#000000\"/>\n<text fill=\"#000000\" font-family=\"Times,serif\" font-size=\"14.00\" text-anchor=\"middle\" x=\"286.5\" y=\"-19.8\">dense_30: Dense</text>\n<polyline fill=\"none\" points=\"343.5,-.5 343.5,-46.5 \" stroke=\"#000000\"/>\n<text fill=\"#000000\" font-family=\"Times,serif\" font-size=\"14.00\" text-anchor=\"middle\" x=\"372.5\" y=\"-31.3\">input:</text>\n<polyline fill=\"none\" points=\"343.5,-23.5 401.5,-23.5 \" stroke=\"#000000\"/>\n<text fill=\"#000000\" font-family=\"Times,serif\" font-size=\"14.00\" text-anchor=\"middle\" x=\"372.5\" y=\"-8.3\">output:</text>\n<polyline fill=\"none\" points=\"401.5,-.5 401.5,-46.5 \" stroke=\"#000000\"/>\n<text fill=\"#000000\" font-family=\"Times,serif\" font-size=\"14.00\" text-anchor=\"middle\" x=\"445\" y=\"-31.3\">(None, 100)</text>\n<polyline fill=\"none\" points=\"401.5,-23.5 488.5,-23.5 \" stroke=\"#000000\"/>\n<text fill=\"#000000\" font-family=\"Times,serif\" font-size=\"14.00\" text-anchor=\"middle\" x=\"445\" y=\"-8.3\">(None, 1)</text>\n</g>\n<!-- 139627056073864&#45;&gt;139627058333232 -->\n<g class=\"edge\" id=\"edge28\">\n<title>139627056073864-&gt;139627058333232</title>\n<path d=\"M359,-83.3799C359,-75.1745 359,-65.7679 359,-56.8786\" fill=\"none\" stroke=\"#000000\"/>\n<polygon fill=\"#000000\" points=\"362.5001,-56.784 359,-46.784 355.5001,-56.784 362.5001,-56.784\" stroke=\"#000000\"/>\n</g>\n</g>\n</svg>"
          },
          "metadata": {
            "tags": []
          },
          "execution_count": 31
        }
      ]
    },
    {
      "metadata": {
        "id": "MAbt2hkMw1d2",
        "colab_type": "code",
        "colab": {}
      },
      "cell_type": "code",
      "source": [
        "# print(history)"
      ],
      "execution_count": 0,
      "outputs": []
    },
    {
      "metadata": {
        "id": "-clQPYuFw1d6",
        "colab_type": "code",
        "outputId": "70a1f704-264e-4ac6-9c46-16a0f248c473",
        "colab": {
          "base_uri": "https://localhost:8080/",
          "height": 376
        }
      },
      "cell_type": "code",
      "source": [
        "import matplotlib.pyplot as plt\n",
        "plt.plot(history.history['loss'])\n",
        "plt.title('Model Loss')\n",
        "plt.ylabel('Loss')\n",
        "plt.xlabel('Epoch')\n",
        "plt.show()"
      ],
      "execution_count": 32,
      "outputs": [
        {
          "output_type": "display_data",
          "data": {
            "image/png": "[encoded data removed]",
            "text/plain": [
              "<Figure size 576x396 with 1 Axes>"
            ]
          },
          "metadata": {
            "tags": []
          }
        }
      ]
    },
    {
      "metadata": {
        "id": "DbphJTtnw1d-",
        "colab_type": "code",
        "outputId": "42183350-a5e3-4ac9-e3db-19326128eaaf",
        "colab": {
          "base_uri": "https://localhost:8080/",
          "height": 376
        }
      },
      "cell_type": "code",
      "source": [
        "# Plot training & validation loss values\n",
        "plt.plot(history.history['loss'])\n",
        "plt.plot(history.history['val_loss'])\n",
        "plt.title('Model loss')\n",
        "plt.ylabel('Loss')\n",
        "plt.xlabel('Epoch')\n",
        "plt.legend(['Loss', 'Val_Loss'], loc='upper left')\n",
        "plt.show()"
      ],
      "execution_count": 33,
      "outputs": [
        {
          "output_type": "display_data",
          "data": {
            "image/png": "[encoded data removed]",
            "text/plain": [
              "<Figure size 576x396 with 1 Axes>"
            ]
          },
          "metadata": {
            "tags": []
          }
        }
      ]
    },
    {
      "metadata": {
        "id": "lM_VSmhq4Hjx",
        "colab_type": "code",
        "outputId": "da53b989-c181-4e96-af21-69a130229b99",
        "colab": {
          "base_uri": "https://localhost:8080/",
          "height": 231
        }
      },
      "cell_type": "code",
      "source": [
        "# Plot training & validation loss values\n",
        "plt.plot(history.history['acc'])\n",
        "plt.plot(history.history['val_acc'])\n",
        "plt.title('Model Accury')\n",
        "plt.ylabel('accury')\n",
        "plt.xlabel('Epoch')\n",
        "plt.legend(['Acc', 'Val_acc'], loc='upper left')\n",
        "plt.show()"
      ],
      "execution_count": 34,
      "outputs": [
        {
          "output_type": "error",
          "ename": "KeyError",
          "evalue": "ignored",
          "traceback": [
            "\u001b[0;31m---------------------------------------------------------------------------\u001b[0m",
            "\u001b[0;31mKeyError\u001b[0m                                  Traceback (most recent call last)",
            "\u001b[0;32m<ipython-input-34-06517f5d40f2>\u001b[0m in \u001b[0;36m<module>\u001b[0;34m()\u001b[0m\n\u001b[0;32m----> 1\u001b[0;31m \u001b[0mplt\u001b[0m\u001b[0;34m.\u001b[0m\u001b[0mplot\u001b[0m\u001b[0;34m(\u001b[0m\u001b[0mhistory\u001b[0m\u001b[0;34m.\u001b[0m\u001b[0mhistory\u001b[0m\u001b[0;34m[\u001b[0m\u001b[0;34m'acc'\u001b[0m\u001b[0;34m]\u001b[0m\u001b[0;34m)\u001b[0m\u001b[0;34m\u001b[0m\u001b[0;34m\u001b[0m\u001b[0m\n\u001b[0m\u001b[1;32m      2\u001b[0m \u001b[0mplt\u001b[0m\u001b[0;34m.\u001b[0m\u001b[0mplot\u001b[0m\u001b[0;34m(\u001b[0m\u001b[0mhistory\u001b[0m\u001b[0;34m.\u001b[0m\u001b[0mhistory\u001b[0m\u001b[0;34m[\u001b[0m\u001b[0;34m'val_acc'\u001b[0m\u001b[0;34m]\u001b[0m\u001b[0;34m)\u001b[0m\u001b[0;34m\u001b[0m\u001b[0;34m\u001b[0m\u001b[0m\n\u001b[1;32m      3\u001b[0m \u001b[0mplt\u001b[0m\u001b[0;34m.\u001b[0m\u001b[0mtitle\u001b[0m\u001b[0;34m(\u001b[0m\u001b[0;34m'Model Accury'\u001b[0m\u001b[0;34m)\u001b[0m\u001b[0;34m\u001b[0m\u001b[0;34m\u001b[0m\u001b[0m\n\u001b[1;32m      4\u001b[0m \u001b[0mplt\u001b[0m\u001b[0;34m.\u001b[0m\u001b[0mylabel\u001b[0m\u001b[0;34m(\u001b[0m\u001b[0;34m'accury'\u001b[0m\u001b[0;34m)\u001b[0m\u001b[0;34m\u001b[0m\u001b[0;34m\u001b[0m\u001b[0m\n\u001b[1;32m      5\u001b[0m \u001b[0mplt\u001b[0m\u001b[0;34m.\u001b[0m\u001b[0mxlabel\u001b[0m\u001b[0;34m(\u001b[0m\u001b[0;34m'Epoch'\u001b[0m\u001b[0;34m)\u001b[0m\u001b[0;34m\u001b[0m\u001b[0;34m\u001b[0m\u001b[0m\n",
            "\u001b[0;31mKeyError\u001b[0m: 'acc'"
          ]
        }
      ]
    },
    {
      "metadata": {
        "id": "gy05rWkmu1al",
        "colab_type": "code",
        "colab": {}
      },
      "cell_type": "code",
      "source": [
        "from keras.models import load_model\n",
        "\n",
        "model.save('my_model.h5')  # creates a HDF5 file 'my_model.h5'"
      ],
      "execution_count": 0,
      "outputs": []
    },
    {
      "metadata": {
        "id": "7D2i5euRwsX7",
        "colab_type": "code",
        "colab": {}
      },
      "cell_type": "code",
      "source": [
        "model1 = load_model('my_model.h5')"
      ],
      "execution_count": 0,
      "outputs": []
    },
    {
      "metadata": {
        "id": "R2yRws8nwsvB",
        "colab_type": "code",
        "colab": {}
      },
      "cell_type": "code",
      "source": [
        "dtest = pd.read_csv('u1.test', sep = '\\t', names = ['user', 'item', 'rating', 'time'])\n",
        "dtest = dtest.drop(columns=['time'])"
      ],
      "execution_count": 0,
      "outputs": []
    },
    {
      "metadata": {
        "id": "gYjdx7kx7YbB",
        "colab_type": "code",
        "outputId": "05543ab6-8ea0-4ac9-edb6-bab9ddd8fee6",
        "colab": {
          "base_uri": "https://localhost:8080/",
          "height": 204
        }
      },
      "cell_type": "code",
      "source": [
        "dtest.head()"
      ],
      "execution_count": 0,
      "outputs": [
        {
          "output_type": "execute_result",
          "data": {
            "text/html": [
              "<div>\n",
              "<style scoped>\n",
              "    .dataframe tbody tr th:only-of-type {\n",
              "        vertical-align: middle;\n",
              "    }\n",
              "\n",
              "    .dataframe tbody tr th {\n",
              "        vertical-align: top;\n",
              "    }\n",
              "\n",
              "    .dataframe thead th {\n",
              "        text-align: right;\n",
              "    }\n",
              "</style>\n",
              "<table border=\"1\" class=\"dataframe\">\n",
              "  <thead>\n",
              "    <tr style=\"text-align: right;\">\n",
              "      <th></th>\n",
              "      <th>user</th>\n",
              "      <th>item</th>\n",
              "      <th>rating</th>\n",
              "    </tr>\n",
              "  </thead>\n",
              "  <tbody>\n",
              "    <tr>\n",
              "      <th>0</th>\n",
              "      <td>1</td>\n",
              "      <td>6</td>\n",
              "      <td>5</td>\n",
              "    </tr>\n",
              "    <tr>\n",
              "      <th>1</th>\n",
              "      <td>1</td>\n",
              "      <td>10</td>\n",
              "      <td>3</td>\n",
              "    </tr>\n",
              "    <tr>\n",
              "      <th>2</th>\n",
              "      <td>1</td>\n",
              "      <td>12</td>\n",
              "      <td>5</td>\n",
              "    </tr>\n",
              "    <tr>\n",
              "      <th>3</th>\n",
              "      <td>1</td>\n",
              "      <td>14</td>\n",
              "      <td>5</td>\n",
              "    </tr>\n",
              "    <tr>\n",
              "      <th>4</th>\n",
              "      <td>1</td>\n",
              "      <td>17</td>\n",
              "      <td>3</td>\n",
              "    </tr>\n",
              "  </tbody>\n",
              "</table>\n",
              "</div>"
            ],
            "text/plain": [
              "   user  item  rating\n",
              "0     1     6       5\n",
              "1     1    10       3\n",
              "2     1    12       5\n",
              "3     1    14       5\n",
              "4     1    17       3"
            ]
          },
          "metadata": {
            "tags": []
          },
          "execution_count": 27
        }
      ]
    },
    {
      "metadata": {
        "id": "LUKr4sUf7YeZ",
        "colab_type": "code",
        "colab": {}
      },
      "cell_type": "code",
      "source": [
        "pre = np.array(dtest)"
      ],
      "execution_count": 0,
      "outputs": []
    },
    {
      "metadata": {
        "id": "IQpTcXdz72NC",
        "colab_type": "code",
        "colab": {}
      },
      "cell_type": "code",
      "source": [
        "utest = pre[:,0]\n",
        "itest = pre[:,1]\n",
        "rtest = pre[:,2]"
      ],
      "execution_count": 0,
      "outputs": []
    },
    {
      "metadata": {
        "id": "Xvl_RiLG_SOU",
        "colab_type": "code",
        "colab": {}
      },
      "cell_type": "code",
      "source": [
        "a = np.ones((1410,))"
      ],
      "execution_count": 0,
      "outputs": []
    },
    {
      "metadata": {
        "id": "jQFsPKsa72QC",
        "colab_type": "code",
        "outputId": "f6e1197b-0eb4-4052-b9f7-0e6dfa53191b",
        "colab": {
          "base_uri": "https://localhost:8080/",
          "height": 34
        }
      },
      "cell_type": "code",
      "source": [
        "utest.shape"
      ],
      "execution_count": 0,
      "outputs": [
        {
          "output_type": "execute_result",
          "data": {
            "text/plain": [
              "(20000,)"
            ]
          },
          "metadata": {
            "tags": []
          },
          "execution_count": 30
        }
      ]
    },
    {
      "metadata": {
        "id": "JrfoSRZb9xII",
        "colab_type": "code",
        "colab": {}
      },
      "cell_type": "code",
      "source": [
        "useru = dtest.user.unique()\n",
        "itemu = dtest.item.unique()"
      ],
      "execution_count": 0,
      "outputs": []
    },
    {
      "metadata": {
        "id": "Z5P9S9Tn-HKE",
        "colab_type": "code",
        "colab": {}
      },
      "cell_type": "code",
      "source": [
        "itemtest = dtest[dtest['user'] != 1].item.unique()"
      ],
      "execution_count": 0,
      "outputs": []
    },
    {
      "metadata": {
        "id": "2CB6Ftxb-wYG",
        "colab_type": "code",
        "outputId": "888011a4-8cff-4168-b0e2-b31f3cca3f4a",
        "colab": {
          "base_uri": "https://localhost:8080/",
          "height": 34
        }
      },
      "cell_type": "code",
      "source": [
        "itemtest.shape"
      ],
      "execution_count": 0,
      "outputs": [
        {
          "output_type": "execute_result",
          "data": {
            "text/plain": [
              "(1410,)"
            ]
          },
          "metadata": {
            "tags": []
          },
          "execution_count": 36
        }
      ]
    },
    {
      "metadata": {
        "id": "ddgUzBr-A8Gl",
        "colab_type": "code",
        "colab": {}
      },
      "cell_type": "code",
      "source": [
        "aaa = np.empty((5,)); aaa.fill(3)"
      ],
      "execution_count": 0,
      "outputs": []
    },
    {
      "metadata": {
        "id": "0gDepNGZBKIZ",
        "colab_type": "code",
        "outputId": "36c82236-7c13-42e8-dd9e-fb4cb843d9f2",
        "colab": {
          "base_uri": "https://localhost:8080/",
          "height": 34
        }
      },
      "cell_type": "code",
      "source": [
        "aaa.shape"
      ],
      "execution_count": 0,
      "outputs": [
        {
          "output_type": "execute_result",
          "data": {
            "text/plain": [
              "(5,)"
            ]
          },
          "metadata": {
            "tags": []
          },
          "execution_count": 38
        }
      ]
    },
    {
      "metadata": {
        "id": "HTuKbuSY9Bcc",
        "colab_type": "code",
        "outputId": "3050a862-83d3-46e2-f8ba-cab0d31fbd0c",
        "colab": {
          "base_uri": "https://localhost:8080/",
          "height": 2346
        }
      },
      "cell_type": "code",
      "source": [
        "for i in range(len(pre)):\n",
        "  if pre[i][0] == 1:\n",
        "    print()"
      ],
      "execution_count": 0,
      "outputs": [
        {
          "output_type": "stream",
          "text": [
            "\n",
            "\n",
            "\n",
            "\n",
            "\n",
            "\n",
            "\n",
            "\n",
            "\n",
            "\n",
            "\n",
            "\n",
            "\n",
            "\n",
            "\n",
            "\n",
            "\n",
            "\n",
            "\n",
            "\n",
            "\n",
            "\n",
            "\n",
            "\n",
            "\n",
            "\n",
            "\n",
            "\n",
            "\n",
            "\n",
            "\n",
            "\n",
            "\n",
            "\n",
            "\n",
            "\n",
            "\n",
            "\n",
            "\n",
            "\n",
            "\n",
            "\n",
            "\n",
            "\n",
            "\n",
            "\n",
            "\n",
            "\n",
            "\n",
            "\n",
            "\n",
            "\n",
            "\n",
            "\n",
            "\n",
            "\n",
            "\n",
            "\n",
            "\n",
            "\n",
            "\n",
            "\n",
            "\n",
            "\n",
            "\n",
            "\n",
            "\n",
            "\n",
            "\n",
            "\n",
            "\n",
            "\n",
            "\n",
            "\n",
            "\n",
            "\n",
            "\n",
            "\n",
            "\n",
            "\n",
            "\n",
            "\n",
            "\n",
            "\n",
            "\n",
            "\n",
            "\n",
            "\n",
            "\n",
            "\n",
            "\n",
            "\n",
            "\n",
            "\n",
            "\n",
            "\n",
            "\n",
            "\n",
            "\n",
            "\n",
            "\n",
            "\n",
            "\n",
            "\n",
            "\n",
            "\n",
            "\n",
            "\n",
            "\n",
            "\n",
            "\n",
            "\n",
            "\n",
            "\n",
            "\n",
            "\n",
            "\n",
            "\n",
            "\n",
            "\n",
            "\n",
            "\n",
            "\n",
            "\n",
            "\n",
            "\n",
            "\n",
            "\n",
            "\n",
            "\n",
            "\n",
            "\n",
            "\n",
            "\n",
            "\n",
            "\n",
            "\n"
          ],
          "name": "stdout"
        }
      ]
    },
    {
      "metadata": {
        "id": "vegCeZBC7YhP",
        "colab_type": "code",
        "colab": {}
      },
      "cell_type": "code",
      "source": [
        "list_result = model.predict([pre[:,0],pre[:,1]])"
      ],
      "execution_count": 0,
      "outputs": []
    },
    {
      "metadata": {
        "id": "hIpUh1rYOsNo",
        "colab_type": "code",
        "colab": {}
      },
      "cell_type": "code",
      "source": [
        "kq = np.concatenate((pre,list_result), axis=1)"
      ],
      "execution_count": 0,
      "outputs": []
    },
    {
      "metadata": {
        "id": "B5TyYE86PB3c",
        "colab_type": "code",
        "outputId": "30c205d5-3da6-4496-8775-7633c7f93c00",
        "colab": {
          "base_uri": "https://localhost:8080/",
          "height": 357
        }
      },
      "cell_type": "code",
      "source": [
        "kq[20:40]"
      ],
      "execution_count": 0,
      "outputs": [
        {
          "output_type": "execute_result",
          "data": {
            "text/plain": [
              "array([[ 1.        , 60.        ,  5.        ,  4.95898485],\n",
              "       [ 1.        , 61.        ,  4.        ,  4.69534159],\n",
              "       [ 1.        , 62.        ,  3.        ,  4.17554617],\n",
              "       [ 1.        , 64.        ,  5.        ,  3.76302147],\n",
              "       [ 1.        , 65.        ,  4.        ,  1.88723934],\n",
              "       [ 1.        , 67.        ,  3.        ,  4.61987114],\n",
              "       [ 1.        , 69.        ,  3.        ,  4.26258707],\n",
              "       [ 1.        , 70.        ,  3.        ,  4.98160601],\n",
              "       [ 1.        , 72.        ,  4.        ,  4.97385073],\n",
              "       [ 1.        , 73.        ,  3.        ,  3.58459067],\n",
              "       [ 1.        , 74.        ,  1.        ,  3.34413075],\n",
              "       [ 1.        , 76.        ,  4.        ,  3.15184093],\n",
              "       [ 1.        , 78.        ,  1.        ,  2.74834776],\n",
              "       [ 1.        , 80.        ,  4.        ,  4.85453558],\n",
              "       [ 1.        , 81.        ,  5.        ,  3.76723695],\n",
              "       [ 1.        , 82.        ,  5.        ,  4.14285135],\n",
              "       [ 1.        , 84.        ,  4.        ,  4.29111242],\n",
              "       [ 1.        , 85.        ,  3.        ,  1.75160789],\n",
              "       [ 1.        , 86.        ,  5.        ,  5.01530695],\n",
              "       [ 1.        , 90.        ,  4.        ,  4.99991369]])"
            ]
          },
          "metadata": {
            "tags": []
          },
          "execution_count": 47
        }
      ]
    },
    {
      "metadata": {
        "id": "nYU8iamxAGEg",
        "colab_type": "code",
        "colab": {}
      },
      "cell_type": "code",
      "source": [
        "sort_list = list_result[list_result[:,0].argsort()[::-1]]"
      ],
      "execution_count": 0,
      "outputs": []
    },
    {
      "metadata": {
        "id": "6ohsHwLcCiJv",
        "colab_type": "code",
        "outputId": "cf29264c-6d62-450d-aee6-068b64d0d3c4",
        "colab": {
          "base_uri": "https://localhost:8080/",
          "height": 187
        }
      },
      "cell_type": "code",
      "source": [
        "print(sort_list[:10])"
      ],
      "execution_count": 0,
      "outputs": [
        {
          "output_type": "stream",
          "text": [
            "[[5.0807433]\n",
            " [5.0270395]\n",
            " [5.0107017]\n",
            " [4.993686 ]\n",
            " [4.969646 ]\n",
            " [4.841012 ]\n",
            " [4.8196573]\n",
            " [4.7776213]\n",
            " [4.7532244]\n",
            " [4.739296 ]]\n"
          ],
          "name": "stdout"
        }
      ]
    },
    {
      "metadata": {
        "id": "CzXeRDSwAd-j",
        "colab_type": "code",
        "outputId": "8fa8dd94-3524-4907-f789-300a17406a02",
        "colab": {
          "base_uri": "https://localhost:8080/",
          "height": 136
        }
      },
      "cell_type": "code",
      "source": [
        "list_result[list_result[:,0].argsort()[::-1]]"
      ],
      "execution_count": 0,
      "outputs": [
        {
          "output_type": "execute_result",
          "data": {
            "text/plain": [
              "array([[5.0807433 ],\n",
              "       [5.0270395 ],\n",
              "       [5.0107017 ],\n",
              "       ...,\n",
              "       [0.9137943 ],\n",
              "       [0.90736496],\n",
              "       [0.0081968 ]], dtype=float32)"
            ]
          },
          "metadata": {
            "tags": []
          },
          "execution_count": 43
        }
      ]
    },
    {
      "metadata": {
        "id": "7XWZyLBOAGVe",
        "colab_type": "code",
        "colab": {}
      },
      "cell_type": "code",
      "source": [
        ""
      ],
      "execution_count": 0,
      "outputs": []
    },
    {
      "metadata": {
        "id": "AxfivK-Bwt8B",
        "colab_type": "text"
      },
      "cell_type": "markdown",
      "source": [
        "## **Social**"
      ]
    },
    {
      "metadata": {
        "id": "AUQCK_MxJTfe",
        "colab_type": "code",
        "colab": {}
      },
      "cell_type": "code",
      "source": [
        ""
      ],
      "execution_count": 0,
      "outputs": []
    },
    {
      "metadata": {
        "id": "SdRMJForw3ba",
        "colab_type": "code",
        "colab": {}
      },
      "cell_type": "code",
      "source": [
        "import pandas as pd\n",
        "import numpy as np\n",
        "import matplotlib.pyplot as plt"
      ],
      "execution_count": 0,
      "outputs": []
    },
    {
      "metadata": {
        "id": "3CXs4I7LwsyD",
        "colab_type": "code",
        "colab": {}
      },
      "cell_type": "code",
      "source": [
        "file = 'trust_data.csv'\n"
      ],
      "execution_count": 0,
      "outputs": []
    },
    {
      "metadata": {
        "id": "btUAZbsxxBN0",
        "colab_type": "code",
        "colab": {}
      },
      "cell_type": "code",
      "source": [
        "\n",
        "df1 = pd.read_csv(file, sep = ' ', names = ['user1', 'user2', 'trust'])"
      ],
      "execution_count": 0,
      "outputs": []
    },
    {
      "metadata": {
        "id": "FUDIZ6PEofNQ",
        "colab_type": "code",
        "outputId": "65c638e3-2557-4ea6-c8ad-016b3ad3d48a",
        "colab": {
          "base_uri": "https://localhost:8080/",
          "height": 204
        }
      },
      "cell_type": "code",
      "source": [
        "df1.head()"
      ],
      "execution_count": 0,
      "outputs": [
        {
          "output_type": "execute_result",
          "data": {
            "text/html": [
              "<div>\n",
              "<style scoped>\n",
              "    .dataframe tbody tr th:only-of-type {\n",
              "        vertical-align: middle;\n",
              "    }\n",
              "\n",
              "    .dataframe tbody tr th {\n",
              "        vertical-align: top;\n",
              "    }\n",
              "\n",
              "    .dataframe thead th {\n",
              "        text-align: right;\n",
              "    }\n",
              "</style>\n",
              "<table border=\"1\" class=\"dataframe\">\n",
              "  <thead>\n",
              "    <tr style=\"text-align: right;\">\n",
              "      <th></th>\n",
              "      <th>user1</th>\n",
              "      <th>user2</th>\n",
              "      <th>trust</th>\n",
              "    </tr>\n",
              "  </thead>\n",
              "  <tbody>\n",
              "    <tr>\n",
              "      <th>NaN</th>\n",
              "      <td>22605</td>\n",
              "      <td>42915</td>\n",
              "      <td>1</td>\n",
              "    </tr>\n",
              "    <tr>\n",
              "      <th>NaN</th>\n",
              "      <td>22605</td>\n",
              "      <td>5052</td>\n",
              "      <td>1</td>\n",
              "    </tr>\n",
              "    <tr>\n",
              "      <th>NaN</th>\n",
              "      <td>22605</td>\n",
              "      <td>42913</td>\n",
              "      <td>1</td>\n",
              "    </tr>\n",
              "    <tr>\n",
              "      <th>NaN</th>\n",
              "      <td>22605</td>\n",
              "      <td>18420</td>\n",
              "      <td>1</td>\n",
              "    </tr>\n",
              "    <tr>\n",
              "      <th>NaN</th>\n",
              "      <td>22605</td>\n",
              "      <td>42914</td>\n",
              "      <td>1</td>\n",
              "    </tr>\n",
              "  </tbody>\n",
              "</table>\n",
              "</div>"
            ],
            "text/plain": [
              "     user1  user2  trust\n",
              "NaN  22605  42915      1\n",
              "NaN  22605   5052      1\n",
              "NaN  22605  42913      1\n",
              "NaN  22605  18420      1\n",
              "NaN  22605  42914      1"
            ]
          },
          "metadata": {
            "tags": []
          },
          "execution_count": 46
        }
      ]
    },
    {
      "metadata": {
        "id": "7jKgivQLo0ku",
        "colab_type": "code",
        "colab": {}
      },
      "cell_type": "code",
      "source": [
        "trustdata = np.array(df1)"
      ],
      "execution_count": 0,
      "outputs": []
    },
    {
      "metadata": {
        "id": "VOH-uw4mpJzz",
        "colab_type": "code",
        "outputId": "e962b98d-34fc-46dd-fadb-5826f351d2dc",
        "colab": {
          "base_uri": "https://localhost:8080/",
          "height": 34
        }
      },
      "cell_type": "code",
      "source": [
        "trustdata.shape"
      ],
      "execution_count": 0,
      "outputs": [
        {
          "output_type": "execute_result",
          "data": {
            "text/plain": [
              "(487183, 3)"
            ]
          },
          "metadata": {
            "tags": []
          },
          "execution_count": 7
        }
      ]
    },
    {
      "metadata": {
        "id": "Js8zsWo_rFEv",
        "colab_type": "code",
        "outputId": "9ecacb51-e54b-42c1-9ef6-558ae9e64edd",
        "colab": {
          "base_uri": "https://localhost:8080/",
          "height": 34
        }
      },
      "cell_type": "code",
      "source": [
        "len(df1.user2.unique())*len(df1.user1.unique())"
      ],
      "execution_count": 0,
      "outputs": [
        {
          "output_type": "execute_result",
          "data": {
            "text/plain": [
              "1673820480"
            ]
          },
          "metadata": {
            "tags": []
          },
          "execution_count": 6
        }
      ]
    },
    {
      "metadata": {
        "id": "3FWjzS0fs47q",
        "colab_type": "code",
        "colab": {}
      },
      "cell_type": "code",
      "source": [
        ""
      ],
      "execution_count": 0,
      "outputs": []
    },
    {
      "metadata": {
        "id": "h98gUmxLpaDB",
        "colab_type": "code",
        "colab": {}
      },
      "cell_type": "code",
      "source": [
        "matrix = np.zeros([len(df1.user1.unique())+1, len(df1.user2.unique())+1], dtype=np.float32)\n",
        "for i in range(1,len(df1.user2.unique())+1):\n",
        "  u = trustdata[i][0]\n",
        "  uu = trustdata[i][1]\n",
        "  t = trustdata[i][2]\n",
        "  matrix[u][uu] = t\n",
        "  \n",
        "matrix"
      ],
      "execution_count": 0,
      "outputs": []
    },
    {
      "metadata": {
        "id": "p6kW_80zzzEp",
        "colab_type": "code",
        "colab": {}
      },
      "cell_type": "code",
      "source": [
        "print(var)"
      ],
      "execution_count": 0,
      "outputs": []
    },
    {
      "metadata": {
        "id": "LkP9FRclxFh1",
        "colab_type": "code",
        "colab": {}
      },
      "cell_type": "code",
      "source": [
        "df.head()"
      ],
      "execution_count": 0,
      "outputs": []
    },
    {
      "metadata": {
        "id": "j9Bjew_Ys5Ya",
        "colab_type": "code",
        "colab": {}
      },
      "cell_type": "code",
      "source": [
        "uid1 = trustdata[:,0]\n",
        "uid2 = trustdata[:,1]\n",
        "tr = trustdata[:,2]"
      ],
      "execution_count": 0,
      "outputs": []
    },
    {
      "metadata": {
        "id": "FSfKk_O6u5oZ",
        "colab_type": "code",
        "outputId": "1082fb74-872d-4013-bbb6-3e6df8d308ed",
        "colab": {
          "base_uri": "https://localhost:8080/",
          "height": 34
        }
      },
      "cell_type": "code",
      "source": [
        "uid1.shape"
      ],
      "execution_count": 0,
      "outputs": [
        {
          "output_type": "execute_result",
          "data": {
            "text/plain": [
              "(487183,)"
            ]
          },
          "metadata": {
            "tags": []
          },
          "execution_count": 10
        }
      ]
    },
    {
      "metadata": {
        "id": "PRMAHYHBuOUO",
        "colab_type": "code",
        "colab": {}
      },
      "cell_type": "code",
      "source": [
        "user_id_input = Input(shape=[1], name='user')\n",
        "item_id_input = Input(shape=[1], name='item')\n",
        "uid_input = Input(shape=[1], name = 'uid1')\n",
        "uid_input_2 = Input(shape=[1], name = 'uid2')\n",
        "trust_input = Input(shape=[1], name = 'trust')\n",
        "\n",
        "user_embedding = Embedding(output_dim=10, input_dim=data_dim[0] + 1,\n",
        "                                   input_length=1, name='user_embedding')(user_id_input)\n",
        "item_embedding = Embedding(output_dim=10, input_dim=data_dim[1] + 1,\n",
        "                                   input_length=1, name='item_embedding')(item_id_input)\n",
        "\n",
        "# reshape from shape: (batch_size, input_length, embedding_size)\n",
        "# to shape: (batch_size, input_length * embedding_size) which is\n",
        "# equal to shape: (batch_size, embedding_size)\n",
        "# for i in range(len(len_dim_u)):\n",
        "#     user_embedding = (Dense(len_dim_u[i], activation=\"relu\"))(user_embedding)\n",
        "#     user_vecs = (Dropout(0.1))(user_vecs)\n",
        "# for i in range(len(len_dim_i)):\n",
        "#     item_embedding = (Dense(len_dim_i[i], activation=\"relu\"))(item_embedding)\n",
        "#     item_vecs = (Dropout(0.1))(item_vecs)\n",
        "user_vecs = Flatten()(user_embedding)\n",
        "item_vecs = Flatten()(item_embedding)\n",
        "\n",
        "# uid_input = Flatten()(uid_input)\n",
        "# uid_input_2 = Flatten()(uid_input_2)\n",
        "# trust_input = Flatten()(trust_input)\n",
        "\n",
        "    \n",
        "# y = merge([user_vecs, item_vecs], mode='dot', output_shape=(1,))\n",
        "y = concatenate([user_vecs, item_vecs,uid_input, uid_input_2,trust_input])\n",
        "# y = concatenate([uid_input, uid_input_2,trust_input])(y)\n",
        "# y = (Dense(1, activation=\"relu\"))(y)\n",
        "for i in range(len(len_dim_r)):\n",
        "    y = (Dense(len_dim_r[i], activation=\"relu\"))(y)\n",
        "    y = (BatchNormalization())(y)\n",
        "#     y = (Dropout(0.2))(y)\n",
        "y = (Dense(1, activation='relu'))(y)\n",
        "\n",
        "model = Model(inputs=[user_id_input, item_id_input,uid_input, uid_input_2,trust_input], outputs=[y])\n",
        "adam = optimizers.Adam(lr=0.0001)\n",
        "model.compile(optimizer=adam, loss=rmse,metrics=['accuracy'])"
      ],
      "execution_count": 0,
      "outputs": []
    },
    {
      "metadata": {
        "id": "18lM3-Rys5cr",
        "colab_type": "code",
        "outputId": "e86d1ada-d0a3-4b47-aba5-eaf6455df65a",
        "colab": {
          "base_uri": "https://localhost:8080/",
          "height": 540
        }
      },
      "cell_type": "code",
      "source": [
        "history = model.fit([u_train,i_train,uid1,uid2,tr], r_train, batch_size=32, epochs = 15, verbose=1)"
      ],
      "execution_count": 0,
      "outputs": [
        {
          "output_type": "error",
          "ename": "ValueError",
          "evalue": "ignored",
          "traceback": [
            "\u001b[0;31m---------------------------------------------------------------------------\u001b[0m",
            "\u001b[0;31mValueError\u001b[0m                                Traceback (most recent call last)",
            "\u001b[0;32m<ipython-input-24-24bd03539af8>\u001b[0m in \u001b[0;36m<module>\u001b[0;34m()\u001b[0m\n\u001b[0;32m----> 1\u001b[0;31m \u001b[0mhistory\u001b[0m \u001b[0;34m=\u001b[0m \u001b[0mmodel\u001b[0m\u001b[0;34m.\u001b[0m\u001b[0mfit\u001b[0m\u001b[0;34m(\u001b[0m\u001b[0;34m[\u001b[0m\u001b[0mu_train\u001b[0m\u001b[0;34m,\u001b[0m\u001b[0mi_train\u001b[0m\u001b[0;34m,\u001b[0m\u001b[0muid1\u001b[0m\u001b[0;34m,\u001b[0m\u001b[0muid2\u001b[0m\u001b[0;34m,\u001b[0m\u001b[0mtr\u001b[0m\u001b[0;34m]\u001b[0m\u001b[0;34m,\u001b[0m \u001b[0mr_train\u001b[0m\u001b[0;34m,\u001b[0m \u001b[0mbatch_size\u001b[0m\u001b[0;34m=\u001b[0m\u001b[0;36m32\u001b[0m\u001b[0;34m,\u001b[0m \u001b[0mepochs\u001b[0m \u001b[0;34m=\u001b[0m \u001b[0;36m15\u001b[0m\u001b[0;34m,\u001b[0m \u001b[0mverbose\u001b[0m\u001b[0;34m=\u001b[0m\u001b[0;36m1\u001b[0m\u001b[0;34m)\u001b[0m\u001b[0;34m\u001b[0m\u001b[0;34m\u001b[0m\u001b[0m\n\u001b[0m",
            "\u001b[0;32m/usr/local/lib/python3.6/dist-packages/keras/engine/training.py\u001b[0m in \u001b[0;36mfit\u001b[0;34m(self, x, y, batch_size, epochs, verbose, callbacks, validation_split, validation_data, shuffle, class_weight, sample_weight, initial_epoch, steps_per_epoch, validation_steps, **kwargs)\u001b[0m\n\u001b[1;32m    950\u001b[0m             \u001b[0msample_weight\u001b[0m\u001b[0;34m=\u001b[0m\u001b[0msample_weight\u001b[0m\u001b[0;34m,\u001b[0m\u001b[0;34m\u001b[0m\u001b[0;34m\u001b[0m\u001b[0m\n\u001b[1;32m    951\u001b[0m             \u001b[0mclass_weight\u001b[0m\u001b[0;34m=\u001b[0m\u001b[0mclass_weight\u001b[0m\u001b[0;34m,\u001b[0m\u001b[0;34m\u001b[0m\u001b[0;34m\u001b[0m\u001b[0m\n\u001b[0;32m--> 952\u001b[0;31m             batch_size=batch_size)\n\u001b[0m\u001b[1;32m    953\u001b[0m         \u001b[0;31m# Prepare validation data.\u001b[0m\u001b[0;34m\u001b[0m\u001b[0;34m\u001b[0m\u001b[0;34m\u001b[0m\u001b[0m\n\u001b[1;32m    954\u001b[0m         \u001b[0mdo_validation\u001b[0m \u001b[0;34m=\u001b[0m \u001b[0;32mFalse\u001b[0m\u001b[0;34m\u001b[0m\u001b[0;34m\u001b[0m\u001b[0m\n",
            "\u001b[0;32m/usr/local/lib/python3.6/dist-packages/keras/engine/training.py\u001b[0m in \u001b[0;36m_standardize_user_data\u001b[0;34m(self, x, y, sample_weight, class_weight, check_array_lengths, batch_size)\u001b[0m\n\u001b[1;32m    802\u001b[0m             ]\n\u001b[1;32m    803\u001b[0m             \u001b[0;31m# Check that all arrays have the same length.\u001b[0m\u001b[0;34m\u001b[0m\u001b[0;34m\u001b[0m\u001b[0;34m\u001b[0m\u001b[0m\n\u001b[0;32m--> 804\u001b[0;31m             \u001b[0mcheck_array_length_consistency\u001b[0m\u001b[0;34m(\u001b[0m\u001b[0mx\u001b[0m\u001b[0;34m,\u001b[0m \u001b[0my\u001b[0m\u001b[0;34m,\u001b[0m \u001b[0msample_weights\u001b[0m\u001b[0;34m)\u001b[0m\u001b[0;34m\u001b[0m\u001b[0;34m\u001b[0m\u001b[0m\n\u001b[0m\u001b[1;32m    805\u001b[0m             \u001b[0;32mif\u001b[0m \u001b[0mself\u001b[0m\u001b[0;34m.\u001b[0m\u001b[0m_is_graph_network\u001b[0m\u001b[0;34m:\u001b[0m\u001b[0;34m\u001b[0m\u001b[0;34m\u001b[0m\u001b[0m\n\u001b[1;32m    806\u001b[0m                 \u001b[0;31m# Additional checks to avoid users mistakenly\u001b[0m\u001b[0;34m\u001b[0m\u001b[0;34m\u001b[0m\u001b[0;34m\u001b[0m\u001b[0m\n",
            "\u001b[0;32m/usr/local/lib/python3.6/dist-packages/keras/engine/training_utils.py\u001b[0m in \u001b[0;36mcheck_array_length_consistency\u001b[0;34m(inputs, targets, weights)\u001b[0m\n\u001b[1;32m    226\u001b[0m         raise ValueError('All input arrays (x) should have '\n\u001b[1;32m    227\u001b[0m                          \u001b[0;34m'the same number of samples. Got array shapes: '\u001b[0m \u001b[0;34m+\u001b[0m\u001b[0;34m\u001b[0m\u001b[0;34m\u001b[0m\u001b[0m\n\u001b[0;32m--> 228\u001b[0;31m                          str([x.shape for x in inputs]))\n\u001b[0m\u001b[1;32m    229\u001b[0m     \u001b[0;32mif\u001b[0m \u001b[0mlen\u001b[0m\u001b[0;34m(\u001b[0m\u001b[0mset_y\u001b[0m\u001b[0;34m)\u001b[0m \u001b[0;34m>\u001b[0m \u001b[0;36m1\u001b[0m\u001b[0;34m:\u001b[0m\u001b[0;34m\u001b[0m\u001b[0;34m\u001b[0m\u001b[0m\n\u001b[1;32m    230\u001b[0m         raise ValueError('All target arrays (y) should have '\n",
            "\u001b[0;31mValueError\u001b[0m: All input arrays (x) should have the same number of samples. Got array shapes: [(800167, 1), (800167, 1), (487183, 1), (487183, 1), (487183, 1)]"
          ]
        }
      ]
    },
    {
      "metadata": {
        "id": "gnMGAb-jJVPH",
        "colab_type": "code",
        "colab": {}
      },
      "cell_type": "code",
      "source": [
        "a = np.zeros((lenu, leni))"
      ],
      "execution_count": 0,
      "outputs": []
    },
    {
      "metadata": {
        "id": "6d03Wu63JgyY",
        "colab_type": "code",
        "colab": {}
      },
      "cell_type": "code",
      "source": [
        "b = np.array(df)"
      ],
      "execution_count": 0,
      "outputs": []
    },
    {
      "metadata": {
        "id": "1ndEMR4fKskL",
        "colab_type": "code",
        "colab": {}
      },
      "cell_type": "code",
      "source": [
        "for i in b:\n",
        "  u = i[0]\n",
        "  m = i[1]\n",
        "  r = i[2]\n",
        "  a[u-1][m-1] = r"
      ],
      "execution_count": 0,
      "outputs": []
    },
    {
      "metadata": {
        "id": "pN6DL2mpLESh",
        "colab_type": "code",
        "outputId": "47df113d-7c1d-4941-80a7-9fe1f68506f3",
        "colab": {
          "base_uri": "https://localhost:8080/",
          "height": 136
        }
      },
      "cell_type": "code",
      "source": [
        "a"
      ],
      "execution_count": 0,
      "outputs": [
        {
          "output_type": "execute_result",
          "data": {
            "text/plain": [
              "array([[5., 0., 0., ..., 0., 0., 0.],\n",
              "       [5., 0., 0., ..., 0., 0., 0.],\n",
              "       [5., 0., 0., ..., 0., 0., 0.],\n",
              "       ...,\n",
              "       [0., 0., 0., ..., 0., 0., 0.],\n",
              "       [0., 0., 0., ..., 0., 0., 0.],\n",
              "       [0., 0., 0., ..., 0., 0., 0.]])"
            ]
          },
          "metadata": {
            "tags": []
          },
          "execution_count": 54
        }
      ]
    },
    {
      "metadata": {
        "id": "hDIWZZZxLNL3",
        "colab_type": "code",
        "outputId": "36cb1768-7392-4fc6-a0ba-8abef20e5575",
        "colab": {
          "base_uri": "https://localhost:8080/",
          "height": 85
        }
      },
      "cell_type": "code",
      "source": [
        "df.loc[df['userID'].idxmax()]"
      ],
      "execution_count": 0,
      "outputs": [
        {
          "output_type": "execute_result",
          "data": {
            "text/plain": [
              "userID         17615\n",
              "movieID        16108\n",
              "movieRating        5\n",
              "Name: 72646, dtype: int64"
            ]
          },
          "metadata": {
            "tags": []
          },
          "execution_count": 34
        }
      ]
    },
    {
      "metadata": {
        "id": "zFvx8JLEMQfT",
        "colab_type": "code",
        "colab": {}
      },
      "cell_type": "code",
      "source": [
        "c = np.array(dft)"
      ],
      "execution_count": 0,
      "outputs": []
    },
    {
      "metadata": {
        "id": "11JX8dVGMTz7",
        "colab_type": "code",
        "outputId": "c45875da-70b5-4f36-b55f-fff1d8553c74",
        "colab": {
          "base_uri": "https://localhost:8080/",
          "height": 34
        }
      },
      "cell_type": "code",
      "source": [
        "for i in c:\n",
        "  if i[0] == 17615 or i[1] == 17615:\n",
        "    print(i)"
      ],
      "execution_count": 0,
      "outputs": [
        {
          "output_type": "stream",
          "text": [
            "[ 3792 17615     1]\n"
          ],
          "name": "stdout"
        }
      ]
    }
  ]
}