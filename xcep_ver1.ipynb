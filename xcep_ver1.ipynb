{
  "nbformat": 4,
  "nbformat_minor": 0,
  "metadata": {
    "colab": {
      "name": "run_model.ipynb",
      "version": "0.3.2",
      "provenance": [],
      "toc_visible": true
    },
    "kernelspec": {
      "name": "python3",
      "display_name": "Python 3"
    },
    "accelerator": "GPU"
  },
  "cells": [
    {
      "metadata": {
        "id": "MHOJF4Czy2Jn",
        "colab_type": "code",
        "outputId": "f3be5dfe-f530-4d3b-fecf-95aa427f3245",
        "colab": {
          "base_uri": "https://localhost:8080/",
          "height": 34
        }
      },
      "cell_type": "code",
      "source": [
        "!ls"
      ],
      "execution_count": 0,
      "outputs": [
        {
          "output_type": "stream",
          "text": [
            "my_model.h5  ratings.dat  sample_data  u1.test\n"
          ],
          "name": "stdout"
        }
      ]
    },
    {
      "metadata": {
        "id": "W4J85_1woFf0",
        "colab_type": "code",
        "colab": {}
      },
      "cell_type": "code",
      "source": [
        ""
      ],
      "execution_count": 0,
      "outputs": []
    },
    {
      "metadata": {
        "id": "avIhwrc1oFdD",
        "colab_type": "code",
        "colab": {}
      },
      "cell_type": "code",
      "source": [
        "import tensorflow as tf\n",
        "graph = tf.get_default_graph()"
      ],
      "execution_count": 0,
      "outputs": []
    },
    {
      "metadata": {
        "id": "IRPTZXXnoFZd",
        "colab_type": "code",
        "colab": {}
      },
      "cell_type": "code",
      "source": [
        ""
      ],
      "execution_count": 0,
      "outputs": []
    },
    {
      "metadata": {
        "id": "HAZn3tJ1Lm_T",
        "colab_type": "text"
      },
      "cell_type": "markdown",
      "source": [
        "# Not"
      ]
    },
    {
      "metadata": {
        "id": "DgLOEeR8w1dA",
        "colab_type": "code",
        "colab": {}
      },
      "cell_type": "code",
      "source": [
        "filepath = 'ratings_data.txt'\n",
        "# a = DataSet(filepath)"
      ],
      "execution_count": 0,
      "outputs": []
    },
    {
      "metadata": {
        "id": "TTfTEZl0w1dJ",
        "colab_type": "code",
        "colab": {}
      },
      "cell_type": "code",
      "source": [
        "import numpy as np\n",
        "import pandas as pd\n"
      ],
      "execution_count": 0,
      "outputs": []
    },
    {
      "metadata": {
        "id": "Iom03pJmw1dP",
        "colab_type": "code",
        "colab": {}
      },
      "cell_type": "code",
      "source": [
        "# filename = './Data/ml-1m/u.data'\n",
        "# name = ['user', 'item', 'ratings', 'time']\n",
        "# df1 = pd.read_csv(filepath)\n",
        "# df1 = df1.drop(columns=['time'])"
      ],
      "execution_count": 0,
      "outputs": []
    },
    {
      "metadata": {
        "id": "lvKhXFLBawDv",
        "colab_type": "code",
        "colab": {}
      },
      "cell_type": "code",
      "source": [
        "trustfile = 'trusts.txt'\n",
        "ratefile = 'movie-ratings.txt'"
      ],
      "execution_count": 0,
      "outputs": []
    },
    {
      "metadata": {
        "id": "gzqR_HgDa07h",
        "colab_type": "code",
        "colab": {}
      },
      "cell_type": "code",
      "source": [
        "name = ['userID', 'movieID', 'genreID', 'reviewID', 'movieRating', 'date']\n",
        "df = pd.read_csv(ratefile, sep=',',names=name)\n",
        "df = df.drop(columns=['genreID','reviewID','date'])\n"
      ],
      "execution_count": 0,
      "outputs": []
    },
    {
      "metadata": {
        "id": "csB-ngPbJvzL",
        "colab_type": "code",
        "colab": {}
      },
      "cell_type": "code",
      "source": [
        "lenu, leni = len(df.userID.unique()), len(df.movieID.unique())"
      ],
      "execution_count": 0,
      "outputs": []
    },
    {
      "metadata": {
        "id": "5iyb-GKvbGKv",
        "colab_type": "code",
        "colab": {}
      },
      "cell_type": "code",
      "source": [
        "trustname = ['trustorID', 'trusteeID', 'trustValue']\n",
        "dft = pd.read_csv(trustfile, sep = ',', names = trustname)"
      ],
      "execution_count": 0,
      "outputs": []
    },
    {
      "metadata": {
        "id": "Rx28Z6p0a7Rf",
        "colab_type": "code",
        "outputId": "4429e17c-abfa-4ce8-dd03-cff95ac24ff7",
        "colab": {
          "base_uri": "https://localhost:8080/",
          "height": 34
        }
      },
      "cell_type": "code",
      "source": [
        "df.movieID.max()"
      ],
      "execution_count": 0,
      "outputs": [
        {
          "output_type": "execute_result",
          "data": {
            "text/plain": [
              "16121"
            ]
          },
          "metadata": {
            "tags": []
          },
          "execution_count": 50
        }
      ]
    },
    {
      "metadata": {
        "id": "s0TZ-nC5bWLn",
        "colab_type": "code",
        "outputId": "dc8190df-f899-462d-b46a-8cac035d42ea",
        "colab": {
          "base_uri": "https://localhost:8080/",
          "height": 204
        }
      },
      "cell_type": "code",
      "source": [
        "dft.head()"
      ],
      "execution_count": 0,
      "outputs": [
        {
          "output_type": "execute_result",
          "data": {
            "text/html": [
              "<div>\n",
              "<style scoped>\n",
              "    .dataframe tbody tr th:only-of-type {\n",
              "        vertical-align: middle;\n",
              "    }\n",
              "\n",
              "    .dataframe tbody tr th {\n",
              "        vertical-align: top;\n",
              "    }\n",
              "\n",
              "    .dataframe thead th {\n",
              "        text-align: right;\n",
              "    }\n",
              "</style>\n",
              "<table border=\"1\" class=\"dataframe\">\n",
              "  <thead>\n",
              "    <tr style=\"text-align: right;\">\n",
              "      <th></th>\n",
              "      <th>trustorID</th>\n",
              "      <th>trusteeID</th>\n",
              "      <th>trustValue</th>\n",
              "    </tr>\n",
              "  </thead>\n",
              "  <tbody>\n",
              "    <tr>\n",
              "      <th>0</th>\n",
              "      <td>8874</td>\n",
              "      <td>14430</td>\n",
              "      <td>1</td>\n",
              "    </tr>\n",
              "    <tr>\n",
              "      <th>1</th>\n",
              "      <td>6417</td>\n",
              "      <td>17660</td>\n",
              "      <td>1</td>\n",
              "    </tr>\n",
              "    <tr>\n",
              "      <th>2</th>\n",
              "      <td>4218</td>\n",
              "      <td>953</td>\n",
              "      <td>1</td>\n",
              "    </tr>\n",
              "    <tr>\n",
              "      <th>3</th>\n",
              "      <td>4218</td>\n",
              "      <td>3304</td>\n",
              "      <td>1</td>\n",
              "    </tr>\n",
              "    <tr>\n",
              "      <th>4</th>\n",
              "      <td>4218</td>\n",
              "      <td>3977</td>\n",
              "      <td>1</td>\n",
              "    </tr>\n",
              "  </tbody>\n",
              "</table>\n",
              "</div>"
            ],
            "text/plain": [
              "   trustorID  trusteeID  trustValue\n",
              "0       8874      14430           1\n",
              "1       6417      17660           1\n",
              "2       4218        953           1\n",
              "3       4218       3304           1\n",
              "4       4218       3977           1"
            ]
          },
          "metadata": {
            "tags": []
          },
          "execution_count": 10
        }
      ]
    },
    {
      "metadata": {
        "id": "YDl7s8K0VlQ3",
        "colab_type": "code",
        "colab": {}
      },
      "cell_type": "code",
      "source": [
        "from collections import defaultdict"
      ],
      "execution_count": 0,
      "outputs": []
    },
    {
      "metadata": {
        "id": "i93dnjnbbn42",
        "colab_type": "code",
        "colab": {}
      },
      "cell_type": "code",
      "source": [
        "trustmatrix = np.array(dft)"
      ],
      "execution_count": 0,
      "outputs": []
    },
    {
      "metadata": {
        "id": "Uu21fbhvbsO5",
        "colab_type": "code",
        "outputId": "b4f2739d-6dd7-4c4e-c5df-e1c6fe88b50b",
        "colab": {
          "base_uri": "https://localhost:8080/",
          "height": 34
        }
      },
      "cell_type": "code",
      "source": [
        "trustmatrix.shape"
      ],
      "execution_count": 0,
      "outputs": [
        {
          "output_type": "execute_result",
          "data": {
            "text/plain": [
              "(40133, 3)"
            ]
          },
          "metadata": {
            "tags": []
          },
          "execution_count": 13
        }
      ]
    },
    {
      "metadata": {
        "id": "RZGY6WazNn85",
        "colab_type": "code",
        "outputId": "c0d20bf6-0fd0-4c49-9edc-9cb60d6d47ae",
        "colab": {
          "base_uri": "https://localhost:8080/",
          "height": 34
        }
      },
      "cell_type": "code",
      "source": [
        "trustmatrix[1][0]"
      ],
      "execution_count": 0,
      "outputs": [
        {
          "output_type": "execute_result",
          "data": {
            "text/plain": [
              "6417"
            ]
          },
          "metadata": {
            "tags": []
          },
          "execution_count": 14
        }
      ]
    },
    {
      "metadata": {
        "id": "KlK6ba4Fd5g6",
        "colab_type": "code",
        "outputId": "fb6cfa77-bd21-4e41-87fe-4eaf336cc4cd",
        "colab": {
          "base_uri": "https://localhost:8080/",
          "height": 34
        }
      },
      "cell_type": "code",
      "source": [
        "len(dft.trusteeID.unique())"
      ],
      "execution_count": 0,
      "outputs": [
        {
          "output_type": "execute_result",
          "data": {
            "text/plain": [
              "4299"
            ]
          },
          "metadata": {
            "tags": []
          },
          "execution_count": 15
        }
      ]
    },
    {
      "metadata": {
        "id": "xOdkO-x8Nz03",
        "colab_type": "code",
        "colab": {}
      },
      "cell_type": "code",
      "source": [
        "trustor = defaultdict(dict)"
      ],
      "execution_count": 0,
      "outputs": []
    },
    {
      "metadata": {
        "id": "LLKv45BNNhTH",
        "colab_type": "code",
        "outputId": "f210c576-14e3-4a21-ba56-be9d26d931c3",
        "colab": {
          "base_uri": "https://localhost:8080/",
          "height": 214
        }
      },
      "cell_type": "code",
      "source": [
        "\n",
        "for i in range(len(trustmatrix)):\n",
        "  if trustmatrix[i][0] not in trustor:\n",
        "    trustor[trustmatrix[i][0]] = {}\n",
        "  trustor[trustmatrix[i][0]].append(trustmatrix[i][1])\n",
        "  "
      ],
      "execution_count": 0,
      "outputs": [
        {
          "output_type": "error",
          "ename": "AttributeError",
          "evalue": "ignored",
          "traceback": [
            "\u001b[0;31m---------------------------------------------------------------------------\u001b[0m",
            "\u001b[0;31mAttributeError\u001b[0m                            Traceback (most recent call last)",
            "\u001b[0;32m<ipython-input-28-aa1c87ecc894>\u001b[0m in \u001b[0;36m<module>\u001b[0;34m()\u001b[0m\n\u001b[1;32m      3\u001b[0m   \u001b[0;32mif\u001b[0m \u001b[0mtrustmatrix\u001b[0m\u001b[0;34m[\u001b[0m\u001b[0mi\u001b[0m\u001b[0;34m]\u001b[0m\u001b[0;34m[\u001b[0m\u001b[0;36m0\u001b[0m\u001b[0;34m]\u001b[0m \u001b[0;32mnot\u001b[0m \u001b[0;32min\u001b[0m \u001b[0mtrustor\u001b[0m\u001b[0;34m:\u001b[0m\u001b[0;34m\u001b[0m\u001b[0;34m\u001b[0m\u001b[0m\n\u001b[1;32m      4\u001b[0m     \u001b[0mtrustor\u001b[0m\u001b[0;34m[\u001b[0m\u001b[0mtrustmatrix\u001b[0m\u001b[0;34m[\u001b[0m\u001b[0mi\u001b[0m\u001b[0;34m]\u001b[0m\u001b[0;34m[\u001b[0m\u001b[0;36m0\u001b[0m\u001b[0;34m]\u001b[0m\u001b[0;34m]\u001b[0m \u001b[0;34m=\u001b[0m \u001b[0;34m{\u001b[0m\u001b[0;34m}\u001b[0m\u001b[0;34m\u001b[0m\u001b[0;34m\u001b[0m\u001b[0m\n\u001b[0;32m----> 5\u001b[0;31m   \u001b[0mtrustor\u001b[0m\u001b[0;34m[\u001b[0m\u001b[0mtrustmatrix\u001b[0m\u001b[0;34m[\u001b[0m\u001b[0mi\u001b[0m\u001b[0;34m]\u001b[0m\u001b[0;34m[\u001b[0m\u001b[0;36m0\u001b[0m\u001b[0;34m]\u001b[0m\u001b[0;34m]\u001b[0m\u001b[0;34m.\u001b[0m\u001b[0mappend\u001b[0m\u001b[0;34m(\u001b[0m\u001b[0mtrustmatrix\u001b[0m\u001b[0;34m[\u001b[0m\u001b[0mi\u001b[0m\u001b[0;34m]\u001b[0m\u001b[0;34m[\u001b[0m\u001b[0;36m1\u001b[0m\u001b[0;34m]\u001b[0m\u001b[0;34m)\u001b[0m\u001b[0;34m\u001b[0m\u001b[0;34m\u001b[0m\u001b[0m\n\u001b[0m\u001b[1;32m      6\u001b[0m \u001b[0;34m\u001b[0m\u001b[0m\n",
            "\u001b[0;31mAttributeError\u001b[0m: 'dict' object has no attribute 'append'"
          ]
        }
      ]
    },
    {
      "metadata": {
        "id": "j6fUuRhlVLiQ",
        "colab_type": "code",
        "outputId": "cc55159f-a64a-4ce8-90f7-a0c2066aed05",
        "colab": {
          "base_uri": "https://localhost:8080/",
          "height": 34
        }
      },
      "cell_type": "code",
      "source": [
        "trustor[1132]"
      ],
      "execution_count": 0,
      "outputs": [
        {
          "output_type": "execute_result",
          "data": {
            "text/plain": [
              "{3825: 1, 13287: 1, 14923: 1, 18256: 1}"
            ]
          },
          "metadata": {
            "tags": []
          },
          "execution_count": 27
        }
      ]
    },
    {
      "metadata": {
        "id": "S4-fIsFdbxL-",
        "colab_type": "code",
        "outputId": "4063d9de-cedf-427f-cd51-bb0bb025d3cb",
        "colab": {
          "base_uri": "https://localhost:8080/",
          "height": 34
        }
      },
      "cell_type": "code",
      "source": [
        ""
      ],
      "execution_count": 0,
      "outputs": [
        {
          "output_type": "execute_result",
          "data": {
            "text/plain": [
              "{3825: 1, 13287: 1, 14923: 1, 18256: 1}"
            ]
          },
          "metadata": {
            "tags": []
          },
          "execution_count": 30
        }
      ]
    },
    {
      "metadata": {
        "id": "mH2bbRm0Byh3",
        "colab_type": "code",
        "colab": {}
      },
      "cell_type": "code",
      "source": [
        "\n",
        "# frame = pd.read_csv(filepath,sep=' ', names=['user', 'item', 'rating'])\n"
      ],
      "execution_count": 0,
      "outputs": []
    },
    {
      "metadata": {
        "id": "GEQ5qdSpCL55",
        "colab_type": "code",
        "colab": {}
      },
      "cell_type": "code",
      "source": [
        "data_dim = len(frame.user.unique()), len(frame.item.unique())\n",
        "data = np.array(frame)\n",
        "train, test = train_test_split(data, test_size=0.2)"
      ],
      "execution_count": 0,
      "outputs": []
    },
    {
      "metadata": {
        "id": "9JEnBPgXbKqs",
        "colab_type": "code",
        "outputId": "a1e5b8ea-dd3b-4001-89d0-5cbc25337247",
        "colab": {
          "base_uri": "https://localhost:8080/",
          "height": 204
        }
      },
      "cell_type": "code",
      "source": [
        "df.head()"
      ],
      "execution_count": 0,
      "outputs": [
        {
          "output_type": "execute_result",
          "data": {
            "text/html": [
              "<div>\n",
              "<style scoped>\n",
              "    .dataframe tbody tr th:only-of-type {\n",
              "        vertical-align: middle;\n",
              "    }\n",
              "\n",
              "    .dataframe tbody tr th {\n",
              "        vertical-align: top;\n",
              "    }\n",
              "\n",
              "    .dataframe thead th {\n",
              "        text-align: right;\n",
              "    }\n",
              "</style>\n",
              "<table border=\"1\" class=\"dataframe\">\n",
              "  <thead>\n",
              "    <tr style=\"text-align: right;\">\n",
              "      <th></th>\n",
              "      <th>user</th>\n",
              "      <th>item</th>\n",
              "      <th>ratings</th>\n",
              "    </tr>\n",
              "  </thead>\n",
              "  <tbody>\n",
              "    <tr>\n",
              "      <th>0</th>\n",
              "      <td>1</td>\n",
              "      <td>1193</td>\n",
              "      <td>5</td>\n",
              "    </tr>\n",
              "    <tr>\n",
              "      <th>1</th>\n",
              "      <td>1</td>\n",
              "      <td>661</td>\n",
              "      <td>3</td>\n",
              "    </tr>\n",
              "    <tr>\n",
              "      <th>2</th>\n",
              "      <td>1</td>\n",
              "      <td>914</td>\n",
              "      <td>3</td>\n",
              "    </tr>\n",
              "    <tr>\n",
              "      <th>3</th>\n",
              "      <td>1</td>\n",
              "      <td>3408</td>\n",
              "      <td>4</td>\n",
              "    </tr>\n",
              "    <tr>\n",
              "      <th>4</th>\n",
              "      <td>1</td>\n",
              "      <td>2355</td>\n",
              "      <td>5</td>\n",
              "    </tr>\n",
              "  </tbody>\n",
              "</table>\n",
              "</div>"
            ],
            "text/plain": [
              "   user  item  ratings\n",
              "0     1  1193        5\n",
              "1     1   661        3\n",
              "2     1   914        3\n",
              "3     1  3408        4\n",
              "4     1  2355        5"
            ]
          },
          "metadata": {
            "tags": []
          },
          "execution_count": 4
        }
      ]
    },
    {
      "metadata": {
        "id": "JV7Jc13kw1dT",
        "colab_type": "code",
        "colab": {}
      },
      "cell_type": "code",
      "source": [
        "data_dim = len(df.userID.unique()), len(df.movieID.unique())"
      ],
      "execution_count": 0,
      "outputs": []
    },
    {
      "metadata": {
        "id": "cg93D7srw1dW",
        "colab_type": "code",
        "outputId": "3ec2987e-51aa-450e-a04b-f3b4c399d315",
        "colab": {
          "base_uri": "https://localhost:8080/",
          "height": 34
        }
      },
      "cell_type": "code",
      "source": [
        "data_dim[0]"
      ],
      "execution_count": 0,
      "outputs": [
        {
          "output_type": "execute_result",
          "data": {
            "text/plain": [
              "17615"
            ]
          },
          "metadata": {
            "tags": []
          },
          "execution_count": 57
        }
      ]
    },
    {
      "metadata": {
        "id": "vUNWh3b3SDXF",
        "colab_type": "text"
      },
      "cell_type": "markdown",
      "source": [
        "# **Deep Recommend**"
      ]
    },
    {
      "metadata": {
        "id": "I3Yudpo8SC9v",
        "colab_type": "code",
        "colab": {}
      },
      "cell_type": "code",
      "source": [
        "ff = 'ratings.dat'"
      ],
      "execution_count": 0,
      "outputs": []
    },
    {
      "metadata": {
        "id": "So62lzBR8dUb",
        "colab_type": "code",
        "colab": {}
      },
      "cell_type": "code",
      "source": [
        ""
      ],
      "execution_count": 0,
      "outputs": []
    },
    {
      "metadata": {
        "id": "OvN0bqucSA9K",
        "colab_type": "code",
        "outputId": "ce2a737f-a3ee-4037-9c01-520f7a0aeb85",
        "colab": {
          "base_uri": "https://localhost:8080/",
          "height": 71
        }
      },
      "cell_type": "code",
      "source": [
        "name = ['user', 'item', 'rating', 'time']\n",
        "dff = pd.read_csv(ff, sep='::', names = name)\n",
        "dff = dff.drop(columns = ['time'])"
      ],
      "execution_count": 30,
      "outputs": [
        {
          "output_type": "stream",
          "text": [
            "/usr/local/lib/python3.6/dist-packages/ipykernel_launcher.py:2: ParserWarning: Falling back to the 'python' engine because the 'c' engine does not support regex separators (separators > 1 char and different from '\\s+' are interpreted as regex); you can avoid this warning by specifying engine='python'.\n",
            "  \n"
          ],
          "name": "stderr"
        }
      ]
    },
    {
      "metadata": {
        "id": "zAeQMBgqSkhS",
        "colab_type": "code",
        "outputId": "c5602f4b-7a16-4583-b50d-fba60ccf5f91",
        "colab": {
          "base_uri": "https://localhost:8080/",
          "height": 204
        }
      },
      "cell_type": "code",
      "source": [
        "dff.head()"
      ],
      "execution_count": 31,
      "outputs": [
        {
          "output_type": "execute_result",
          "data": {
            "text/html": [
              "<div>\n",
              "<style scoped>\n",
              "    .dataframe tbody tr th:only-of-type {\n",
              "        vertical-align: middle;\n",
              "    }\n",
              "\n",
              "    .dataframe tbody tr th {\n",
              "        vertical-align: top;\n",
              "    }\n",
              "\n",
              "    .dataframe thead th {\n",
              "        text-align: right;\n",
              "    }\n",
              "</style>\n",
              "<table border=\"1\" class=\"dataframe\">\n",
              "  <thead>\n",
              "    <tr style=\"text-align: right;\">\n",
              "      <th></th>\n",
              "      <th>user</th>\n",
              "      <th>item</th>\n",
              "      <th>rating</th>\n",
              "    </tr>\n",
              "  </thead>\n",
              "  <tbody>\n",
              "    <tr>\n",
              "      <th>0</th>\n",
              "      <td>1</td>\n",
              "      <td>1193</td>\n",
              "      <td>5</td>\n",
              "    </tr>\n",
              "    <tr>\n",
              "      <th>1</th>\n",
              "      <td>1</td>\n",
              "      <td>661</td>\n",
              "      <td>3</td>\n",
              "    </tr>\n",
              "    <tr>\n",
              "      <th>2</th>\n",
              "      <td>1</td>\n",
              "      <td>914</td>\n",
              "      <td>3</td>\n",
              "    </tr>\n",
              "    <tr>\n",
              "      <th>3</th>\n",
              "      <td>1</td>\n",
              "      <td>3408</td>\n",
              "      <td>4</td>\n",
              "    </tr>\n",
              "    <tr>\n",
              "      <th>4</th>\n",
              "      <td>1</td>\n",
              "      <td>2355</td>\n",
              "      <td>5</td>\n",
              "    </tr>\n",
              "  </tbody>\n",
              "</table>\n",
              "</div>"
            ],
            "text/plain": [
              "   user  item  rating\n",
              "0     1  1193       5\n",
              "1     1   661       3\n",
              "2     1   914       3\n",
              "3     1  3408       4\n",
              "4     1  2355       5"
            ]
          },
          "metadata": {
            "tags": []
          },
          "execution_count": 31
        }
      ]
    },
    {
      "metadata": {
        "id": "w_6a1YsLTCtS",
        "colab_type": "code",
        "colab": {}
      },
      "cell_type": "code",
      "source": [
        "data_dim = len(dff.user.unique()), len(dff.item.unique())"
      ],
      "execution_count": 0,
      "outputs": []
    },
    {
      "metadata": {
        "id": "tHarp6e88vKG",
        "colab_type": "code",
        "colab": {
          "base_uri": "https://localhost:8080/",
          "height": 34
        },
        "outputId": "d2ce58a0-45c0-49af-c40c-3184343891e0"
      },
      "cell_type": "code",
      "source": [
        "data_dim"
      ],
      "execution_count": 33,
      "outputs": [
        {
          "output_type": "execute_result",
          "data": {
            "text/plain": [
              "(6040, 3706)"
            ]
          },
          "metadata": {
            "tags": []
          },
          "execution_count": 33
        }
      ]
    },
    {
      "metadata": {
        "id": "N5eiVP68w1da",
        "colab_type": "code",
        "colab": {}
      },
      "cell_type": "code",
      "source": [
        "from sklearn.model_selection import train_test_split"
      ],
      "execution_count": 0,
      "outputs": []
    },
    {
      "metadata": {
        "id": "V2xM2alzw1dd",
        "colab_type": "code",
        "colab": {}
      },
      "cell_type": "code",
      "source": [
        "data = np.array(dff)\n",
        "train, test = train_test_split(data, test_size=0.2)"
      ],
      "execution_count": 0,
      "outputs": []
    },
    {
      "metadata": {
        "id": "_2JGflFow1de",
        "colab_type": "code",
        "colab": {}
      },
      "cell_type": "code",
      "source": [
        "u_train = train[:,0]\n",
        "i_train = train[:,1]\n",
        "r_train = train[:,2]\n",
        "u_test = test[:,0]\n",
        "i_test = test[:,1]\n",
        "r_test = test[:,2]"
      ],
      "execution_count": 0,
      "outputs": []
    },
    {
      "metadata": {
        "id": "aDVU9T7WPDHd",
        "colab_type": "code",
        "colab": {}
      },
      "cell_type": "code",
      "source": [
        "# r_train = r_train/5\n",
        "# r_test = r_test/5"
      ],
      "execution_count": 0,
      "outputs": []
    },
    {
      "metadata": {
        "id": "qUSbF6n9w1dk",
        "colab_type": "code",
        "colab": {}
      },
      "cell_type": "code",
      "source": [
        "from keras.models import Model\n",
        "from keras.callbacks import ModelCheckpoint\n",
        "from keras.layers import dot, concatenate, Embedding, Input, Flatten, Dropout, Dense, add\n",
        "from keras.models import Sequential\n",
        "from keras import optimizers\n",
        "from keras.layers.normalization import BatchNormalization\n",
        "from keras import backend as K"
      ],
      "execution_count": 0,
      "outputs": []
    },
    {
      "metadata": {
        "id": "x6OeRT2Aw1dn",
        "colab_type": "code",
        "colab": {}
      },
      "cell_type": "code",
      "source": [
        "len_dim_i = [100,200,300]\n",
        "len_dim_u = [100,200,300]\n",
        "len_dim_r = [300,200,100]"
      ],
      "execution_count": 0,
      "outputs": []
    },
    {
      "metadata": {
        "id": "KeR950zy-3lt",
        "colab_type": "code",
        "colab": {}
      },
      "cell_type": "code",
      "source": [
        "def rmse(y_true, y_pred):\n",
        "        return K.sqrt(K.mean(K.square(y_pred - y_true), axis=-1)) "
      ],
      "execution_count": 0,
      "outputs": []
    },
    {
      "metadata": {
        "id": "sQeQVpkyw1dq",
        "colab_type": "code",
        "colab": {}
      },
      "cell_type": "code",
      "source": [
        "user_id_input = Input(shape=[1], name='user')\n",
        "item_id_input = Input(shape=[1], name='item')\n",
        "\n",
        "user_embedding = Embedding(output_dim=10, input_dim=data_dim[0] + 1,\n",
        "                                   input_length=1, name='user_embedding')(user_id_input)\n",
        "item_embedding = Embedding(output_dim=10, input_dim=data_dim[1] + 1,\n",
        "                                   input_length=1, name='item_embedding')(item_id_input)\n",
        "#user-item init\n",
        "# user_layer = (Dense(100, activation=\"relu\"))(user_id_input)\n",
        "# item_layer = (Dense(100, activation=\"relu\"))(item_id_input)\n",
        "# sub_layer_user = add([user_embedding, user_id_input])\n",
        "# sub_layer_item = add([item_embedding, item_id_input])\n",
        "\n",
        "\n",
        "# user_embedding = (Dense(100, activation=\"relu\"))(user_embedding)\n",
        "# item_embedding = (Dense(100, activation=\"relu\"))(item_embedding)\n",
        "# sub_layer_user = (Dense(100, activation=\"relu\"))(sub_layer_user)\n",
        "# sub_layer_item = (Dense(100, activation=\"relu\"))(sub_layer_item)\n",
        "\n",
        "# for i in range(len(len_dim_u)):\n",
        "#     user_embedding = (Dense(len_dim_u[i], activation=\"relu\"))(user_embedding)\n",
        "#     user_embedding = (Dropout(0.1))(user_embedding)\n",
        "# for i in range(len(len_dim_i)):\n",
        "#     item_embedding = (Dense(len_dim_i[i], activation=\"relu\"))(item_embedding)\n",
        "#     item_embedding = (Dropout(0.1))(item_embedding)\n",
        "\n",
        "# sub_layer_user = add([user_embedding, user_layer])\n",
        "# sub_layer_item = add([item_embedding, item_layer])\n",
        "#1st block\n",
        "user_embedding = (Dense(100, activation=\"relu\"))(user_embedding)\n",
        "item_embedding = (Dense(100, activation=\"relu\"))(item_embedding)\n",
        "\n",
        "sub_layer_user = (Dense(100, activation=\"relu\"))(user_id_input)\n",
        "sub_layer_item = (Dense(100, activation=\"relu\"))(item_id_input)\n",
        "#xcep\n",
        "sub_layer_user = add([user_embedding, sub_layer_user])\n",
        "sub_layer_item = add([item_embedding, sub_layer_item])\n",
        "\n",
        "user_embedding = (Dense(150, activation=\"relu\"))(user_embedding)\n",
        "item_embedding = (Dense(150, activation=\"relu\"))(item_embedding)\n",
        "\n",
        "sub_layer_user = (Dense(150, activation=\"relu\"))(user_id_input)\n",
        "sub_layer_item = (Dense(150, activation=\"relu\"))(item_id_input)\n",
        "#xcep\n",
        "sub_layer_user = add([user_embedding, sub_layer_user])\n",
        "sub_layer_item = add([item_embedding, sub_layer_item])\n",
        "\n",
        "#2nd block\n",
        "user_embedding = (Dense(200, activation=\"relu\"))(user_embedding)\n",
        "item_embedding = (Dense(200, activation=\"relu\"))(item_embedding)\n",
        "\n",
        "sub_layer_user = (Dense(200, activation=\"relu\"))(sub_layer_user)\n",
        "sub_layer_item = (Dense(200, activation=\"relu\"))(sub_layer_item)\n",
        "\n",
        "user_embedding = add([user_embedding, sub_layer_user])\n",
        "item_embedding = add([item_embedding, sub_layer_item])\n",
        "\n",
        "user_vecs = Flatten()(user_embedding)\n",
        "item_vecs = Flatten()(item_embedding)\n",
        "\n",
        "    \n",
        "# y = merge([user_vecs, item_vecs], mode='dot', output_shape=(1,))\n",
        "y = concatenate([user_vecs, item_vecs])\n",
        "# # y = (Dense(1, activation=\"relu\"))(y)\n",
        "for i in range(len(len_dim_r)):\n",
        "    y = (Dense(len_dim_r[i], activation=\"relu\"))(y)\n",
        "    y = (BatchNormalization())(y)\n",
        "    y = (Dropout(0.2))(y)\n",
        "# y = Dense(1, activation=\"relu\")(y)\n",
        "# M = Sequential()\n",
        "# M.add(y)\n",
        "# y = (Dropout(0.25))(y)\n",
        "# y = (Dense(64))(y)\n",
        "# y = (Dropout(0.2))(y)\n",
        "# y = (Dense(32))(y)\n",
        "# y = (Dropout(0.25))(y)\n",
        "# y = (Dense(16))(y)\n",
        "# y = (Dropout(0.1))(y)\n",
        "# y = (Dense(4))(y)\n",
        "# y = (Dropout(0.2))(y)\n",
        "y = (Dense(1, activation='relu'))(y)\n",
        "\n",
        "model = Model(inputs=[user_id_input, item_id_input], outputs=[y])\n",
        "adam = optimizers.Adam(lr=0.0001)\n",
        "model.compile(optimizer=adam, loss='mae', metrics=['mse'])"
      ],
      "execution_count": 0,
      "outputs": []
    },
    {
      "metadata": {
        "id": "ZHl7HAHIJSMp",
        "colab_type": "code",
        "colab": {}
      },
      "cell_type": "code",
      "source": [
        ""
      ],
      "execution_count": 0,
      "outputs": []
    },
    {
      "metadata": {
        "id": "CIEH7wMqhH7-",
        "colab_type": "text"
      },
      "cell_type": "markdown",
      "source": [
        ""
      ]
    },
    {
      "metadata": {
        "id": "6sJSbOMKw1ds",
        "colab_type": "code",
        "outputId": "8daf3d65-b0a2-42fb-da4f-90373896525e",
        "colab": {
          "base_uri": "https://localhost:8080/",
          "height": 224
        }
      },
      "cell_type": "code",
      "source": [
        "history = model.fit([u_train,i_train], r_train,validation_data=([u_test,i_test], r_test), batch_size=64, epochs = 5, verbose=1, shuffle=True)"
      ],
      "execution_count": 65,
      "outputs": [
        {
          "output_type": "stream",
          "text": [
            "Train on 800167 samples, validate on 200042 samples\n",
            "Epoch 1/5\n",
            "800167/800167 [==============================] - 243s 303us/step - loss: 1.1108 - mean_squared_error: 2.1071 - val_loss: 0.9395 - val_mean_squared_error: 1.3683\n",
            "Epoch 2/5\n",
            "800167/800167 [==============================] - 236s 295us/step - loss: 0.9641 - mean_squared_error: 1.5643 - val_loss: 0.8977 - val_mean_squared_error: 1.3118\n",
            "Epoch 3/5\n",
            "800167/800167 [==============================] - 235s 293us/step - loss: 0.8984 - mean_squared_error: 1.3235 - val_loss: 0.9282 - val_mean_squared_error: 1.3200\n",
            "Epoch 4/5\n",
            "800167/800167 [==============================] - 235s 294us/step - loss: 0.8378 - mean_squared_error: 1.1313 - val_loss: 0.9236 - val_mean_squared_error: 1.2557\n",
            "Epoch 5/5\n",
            "800167/800167 [==============================] - 235s 294us/step - loss: 0.8030 - mean_squared_error: 1.0442 - val_loss: 1.6512 - val_mean_squared_error: 13398.3913\n"
          ],
          "name": "stdout"
        }
      ]
    },
    {
      "metadata": {
        "id": "ASRFXuC1w1dx",
        "colab_type": "code",
        "outputId": "51231bd0-eb4c-43cd-f579-585678f2dfed",
        "colab": {
          "base_uri": "https://localhost:8080/",
          "height": 1207
        }
      },
      "cell_type": "code",
      "source": [
        "model.summary()"
      ],
      "execution_count": 53,
      "outputs": [
        {
          "output_type": "stream",
          "text": [
            "__________________________________________________________________________________________________\n",
            "Layer (type)                    Output Shape         Param #     Connected to                     \n",
            "==================================================================================================\n",
            "user (InputLayer)               (None, 1)            0                                            \n",
            "__________________________________________________________________________________________________\n",
            "item (InputLayer)               (None, 1)            0                                            \n",
            "__________________________________________________________________________________________________\n",
            "user_embedding (Embedding)      (None, 1, 10)        60410       user[0][0]                       \n",
            "__________________________________________________________________________________________________\n",
            "item_embedding (Embedding)      (None, 1, 10)        37070       item[0][0]                       \n",
            "__________________________________________________________________________________________________\n",
            "add_75 (Add)                    (None, 1, 10)        0           user_embedding[0][0]             \n",
            "                                                                 user[0][0]                       \n",
            "__________________________________________________________________________________________________\n",
            "add_76 (Add)                    (None, 1, 10)        0           item_embedding[0][0]             \n",
            "                                                                 item[0][0]                       \n",
            "__________________________________________________________________________________________________\n",
            "dense_132 (Dense)               (None, 1, 100)       1100        user_embedding[0][0]             \n",
            "__________________________________________________________________________________________________\n",
            "dense_134 (Dense)               (None, 1, 100)       1100        add_75[0][0]                     \n",
            "__________________________________________________________________________________________________\n",
            "dense_133 (Dense)               (None, 1, 100)       1100        item_embedding[0][0]             \n",
            "__________________________________________________________________________________________________\n",
            "dense_135 (Dense)               (None, 1, 100)       1100        add_76[0][0]                     \n",
            "__________________________________________________________________________________________________\n",
            "add_77 (Add)                    (None, 1, 100)       0           dense_132[0][0]                  \n",
            "                                                                 dense_134[0][0]                  \n",
            "__________________________________________________________________________________________________\n",
            "add_78 (Add)                    (None, 1, 100)       0           dense_133[0][0]                  \n",
            "                                                                 dense_135[0][0]                  \n",
            "__________________________________________________________________________________________________\n",
            "dense_136 (Dense)               (None, 1, 200)       20200       dense_132[0][0]                  \n",
            "__________________________________________________________________________________________________\n",
            "dense_138 (Dense)               (None, 1, 200)       20200       add_77[0][0]                     \n",
            "__________________________________________________________________________________________________\n",
            "dense_137 (Dense)               (None, 1, 200)       20200       dense_133[0][0]                  \n",
            "__________________________________________________________________________________________________\n",
            "dense_139 (Dense)               (None, 1, 200)       20200       add_78[0][0]                     \n",
            "__________________________________________________________________________________________________\n",
            "add_79 (Add)                    (None, 1, 200)       0           dense_136[0][0]                  \n",
            "                                                                 dense_138[0][0]                  \n",
            "__________________________________________________________________________________________________\n",
            "add_80 (Add)                    (None, 1, 200)       0           dense_137[0][0]                  \n",
            "                                                                 dense_139[0][0]                  \n",
            "__________________________________________________________________________________________________\n",
            "flatten_31 (Flatten)            (None, 200)          0           add_79[0][0]                     \n",
            "__________________________________________________________________________________________________\n",
            "flatten_32 (Flatten)            (None, 200)          0           add_80[0][0]                     \n",
            "__________________________________________________________________________________________________\n",
            "concatenate_16 (Concatenate)    (None, 400)          0           flatten_31[0][0]                 \n",
            "                                                                 flatten_32[0][0]                 \n",
            "__________________________________________________________________________________________________\n",
            "dense_140 (Dense)               (None, 200)          80200       concatenate_16[0][0]             \n",
            "__________________________________________________________________________________________________\n",
            "batch_normalization_21 (BatchNo (None, 200)          800         dense_140[0][0]                  \n",
            "__________________________________________________________________________________________________\n",
            "dropout_21 (Dropout)            (None, 200)          0           batch_normalization_21[0][0]     \n",
            "__________________________________________________________________________________________________\n",
            "dense_141 (Dense)               (None, 100)          20100       dropout_21[0][0]                 \n",
            "__________________________________________________________________________________________________\n",
            "batch_normalization_22 (BatchNo (None, 100)          400         dense_141[0][0]                  \n",
            "__________________________________________________________________________________________________\n",
            "dropout_22 (Dropout)            (None, 100)          0           batch_normalization_22[0][0]     \n",
            "__________________________________________________________________________________________________\n",
            "dense_142 (Dense)               (None, 1)            101         dropout_22[0][0]                 \n",
            "==================================================================================================\n",
            "Total params: 284,281\n",
            "Trainable params: 283,681\n",
            "Non-trainable params: 600\n",
            "__________________________________________________________________________________________________\n"
          ],
          "name": "stdout"
        }
      ]
    },
    {
      "metadata": {
        "id": "s7ZRKXj-cNVD",
        "colab_type": "code",
        "colab": {}
      },
      "cell_type": "code",
      "source": [
        "from IPython.display import SVG\n",
        "from keras.utils.vis_utils import model_to_dot"
      ],
      "execution_count": 0,
      "outputs": []
    },
    {
      "metadata": {
        "id": "nM-eF8ylcRc5",
        "colab_type": "code",
        "outputId": "11135762-c7e1-4a7d-f771-bf4b2ffd1810",
        "colab": {
          "base_uri": "https://localhost:8080/",
          "height": 2106
        }
      },
      "cell_type": "code",
      "source": [
        "SVG(model_to_dot(model,  show_shapes=True, show_layer_names=True, rankdir='HB').create(prog='dot', format='svg'))"
      ],
      "execution_count": 66,
      "outputs": [
        {
          "output_type": "execute_result",
          "data": {
            "text/plain": [
              "<IPython.core.display.SVG object>"
            ],
            "image/svg+xml": "<svg height=\"1549pt\" viewBox=\"0.00 0.00 1245.00 1549.00\" width=\"1245pt\" xmlns=\"http://www.w3.org/2000/svg\" xmlns:xlink=\"http://www.w3.org/1999/xlink\">\n<g class=\"graph\" id=\"graph0\" transform=\"scale(1 1) rotate(0) translate(4 1545)\">\n<title>G</title>\n<polygon fill=\"#ffffff\" points=\"-4,4 -4,-1545 1241,-1545 1241,4 -4,4\" stroke=\"transparent\"/>\n<!-- 140403124885264 -->\n<g class=\"node\" id=\"node1\">\n<title>140403124885264</title>\n<polygon fill=\"none\" points=\"200.5,-1494.5 200.5,-1540.5 441.5,-1540.5 441.5,-1494.5 200.5,-1494.5\" stroke=\"#000000\"/>\n<text fill=\"#000000\" font-family=\"Times,serif\" font-size=\"14.00\" text-anchor=\"middle\" x=\"256\" y=\"-1513.8\">user: InputLayer</text>\n<polyline fill=\"none\" points=\"311.5,-1494.5 311.5,-1540.5 \" stroke=\"#000000\"/>\n<text fill=\"#000000\" font-family=\"Times,serif\" font-size=\"14.00\" text-anchor=\"middle\" x=\"340.5\" y=\"-1525.3\">input:</text>\n<polyline fill=\"none\" points=\"311.5,-1517.5 369.5,-1517.5 \" stroke=\"#000000\"/>\n<text fill=\"#000000\" font-family=\"Times,serif\" font-size=\"14.00\" text-anchor=\"middle\" x=\"340.5\" y=\"-1502.3\">output:</text>\n<polyline fill=\"none\" points=\"369.5,-1494.5 369.5,-1540.5 \" stroke=\"#000000\"/>\n<text fill=\"#000000\" font-family=\"Times,serif\" font-size=\"14.00\" text-anchor=\"middle\" x=\"405.5\" y=\"-1525.3\">(None, 1)</text>\n<polyline fill=\"none\" points=\"369.5,-1517.5 441.5,-1517.5 \" stroke=\"#000000\"/>\n<text fill=\"#000000\" font-family=\"Times,serif\" font-size=\"14.00\" text-anchor=\"middle\" x=\"405.5\" y=\"-1502.3\">(None, 1)</text>\n</g>\n<!-- 140403132156000 -->\n<g class=\"node\" id=\"node3\">\n<title>140403132156000</title>\n<polygon fill=\"none\" points=\"46,-1411.5 46,-1457.5 386,-1457.5 386,-1411.5 46,-1411.5\" stroke=\"#000000\"/>\n<text fill=\"#000000\" font-family=\"Times,serif\" font-size=\"14.00\" text-anchor=\"middle\" x=\"139.5\" y=\"-1430.8\">user_embedding: Embedding</text>\n<polyline fill=\"none\" points=\"233,-1411.5 233,-1457.5 \" stroke=\"#000000\"/>\n<text fill=\"#000000\" font-family=\"Times,serif\" font-size=\"14.00\" text-anchor=\"middle\" x=\"262\" y=\"-1442.3\">input:</text>\n<polyline fill=\"none\" points=\"233,-1434.5 291,-1434.5 \" stroke=\"#000000\"/>\n<text fill=\"#000000\" font-family=\"Times,serif\" font-size=\"14.00\" text-anchor=\"middle\" x=\"262\" y=\"-1419.3\">output:</text>\n<polyline fill=\"none\" points=\"291,-1411.5 291,-1457.5 \" stroke=\"#000000\"/>\n<text fill=\"#000000\" font-family=\"Times,serif\" font-size=\"14.00\" text-anchor=\"middle\" x=\"338.5\" y=\"-1442.3\">(None, 1)</text>\n<polyline fill=\"none\" points=\"291,-1434.5 386,-1434.5 \" stroke=\"#000000\"/>\n<text fill=\"#000000\" font-family=\"Times,serif\" font-size=\"14.00\" text-anchor=\"middle\" x=\"338.5\" y=\"-1419.3\">(None, 1, 10)</text>\n</g>\n<!-- 140403124885264&#45;&gt;140403132156000 -->\n<g class=\"edge\" id=\"edge1\">\n<title>140403124885264-&gt;140403132156000</title>\n<path d=\"M291.7516,-1494.3799C279.9046,-1485.0151 266.0781,-1474.0855 253.5042,-1464.1462\" fill=\"none\" stroke=\"#000000\"/>\n<polygon fill=\"#000000\" points=\"255.4712,-1461.2396 245.4557,-1457.784 251.1302,-1466.7311 255.4712,-1461.2396\" stroke=\"#000000\"/>\n</g>\n<!-- 140403124197920 -->\n<g class=\"node\" id=\"node8\">\n<title>140403124197920</title>\n<polygon fill=\"none\" points=\"339.5,-1245.5 339.5,-1291.5 606.5,-1291.5 606.5,-1245.5 339.5,-1245.5\" stroke=\"#000000\"/>\n<text fill=\"#000000\" font-family=\"Times,serif\" font-size=\"14.00\" text-anchor=\"middle\" x=\"400.5\" y=\"-1264.8\">dense_217: Dense</text>\n<polyline fill=\"none\" points=\"461.5,-1245.5 461.5,-1291.5 \" stroke=\"#000000\"/>\n<text fill=\"#000000\" font-family=\"Times,serif\" font-size=\"14.00\" text-anchor=\"middle\" x=\"490.5\" y=\"-1276.3\">input:</text>\n<polyline fill=\"none\" points=\"461.5,-1268.5 519.5,-1268.5 \" stroke=\"#000000\"/>\n<text fill=\"#000000\" font-family=\"Times,serif\" font-size=\"14.00\" text-anchor=\"middle\" x=\"490.5\" y=\"-1253.3\">output:</text>\n<polyline fill=\"none\" points=\"519.5,-1245.5 519.5,-1291.5 \" stroke=\"#000000\"/>\n<text fill=\"#000000\" font-family=\"Times,serif\" font-size=\"14.00\" text-anchor=\"middle\" x=\"563\" y=\"-1276.3\">(None, 1)</text>\n<polyline fill=\"none\" points=\"519.5,-1268.5 606.5,-1268.5 \" stroke=\"#000000\"/>\n<text fill=\"#000000\" font-family=\"Times,serif\" font-size=\"14.00\" text-anchor=\"middle\" x=\"563\" y=\"-1253.3\">(None, 150)</text>\n</g>\n<!-- 140403124885264&#45;&gt;140403124197920 -->\n<g class=\"edge\" id=\"edge6\">\n<title>140403124885264-&gt;140403124197920</title>\n<path d=\"M357.0467,-1494.2869C370.3234,-1484.3632 384.6348,-1471.8627 395,-1458 431.3552,-1409.3777 453.9009,-1341.3758 464.8936,-1301.4351\" fill=\"none\" stroke=\"#000000\"/>\n<polygon fill=\"#000000\" points=\"468.3016,-1302.2386 467.5032,-1291.6739 461.5391,-1300.4306 468.3016,-1302.2386\" stroke=\"#000000\"/>\n</g>\n<!-- 140403124885376 -->\n<g class=\"node\" id=\"node2\">\n<title>140403124885376</title>\n<polygon fill=\"none\" points=\"795.5,-1494.5 795.5,-1540.5 1038.5,-1540.5 1038.5,-1494.5 795.5,-1494.5\" stroke=\"#000000\"/>\n<text fill=\"#000000\" font-family=\"Times,serif\" font-size=\"14.00\" text-anchor=\"middle\" x=\"852\" y=\"-1513.8\">item: InputLayer</text>\n<polyline fill=\"none\" points=\"908.5,-1494.5 908.5,-1540.5 \" stroke=\"#000000\"/>\n<text fill=\"#000000\" font-family=\"Times,serif\" font-size=\"14.00\" text-anchor=\"middle\" x=\"937.5\" y=\"-1525.3\">input:</text>\n<polyline fill=\"none\" points=\"908.5,-1517.5 966.5,-1517.5 \" stroke=\"#000000\"/>\n<text fill=\"#000000\" font-family=\"Times,serif\" font-size=\"14.00\" text-anchor=\"middle\" x=\"937.5\" y=\"-1502.3\">output:</text>\n<polyline fill=\"none\" points=\"966.5,-1494.5 966.5,-1540.5 \" stroke=\"#000000\"/>\n<text fill=\"#000000\" font-family=\"Times,serif\" font-size=\"14.00\" text-anchor=\"middle\" x=\"1002.5\" y=\"-1525.3\">(None, 1)</text>\n<polyline fill=\"none\" points=\"966.5,-1517.5 1038.5,-1517.5 \" stroke=\"#000000\"/>\n<text fill=\"#000000\" font-family=\"Times,serif\" font-size=\"14.00\" text-anchor=\"middle\" x=\"1002.5\" y=\"-1502.3\">(None, 1)</text>\n</g>\n<!-- 140403124885208 -->\n<g class=\"node\" id=\"node4\">\n<title>140403124885208</title>\n<polygon fill=\"none\" points=\"623.5,-1411.5 623.5,-1457.5 964.5,-1457.5 964.5,-1411.5 623.5,-1411.5\" stroke=\"#000000\"/>\n<text fill=\"#000000\" font-family=\"Times,serif\" font-size=\"14.00\" text-anchor=\"middle\" x=\"717.5\" y=\"-1430.8\">item_embedding: Embedding</text>\n<polyline fill=\"none\" points=\"811.5,-1411.5 811.5,-1457.5 \" stroke=\"#000000\"/>\n<text fill=\"#000000\" font-family=\"Times,serif\" font-size=\"14.00\" text-anchor=\"middle\" x=\"840.5\" y=\"-1442.3\">input:</text>\n<polyline fill=\"none\" points=\"811.5,-1434.5 869.5,-1434.5 \" stroke=\"#000000\"/>\n<text fill=\"#000000\" font-family=\"Times,serif\" font-size=\"14.00\" text-anchor=\"middle\" x=\"840.5\" y=\"-1419.3\">output:</text>\n<polyline fill=\"none\" points=\"869.5,-1411.5 869.5,-1457.5 \" stroke=\"#000000\"/>\n<text fill=\"#000000\" font-family=\"Times,serif\" font-size=\"14.00\" text-anchor=\"middle\" x=\"917\" y=\"-1442.3\">(None, 1)</text>\n<polyline fill=\"none\" points=\"869.5,-1434.5 964.5,-1434.5 \" stroke=\"#000000\"/>\n<text fill=\"#000000\" font-family=\"Times,serif\" font-size=\"14.00\" text-anchor=\"middle\" x=\"917\" y=\"-1419.3\">(None, 1, 10)</text>\n</g>\n<!-- 140403124885376&#45;&gt;140403124885208 -->\n<g class=\"edge\" id=\"edge2\">\n<title>140403124885376-&gt;140403124885208</title>\n<path d=\"M882.7376,-1494.3799C868.5954,-1484.8367 852.045,-1473.6686 837.0934,-1463.5793\" fill=\"none\" stroke=\"#000000\"/>\n<polygon fill=\"#000000\" points=\"838.7523,-1460.4764 828.5052,-1457.784 834.8367,-1466.2789 838.7523,-1460.4764\" stroke=\"#000000\"/>\n</g>\n<!-- 140403123846784 -->\n<g class=\"node\" id=\"node10\">\n<title>140403123846784</title>\n<polygon fill=\"none\" points=\"930.5,-1328.5 930.5,-1374.5 1197.5,-1374.5 1197.5,-1328.5 930.5,-1328.5\" stroke=\"#000000\"/>\n<text fill=\"#000000\" font-family=\"Times,serif\" font-size=\"14.00\" text-anchor=\"middle\" x=\"991.5\" y=\"-1347.8\">dense_218: Dense</text>\n<polyline fill=\"none\" points=\"1052.5,-1328.5 1052.5,-1374.5 \" stroke=\"#000000\"/>\n<text fill=\"#000000\" font-family=\"Times,serif\" font-size=\"14.00\" text-anchor=\"middle\" x=\"1081.5\" y=\"-1359.3\">input:</text>\n<polyline fill=\"none\" points=\"1052.5,-1351.5 1110.5,-1351.5 \" stroke=\"#000000\"/>\n<text fill=\"#000000\" font-family=\"Times,serif\" font-size=\"14.00\" text-anchor=\"middle\" x=\"1081.5\" y=\"-1336.3\">output:</text>\n<polyline fill=\"none\" points=\"1110.5,-1328.5 1110.5,-1374.5 \" stroke=\"#000000\"/>\n<text fill=\"#000000\" font-family=\"Times,serif\" font-size=\"14.00\" text-anchor=\"middle\" x=\"1154\" y=\"-1359.3\">(None, 1)</text>\n<polyline fill=\"none\" points=\"1110.5,-1351.5 1197.5,-1351.5 \" stroke=\"#000000\"/>\n<text fill=\"#000000\" font-family=\"Times,serif\" font-size=\"14.00\" text-anchor=\"middle\" x=\"1154\" y=\"-1336.3\">(None, 150)</text>\n</g>\n<!-- 140403124885376&#45;&gt;140403123846784 -->\n<g class=\"edge\" id=\"edge8\">\n<title>140403124885376-&gt;140403123846784</title>\n<path d=\"M939.8118,-1494.3619C950.3753,-1483.477 962.9954,-1470.2281 974,-1458 996.4001,-1433.1095 1020.8701,-1404.0228 1038.6329,-1382.5421\" fill=\"none\" stroke=\"#000000\"/>\n<polygon fill=\"#000000\" points=\"1041.4325,-1384.6485 1045.094,-1374.7064 1036.0317,-1380.1952 1041.4325,-1384.6485\" stroke=\"#000000\"/>\n</g>\n<!-- 140403124886272 -->\n<g class=\"node\" id=\"node5\">\n<title>140403124886272</title>\n<polygon fill=\"none\" points=\"51.5,-1328.5 51.5,-1374.5 332.5,-1374.5 332.5,-1328.5 51.5,-1328.5\" stroke=\"#000000\"/>\n<text fill=\"#000000\" font-family=\"Times,serif\" font-size=\"14.00\" text-anchor=\"middle\" x=\"112\" y=\"-1347.8\">dense_211: Dense</text>\n<polyline fill=\"none\" points=\"172.5,-1328.5 172.5,-1374.5 \" stroke=\"#000000\"/>\n<text fill=\"#000000\" font-family=\"Times,serif\" font-size=\"14.00\" text-anchor=\"middle\" x=\"201.5\" y=\"-1359.3\">input:</text>\n<polyline fill=\"none\" points=\"172.5,-1351.5 230.5,-1351.5 \" stroke=\"#000000\"/>\n<text fill=\"#000000\" font-family=\"Times,serif\" font-size=\"14.00\" text-anchor=\"middle\" x=\"201.5\" y=\"-1336.3\">output:</text>\n<polyline fill=\"none\" points=\"230.5,-1328.5 230.5,-1374.5 \" stroke=\"#000000\"/>\n<text fill=\"#000000\" font-family=\"Times,serif\" font-size=\"14.00\" text-anchor=\"middle\" x=\"281.5\" y=\"-1359.3\">(None, 1, 10)</text>\n<polyline fill=\"none\" points=\"230.5,-1351.5 332.5,-1351.5 \" stroke=\"#000000\"/>\n<text fill=\"#000000\" font-family=\"Times,serif\" font-size=\"14.00\" text-anchor=\"middle\" x=\"281.5\" y=\"-1336.3\">(None, 1, 100)</text>\n</g>\n<!-- 140403132156000&#45;&gt;140403124886272 -->\n<g class=\"edge\" id=\"edge3\">\n<title>140403132156000-&gt;140403124886272</title>\n<path d=\"M209.3147,-1411.3799C206.9162,-1403.0854 204.1629,-1393.5633 201.5679,-1384.5889\" fill=\"none\" stroke=\"#000000\"/>\n<polygon fill=\"#000000\" points=\"204.8728,-1383.4182 198.7327,-1374.784 198.1483,-1385.3627 204.8728,-1383.4182\" stroke=\"#000000\"/>\n</g>\n<!-- 140403124886216 -->\n<g class=\"node\" id=\"node6\">\n<title>140403124886216</title>\n<polygon fill=\"none\" points=\"630,-1328.5 630,-1374.5 912,-1374.5 912,-1328.5 630,-1328.5\" stroke=\"#000000\"/>\n<text fill=\"#000000\" font-family=\"Times,serif\" font-size=\"14.00\" text-anchor=\"middle\" x=\"691\" y=\"-1347.8\">dense_212: Dense</text>\n<polyline fill=\"none\" points=\"752,-1328.5 752,-1374.5 \" stroke=\"#000000\"/>\n<text fill=\"#000000\" font-family=\"Times,serif\" font-size=\"14.00\" text-anchor=\"middle\" x=\"781\" y=\"-1359.3\">input:</text>\n<polyline fill=\"none\" points=\"752,-1351.5 810,-1351.5 \" stroke=\"#000000\"/>\n<text fill=\"#000000\" font-family=\"Times,serif\" font-size=\"14.00\" text-anchor=\"middle\" x=\"781\" y=\"-1336.3\">output:</text>\n<polyline fill=\"none\" points=\"810,-1328.5 810,-1374.5 \" stroke=\"#000000\"/>\n<text fill=\"#000000\" font-family=\"Times,serif\" font-size=\"14.00\" text-anchor=\"middle\" x=\"861\" y=\"-1359.3\">(None, 1, 10)</text>\n<polyline fill=\"none\" points=\"810,-1351.5 912,-1351.5 \" stroke=\"#000000\"/>\n<text fill=\"#000000\" font-family=\"Times,serif\" font-size=\"14.00\" text-anchor=\"middle\" x=\"861\" y=\"-1336.3\">(None, 1, 100)</text>\n</g>\n<!-- 140403124885208&#45;&gt;140403124886216 -->\n<g class=\"edge\" id=\"edge4\">\n<title>140403124885208-&gt;140403124886216</title>\n<path d=\"M787.5932,-1411.3799C785.2947,-1403.0854 782.6561,-1393.5633 780.1692,-1384.5889\" fill=\"none\" stroke=\"#000000\"/>\n<polygon fill=\"#000000\" points=\"783.4956,-1383.4862 777.4522,-1374.784 776.7498,-1385.3555 783.4956,-1383.4862\" stroke=\"#000000\"/>\n</g>\n<!-- 140403123999744 -->\n<g class=\"node\" id=\"node7\">\n<title>140403123999744</title>\n<polygon fill=\"none\" points=\"39,-1245.5 39,-1291.5 321,-1291.5 321,-1245.5 39,-1245.5\" stroke=\"#000000\"/>\n<text fill=\"#000000\" font-family=\"Times,serif\" font-size=\"14.00\" text-anchor=\"middle\" x=\"100\" y=\"-1264.8\">dense_215: Dense</text>\n<polyline fill=\"none\" points=\"161,-1245.5 161,-1291.5 \" stroke=\"#000000\"/>\n<text fill=\"#000000\" font-family=\"Times,serif\" font-size=\"14.00\" text-anchor=\"middle\" x=\"190\" y=\"-1276.3\">input:</text>\n<polyline fill=\"none\" points=\"161,-1268.5 219,-1268.5 \" stroke=\"#000000\"/>\n<text fill=\"#000000\" font-family=\"Times,serif\" font-size=\"14.00\" text-anchor=\"middle\" x=\"190\" y=\"-1253.3\">output:</text>\n<polyline fill=\"none\" points=\"219,-1245.5 219,-1291.5 \" stroke=\"#000000\"/>\n<text fill=\"#000000\" font-family=\"Times,serif\" font-size=\"14.00\" text-anchor=\"middle\" x=\"270\" y=\"-1276.3\">(None, 1, 100)</text>\n<polyline fill=\"none\" points=\"219,-1268.5 321,-1268.5 \" stroke=\"#000000\"/>\n<text fill=\"#000000\" font-family=\"Times,serif\" font-size=\"14.00\" text-anchor=\"middle\" x=\"270\" y=\"-1253.3\">(None, 1, 150)</text>\n</g>\n<!-- 140403124886272&#45;&gt;140403123999744 -->\n<g class=\"edge\" id=\"edge5\">\n<title>140403124886272-&gt;140403123999744</title>\n<path d=\"M188.6573,-1328.3799C187.471,-1320.1745 186.111,-1310.7679 184.8258,-1301.8786\" fill=\"none\" stroke=\"#000000\"/>\n<polygon fill=\"#000000\" points=\"188.2613,-1301.1803 183.3664,-1291.784 181.3334,-1302.1819 188.2613,-1301.1803\" stroke=\"#000000\"/>\n</g>\n<!-- 140403124109552 -->\n<g class=\"node\" id=\"node9\">\n<title>140403124109552</title>\n<polygon fill=\"none\" points=\"630,-1245.5 630,-1291.5 912,-1291.5 912,-1245.5 630,-1245.5\" stroke=\"#000000\"/>\n<text fill=\"#000000\" font-family=\"Times,serif\" font-size=\"14.00\" text-anchor=\"middle\" x=\"691\" y=\"-1264.8\">dense_216: Dense</text>\n<polyline fill=\"none\" points=\"752,-1245.5 752,-1291.5 \" stroke=\"#000000\"/>\n<text fill=\"#000000\" font-family=\"Times,serif\" font-size=\"14.00\" text-anchor=\"middle\" x=\"781\" y=\"-1276.3\">input:</text>\n<polyline fill=\"none\" points=\"752,-1268.5 810,-1268.5 \" stroke=\"#000000\"/>\n<text fill=\"#000000\" font-family=\"Times,serif\" font-size=\"14.00\" text-anchor=\"middle\" x=\"781\" y=\"-1253.3\">output:</text>\n<polyline fill=\"none\" points=\"810,-1245.5 810,-1291.5 \" stroke=\"#000000\"/>\n<text fill=\"#000000\" font-family=\"Times,serif\" font-size=\"14.00\" text-anchor=\"middle\" x=\"861\" y=\"-1276.3\">(None, 1, 100)</text>\n<polyline fill=\"none\" points=\"810,-1268.5 912,-1268.5 \" stroke=\"#000000\"/>\n<text fill=\"#000000\" font-family=\"Times,serif\" font-size=\"14.00\" text-anchor=\"middle\" x=\"861\" y=\"-1253.3\">(None, 1, 150)</text>\n</g>\n<!-- 140403124886216&#45;&gt;140403124109552 -->\n<g class=\"edge\" id=\"edge7\">\n<title>140403124886216-&gt;140403124109552</title>\n<path d=\"M771,-1328.3799C771,-1320.1745 771,-1310.7679 771,-1301.8786\" fill=\"none\" stroke=\"#000000\"/>\n<polygon fill=\"#000000\" points=\"774.5001,-1301.784 771,-1291.784 767.5001,-1301.784 774.5001,-1301.784\" stroke=\"#000000\"/>\n</g>\n<!-- 140403123531280 -->\n<g class=\"node\" id=\"node11\">\n<title>140403123531280</title>\n<polygon fill=\"none\" points=\"300.5,-1162.5 300.5,-1208.5 645.5,-1208.5 645.5,-1162.5 300.5,-1162.5\" stroke=\"#000000\"/>\n<text fill=\"#000000\" font-family=\"Times,serif\" font-size=\"14.00\" text-anchor=\"middle\" x=\"349.5\" y=\"-1181.8\">add_111: Add</text>\n<polyline fill=\"none\" points=\"398.5,-1162.5 398.5,-1208.5 \" stroke=\"#000000\"/>\n<text fill=\"#000000\" font-family=\"Times,serif\" font-size=\"14.00\" text-anchor=\"middle\" x=\"427.5\" y=\"-1193.3\">input:</text>\n<polyline fill=\"none\" points=\"398.5,-1185.5 456.5,-1185.5 \" stroke=\"#000000\"/>\n<text fill=\"#000000\" font-family=\"Times,serif\" font-size=\"14.00\" text-anchor=\"middle\" x=\"427.5\" y=\"-1170.3\">output:</text>\n<polyline fill=\"none\" points=\"456.5,-1162.5 456.5,-1208.5 \" stroke=\"#000000\"/>\n<text fill=\"#000000\" font-family=\"Times,serif\" font-size=\"14.00\" text-anchor=\"middle\" x=\"551\" y=\"-1193.3\">[(None, 1, 150), (None, 150)]</text>\n<polyline fill=\"none\" points=\"456.5,-1185.5 645.5,-1185.5 \" stroke=\"#000000\"/>\n<text fill=\"#000000\" font-family=\"Times,serif\" font-size=\"14.00\" text-anchor=\"middle\" x=\"551\" y=\"-1170.3\">(None, 1, 150)</text>\n</g>\n<!-- 140403123999744&#45;&gt;140403123531280 -->\n<g class=\"edge\" id=\"edge9\">\n<title>140403123999744-&gt;140403123531280</title>\n<path d=\"M261.2277,-1245.4901C298.6984,-1234.8755 343.3302,-1222.2324 381.9368,-1211.2961\" fill=\"none\" stroke=\"#000000\"/>\n<polygon fill=\"#000000\" points=\"382.9468,-1214.6478 391.6143,-1208.5547 381.0389,-1207.9128 382.9468,-1214.6478\" stroke=\"#000000\"/>\n</g>\n<!-- 140403123233624 -->\n<g class=\"node\" id=\"node13\">\n<title>140403123233624</title>\n<polygon fill=\"none\" points=\"0,-1162.5 0,-1208.5 282,-1208.5 282,-1162.5 0,-1162.5\" stroke=\"#000000\"/>\n<text fill=\"#000000\" font-family=\"Times,serif\" font-size=\"14.00\" text-anchor=\"middle\" x=\"61\" y=\"-1181.8\">dense_219: Dense</text>\n<polyline fill=\"none\" points=\"122,-1162.5 122,-1208.5 \" stroke=\"#000000\"/>\n<text fill=\"#000000\" font-family=\"Times,serif\" font-size=\"14.00\" text-anchor=\"middle\" x=\"151\" y=\"-1193.3\">input:</text>\n<polyline fill=\"none\" points=\"122,-1185.5 180,-1185.5 \" stroke=\"#000000\"/>\n<text fill=\"#000000\" font-family=\"Times,serif\" font-size=\"14.00\" text-anchor=\"middle\" x=\"151\" y=\"-1170.3\">output:</text>\n<polyline fill=\"none\" points=\"180,-1162.5 180,-1208.5 \" stroke=\"#000000\"/>\n<text fill=\"#000000\" font-family=\"Times,serif\" font-size=\"14.00\" text-anchor=\"middle\" x=\"231\" y=\"-1193.3\">(None, 1, 150)</text>\n<polyline fill=\"none\" points=\"180,-1185.5 282,-1185.5 \" stroke=\"#000000\"/>\n<text fill=\"#000000\" font-family=\"Times,serif\" font-size=\"14.00\" text-anchor=\"middle\" x=\"231\" y=\"-1170.3\">(None, 1, 200)</text>\n</g>\n<!-- 140403123999744&#45;&gt;140403123233624 -->\n<g class=\"edge\" id=\"edge13\">\n<title>140403123999744-&gt;140403123233624</title>\n<path d=\"M169.1363,-1245.3799C165.1551,-1236.907 160.572,-1227.1531 156.2761,-1218.0107\" fill=\"none\" stroke=\"#000000\"/>\n<polygon fill=\"#000000\" points=\"159.3612,-1216.3462 151.9407,-1208.784 153.0257,-1219.3231 159.3612,-1216.3462\" stroke=\"#000000\"/>\n</g>\n<!-- 140403124197920&#45;&gt;140403123531280 -->\n<g class=\"edge\" id=\"edge10\">\n<title>140403124197920-&gt;140403123531280</title>\n<path d=\"M473,-1245.3799C473,-1237.1745 473,-1227.7679 473,-1218.8786\" fill=\"none\" stroke=\"#000000\"/>\n<polygon fill=\"#000000\" points=\"476.5001,-1218.784 473,-1208.784 469.5001,-1218.784 476.5001,-1218.784\" stroke=\"#000000\"/>\n</g>\n<!-- 140403123234688 -->\n<g class=\"node\" id=\"node12\">\n<title>140403123234688</title>\n<polygon fill=\"none\" points=\"891,-1162.5 891,-1208.5 1237,-1208.5 1237,-1162.5 891,-1162.5\" stroke=\"#000000\"/>\n<text fill=\"#000000\" font-family=\"Times,serif\" font-size=\"14.00\" text-anchor=\"middle\" x=\"940.5\" y=\"-1181.8\">add_112: Add</text>\n<polyline fill=\"none\" points=\"990,-1162.5 990,-1208.5 \" stroke=\"#000000\"/>\n<text fill=\"#000000\" font-family=\"Times,serif\" font-size=\"14.00\" text-anchor=\"middle\" x=\"1019\" y=\"-1193.3\">input:</text>\n<polyline fill=\"none\" points=\"990,-1185.5 1048,-1185.5 \" stroke=\"#000000\"/>\n<text fill=\"#000000\" font-family=\"Times,serif\" font-size=\"14.00\" text-anchor=\"middle\" x=\"1019\" y=\"-1170.3\">output:</text>\n<polyline fill=\"none\" points=\"1048,-1162.5 1048,-1208.5 \" stroke=\"#000000\"/>\n<text fill=\"#000000\" font-family=\"Times,serif\" font-size=\"14.00\" text-anchor=\"middle\" x=\"1142.5\" y=\"-1193.3\">[(None, 1, 150), (None, 150)]</text>\n<polyline fill=\"none\" points=\"1048,-1185.5 1237,-1185.5 \" stroke=\"#000000\"/>\n<text fill=\"#000000\" font-family=\"Times,serif\" font-size=\"14.00\" text-anchor=\"middle\" x=\"1142.5\" y=\"-1170.3\">(None, 1, 150)</text>\n</g>\n<!-- 140403124109552&#45;&gt;140403123234688 -->\n<g class=\"edge\" id=\"edge11\">\n<title>140403124109552-&gt;140403123234688</title>\n<path d=\"M852.2277,-1245.4901C889.6984,-1234.8755 934.3302,-1222.2324 972.9368,-1211.2961\" fill=\"none\" stroke=\"#000000\"/>\n<polygon fill=\"#000000\" points=\"973.9468,-1214.6478 982.6143,-1208.5547 972.0389,-1207.9128 973.9468,-1214.6478\" stroke=\"#000000\"/>\n</g>\n<!-- 140403123335464 -->\n<g class=\"node\" id=\"node15\">\n<title>140403123335464</title>\n<polygon fill=\"none\" points=\"626,-1079.5 626,-1125.5 908,-1125.5 908,-1079.5 626,-1079.5\" stroke=\"#000000\"/>\n<text fill=\"#000000\" font-family=\"Times,serif\" font-size=\"14.00\" text-anchor=\"middle\" x=\"687\" y=\"-1098.8\">dense_220: Dense</text>\n<polyline fill=\"none\" points=\"748,-1079.5 748,-1125.5 \" stroke=\"#000000\"/>\n<text fill=\"#000000\" font-family=\"Times,serif\" font-size=\"14.00\" text-anchor=\"middle\" x=\"777\" y=\"-1110.3\">input:</text>\n<polyline fill=\"none\" points=\"748,-1102.5 806,-1102.5 \" stroke=\"#000000\"/>\n<text fill=\"#000000\" font-family=\"Times,serif\" font-size=\"14.00\" text-anchor=\"middle\" x=\"777\" y=\"-1087.3\">output:</text>\n<polyline fill=\"none\" points=\"806,-1079.5 806,-1125.5 \" stroke=\"#000000\"/>\n<text fill=\"#000000\" font-family=\"Times,serif\" font-size=\"14.00\" text-anchor=\"middle\" x=\"857\" y=\"-1110.3\">(None, 1, 150)</text>\n<polyline fill=\"none\" points=\"806,-1102.5 908,-1102.5 \" stroke=\"#000000\"/>\n<text fill=\"#000000\" font-family=\"Times,serif\" font-size=\"14.00\" text-anchor=\"middle\" x=\"857\" y=\"-1087.3\">(None, 1, 200)</text>\n</g>\n<!-- 140403124109552&#45;&gt;140403123335464 -->\n<g class=\"edge\" id=\"edge15\">\n<title>140403124109552-&gt;140403123335464</title>\n<path d=\"M770.4438,-1245.4184C769.7591,-1217.0047 768.5911,-1168.531 767.8076,-1136.0156\" fill=\"none\" stroke=\"#000000\"/>\n<polygon fill=\"#000000\" points=\"771.2979,-1135.5653 767.5579,-1125.6525 764.2999,-1135.734 771.2979,-1135.5653\" stroke=\"#000000\"/>\n</g>\n<!-- 140403123846784&#45;&gt;140403123234688 -->\n<g class=\"edge\" id=\"edge12\">\n<title>140403123846784-&gt;140403123234688</title>\n<path d=\"M1064,-1328.4184C1064,-1300.0047 1064,-1251.531 1064,-1219.0156\" fill=\"none\" stroke=\"#000000\"/>\n<polygon fill=\"#000000\" points=\"1067.5001,-1218.6525 1064,-1208.6525 1060.5001,-1218.6526 1067.5001,-1218.6525\" stroke=\"#000000\"/>\n</g>\n<!-- 140403122899152 -->\n<g class=\"node\" id=\"node14\">\n<title>140403122899152</title>\n<polygon fill=\"none\" points=\"287,-1079.5 287,-1125.5 569,-1125.5 569,-1079.5 287,-1079.5\" stroke=\"#000000\"/>\n<text fill=\"#000000\" font-family=\"Times,serif\" font-size=\"14.00\" text-anchor=\"middle\" x=\"348\" y=\"-1098.8\">dense_221: Dense</text>\n<polyline fill=\"none\" points=\"409,-1079.5 409,-1125.5 \" stroke=\"#000000\"/>\n<text fill=\"#000000\" font-family=\"Times,serif\" font-size=\"14.00\" text-anchor=\"middle\" x=\"438\" y=\"-1110.3\">input:</text>\n<polyline fill=\"none\" points=\"409,-1102.5 467,-1102.5 \" stroke=\"#000000\"/>\n<text fill=\"#000000\" font-family=\"Times,serif\" font-size=\"14.00\" text-anchor=\"middle\" x=\"438\" y=\"-1087.3\">output:</text>\n<polyline fill=\"none\" points=\"467,-1079.5 467,-1125.5 \" stroke=\"#000000\"/>\n<text fill=\"#000000\" font-family=\"Times,serif\" font-size=\"14.00\" text-anchor=\"middle\" x=\"518\" y=\"-1110.3\">(None, 1, 150)</text>\n<polyline fill=\"none\" points=\"467,-1102.5 569,-1102.5 \" stroke=\"#000000\"/>\n<text fill=\"#000000\" font-family=\"Times,serif\" font-size=\"14.00\" text-anchor=\"middle\" x=\"518\" y=\"-1087.3\">(None, 1, 200)</text>\n</g>\n<!-- 140403123531280&#45;&gt;140403122899152 -->\n<g class=\"edge\" id=\"edge14\">\n<title>140403123531280-&gt;140403122899152</title>\n<path d=\"M460.465,-1162.3799C455.8229,-1153.8178 450.4716,-1143.9477 445.4699,-1134.7222\" fill=\"none\" stroke=\"#000000\"/>\n<polygon fill=\"#000000\" points=\"448.467,-1132.9069 440.6239,-1125.784 442.3133,-1136.2433 448.467,-1132.9069\" stroke=\"#000000\"/>\n</g>\n<!-- 140403123100976 -->\n<g class=\"node\" id=\"node16\">\n<title>140403123100976</title>\n<polygon fill=\"none\" points=\"926,-1079.5 926,-1125.5 1208,-1125.5 1208,-1079.5 926,-1079.5\" stroke=\"#000000\"/>\n<text fill=\"#000000\" font-family=\"Times,serif\" font-size=\"14.00\" text-anchor=\"middle\" x=\"987\" y=\"-1098.8\">dense_222: Dense</text>\n<polyline fill=\"none\" points=\"1048,-1079.5 1048,-1125.5 \" stroke=\"#000000\"/>\n<text fill=\"#000000\" font-family=\"Times,serif\" font-size=\"14.00\" text-anchor=\"middle\" x=\"1077\" y=\"-1110.3\">input:</text>\n<polyline fill=\"none\" points=\"1048,-1102.5 1106,-1102.5 \" stroke=\"#000000\"/>\n<text fill=\"#000000\" font-family=\"Times,serif\" font-size=\"14.00\" text-anchor=\"middle\" x=\"1077\" y=\"-1087.3\">output:</text>\n<polyline fill=\"none\" points=\"1106,-1079.5 1106,-1125.5 \" stroke=\"#000000\"/>\n<text fill=\"#000000\" font-family=\"Times,serif\" font-size=\"14.00\" text-anchor=\"middle\" x=\"1157\" y=\"-1110.3\">(None, 1, 150)</text>\n<polyline fill=\"none\" points=\"1106,-1102.5 1208,-1102.5 \" stroke=\"#000000\"/>\n<text fill=\"#000000\" font-family=\"Times,serif\" font-size=\"14.00\" text-anchor=\"middle\" x=\"1157\" y=\"-1087.3\">(None, 1, 200)</text>\n</g>\n<!-- 140403123234688&#45;&gt;140403123100976 -->\n<g class=\"edge\" id=\"edge16\">\n<title>140403123234688-&gt;140403123100976</title>\n<path d=\"M1064.8357,-1162.3799C1065.1322,-1154.1745 1065.4722,-1144.7679 1065.7935,-1135.8786\" fill=\"none\" stroke=\"#000000\"/>\n<polygon fill=\"#000000\" points=\"1069.2948,-1135.9039 1066.1584,-1125.784 1062.2994,-1135.651 1069.2948,-1135.9039\" stroke=\"#000000\"/>\n</g>\n<!-- 140403122759328 -->\n<g class=\"node\" id=\"node17\">\n<title>140403122759328</title>\n<polygon fill=\"none\" points=\"227.5,-996.5 227.5,-1042.5 588.5,-1042.5 588.5,-996.5 227.5,-996.5\" stroke=\"#000000\"/>\n<text fill=\"#000000\" font-family=\"Times,serif\" font-size=\"14.00\" text-anchor=\"middle\" x=\"277\" y=\"-1015.8\">add_113: Add</text>\n<polyline fill=\"none\" points=\"326.5,-996.5 326.5,-1042.5 \" stroke=\"#000000\"/>\n<text fill=\"#000000\" font-family=\"Times,serif\" font-size=\"14.00\" text-anchor=\"middle\" x=\"355.5\" y=\"-1027.3\">input:</text>\n<polyline fill=\"none\" points=\"326.5,-1019.5 384.5,-1019.5 \" stroke=\"#000000\"/>\n<text fill=\"#000000\" font-family=\"Times,serif\" font-size=\"14.00\" text-anchor=\"middle\" x=\"355.5\" y=\"-1004.3\">output:</text>\n<polyline fill=\"none\" points=\"384.5,-996.5 384.5,-1042.5 \" stroke=\"#000000\"/>\n<text fill=\"#000000\" font-family=\"Times,serif\" font-size=\"14.00\" text-anchor=\"middle\" x=\"486.5\" y=\"-1027.3\">[(None, 1, 200), (None, 1, 200)]</text>\n<polyline fill=\"none\" points=\"384.5,-1019.5 588.5,-1019.5 \" stroke=\"#000000\"/>\n<text fill=\"#000000\" font-family=\"Times,serif\" font-size=\"14.00\" text-anchor=\"middle\" x=\"486.5\" y=\"-1004.3\">(None, 1, 200)</text>\n</g>\n<!-- 140403123233624&#45;&gt;140403122759328 -->\n<g class=\"edge\" id=\"edge17\">\n<title>140403123233624-&gt;140403122759328</title>\n<path d=\"M166.9587,-1162.345C193.5707,-1139.3434 236.7817,-1103.9891 278,-1079 297.6945,-1067.06 320.191,-1055.9586 340.8708,-1046.6566\" fill=\"none\" stroke=\"#000000\"/>\n<polygon fill=\"#000000\" points=\"342.5017,-1049.7623 350.228,-1042.5127 339.6672,-1043.3618 342.5017,-1049.7623\" stroke=\"#000000\"/>\n</g>\n<!-- 140403122899152&#45;&gt;140403122759328 -->\n<g class=\"edge\" id=\"edge18\">\n<title>140403122899152-&gt;140403122759328</title>\n<path d=\"M422.4289,-1079.3799C420.4302,-1071.0854 418.1357,-1061.5633 415.9732,-1052.5889\" fill=\"none\" stroke=\"#000000\"/>\n<polygon fill=\"#000000\" points=\"419.3559,-1051.6858 413.6106,-1042.784 412.5507,-1053.3257 419.3559,-1051.6858\" stroke=\"#000000\"/>\n</g>\n<!-- 140403122549984 -->\n<g class=\"node\" id=\"node18\">\n<title>140403122549984</title>\n<polygon fill=\"none\" points=\"606.5,-996.5 606.5,-1042.5 967.5,-1042.5 967.5,-996.5 606.5,-996.5\" stroke=\"#000000\"/>\n<text fill=\"#000000\" font-family=\"Times,serif\" font-size=\"14.00\" text-anchor=\"middle\" x=\"656\" y=\"-1015.8\">add_114: Add</text>\n<polyline fill=\"none\" points=\"705.5,-996.5 705.5,-1042.5 \" stroke=\"#000000\"/>\n<text fill=\"#000000\" font-family=\"Times,serif\" font-size=\"14.00\" text-anchor=\"middle\" x=\"734.5\" y=\"-1027.3\">input:</text>\n<polyline fill=\"none\" points=\"705.5,-1019.5 763.5,-1019.5 \" stroke=\"#000000\"/>\n<text fill=\"#000000\" font-family=\"Times,serif\" font-size=\"14.00\" text-anchor=\"middle\" x=\"734.5\" y=\"-1004.3\">output:</text>\n<polyline fill=\"none\" points=\"763.5,-996.5 763.5,-1042.5 \" stroke=\"#000000\"/>\n<text fill=\"#000000\" font-family=\"Times,serif\" font-size=\"14.00\" text-anchor=\"middle\" x=\"865.5\" y=\"-1027.3\">[(None, 1, 200), (None, 1, 200)]</text>\n<polyline fill=\"none\" points=\"763.5,-1019.5 967.5,-1019.5 \" stroke=\"#000000\"/>\n<text fill=\"#000000\" font-family=\"Times,serif\" font-size=\"14.00\" text-anchor=\"middle\" x=\"865.5\" y=\"-1004.3\">(None, 1, 200)</text>\n</g>\n<!-- 140403123335464&#45;&gt;140403122549984 -->\n<g class=\"edge\" id=\"edge19\">\n<title>140403123335464-&gt;140403122549984</title>\n<path d=\"M772.5711,-1079.3799C774.5698,-1071.0854 776.8643,-1061.5633 779.0268,-1052.5889\" fill=\"none\" stroke=\"#000000\"/>\n<polygon fill=\"#000000\" points=\"782.4493,-1053.3257 781.3894,-1042.784 775.6441,-1051.6858 782.4493,-1053.3257\" stroke=\"#000000\"/>\n</g>\n<!-- 140403123100976&#45;&gt;140403122549984 -->\n<g class=\"edge\" id=\"edge20\">\n<title>140403123100976-&gt;140403122549984</title>\n<path d=\"M989.3762,-1079.4901C953.7198,-1068.9205 911.2779,-1056.3395 874.4921,-1045.4352\" fill=\"none\" stroke=\"#000000\"/>\n<polygon fill=\"#000000\" points=\"875.3572,-1042.0411 864.7748,-1042.5547 873.3677,-1048.7525 875.3572,-1042.0411\" stroke=\"#000000\"/>\n</g>\n<!-- 140403122549648 -->\n<g class=\"node\" id=\"node19\">\n<title>140403122549648</title>\n<polygon fill=\"none\" points=\"307.5,-913.5 307.5,-959.5 588.5,-959.5 588.5,-913.5 307.5,-913.5\" stroke=\"#000000\"/>\n<text fill=\"#000000\" font-family=\"Times,serif\" font-size=\"14.00\" text-anchor=\"middle\" x=\"368\" y=\"-932.8\">flatten_43: Flatten</text>\n<polyline fill=\"none\" points=\"428.5,-913.5 428.5,-959.5 \" stroke=\"#000000\"/>\n<text fill=\"#000000\" font-family=\"Times,serif\" font-size=\"14.00\" text-anchor=\"middle\" x=\"457.5\" y=\"-944.3\">input:</text>\n<polyline fill=\"none\" points=\"428.5,-936.5 486.5,-936.5 \" stroke=\"#000000\"/>\n<text fill=\"#000000\" font-family=\"Times,serif\" font-size=\"14.00\" text-anchor=\"middle\" x=\"457.5\" y=\"-921.3\">output:</text>\n<polyline fill=\"none\" points=\"486.5,-913.5 486.5,-959.5 \" stroke=\"#000000\"/>\n<text fill=\"#000000\" font-family=\"Times,serif\" font-size=\"14.00\" text-anchor=\"middle\" x=\"537.5\" y=\"-944.3\">(None, 1, 200)</text>\n<polyline fill=\"none\" points=\"486.5,-936.5 588.5,-936.5 \" stroke=\"#000000\"/>\n<text fill=\"#000000\" font-family=\"Times,serif\" font-size=\"14.00\" text-anchor=\"middle\" x=\"537.5\" y=\"-921.3\">(None, 200)</text>\n</g>\n<!-- 140403122759328&#45;&gt;140403122549648 -->\n<g class=\"edge\" id=\"edge21\">\n<title>140403122759328-&gt;140403122549648</title>\n<path d=\"M419.1422,-996.3799C423.2256,-987.907 427.9262,-978.1531 432.3322,-969.0107\" fill=\"none\" stroke=\"#000000\"/>\n<polygon fill=\"#000000\" points=\"435.5903,-970.312 436.7788,-959.784 429.2844,-967.2729 435.5903,-970.312\" stroke=\"#000000\"/>\n</g>\n<!-- 140403122551160 -->\n<g class=\"node\" id=\"node20\">\n<title>140403122551160</title>\n<polygon fill=\"none\" points=\"626.5,-913.5 626.5,-959.5 907.5,-959.5 907.5,-913.5 626.5,-913.5\" stroke=\"#000000\"/>\n<text fill=\"#000000\" font-family=\"Times,serif\" font-size=\"14.00\" text-anchor=\"middle\" x=\"687\" y=\"-932.8\">flatten_44: Flatten</text>\n<polyline fill=\"none\" points=\"747.5,-913.5 747.5,-959.5 \" stroke=\"#000000\"/>\n<text fill=\"#000000\" font-family=\"Times,serif\" font-size=\"14.00\" text-anchor=\"middle\" x=\"776.5\" y=\"-944.3\">input:</text>\n<polyline fill=\"none\" points=\"747.5,-936.5 805.5,-936.5 \" stroke=\"#000000\"/>\n<text fill=\"#000000\" font-family=\"Times,serif\" font-size=\"14.00\" text-anchor=\"middle\" x=\"776.5\" y=\"-921.3\">output:</text>\n<polyline fill=\"none\" points=\"805.5,-913.5 805.5,-959.5 \" stroke=\"#000000\"/>\n<text fill=\"#000000\" font-family=\"Times,serif\" font-size=\"14.00\" text-anchor=\"middle\" x=\"856.5\" y=\"-944.3\">(None, 1, 200)</text>\n<polyline fill=\"none\" points=\"805.5,-936.5 907.5,-936.5 \" stroke=\"#000000\"/>\n<text fill=\"#000000\" font-family=\"Times,serif\" font-size=\"14.00\" text-anchor=\"middle\" x=\"856.5\" y=\"-921.3\">(None, 200)</text>\n</g>\n<!-- 140403122549984&#45;&gt;140403122551160 -->\n<g class=\"edge\" id=\"edge22\">\n<title>140403122549984-&gt;140403122551160</title>\n<path d=\"M781.4289,-996.3799C779.4302,-988.0854 777.1357,-978.5633 774.9732,-969.5889\" fill=\"none\" stroke=\"#000000\"/>\n<polygon fill=\"#000000\" points=\"778.3559,-968.6858 772.6106,-959.784 771.5507,-970.3257 778.3559,-968.6858\" stroke=\"#000000\"/>\n</g>\n<!-- 140403122215400 -->\n<g class=\"node\" id=\"node21\">\n<title>140403122215400</title>\n<polygon fill=\"none\" points=\"390,-830.5 390,-876.5 804,-876.5 804,-830.5 390,-830.5\" stroke=\"#000000\"/>\n<text fill=\"#000000\" font-family=\"Times,serif\" font-size=\"14.00\" text-anchor=\"middle\" x=\"481\" y=\"-849.8\">concatenate_22: Concatenate</text>\n<polyline fill=\"none\" points=\"572,-830.5 572,-876.5 \" stroke=\"#000000\"/>\n<text fill=\"#000000\" font-family=\"Times,serif\" font-size=\"14.00\" text-anchor=\"middle\" x=\"601\" y=\"-861.3\">input:</text>\n<polyline fill=\"none\" points=\"572,-853.5 630,-853.5 \" stroke=\"#000000\"/>\n<text fill=\"#000000\" font-family=\"Times,serif\" font-size=\"14.00\" text-anchor=\"middle\" x=\"601\" y=\"-838.3\">output:</text>\n<polyline fill=\"none\" points=\"630,-830.5 630,-876.5 \" stroke=\"#000000\"/>\n<text fill=\"#000000\" font-family=\"Times,serif\" font-size=\"14.00\" text-anchor=\"middle\" x=\"717\" y=\"-861.3\">[(None, 200), (None, 200)]</text>\n<polyline fill=\"none\" points=\"630,-853.5 804,-853.5 \" stroke=\"#000000\"/>\n<text fill=\"#000000\" font-family=\"Times,serif\" font-size=\"14.00\" text-anchor=\"middle\" x=\"717\" y=\"-838.3\">(None, 400)</text>\n</g>\n<!-- 140403122549648&#45;&gt;140403122215400 -->\n<g class=\"edge\" id=\"edge23\">\n<title>140403122549648-&gt;140403122215400</title>\n<path d=\"M489.5048,-913.3799C507.1908,-903.5279 527.9858,-891.9442 546.5493,-881.6034\" fill=\"none\" stroke=\"#000000\"/>\n<polygon fill=\"#000000\" points=\"548.4268,-884.564 555.4596,-876.6399 545.0203,-878.4488 548.4268,-884.564\" stroke=\"#000000\"/>\n</g>\n<!-- 140403122551160&#45;&gt;140403122215400 -->\n<g class=\"edge\" id=\"edge24\">\n<title>140403122551160-&gt;140403122215400</title>\n<path d=\"M719.6455,-913.3799C699.1,-903.3488 674.8771,-891.5224 653.4085,-881.0406\" fill=\"none\" stroke=\"#000000\"/>\n<polygon fill=\"#000000\" points=\"654.9168,-877.8822 644.3951,-876.6399 651.8456,-884.1725 654.9168,-877.8822\" stroke=\"#000000\"/>\n</g>\n<!-- 140403122215792 -->\n<g class=\"node\" id=\"node22\">\n<title>140403122215792</title>\n<polygon fill=\"none\" points=\"463.5,-747.5 463.5,-793.5 730.5,-793.5 730.5,-747.5 463.5,-747.5\" stroke=\"#000000\"/>\n<text fill=\"#000000\" font-family=\"Times,serif\" font-size=\"14.00\" text-anchor=\"middle\" x=\"524.5\" y=\"-766.8\">dense_223: Dense</text>\n<polyline fill=\"none\" points=\"585.5,-747.5 585.5,-793.5 \" stroke=\"#000000\"/>\n<text fill=\"#000000\" font-family=\"Times,serif\" font-size=\"14.00\" text-anchor=\"middle\" x=\"614.5\" y=\"-778.3\">input:</text>\n<polyline fill=\"none\" points=\"585.5,-770.5 643.5,-770.5 \" stroke=\"#000000\"/>\n<text fill=\"#000000\" font-family=\"Times,serif\" font-size=\"14.00\" text-anchor=\"middle\" x=\"614.5\" y=\"-755.3\">output:</text>\n<polyline fill=\"none\" points=\"643.5,-747.5 643.5,-793.5 \" stroke=\"#000000\"/>\n<text fill=\"#000000\" font-family=\"Times,serif\" font-size=\"14.00\" text-anchor=\"middle\" x=\"687\" y=\"-778.3\">(None, 400)</text>\n<polyline fill=\"none\" points=\"643.5,-770.5 730.5,-770.5 \" stroke=\"#000000\"/>\n<text fill=\"#000000\" font-family=\"Times,serif\" font-size=\"14.00\" text-anchor=\"middle\" x=\"687\" y=\"-755.3\">(None, 300)</text>\n</g>\n<!-- 140403122215400&#45;&gt;140403122215792 -->\n<g class=\"edge\" id=\"edge25\">\n<title>140403122215400-&gt;140403122215792</title>\n<path d=\"M597,-830.3799C597,-822.1745 597,-812.7679 597,-803.8786\" fill=\"none\" stroke=\"#000000\"/>\n<polygon fill=\"#000000\" points=\"600.5001,-803.784 597,-793.784 593.5001,-803.784 600.5001,-803.784\" stroke=\"#000000\"/>\n</g>\n<!-- 140403121909656 -->\n<g class=\"node\" id=\"node23\">\n<title>140403121909656</title>\n<polygon fill=\"none\" points=\"385.5,-664.5 385.5,-710.5 808.5,-710.5 808.5,-664.5 385.5,-664.5\" stroke=\"#000000\"/>\n<text fill=\"#000000\" font-family=\"Times,serif\" font-size=\"14.00\" text-anchor=\"middle\" x=\"524.5\" y=\"-683.8\">batch_normalization_34: BatchNormalization</text>\n<polyline fill=\"none\" points=\"663.5,-664.5 663.5,-710.5 \" stroke=\"#000000\"/>\n<text fill=\"#000000\" font-family=\"Times,serif\" font-size=\"14.00\" text-anchor=\"middle\" x=\"692.5\" y=\"-695.3\">input:</text>\n<polyline fill=\"none\" points=\"663.5,-687.5 721.5,-687.5 \" stroke=\"#000000\"/>\n<text fill=\"#000000\" font-family=\"Times,serif\" font-size=\"14.00\" text-anchor=\"middle\" x=\"692.5\" y=\"-672.3\">output:</text>\n<polyline fill=\"none\" points=\"721.5,-664.5 721.5,-710.5 \" stroke=\"#000000\"/>\n<text fill=\"#000000\" font-family=\"Times,serif\" font-size=\"14.00\" text-anchor=\"middle\" x=\"765\" y=\"-695.3\">(None, 300)</text>\n<polyline fill=\"none\" points=\"721.5,-687.5 808.5,-687.5 \" stroke=\"#000000\"/>\n<text fill=\"#000000\" font-family=\"Times,serif\" font-size=\"14.00\" text-anchor=\"middle\" x=\"765\" y=\"-672.3\">(None, 300)</text>\n</g>\n<!-- 140403122215792&#45;&gt;140403121909656 -->\n<g class=\"edge\" id=\"edge26\">\n<title>140403122215792-&gt;140403121909656</title>\n<path d=\"M597,-747.3799C597,-739.1745 597,-729.7679 597,-720.8786\" fill=\"none\" stroke=\"#000000\"/>\n<polygon fill=\"#000000\" points=\"600.5001,-720.784 597,-710.784 593.5001,-720.784 600.5001,-720.784\" stroke=\"#000000\"/>\n</g>\n<!-- 140403121907808 -->\n<g class=\"node\" id=\"node24\">\n<title>140403121907808</title>\n<polygon fill=\"none\" points=\"454,-581.5 454,-627.5 740,-627.5 740,-581.5 454,-581.5\" stroke=\"#000000\"/>\n<text fill=\"#000000\" font-family=\"Times,serif\" font-size=\"14.00\" text-anchor=\"middle\" x=\"524.5\" y=\"-600.8\">dropout_34: Dropout</text>\n<polyline fill=\"none\" points=\"595,-581.5 595,-627.5 \" stroke=\"#000000\"/>\n<text fill=\"#000000\" font-family=\"Times,serif\" font-size=\"14.00\" text-anchor=\"middle\" x=\"624\" y=\"-612.3\">input:</text>\n<polyline fill=\"none\" points=\"595,-604.5 653,-604.5 \" stroke=\"#000000\"/>\n<text fill=\"#000000\" font-family=\"Times,serif\" font-size=\"14.00\" text-anchor=\"middle\" x=\"624\" y=\"-589.3\">output:</text>\n<polyline fill=\"none\" points=\"653,-581.5 653,-627.5 \" stroke=\"#000000\"/>\n<text fill=\"#000000\" font-family=\"Times,serif\" font-size=\"14.00\" text-anchor=\"middle\" x=\"696.5\" y=\"-612.3\">(None, 300)</text>\n<polyline fill=\"none\" points=\"653,-604.5 740,-604.5 \" stroke=\"#000000\"/>\n<text fill=\"#000000\" font-family=\"Times,serif\" font-size=\"14.00\" text-anchor=\"middle\" x=\"696.5\" y=\"-589.3\">(None, 300)</text>\n</g>\n<!-- 140403121909656&#45;&gt;140403121907808 -->\n<g class=\"edge\" id=\"edge27\">\n<title>140403121909656-&gt;140403121907808</title>\n<path d=\"M597,-664.3799C597,-656.1745 597,-646.7679 597,-637.8786\" fill=\"none\" stroke=\"#000000\"/>\n<polygon fill=\"#000000\" points=\"600.5001,-637.784 597,-627.784 593.5001,-637.784 600.5001,-637.784\" stroke=\"#000000\"/>\n</g>\n<!-- 140403122011608 -->\n<g class=\"node\" id=\"node25\">\n<title>140403122011608</title>\n<polygon fill=\"none\" points=\"463.5,-498.5 463.5,-544.5 730.5,-544.5 730.5,-498.5 463.5,-498.5\" stroke=\"#000000\"/>\n<text fill=\"#000000\" font-family=\"Times,serif\" font-size=\"14.00\" text-anchor=\"middle\" x=\"524.5\" y=\"-517.8\">dense_224: Dense</text>\n<polyline fill=\"none\" points=\"585.5,-498.5 585.5,-544.5 \" stroke=\"#000000\"/>\n<text fill=\"#000000\" font-family=\"Times,serif\" font-size=\"14.00\" text-anchor=\"middle\" x=\"614.5\" y=\"-529.3\">input:</text>\n<polyline fill=\"none\" points=\"585.5,-521.5 643.5,-521.5 \" stroke=\"#000000\"/>\n<text fill=\"#000000\" font-family=\"Times,serif\" font-size=\"14.00\" text-anchor=\"middle\" x=\"614.5\" y=\"-506.3\">output:</text>\n<polyline fill=\"none\" points=\"643.5,-498.5 643.5,-544.5 \" stroke=\"#000000\"/>\n<text fill=\"#000000\" font-family=\"Times,serif\" font-size=\"14.00\" text-anchor=\"middle\" x=\"687\" y=\"-529.3\">(None, 300)</text>\n<polyline fill=\"none\" points=\"643.5,-521.5 730.5,-521.5 \" stroke=\"#000000\"/>\n<text fill=\"#000000\" font-family=\"Times,serif\" font-size=\"14.00\" text-anchor=\"middle\" x=\"687\" y=\"-506.3\">(None, 200)</text>\n</g>\n<!-- 140403121907808&#45;&gt;140403122011608 -->\n<g class=\"edge\" id=\"edge28\">\n<title>140403121907808-&gt;140403122011608</title>\n<path d=\"M597,-581.3799C597,-573.1745 597,-563.7679 597,-554.8786\" fill=\"none\" stroke=\"#000000\"/>\n<polygon fill=\"#000000\" points=\"600.5001,-554.784 597,-544.784 593.5001,-554.784 600.5001,-554.784\" stroke=\"#000000\"/>\n</g>\n<!-- 140403121672144 -->\n<g class=\"node\" id=\"node26\">\n<title>140403121672144</title>\n<polygon fill=\"none\" points=\"385.5,-415.5 385.5,-461.5 808.5,-461.5 808.5,-415.5 385.5,-415.5\" stroke=\"#000000\"/>\n<text fill=\"#000000\" font-family=\"Times,serif\" font-size=\"14.00\" text-anchor=\"middle\" x=\"524.5\" y=\"-434.8\">batch_normalization_35: BatchNormalization</text>\n<polyline fill=\"none\" points=\"663.5,-415.5 663.5,-461.5 \" stroke=\"#000000\"/>\n<text fill=\"#000000\" font-family=\"Times,serif\" font-size=\"14.00\" text-anchor=\"middle\" x=\"692.5\" y=\"-446.3\">input:</text>\n<polyline fill=\"none\" points=\"663.5,-438.5 721.5,-438.5 \" stroke=\"#000000\"/>\n<text fill=\"#000000\" font-family=\"Times,serif\" font-size=\"14.00\" text-anchor=\"middle\" x=\"692.5\" y=\"-423.3\">output:</text>\n<polyline fill=\"none\" points=\"721.5,-415.5 721.5,-461.5 \" stroke=\"#000000\"/>\n<text fill=\"#000000\" font-family=\"Times,serif\" font-size=\"14.00\" text-anchor=\"middle\" x=\"765\" y=\"-446.3\">(None, 200)</text>\n<polyline fill=\"none\" points=\"721.5,-438.5 808.5,-438.5 \" stroke=\"#000000\"/>\n<text fill=\"#000000\" font-family=\"Times,serif\" font-size=\"14.00\" text-anchor=\"middle\" x=\"765\" y=\"-423.3\">(None, 200)</text>\n</g>\n<!-- 140403122011608&#45;&gt;140403121672144 -->\n<g class=\"edge\" id=\"edge29\">\n<title>140403122011608-&gt;140403121672144</title>\n<path d=\"M597,-498.3799C597,-490.1745 597,-480.7679 597,-471.8786\" fill=\"none\" stroke=\"#000000\"/>\n<polygon fill=\"#000000\" points=\"600.5001,-471.784 597,-461.784 593.5001,-471.784 600.5001,-471.784\" stroke=\"#000000\"/>\n</g>\n<!-- 140403121384584 -->\n<g class=\"node\" id=\"node27\">\n<title>140403121384584</title>\n<polygon fill=\"none\" points=\"454,-332.5 454,-378.5 740,-378.5 740,-332.5 454,-332.5\" stroke=\"#000000\"/>\n<text fill=\"#000000\" font-family=\"Times,serif\" font-size=\"14.00\" text-anchor=\"middle\" x=\"524.5\" y=\"-351.8\">dropout_35: Dropout</text>\n<polyline fill=\"none\" points=\"595,-332.5 595,-378.5 \" stroke=\"#000000\"/>\n<text fill=\"#000000\" font-family=\"Times,serif\" font-size=\"14.00\" text-anchor=\"middle\" x=\"624\" y=\"-363.3\">input:</text>\n<polyline fill=\"none\" points=\"595,-355.5 653,-355.5 \" stroke=\"#000000\"/>\n<text fill=\"#000000\" font-family=\"Times,serif\" font-size=\"14.00\" text-anchor=\"middle\" x=\"624\" y=\"-340.3\">output:</text>\n<polyline fill=\"none\" points=\"653,-332.5 653,-378.5 \" stroke=\"#000000\"/>\n<text fill=\"#000000\" font-family=\"Times,serif\" font-size=\"14.00\" text-anchor=\"middle\" x=\"696.5\" y=\"-363.3\">(None, 200)</text>\n<polyline fill=\"none\" points=\"653,-355.5 740,-355.5 \" stroke=\"#000000\"/>\n<text fill=\"#000000\" font-family=\"Times,serif\" font-size=\"14.00\" text-anchor=\"middle\" x=\"696.5\" y=\"-340.3\">(None, 200)</text>\n</g>\n<!-- 140403121672144&#45;&gt;140403121384584 -->\n<g class=\"edge\" id=\"edge30\">\n<title>140403121672144-&gt;140403121384584</title>\n<path d=\"M597,-415.3799C597,-407.1745 597,-397.7679 597,-388.8786\" fill=\"none\" stroke=\"#000000\"/>\n<polygon fill=\"#000000\" points=\"600.5001,-388.784 597,-378.784 593.5001,-388.784 600.5001,-388.784\" stroke=\"#000000\"/>\n</g>\n<!-- 140403120794200 -->\n<g class=\"node\" id=\"node28\">\n<title>140403120794200</title>\n<polygon fill=\"none\" points=\"463.5,-249.5 463.5,-295.5 730.5,-295.5 730.5,-249.5 463.5,-249.5\" stroke=\"#000000\"/>\n<text fill=\"#000000\" font-family=\"Times,serif\" font-size=\"14.00\" text-anchor=\"middle\" x=\"524.5\" y=\"-268.8\">dense_225: Dense</text>\n<polyline fill=\"none\" points=\"585.5,-249.5 585.5,-295.5 \" stroke=\"#000000\"/>\n<text fill=\"#000000\" font-family=\"Times,serif\" font-size=\"14.00\" text-anchor=\"middle\" x=\"614.5\" y=\"-280.3\">input:</text>\n<polyline fill=\"none\" points=\"585.5,-272.5 643.5,-272.5 \" stroke=\"#000000\"/>\n<text fill=\"#000000\" font-family=\"Times,serif\" font-size=\"14.00\" text-anchor=\"middle\" x=\"614.5\" y=\"-257.3\">output:</text>\n<polyline fill=\"none\" points=\"643.5,-249.5 643.5,-295.5 \" stroke=\"#000000\"/>\n<text fill=\"#000000\" font-family=\"Times,serif\" font-size=\"14.00\" text-anchor=\"middle\" x=\"687\" y=\"-280.3\">(None, 200)</text>\n<polyline fill=\"none\" points=\"643.5,-272.5 730.5,-272.5 \" stroke=\"#000000\"/>\n<text fill=\"#000000\" font-family=\"Times,serif\" font-size=\"14.00\" text-anchor=\"middle\" x=\"687\" y=\"-257.3\">(None, 100)</text>\n</g>\n<!-- 140403121384584&#45;&gt;140403120794200 -->\n<g class=\"edge\" id=\"edge31\">\n<title>140403121384584-&gt;140403120794200</title>\n<path d=\"M597,-332.3799C597,-324.1745 597,-314.7679 597,-305.8786\" fill=\"none\" stroke=\"#000000\"/>\n<polygon fill=\"#000000\" points=\"600.5001,-305.784 597,-295.784 593.5001,-305.784 600.5001,-305.784\" stroke=\"#000000\"/>\n</g>\n<!-- 140403120496536 -->\n<g class=\"node\" id=\"node29\">\n<title>140403120496536</title>\n<polygon fill=\"none\" points=\"385.5,-166.5 385.5,-212.5 808.5,-212.5 808.5,-166.5 385.5,-166.5\" stroke=\"#000000\"/>\n<text fill=\"#000000\" font-family=\"Times,serif\" font-size=\"14.00\" text-anchor=\"middle\" x=\"524.5\" y=\"-185.8\">batch_normalization_36: BatchNormalization</text>\n<polyline fill=\"none\" points=\"663.5,-166.5 663.5,-212.5 \" stroke=\"#000000\"/>\n<text fill=\"#000000\" font-family=\"Times,serif\" font-size=\"14.00\" text-anchor=\"middle\" x=\"692.5\" y=\"-197.3\">input:</text>\n<polyline fill=\"none\" points=\"663.5,-189.5 721.5,-189.5 \" stroke=\"#000000\"/>\n<text fill=\"#000000\" font-family=\"Times,serif\" font-size=\"14.00\" text-anchor=\"middle\" x=\"692.5\" y=\"-174.3\">output:</text>\n<polyline fill=\"none\" points=\"721.5,-166.5 721.5,-212.5 \" stroke=\"#000000\"/>\n<text fill=\"#000000\" font-family=\"Times,serif\" font-size=\"14.00\" text-anchor=\"middle\" x=\"765\" y=\"-197.3\">(None, 100)</text>\n<polyline fill=\"none\" points=\"721.5,-189.5 808.5,-189.5 \" stroke=\"#000000\"/>\n<text fill=\"#000000\" font-family=\"Times,serif\" font-size=\"14.00\" text-anchor=\"middle\" x=\"765\" y=\"-174.3\">(None, 100)</text>\n</g>\n<!-- 140403120794200&#45;&gt;140403120496536 -->\n<g class=\"edge\" id=\"edge32\">\n<title>140403120794200-&gt;140403120496536</title>\n<path d=\"M597,-249.3799C597,-241.1745 597,-231.7679 597,-222.8786\" fill=\"none\" stroke=\"#000000\"/>\n<polygon fill=\"#000000\" points=\"600.5001,-222.784 597,-212.784 593.5001,-222.784 600.5001,-222.784\" stroke=\"#000000\"/>\n</g>\n<!-- 140403120075552 -->\n<g class=\"node\" id=\"node30\">\n<title>140403120075552</title>\n<polygon fill=\"none\" points=\"454,-83.5 454,-129.5 740,-129.5 740,-83.5 454,-83.5\" stroke=\"#000000\"/>\n<text fill=\"#000000\" font-family=\"Times,serif\" font-size=\"14.00\" text-anchor=\"middle\" x=\"524.5\" y=\"-102.8\">dropout_36: Dropout</text>\n<polyline fill=\"none\" points=\"595,-83.5 595,-129.5 \" stroke=\"#000000\"/>\n<text fill=\"#000000\" font-family=\"Times,serif\" font-size=\"14.00\" text-anchor=\"middle\" x=\"624\" y=\"-114.3\">input:</text>\n<polyline fill=\"none\" points=\"595,-106.5 653,-106.5 \" stroke=\"#000000\"/>\n<text fill=\"#000000\" font-family=\"Times,serif\" font-size=\"14.00\" text-anchor=\"middle\" x=\"624\" y=\"-91.3\">output:</text>\n<polyline fill=\"none\" points=\"653,-83.5 653,-129.5 \" stroke=\"#000000\"/>\n<text fill=\"#000000\" font-family=\"Times,serif\" font-size=\"14.00\" text-anchor=\"middle\" x=\"696.5\" y=\"-114.3\">(None, 100)</text>\n<polyline fill=\"none\" points=\"653,-106.5 740,-106.5 \" stroke=\"#000000\"/>\n<text fill=\"#000000\" font-family=\"Times,serif\" font-size=\"14.00\" text-anchor=\"middle\" x=\"696.5\" y=\"-91.3\">(None, 100)</text>\n</g>\n<!-- 140403120496536&#45;&gt;140403120075552 -->\n<g class=\"edge\" id=\"edge33\">\n<title>140403120496536-&gt;140403120075552</title>\n<path d=\"M597,-166.3799C597,-158.1745 597,-148.7679 597,-139.8786\" fill=\"none\" stroke=\"#000000\"/>\n<polygon fill=\"#000000\" points=\"600.5001,-139.784 597,-129.784 593.5001,-139.784 600.5001,-139.784\" stroke=\"#000000\"/>\n</g>\n<!-- 140403122215288 -->\n<g class=\"node\" id=\"node31\">\n<title>140403122215288</title>\n<polygon fill=\"none\" points=\"463.5,-.5 463.5,-46.5 730.5,-46.5 730.5,-.5 463.5,-.5\" stroke=\"#000000\"/>\n<text fill=\"#000000\" font-family=\"Times,serif\" font-size=\"14.00\" text-anchor=\"middle\" x=\"524.5\" y=\"-19.8\">dense_226: Dense</text>\n<polyline fill=\"none\" points=\"585.5,-.5 585.5,-46.5 \" stroke=\"#000000\"/>\n<text fill=\"#000000\" font-family=\"Times,serif\" font-size=\"14.00\" text-anchor=\"middle\" x=\"614.5\" y=\"-31.3\">input:</text>\n<polyline fill=\"none\" points=\"585.5,-23.5 643.5,-23.5 \" stroke=\"#000000\"/>\n<text fill=\"#000000\" font-family=\"Times,serif\" font-size=\"14.00\" text-anchor=\"middle\" x=\"614.5\" y=\"-8.3\">output:</text>\n<polyline fill=\"none\" points=\"643.5,-.5 643.5,-46.5 \" stroke=\"#000000\"/>\n<text fill=\"#000000\" font-family=\"Times,serif\" font-size=\"14.00\" text-anchor=\"middle\" x=\"687\" y=\"-31.3\">(None, 100)</text>\n<polyline fill=\"none\" points=\"643.5,-23.5 730.5,-23.5 \" stroke=\"#000000\"/>\n<text fill=\"#000000\" font-family=\"Times,serif\" font-size=\"14.00\" text-anchor=\"middle\" x=\"687\" y=\"-8.3\">(None, 1)</text>\n</g>\n<!-- 140403120075552&#45;&gt;140403122215288 -->\n<g class=\"edge\" id=\"edge34\">\n<title>140403120075552-&gt;140403122215288</title>\n<path d=\"M597,-83.3799C597,-75.1745 597,-65.7679 597,-56.8786\" fill=\"none\" stroke=\"#000000\"/>\n<polygon fill=\"#000000\" points=\"600.5001,-56.784 597,-46.784 593.5001,-56.784 600.5001,-56.784\" stroke=\"#000000\"/>\n</g>\n</g>\n</svg>"
          },
          "metadata": {
            "tags": []
          },
          "execution_count": 66
        }
      ]
    },
    {
      "metadata": {
        "id": "MAbt2hkMw1d2",
        "colab_type": "code",
        "colab": {}
      },
      "cell_type": "code",
      "source": [
        "# print(history)"
      ],
      "execution_count": 0,
      "outputs": []
    },
    {
      "metadata": {
        "id": "-clQPYuFw1d6",
        "colab_type": "code",
        "outputId": "e45c1f67-cac1-4d95-ec58-7d7bb9288f40",
        "colab": {
          "base_uri": "https://localhost:8080/",
          "height": 376
        }
      },
      "cell_type": "code",
      "source": [
        "import matplotlib.pyplot as plt\n",
        "plt.plot(history.history['loss'])\n",
        "plt.title('Model Loss')\n",
        "plt.ylabel('Loss')\n",
        "plt.xlabel('Epoch')\n",
        "plt.show()"
      ],
      "execution_count": 68,
      "outputs": [
        {
          "output_type": "display_data",
          "data": {
            "image/png": "[encoded data removed]",
            "text/plain": [
              "<Figure size 576x396 with 1 Axes>"
            ]
          },
          "metadata": {
            "tags": []
          }
        }
      ]
    },
    {
      "metadata": {
        "id": "DnheNY9ULare",
        "colab_type": "code",
        "colab": {}
      },
      "cell_type": "code",
      "source": [
        ""
      ],
      "execution_count": 0,
      "outputs": []
    },
    {
      "metadata": {
        "id": "9EOEVgsOLcBF",
        "colab_type": "text"
      },
      "cell_type": "markdown",
      "source": [
        "## Save Model"
      ]
    },
    {
      "metadata": {
        "id": "gy05rWkmu1al",
        "colab_type": "code",
        "colab": {}
      },
      "cell_type": "code",
      "source": [
        "from keras.models import load_model\n",
        "\n",
        "model.save('my_model.h5')  # creates a HDF5 file 'my_model.h5'"
      ],
      "execution_count": 0,
      "outputs": []
    },
    {
      "metadata": {
        "id": "7D2i5euRwsX7",
        "colab_type": "code",
        "colab": {}
      },
      "cell_type": "code",
      "source": [
        "model1 = load_model('my_model.h5')"
      ],
      "execution_count": 0,
      "outputs": []
    },
    {
      "metadata": {
        "id": "R2yRws8nwsvB",
        "colab_type": "code",
        "colab": {}
      },
      "cell_type": "code",
      "source": [
        "dtest = pd.read_csv('u1.test', sep = '\\t', names = ['user', 'item', 'rating', 'time'])\n",
        "dtest = dtest.drop(columns=['time'])"
      ],
      "execution_count": 0,
      "outputs": []
    },
    {
      "metadata": {
        "id": "gYjdx7kx7YbB",
        "colab_type": "code",
        "outputId": "05543ab6-8ea0-4ac9-edb6-bab9ddd8fee6",
        "colab": {
          "base_uri": "https://localhost:8080/",
          "height": 204
        }
      },
      "cell_type": "code",
      "source": [
        "dtest.head()"
      ],
      "execution_count": 0,
      "outputs": [
        {
          "output_type": "execute_result",
          "data": {
            "text/html": [
              "<div>\n",
              "<style scoped>\n",
              "    .dataframe tbody tr th:only-of-type {\n",
              "        vertical-align: middle;\n",
              "    }\n",
              "\n",
              "    .dataframe tbody tr th {\n",
              "        vertical-align: top;\n",
              "    }\n",
              "\n",
              "    .dataframe thead th {\n",
              "        text-align: right;\n",
              "    }\n",
              "</style>\n",
              "<table border=\"1\" class=\"dataframe\">\n",
              "  <thead>\n",
              "    <tr style=\"text-align: right;\">\n",
              "      <th></th>\n",
              "      <th>user</th>\n",
              "      <th>item</th>\n",
              "      <th>rating</th>\n",
              "    </tr>\n",
              "  </thead>\n",
              "  <tbody>\n",
              "    <tr>\n",
              "      <th>0</th>\n",
              "      <td>1</td>\n",
              "      <td>6</td>\n",
              "      <td>5</td>\n",
              "    </tr>\n",
              "    <tr>\n",
              "      <th>1</th>\n",
              "      <td>1</td>\n",
              "      <td>10</td>\n",
              "      <td>3</td>\n",
              "    </tr>\n",
              "    <tr>\n",
              "      <th>2</th>\n",
              "      <td>1</td>\n",
              "      <td>12</td>\n",
              "      <td>5</td>\n",
              "    </tr>\n",
              "    <tr>\n",
              "      <th>3</th>\n",
              "      <td>1</td>\n",
              "      <td>14</td>\n",
              "      <td>5</td>\n",
              "    </tr>\n",
              "    <tr>\n",
              "      <th>4</th>\n",
              "      <td>1</td>\n",
              "      <td>17</td>\n",
              "      <td>3</td>\n",
              "    </tr>\n",
              "  </tbody>\n",
              "</table>\n",
              "</div>"
            ],
            "text/plain": [
              "   user  item  rating\n",
              "0     1     6       5\n",
              "1     1    10       3\n",
              "2     1    12       5\n",
              "3     1    14       5\n",
              "4     1    17       3"
            ]
          },
          "metadata": {
            "tags": []
          },
          "execution_count": 27
        }
      ]
    },
    {
      "metadata": {
        "id": "LUKr4sUf7YeZ",
        "colab_type": "code",
        "colab": {}
      },
      "cell_type": "code",
      "source": [
        "pre = np.array(dtest)"
      ],
      "execution_count": 0,
      "outputs": []
    },
    {
      "metadata": {
        "id": "IQpTcXdz72NC",
        "colab_type": "code",
        "colab": {}
      },
      "cell_type": "code",
      "source": [
        "utest = pre[:,0]\n",
        "itest = pre[:,1]\n",
        "rtest = pre[:,2]"
      ],
      "execution_count": 0,
      "outputs": []
    },
    {
      "metadata": {
        "id": "Xvl_RiLG_SOU",
        "colab_type": "code",
        "colab": {}
      },
      "cell_type": "code",
      "source": [
        "a = np.ones((1410,))"
      ],
      "execution_count": 0,
      "outputs": []
    },
    {
      "metadata": {
        "id": "jQFsPKsa72QC",
        "colab_type": "code",
        "outputId": "f6e1197b-0eb4-4052-b9f7-0e6dfa53191b",
        "colab": {
          "base_uri": "https://localhost:8080/",
          "height": 34
        }
      },
      "cell_type": "code",
      "source": [
        "utest.shape"
      ],
      "execution_count": 0,
      "outputs": [
        {
          "output_type": "execute_result",
          "data": {
            "text/plain": [
              "(20000,)"
            ]
          },
          "metadata": {
            "tags": []
          },
          "execution_count": 30
        }
      ]
    },
    {
      "metadata": {
        "id": "JrfoSRZb9xII",
        "colab_type": "code",
        "colab": {}
      },
      "cell_type": "code",
      "source": [
        "useru = dtest.user.unique()\n",
        "itemu = dtest.item.unique()"
      ],
      "execution_count": 0,
      "outputs": []
    },
    {
      "metadata": {
        "id": "Z5P9S9Tn-HKE",
        "colab_type": "code",
        "colab": {}
      },
      "cell_type": "code",
      "source": [
        "itemtest = dtest[dtest['user'] != 1].item.unique()"
      ],
      "execution_count": 0,
      "outputs": []
    },
    {
      "metadata": {
        "id": "2CB6Ftxb-wYG",
        "colab_type": "code",
        "outputId": "888011a4-8cff-4168-b0e2-b31f3cca3f4a",
        "colab": {
          "base_uri": "https://localhost:8080/",
          "height": 34
        }
      },
      "cell_type": "code",
      "source": [
        "itemtest.shape"
      ],
      "execution_count": 0,
      "outputs": [
        {
          "output_type": "execute_result",
          "data": {
            "text/plain": [
              "(1410,)"
            ]
          },
          "metadata": {
            "tags": []
          },
          "execution_count": 36
        }
      ]
    },
    {
      "metadata": {
        "id": "ddgUzBr-A8Gl",
        "colab_type": "code",
        "colab": {}
      },
      "cell_type": "code",
      "source": [
        "aaa = np.empty((5,)); aaa.fill(3)"
      ],
      "execution_count": 0,
      "outputs": []
    },
    {
      "metadata": {
        "id": "0gDepNGZBKIZ",
        "colab_type": "code",
        "outputId": "36c82236-7c13-42e8-dd9e-fb4cb843d9f2",
        "colab": {
          "base_uri": "https://localhost:8080/",
          "height": 34
        }
      },
      "cell_type": "code",
      "source": [
        "aaa.shape"
      ],
      "execution_count": 0,
      "outputs": [
        {
          "output_type": "execute_result",
          "data": {
            "text/plain": [
              "(5,)"
            ]
          },
          "metadata": {
            "tags": []
          },
          "execution_count": 38
        }
      ]
    },
    {
      "metadata": {
        "id": "HTuKbuSY9Bcc",
        "colab_type": "code",
        "outputId": "3050a862-83d3-46e2-f8ba-cab0d31fbd0c",
        "colab": {
          "base_uri": "https://localhost:8080/",
          "height": 2346
        }
      },
      "cell_type": "code",
      "source": [
        "for i in range(len(pre)):\n",
        "  if pre[i][0] == 1:\n",
        "    print()"
      ],
      "execution_count": 0,
      "outputs": [
        {
          "output_type": "stream",
          "text": [
            "\n",
            "\n",
            "\n",
            "\n",
            "\n",
            "\n",
            "\n",
            "\n",
            "\n",
            "\n",
            "\n",
            "\n",
            "\n",
            "\n",
            "\n",
            "\n",
            "\n",
            "\n",
            "\n",
            "\n",
            "\n",
            "\n",
            "\n",
            "\n",
            "\n",
            "\n",
            "\n",
            "\n",
            "\n",
            "\n",
            "\n",
            "\n",
            "\n",
            "\n",
            "\n",
            "\n",
            "\n",
            "\n",
            "\n",
            "\n",
            "\n",
            "\n",
            "\n",
            "\n",
            "\n",
            "\n",
            "\n",
            "\n",
            "\n",
            "\n",
            "\n",
            "\n",
            "\n",
            "\n",
            "\n",
            "\n",
            "\n",
            "\n",
            "\n",
            "\n",
            "\n",
            "\n",
            "\n",
            "\n",
            "\n",
            "\n",
            "\n",
            "\n",
            "\n",
            "\n",
            "\n",
            "\n",
            "\n",
            "\n",
            "\n",
            "\n",
            "\n",
            "\n",
            "\n",
            "\n",
            "\n",
            "\n",
            "\n",
            "\n",
            "\n",
            "\n",
            "\n",
            "\n",
            "\n",
            "\n",
            "\n",
            "\n",
            "\n",
            "\n",
            "\n",
            "\n",
            "\n",
            "\n",
            "\n",
            "\n",
            "\n",
            "\n",
            "\n",
            "\n",
            "\n",
            "\n",
            "\n",
            "\n",
            "\n",
            "\n",
            "\n",
            "\n",
            "\n",
            "\n",
            "\n",
            "\n",
            "\n",
            "\n",
            "\n",
            "\n",
            "\n",
            "\n",
            "\n",
            "\n",
            "\n",
            "\n",
            "\n",
            "\n",
            "\n",
            "\n",
            "\n",
            "\n",
            "\n",
            "\n",
            "\n",
            "\n",
            "\n"
          ],
          "name": "stdout"
        }
      ]
    },
    {
      "metadata": {
        "id": "vegCeZBC7YhP",
        "colab_type": "code",
        "colab": {}
      },
      "cell_type": "code",
      "source": [
        "list_result = model.predict([pre[:,0],pre[:,1]])"
      ],
      "execution_count": 0,
      "outputs": []
    },
    {
      "metadata": {
        "id": "hIpUh1rYOsNo",
        "colab_type": "code",
        "colab": {}
      },
      "cell_type": "code",
      "source": [
        "kq = np.concatenate((pre,list_result), axis=1)"
      ],
      "execution_count": 0,
      "outputs": []
    },
    {
      "metadata": {
        "id": "B5TyYE86PB3c",
        "colab_type": "code",
        "outputId": "30c205d5-3da6-4496-8775-7633c7f93c00",
        "colab": {
          "base_uri": "https://localhost:8080/",
          "height": 357
        }
      },
      "cell_type": "code",
      "source": [
        "kq[20:40]"
      ],
      "execution_count": 0,
      "outputs": [
        {
          "output_type": "execute_result",
          "data": {
            "text/plain": [
              "array([[ 1.        , 60.        ,  5.        ,  4.95898485],\n",
              "       [ 1.        , 61.        ,  4.        ,  4.69534159],\n",
              "       [ 1.        , 62.        ,  3.        ,  4.17554617],\n",
              "       [ 1.        , 64.        ,  5.        ,  3.76302147],\n",
              "       [ 1.        , 65.        ,  4.        ,  1.88723934],\n",
              "       [ 1.        , 67.        ,  3.        ,  4.61987114],\n",
              "       [ 1.        , 69.        ,  3.        ,  4.26258707],\n",
              "       [ 1.        , 70.        ,  3.        ,  4.98160601],\n",
              "       [ 1.        , 72.        ,  4.        ,  4.97385073],\n",
              "       [ 1.        , 73.        ,  3.        ,  3.58459067],\n",
              "       [ 1.        , 74.        ,  1.        ,  3.34413075],\n",
              "       [ 1.        , 76.        ,  4.        ,  3.15184093],\n",
              "       [ 1.        , 78.        ,  1.        ,  2.74834776],\n",
              "       [ 1.        , 80.        ,  4.        ,  4.85453558],\n",
              "       [ 1.        , 81.        ,  5.        ,  3.76723695],\n",
              "       [ 1.        , 82.        ,  5.        ,  4.14285135],\n",
              "       [ 1.        , 84.        ,  4.        ,  4.29111242],\n",
              "       [ 1.        , 85.        ,  3.        ,  1.75160789],\n",
              "       [ 1.        , 86.        ,  5.        ,  5.01530695],\n",
              "       [ 1.        , 90.        ,  4.        ,  4.99991369]])"
            ]
          },
          "metadata": {
            "tags": []
          },
          "execution_count": 47
        }
      ]
    },
    {
      "metadata": {
        "id": "nYU8iamxAGEg",
        "colab_type": "code",
        "colab": {}
      },
      "cell_type": "code",
      "source": [
        "sort_list = list_result[list_result[:,0].argsort()[::-1]]"
      ],
      "execution_count": 0,
      "outputs": []
    },
    {
      "metadata": {
        "id": "6ohsHwLcCiJv",
        "colab_type": "code",
        "outputId": "cf29264c-6d62-450d-aee6-068b64d0d3c4",
        "colab": {
          "base_uri": "https://localhost:8080/",
          "height": 187
        }
      },
      "cell_type": "code",
      "source": [
        "print(sort_list[:10])"
      ],
      "execution_count": 0,
      "outputs": [
        {
          "output_type": "stream",
          "text": [
            "[[5.0807433]\n",
            " [5.0270395]\n",
            " [5.0107017]\n",
            " [4.993686 ]\n",
            " [4.969646 ]\n",
            " [4.841012 ]\n",
            " [4.8196573]\n",
            " [4.7776213]\n",
            " [4.7532244]\n",
            " [4.739296 ]]\n"
          ],
          "name": "stdout"
        }
      ]
    },
    {
      "metadata": {
        "id": "CzXeRDSwAd-j",
        "colab_type": "code",
        "outputId": "8fa8dd94-3524-4907-f789-300a17406a02",
        "colab": {
          "base_uri": "https://localhost:8080/",
          "height": 136
        }
      },
      "cell_type": "code",
      "source": [
        "list_result[list_result[:,0].argsort()[::-1]]"
      ],
      "execution_count": 0,
      "outputs": [
        {
          "output_type": "execute_result",
          "data": {
            "text/plain": [
              "array([[5.0807433 ],\n",
              "       [5.0270395 ],\n",
              "       [5.0107017 ],\n",
              "       ...,\n",
              "       [0.9137943 ],\n",
              "       [0.90736496],\n",
              "       [0.0081968 ]], dtype=float32)"
            ]
          },
          "metadata": {
            "tags": []
          },
          "execution_count": 43
        }
      ]
    },
    {
      "metadata": {
        "id": "7XWZyLBOAGVe",
        "colab_type": "code",
        "colab": {}
      },
      "cell_type": "code",
      "source": [
        ""
      ],
      "execution_count": 0,
      "outputs": []
    },
    {
      "metadata": {
        "id": "AxfivK-Bwt8B",
        "colab_type": "text"
      },
      "cell_type": "markdown",
      "source": [
        "## **Social**"
      ]
    },
    {
      "metadata": {
        "id": "AUQCK_MxJTfe",
        "colab_type": "code",
        "colab": {}
      },
      "cell_type": "code",
      "source": [
        ""
      ],
      "execution_count": 0,
      "outputs": []
    },
    {
      "metadata": {
        "id": "SdRMJForw3ba",
        "colab_type": "code",
        "colab": {}
      },
      "cell_type": "code",
      "source": [
        "import pandas as pd\n",
        "import numpy as np\n",
        "import matplotlib.pyplot as plt"
      ],
      "execution_count": 0,
      "outputs": []
    },
    {
      "metadata": {
        "id": "3CXs4I7LwsyD",
        "colab_type": "code",
        "colab": {}
      },
      "cell_type": "code",
      "source": [
        "file = 'trust_data.csv'\n"
      ],
      "execution_count": 0,
      "outputs": []
    },
    {
      "metadata": {
        "id": "btUAZbsxxBN0",
        "colab_type": "code",
        "colab": {}
      },
      "cell_type": "code",
      "source": [
        "\n",
        "df1 = pd.read_csv(file, sep = ' ', names = ['user1', 'user2', 'trust'])"
      ],
      "execution_count": 0,
      "outputs": []
    },
    {
      "metadata": {
        "id": "FUDIZ6PEofNQ",
        "colab_type": "code",
        "outputId": "65c638e3-2557-4ea6-c8ad-016b3ad3d48a",
        "colab": {
          "base_uri": "https://localhost:8080/",
          "height": 204
        }
      },
      "cell_type": "code",
      "source": [
        "df1.head()"
      ],
      "execution_count": 0,
      "outputs": [
        {
          "output_type": "execute_result",
          "data": {
            "text/html": [
              "<div>\n",
              "<style scoped>\n",
              "    .dataframe tbody tr th:only-of-type {\n",
              "        vertical-align: middle;\n",
              "    }\n",
              "\n",
              "    .dataframe tbody tr th {\n",
              "        vertical-align: top;\n",
              "    }\n",
              "\n",
              "    .dataframe thead th {\n",
              "        text-align: right;\n",
              "    }\n",
              "</style>\n",
              "<table border=\"1\" class=\"dataframe\">\n",
              "  <thead>\n",
              "    <tr style=\"text-align: right;\">\n",
              "      <th></th>\n",
              "      <th>user1</th>\n",
              "      <th>user2</th>\n",
              "      <th>trust</th>\n",
              "    </tr>\n",
              "  </thead>\n",
              "  <tbody>\n",
              "    <tr>\n",
              "      <th>NaN</th>\n",
              "      <td>22605</td>\n",
              "      <td>42915</td>\n",
              "      <td>1</td>\n",
              "    </tr>\n",
              "    <tr>\n",
              "      <th>NaN</th>\n",
              "      <td>22605</td>\n",
              "      <td>5052</td>\n",
              "      <td>1</td>\n",
              "    </tr>\n",
              "    <tr>\n",
              "      <th>NaN</th>\n",
              "      <td>22605</td>\n",
              "      <td>42913</td>\n",
              "      <td>1</td>\n",
              "    </tr>\n",
              "    <tr>\n",
              "      <th>NaN</th>\n",
              "      <td>22605</td>\n",
              "      <td>18420</td>\n",
              "      <td>1</td>\n",
              "    </tr>\n",
              "    <tr>\n",
              "      <th>NaN</th>\n",
              "      <td>22605</td>\n",
              "      <td>42914</td>\n",
              "      <td>1</td>\n",
              "    </tr>\n",
              "  </tbody>\n",
              "</table>\n",
              "</div>"
            ],
            "text/plain": [
              "     user1  user2  trust\n",
              "NaN  22605  42915      1\n",
              "NaN  22605   5052      1\n",
              "NaN  22605  42913      1\n",
              "NaN  22605  18420      1\n",
              "NaN  22605  42914      1"
            ]
          },
          "metadata": {
            "tags": []
          },
          "execution_count": 46
        }
      ]
    },
    {
      "metadata": {
        "id": "7jKgivQLo0ku",
        "colab_type": "code",
        "colab": {}
      },
      "cell_type": "code",
      "source": [
        "trustdata = np.array(df1)"
      ],
      "execution_count": 0,
      "outputs": []
    },
    {
      "metadata": {
        "id": "VOH-uw4mpJzz",
        "colab_type": "code",
        "outputId": "e962b98d-34fc-46dd-fadb-5826f351d2dc",
        "colab": {
          "base_uri": "https://localhost:8080/",
          "height": 34
        }
      },
      "cell_type": "code",
      "source": [
        "trustdata.shape"
      ],
      "execution_count": 0,
      "outputs": [
        {
          "output_type": "execute_result",
          "data": {
            "text/plain": [
              "(487183, 3)"
            ]
          },
          "metadata": {
            "tags": []
          },
          "execution_count": 7
        }
      ]
    },
    {
      "metadata": {
        "id": "Js8zsWo_rFEv",
        "colab_type": "code",
        "outputId": "9ecacb51-e54b-42c1-9ef6-558ae9e64edd",
        "colab": {
          "base_uri": "https://localhost:8080/",
          "height": 34
        }
      },
      "cell_type": "code",
      "source": [
        "len(df1.user2.unique())*len(df1.user1.unique())"
      ],
      "execution_count": 0,
      "outputs": [
        {
          "output_type": "execute_result",
          "data": {
            "text/plain": [
              "1673820480"
            ]
          },
          "metadata": {
            "tags": []
          },
          "execution_count": 6
        }
      ]
    },
    {
      "metadata": {
        "id": "3FWjzS0fs47q",
        "colab_type": "code",
        "colab": {}
      },
      "cell_type": "code",
      "source": [
        ""
      ],
      "execution_count": 0,
      "outputs": []
    },
    {
      "metadata": {
        "id": "h98gUmxLpaDB",
        "colab_type": "code",
        "colab": {}
      },
      "cell_type": "code",
      "source": [
        "matrix = np.zeros([len(df1.user1.unique())+1, len(df1.user2.unique())+1], dtype=np.float32)\n",
        "for i in range(1,len(df1.user2.unique())+1):\n",
        "  u = trustdata[i][0]\n",
        "  uu = trustdata[i][1]\n",
        "  t = trustdata[i][2]\n",
        "  matrix[u][uu] = t\n",
        "  \n",
        "matrix"
      ],
      "execution_count": 0,
      "outputs": []
    },
    {
      "metadata": {
        "id": "p6kW_80zzzEp",
        "colab_type": "code",
        "colab": {}
      },
      "cell_type": "code",
      "source": [
        "print(var)"
      ],
      "execution_count": 0,
      "outputs": []
    },
    {
      "metadata": {
        "id": "LkP9FRclxFh1",
        "colab_type": "code",
        "colab": {}
      },
      "cell_type": "code",
      "source": [
        "df.head()"
      ],
      "execution_count": 0,
      "outputs": []
    },
    {
      "metadata": {
        "id": "j9Bjew_Ys5Ya",
        "colab_type": "code",
        "colab": {}
      },
      "cell_type": "code",
      "source": [
        "uid1 = trustdata[:,0]\n",
        "uid2 = trustdata[:,1]\n",
        "tr = trustdata[:,2]"
      ],
      "execution_count": 0,
      "outputs": []
    },
    {
      "metadata": {
        "id": "FSfKk_O6u5oZ",
        "colab_type": "code",
        "outputId": "1082fb74-872d-4013-bbb6-3e6df8d308ed",
        "colab": {
          "base_uri": "https://localhost:8080/",
          "height": 34
        }
      },
      "cell_type": "code",
      "source": [
        "uid1.shape"
      ],
      "execution_count": 0,
      "outputs": [
        {
          "output_type": "execute_result",
          "data": {
            "text/plain": [
              "(487183,)"
            ]
          },
          "metadata": {
            "tags": []
          },
          "execution_count": 10
        }
      ]
    },
    {
      "metadata": {
        "id": "PRMAHYHBuOUO",
        "colab_type": "code",
        "colab": {}
      },
      "cell_type": "code",
      "source": [
        "user_id_input = Input(shape=[1], name='user')\n",
        "item_id_input = Input(shape=[1], name='item')\n",
        "uid_input = Input(shape=[1], name = 'uid1')\n",
        "uid_input_2 = Input(shape=[1], name = 'uid2')\n",
        "trust_input = Input(shape=[1], name = 'trust')\n",
        "\n",
        "user_embedding = Embedding(output_dim=10, input_dim=data_dim[0] + 1,\n",
        "                                   input_length=1, name='user_embedding')(user_id_input)\n",
        "item_embedding = Embedding(output_dim=10, input_dim=data_dim[1] + 1,\n",
        "                                   input_length=1, name='item_embedding')(item_id_input)\n",
        "\n",
        "# reshape from shape: (batch_size, input_length, embedding_size)\n",
        "# to shape: (batch_size, input_length * embedding_size) which is\n",
        "# equal to shape: (batch_size, embedding_size)\n",
        "# for i in range(len(len_dim_u)):\n",
        "#     user_embedding = (Dense(len_dim_u[i], activation=\"relu\"))(user_embedding)\n",
        "#     user_vecs = (Dropout(0.1))(user_vecs)\n",
        "# for i in range(len(len_dim_i)):\n",
        "#     item_embedding = (Dense(len_dim_i[i], activation=\"relu\"))(item_embedding)\n",
        "#     item_vecs = (Dropout(0.1))(item_vecs)\n",
        "user_vecs = Flatten()(user_embedding)\n",
        "item_vecs = Flatten()(item_embedding)\n",
        "\n",
        "# uid_input = Flatten()(uid_input)\n",
        "# uid_input_2 = Flatten()(uid_input_2)\n",
        "# trust_input = Flatten()(trust_input)\n",
        "\n",
        "    \n",
        "# y = merge([user_vecs, item_vecs], mode='dot', output_shape=(1,))\n",
        "y = concatenate([user_vecs, item_vecs,uid_input, uid_input_2,trust_input])\n",
        "# y = concatenate([uid_input, uid_input_2,trust_input])(y)\n",
        "# y = (Dense(1, activation=\"relu\"))(y)\n",
        "for i in range(len(len_dim_r)):\n",
        "    y = (Dense(len_dim_r[i], activation=\"relu\"))(y)\n",
        "    y = (BatchNormalization())(y)\n",
        "#     y = (Dropout(0.2))(y)\n",
        "y = (Dense(1, activation='relu'))(y)\n",
        "\n",
        "model = Model(inputs=[user_id_input, item_id_input,uid_input, uid_input_2,trust_input], outputs=[y])\n",
        "adam = optimizers.Adam(lr=0.0001)\n",
        "model.compile(optimizer=adam, loss=rmse,metrics=['accuracy'])"
      ],
      "execution_count": 0,
      "outputs": []
    },
    {
      "metadata": {
        "id": "18lM3-Rys5cr",
        "colab_type": "code",
        "outputId": "e86d1ada-d0a3-4b47-aba5-eaf6455df65a",
        "colab": {
          "base_uri": "https://localhost:8080/",
          "height": 540
        }
      },
      "cell_type": "code",
      "source": [
        "history = model.fit([u_train,i_train,uid1,uid2,tr], r_train, batch_size=32, epochs = 15, verbose=1)"
      ],
      "execution_count": 0,
      "outputs": [
        {
          "output_type": "error",
          "ename": "ValueError",
          "evalue": "ignored",
          "traceback": [
            "\u001b[0;31m---------------------------------------------------------------------------\u001b[0m",
            "\u001b[0;31mValueError\u001b[0m                                Traceback (most recent call last)",
            "\u001b[0;32m<ipython-input-24-24bd03539af8>\u001b[0m in \u001b[0;36m<module>\u001b[0;34m()\u001b[0m\n\u001b[0;32m----> 1\u001b[0;31m \u001b[0mhistory\u001b[0m \u001b[0;34m=\u001b[0m \u001b[0mmodel\u001b[0m\u001b[0;34m.\u001b[0m\u001b[0mfit\u001b[0m\u001b[0;34m(\u001b[0m\u001b[0;34m[\u001b[0m\u001b[0mu_train\u001b[0m\u001b[0;34m,\u001b[0m\u001b[0mi_train\u001b[0m\u001b[0;34m,\u001b[0m\u001b[0muid1\u001b[0m\u001b[0;34m,\u001b[0m\u001b[0muid2\u001b[0m\u001b[0;34m,\u001b[0m\u001b[0mtr\u001b[0m\u001b[0;34m]\u001b[0m\u001b[0;34m,\u001b[0m \u001b[0mr_train\u001b[0m\u001b[0;34m,\u001b[0m \u001b[0mbatch_size\u001b[0m\u001b[0;34m=\u001b[0m\u001b[0;36m32\u001b[0m\u001b[0;34m,\u001b[0m \u001b[0mepochs\u001b[0m \u001b[0;34m=\u001b[0m \u001b[0;36m15\u001b[0m\u001b[0;34m,\u001b[0m \u001b[0mverbose\u001b[0m\u001b[0;34m=\u001b[0m\u001b[0;36m1\u001b[0m\u001b[0;34m)\u001b[0m\u001b[0;34m\u001b[0m\u001b[0;34m\u001b[0m\u001b[0m\n\u001b[0m",
            "\u001b[0;32m/usr/local/lib/python3.6/dist-packages/keras/engine/training.py\u001b[0m in \u001b[0;36mfit\u001b[0;34m(self, x, y, batch_size, epochs, verbose, callbacks, validation_split, validation_data, shuffle, class_weight, sample_weight, initial_epoch, steps_per_epoch, validation_steps, **kwargs)\u001b[0m\n\u001b[1;32m    950\u001b[0m             \u001b[0msample_weight\u001b[0m\u001b[0;34m=\u001b[0m\u001b[0msample_weight\u001b[0m\u001b[0;34m,\u001b[0m\u001b[0;34m\u001b[0m\u001b[0;34m\u001b[0m\u001b[0m\n\u001b[1;32m    951\u001b[0m             \u001b[0mclass_weight\u001b[0m\u001b[0;34m=\u001b[0m\u001b[0mclass_weight\u001b[0m\u001b[0;34m,\u001b[0m\u001b[0;34m\u001b[0m\u001b[0;34m\u001b[0m\u001b[0m\n\u001b[0;32m--> 952\u001b[0;31m             batch_size=batch_size)\n\u001b[0m\u001b[1;32m    953\u001b[0m         \u001b[0;31m# Prepare validation data.\u001b[0m\u001b[0;34m\u001b[0m\u001b[0;34m\u001b[0m\u001b[0;34m\u001b[0m\u001b[0m\n\u001b[1;32m    954\u001b[0m         \u001b[0mdo_validation\u001b[0m \u001b[0;34m=\u001b[0m \u001b[0;32mFalse\u001b[0m\u001b[0;34m\u001b[0m\u001b[0;34m\u001b[0m\u001b[0m\n",
            "\u001b[0;32m/usr/local/lib/python3.6/dist-packages/keras/engine/training.py\u001b[0m in \u001b[0;36m_standardize_user_data\u001b[0;34m(self, x, y, sample_weight, class_weight, check_array_lengths, batch_size)\u001b[0m\n\u001b[1;32m    802\u001b[0m             ]\n\u001b[1;32m    803\u001b[0m             \u001b[0;31m# Check that all arrays have the same length.\u001b[0m\u001b[0;34m\u001b[0m\u001b[0;34m\u001b[0m\u001b[0;34m\u001b[0m\u001b[0m\n\u001b[0;32m--> 804\u001b[0;31m             \u001b[0mcheck_array_length_consistency\u001b[0m\u001b[0;34m(\u001b[0m\u001b[0mx\u001b[0m\u001b[0;34m,\u001b[0m \u001b[0my\u001b[0m\u001b[0;34m,\u001b[0m \u001b[0msample_weights\u001b[0m\u001b[0;34m)\u001b[0m\u001b[0;34m\u001b[0m\u001b[0;34m\u001b[0m\u001b[0m\n\u001b[0m\u001b[1;32m    805\u001b[0m             \u001b[0;32mif\u001b[0m \u001b[0mself\u001b[0m\u001b[0;34m.\u001b[0m\u001b[0m_is_graph_network\u001b[0m\u001b[0;34m:\u001b[0m\u001b[0;34m\u001b[0m\u001b[0;34m\u001b[0m\u001b[0m\n\u001b[1;32m    806\u001b[0m                 \u001b[0;31m# Additional checks to avoid users mistakenly\u001b[0m\u001b[0;34m\u001b[0m\u001b[0;34m\u001b[0m\u001b[0;34m\u001b[0m\u001b[0m\n",
            "\u001b[0;32m/usr/local/lib/python3.6/dist-packages/keras/engine/training_utils.py\u001b[0m in \u001b[0;36mcheck_array_length_consistency\u001b[0;34m(inputs, targets, weights)\u001b[0m\n\u001b[1;32m    226\u001b[0m         raise ValueError('All input arrays (x) should have '\n\u001b[1;32m    227\u001b[0m                          \u001b[0;34m'the same number of samples. Got array shapes: '\u001b[0m \u001b[0;34m+\u001b[0m\u001b[0;34m\u001b[0m\u001b[0;34m\u001b[0m\u001b[0m\n\u001b[0;32m--> 228\u001b[0;31m                          str([x.shape for x in inputs]))\n\u001b[0m\u001b[1;32m    229\u001b[0m     \u001b[0;32mif\u001b[0m \u001b[0mlen\u001b[0m\u001b[0;34m(\u001b[0m\u001b[0mset_y\u001b[0m\u001b[0;34m)\u001b[0m \u001b[0;34m>\u001b[0m \u001b[0;36m1\u001b[0m\u001b[0;34m:\u001b[0m\u001b[0;34m\u001b[0m\u001b[0;34m\u001b[0m\u001b[0m\n\u001b[1;32m    230\u001b[0m         raise ValueError('All target arrays (y) should have '\n",
            "\u001b[0;31mValueError\u001b[0m: All input arrays (x) should have the same number of samples. Got array shapes: [(800167, 1), (800167, 1), (487183, 1), (487183, 1), (487183, 1)]"
          ]
        }
      ]
    },
    {
      "metadata": {
        "id": "gnMGAb-jJVPH",
        "colab_type": "code",
        "colab": {}
      },
      "cell_type": "code",
      "source": [
        "a = np.zeros((lenu, leni))"
      ],
      "execution_count": 0,
      "outputs": []
    },
    {
      "metadata": {
        "id": "6d03Wu63JgyY",
        "colab_type": "code",
        "colab": {}
      },
      "cell_type": "code",
      "source": [
        "b = np.array(df)"
      ],
      "execution_count": 0,
      "outputs": []
    },
    {
      "metadata": {
        "id": "1ndEMR4fKskL",
        "colab_type": "code",
        "colab": {}
      },
      "cell_type": "code",
      "source": [
        "for i in b:\n",
        "  u = i[0]\n",
        "  m = i[1]\n",
        "  r = i[2]\n",
        "  a[u-1][m-1] = r"
      ],
      "execution_count": 0,
      "outputs": []
    },
    {
      "metadata": {
        "id": "pN6DL2mpLESh",
        "colab_type": "code",
        "outputId": "47df113d-7c1d-4941-80a7-9fe1f68506f3",
        "colab": {
          "base_uri": "https://localhost:8080/",
          "height": 136
        }
      },
      "cell_type": "code",
      "source": [
        "a"
      ],
      "execution_count": 0,
      "outputs": [
        {
          "output_type": "execute_result",
          "data": {
            "text/plain": [
              "array([[5., 0., 0., ..., 0., 0., 0.],\n",
              "       [5., 0., 0., ..., 0., 0., 0.],\n",
              "       [5., 0., 0., ..., 0., 0., 0.],\n",
              "       ...,\n",
              "       [0., 0., 0., ..., 0., 0., 0.],\n",
              "       [0., 0., 0., ..., 0., 0., 0.],\n",
              "       [0., 0., 0., ..., 0., 0., 0.]])"
            ]
          },
          "metadata": {
            "tags": []
          },
          "execution_count": 54
        }
      ]
    },
    {
      "metadata": {
        "id": "hDIWZZZxLNL3",
        "colab_type": "code",
        "outputId": "36cb1768-7392-4fc6-a0ba-8abef20e5575",
        "colab": {
          "base_uri": "https://localhost:8080/",
          "height": 85
        }
      },
      "cell_type": "code",
      "source": [
        "df.loc[df['userID'].idxmax()]"
      ],
      "execution_count": 0,
      "outputs": [
        {
          "output_type": "execute_result",
          "data": {
            "text/plain": [
              "userID         17615\n",
              "movieID        16108\n",
              "movieRating        5\n",
              "Name: 72646, dtype: int64"
            ]
          },
          "metadata": {
            "tags": []
          },
          "execution_count": 34
        }
      ]
    },
    {
      "metadata": {
        "id": "zFvx8JLEMQfT",
        "colab_type": "code",
        "colab": {}
      },
      "cell_type": "code",
      "source": [
        "c = np.array(dft)"
      ],
      "execution_count": 0,
      "outputs": []
    },
    {
      "metadata": {
        "id": "11JX8dVGMTz7",
        "colab_type": "code",
        "outputId": "c45875da-70b5-4f36-b55f-fff1d8553c74",
        "colab": {
          "base_uri": "https://localhost:8080/",
          "height": 34
        }
      },
      "cell_type": "code",
      "source": [
        "for i in c:\n",
        "  if i[0] == 17615 or i[1] == 17615:\n",
        "    print(i)"
      ],
      "execution_count": 0,
      "outputs": [
        {
          "output_type": "stream",
          "text": [
            "[ 3792 17615     1]\n"
          ],
          "name": "stdout"
        }
      ]
    }
  ]
}