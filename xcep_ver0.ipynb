{
  "nbformat": 4,
  "nbformat_minor": 0,
  "metadata": {
    "colab": {
      "name": "run_model.ipynb",
      "version": "0.3.2",
      "provenance": [],
      "toc_visible": true
    },
    "kernelspec": {
      "name": "python3",
      "display_name": "Python 3"
    },
    "accelerator": "GPU"
  },
  "cells": [
    {
      "metadata": {
        "id": "MHOJF4Czy2Jn",
        "colab_type": "code",
        "outputId": "f3be5dfe-f530-4d3b-fecf-95aa427f3245",
        "colab": {
          "base_uri": "https://localhost:8080/",
          "height": 34
        }
      },
      "cell_type": "code",
      "source": [
        "!ls"
      ],
      "execution_count": 0,
      "outputs": [
        {
          "output_type": "stream",
          "text": [
            "my_model.h5  ratings.dat  sample_data  u1.test\n"
          ],
          "name": "stdout"
        }
      ]
    },
    {
      "metadata": {
        "id": "W4J85_1woFf0",
        "colab_type": "code",
        "colab": {}
      },
      "cell_type": "code",
      "source": [
        ""
      ],
      "execution_count": 0,
      "outputs": []
    },
    {
      "metadata": {
        "id": "avIhwrc1oFdD",
        "colab_type": "code",
        "colab": {}
      },
      "cell_type": "code",
      "source": [
        "import tensorflow as tf\n",
        "graph = tf.get_default_graph()"
      ],
      "execution_count": 0,
      "outputs": []
    },
    {
      "metadata": {
        "id": "IRPTZXXnoFZd",
        "colab_type": "code",
        "colab": {}
      },
      "cell_type": "code",
      "source": [
        ""
      ],
      "execution_count": 0,
      "outputs": []
    },
    {
      "metadata": {
        "id": "DgLOEeR8w1dA",
        "colab_type": "code",
        "colab": {}
      },
      "cell_type": "code",
      "source": [
        "filepath = 'ratings_data.txt'\n",
        "# a = DataSet(filepath)"
      ],
      "execution_count": 0,
      "outputs": []
    },
    {
      "metadata": {
        "id": "TTfTEZl0w1dJ",
        "colab_type": "code",
        "colab": {}
      },
      "cell_type": "code",
      "source": [
        "import numpy as np\n",
        "import pandas as pd\n"
      ],
      "execution_count": 0,
      "outputs": []
    },
    {
      "metadata": {
        "id": "Iom03pJmw1dP",
        "colab_type": "code",
        "colab": {}
      },
      "cell_type": "code",
      "source": [
        "# filename = './Data/ml-1m/u.data'\n",
        "# name = ['user', 'item', 'ratings', 'time']\n",
        "# df1 = pd.read_csv(filepath)\n",
        "# df1 = df1.drop(columns=['time'])"
      ],
      "execution_count": 0,
      "outputs": []
    },
    {
      "metadata": {
        "id": "lvKhXFLBawDv",
        "colab_type": "code",
        "colab": {}
      },
      "cell_type": "code",
      "source": [
        "trustfile = 'trusts.txt'\n",
        "ratefile = 'movie-ratings.txt'"
      ],
      "execution_count": 0,
      "outputs": []
    },
    {
      "metadata": {
        "id": "gzqR_HgDa07h",
        "colab_type": "code",
        "colab": {}
      },
      "cell_type": "code",
      "source": [
        "name = ['userID', 'movieID', 'genreID', 'reviewID', 'movieRating', 'date']\n",
        "df = pd.read_csv(ratefile, sep=',',names=name)\n",
        "df = df.drop(columns=['genreID','reviewID','date'])\n"
      ],
      "execution_count": 0,
      "outputs": []
    },
    {
      "metadata": {
        "id": "csB-ngPbJvzL",
        "colab_type": "code",
        "colab": {}
      },
      "cell_type": "code",
      "source": [
        "lenu, leni = len(df.userID.unique()), len(df.movieID.unique())"
      ],
      "execution_count": 0,
      "outputs": []
    },
    {
      "metadata": {
        "id": "5iyb-GKvbGKv",
        "colab_type": "code",
        "colab": {}
      },
      "cell_type": "code",
      "source": [
        "trustname = ['trustorID', 'trusteeID', 'trustValue']\n",
        "dft = pd.read_csv(trustfile, sep = ',', names = trustname)"
      ],
      "execution_count": 0,
      "outputs": []
    },
    {
      "metadata": {
        "id": "Rx28Z6p0a7Rf",
        "colab_type": "code",
        "outputId": "4429e17c-abfa-4ce8-dd03-cff95ac24ff7",
        "colab": {
          "base_uri": "https://localhost:8080/",
          "height": 34
        }
      },
      "cell_type": "code",
      "source": [
        "df.movieID.max()"
      ],
      "execution_count": 0,
      "outputs": [
        {
          "output_type": "execute_result",
          "data": {
            "text/plain": [
              "16121"
            ]
          },
          "metadata": {
            "tags": []
          },
          "execution_count": 50
        }
      ]
    },
    {
      "metadata": {
        "id": "s0TZ-nC5bWLn",
        "colab_type": "code",
        "outputId": "dc8190df-f899-462d-b46a-8cac035d42ea",
        "colab": {
          "base_uri": "https://localhost:8080/",
          "height": 204
        }
      },
      "cell_type": "code",
      "source": [
        "dft.head()"
      ],
      "execution_count": 0,
      "outputs": [
        {
          "output_type": "execute_result",
          "data": {
            "text/html": [
              "<div>\n",
              "<style scoped>\n",
              "    .dataframe tbody tr th:only-of-type {\n",
              "        vertical-align: middle;\n",
              "    }\n",
              "\n",
              "    .dataframe tbody tr th {\n",
              "        vertical-align: top;\n",
              "    }\n",
              "\n",
              "    .dataframe thead th {\n",
              "        text-align: right;\n",
              "    }\n",
              "</style>\n",
              "<table border=\"1\" class=\"dataframe\">\n",
              "  <thead>\n",
              "    <tr style=\"text-align: right;\">\n",
              "      <th></th>\n",
              "      <th>trustorID</th>\n",
              "      <th>trusteeID</th>\n",
              "      <th>trustValue</th>\n",
              "    </tr>\n",
              "  </thead>\n",
              "  <tbody>\n",
              "    <tr>\n",
              "      <th>0</th>\n",
              "      <td>8874</td>\n",
              "      <td>14430</td>\n",
              "      <td>1</td>\n",
              "    </tr>\n",
              "    <tr>\n",
              "      <th>1</th>\n",
              "      <td>6417</td>\n",
              "      <td>17660</td>\n",
              "      <td>1</td>\n",
              "    </tr>\n",
              "    <tr>\n",
              "      <th>2</th>\n",
              "      <td>4218</td>\n",
              "      <td>953</td>\n",
              "      <td>1</td>\n",
              "    </tr>\n",
              "    <tr>\n",
              "      <th>3</th>\n",
              "      <td>4218</td>\n",
              "      <td>3304</td>\n",
              "      <td>1</td>\n",
              "    </tr>\n",
              "    <tr>\n",
              "      <th>4</th>\n",
              "      <td>4218</td>\n",
              "      <td>3977</td>\n",
              "      <td>1</td>\n",
              "    </tr>\n",
              "  </tbody>\n",
              "</table>\n",
              "</div>"
            ],
            "text/plain": [
              "   trustorID  trusteeID  trustValue\n",
              "0       8874      14430           1\n",
              "1       6417      17660           1\n",
              "2       4218        953           1\n",
              "3       4218       3304           1\n",
              "4       4218       3977           1"
            ]
          },
          "metadata": {
            "tags": []
          },
          "execution_count": 10
        }
      ]
    },
    {
      "metadata": {
        "id": "YDl7s8K0VlQ3",
        "colab_type": "code",
        "colab": {}
      },
      "cell_type": "code",
      "source": [
        "from collections import defaultdict"
      ],
      "execution_count": 0,
      "outputs": []
    },
    {
      "metadata": {
        "id": "i93dnjnbbn42",
        "colab_type": "code",
        "colab": {}
      },
      "cell_type": "code",
      "source": [
        "trustmatrix = np.array(dft)"
      ],
      "execution_count": 0,
      "outputs": []
    },
    {
      "metadata": {
        "id": "Uu21fbhvbsO5",
        "colab_type": "code",
        "outputId": "b4f2739d-6dd7-4c4e-c5df-e1c6fe88b50b",
        "colab": {
          "base_uri": "https://localhost:8080/",
          "height": 34
        }
      },
      "cell_type": "code",
      "source": [
        "trustmatrix.shape"
      ],
      "execution_count": 0,
      "outputs": [
        {
          "output_type": "execute_result",
          "data": {
            "text/plain": [
              "(40133, 3)"
            ]
          },
          "metadata": {
            "tags": []
          },
          "execution_count": 13
        }
      ]
    },
    {
      "metadata": {
        "id": "RZGY6WazNn85",
        "colab_type": "code",
        "outputId": "c0d20bf6-0fd0-4c49-9edc-9cb60d6d47ae",
        "colab": {
          "base_uri": "https://localhost:8080/",
          "height": 34
        }
      },
      "cell_type": "code",
      "source": [
        "trustmatrix[1][0]"
      ],
      "execution_count": 0,
      "outputs": [
        {
          "output_type": "execute_result",
          "data": {
            "text/plain": [
              "6417"
            ]
          },
          "metadata": {
            "tags": []
          },
          "execution_count": 14
        }
      ]
    },
    {
      "metadata": {
        "id": "KlK6ba4Fd5g6",
        "colab_type": "code",
        "outputId": "fb6cfa77-bd21-4e41-87fe-4eaf336cc4cd",
        "colab": {
          "base_uri": "https://localhost:8080/",
          "height": 34
        }
      },
      "cell_type": "code",
      "source": [
        "len(dft.trusteeID.unique())"
      ],
      "execution_count": 0,
      "outputs": [
        {
          "output_type": "execute_result",
          "data": {
            "text/plain": [
              "4299"
            ]
          },
          "metadata": {
            "tags": []
          },
          "execution_count": 15
        }
      ]
    },
    {
      "metadata": {
        "id": "xOdkO-x8Nz03",
        "colab_type": "code",
        "colab": {}
      },
      "cell_type": "code",
      "source": [
        "trustor = defaultdict(dict)"
      ],
      "execution_count": 0,
      "outputs": []
    },
    {
      "metadata": {
        "id": "LLKv45BNNhTH",
        "colab_type": "code",
        "outputId": "f210c576-14e3-4a21-ba56-be9d26d931c3",
        "colab": {
          "base_uri": "https://localhost:8080/",
          "height": 214
        }
      },
      "cell_type": "code",
      "source": [
        "\n",
        "for i in range(len(trustmatrix)):\n",
        "  if trustmatrix[i][0] not in trustor:\n",
        "    trustor[trustmatrix[i][0]] = {}\n",
        "  trustor[trustmatrix[i][0]].append(trustmatrix[i][1])\n",
        "  "
      ],
      "execution_count": 0,
      "outputs": [
        {
          "output_type": "error",
          "ename": "AttributeError",
          "evalue": "ignored",
          "traceback": [
            "\u001b[0;31m---------------------------------------------------------------------------\u001b[0m",
            "\u001b[0;31mAttributeError\u001b[0m                            Traceback (most recent call last)",
            "\u001b[0;32m<ipython-input-28-aa1c87ecc894>\u001b[0m in \u001b[0;36m<module>\u001b[0;34m()\u001b[0m\n\u001b[1;32m      3\u001b[0m   \u001b[0;32mif\u001b[0m \u001b[0mtrustmatrix\u001b[0m\u001b[0;34m[\u001b[0m\u001b[0mi\u001b[0m\u001b[0;34m]\u001b[0m\u001b[0;34m[\u001b[0m\u001b[0;36m0\u001b[0m\u001b[0;34m]\u001b[0m \u001b[0;32mnot\u001b[0m \u001b[0;32min\u001b[0m \u001b[0mtrustor\u001b[0m\u001b[0;34m:\u001b[0m\u001b[0;34m\u001b[0m\u001b[0;34m\u001b[0m\u001b[0m\n\u001b[1;32m      4\u001b[0m     \u001b[0mtrustor\u001b[0m\u001b[0;34m[\u001b[0m\u001b[0mtrustmatrix\u001b[0m\u001b[0;34m[\u001b[0m\u001b[0mi\u001b[0m\u001b[0;34m]\u001b[0m\u001b[0;34m[\u001b[0m\u001b[0;36m0\u001b[0m\u001b[0;34m]\u001b[0m\u001b[0;34m]\u001b[0m \u001b[0;34m=\u001b[0m \u001b[0;34m{\u001b[0m\u001b[0;34m}\u001b[0m\u001b[0;34m\u001b[0m\u001b[0;34m\u001b[0m\u001b[0m\n\u001b[0;32m----> 5\u001b[0;31m   \u001b[0mtrustor\u001b[0m\u001b[0;34m[\u001b[0m\u001b[0mtrustmatrix\u001b[0m\u001b[0;34m[\u001b[0m\u001b[0mi\u001b[0m\u001b[0;34m]\u001b[0m\u001b[0;34m[\u001b[0m\u001b[0;36m0\u001b[0m\u001b[0;34m]\u001b[0m\u001b[0;34m]\u001b[0m\u001b[0;34m.\u001b[0m\u001b[0mappend\u001b[0m\u001b[0;34m(\u001b[0m\u001b[0mtrustmatrix\u001b[0m\u001b[0;34m[\u001b[0m\u001b[0mi\u001b[0m\u001b[0;34m]\u001b[0m\u001b[0;34m[\u001b[0m\u001b[0;36m1\u001b[0m\u001b[0;34m]\u001b[0m\u001b[0;34m)\u001b[0m\u001b[0;34m\u001b[0m\u001b[0;34m\u001b[0m\u001b[0m\n\u001b[0m\u001b[1;32m      6\u001b[0m \u001b[0;34m\u001b[0m\u001b[0m\n",
            "\u001b[0;31mAttributeError\u001b[0m: 'dict' object has no attribute 'append'"
          ]
        }
      ]
    },
    {
      "metadata": {
        "id": "j6fUuRhlVLiQ",
        "colab_type": "code",
        "outputId": "cc55159f-a64a-4ce8-90f7-a0c2066aed05",
        "colab": {
          "base_uri": "https://localhost:8080/",
          "height": 34
        }
      },
      "cell_type": "code",
      "source": [
        "trustor[1132]"
      ],
      "execution_count": 0,
      "outputs": [
        {
          "output_type": "execute_result",
          "data": {
            "text/plain": [
              "{3825: 1, 13287: 1, 14923: 1, 18256: 1}"
            ]
          },
          "metadata": {
            "tags": []
          },
          "execution_count": 27
        }
      ]
    },
    {
      "metadata": {
        "id": "S4-fIsFdbxL-",
        "colab_type": "code",
        "outputId": "4063d9de-cedf-427f-cd51-bb0bb025d3cb",
        "colab": {
          "base_uri": "https://localhost:8080/",
          "height": 34
        }
      },
      "cell_type": "code",
      "source": [
        ""
      ],
      "execution_count": 0,
      "outputs": [
        {
          "output_type": "execute_result",
          "data": {
            "text/plain": [
              "{3825: 1, 13287: 1, 14923: 1, 18256: 1}"
            ]
          },
          "metadata": {
            "tags": []
          },
          "execution_count": 30
        }
      ]
    },
    {
      "metadata": {
        "id": "mH2bbRm0Byh3",
        "colab_type": "code",
        "colab": {}
      },
      "cell_type": "code",
      "source": [
        "\n",
        "# frame = pd.read_csv(filepath,sep=' ', names=['user', 'item', 'rating'])\n"
      ],
      "execution_count": 0,
      "outputs": []
    },
    {
      "metadata": {
        "id": "GEQ5qdSpCL55",
        "colab_type": "code",
        "colab": {}
      },
      "cell_type": "code",
      "source": [
        "data_dim = len(frame.user.unique()), len(frame.item.unique())\n",
        "data = np.array(frame)\n",
        "train, test = train_test_split(data, test_size=0.2)"
      ],
      "execution_count": 0,
      "outputs": []
    },
    {
      "metadata": {
        "id": "9JEnBPgXbKqs",
        "colab_type": "code",
        "outputId": "a1e5b8ea-dd3b-4001-89d0-5cbc25337247",
        "colab": {
          "base_uri": "https://localhost:8080/",
          "height": 204
        }
      },
      "cell_type": "code",
      "source": [
        "df.head()"
      ],
      "execution_count": 0,
      "outputs": [
        {
          "output_type": "execute_result",
          "data": {
            "text/html": [
              "<div>\n",
              "<style scoped>\n",
              "    .dataframe tbody tr th:only-of-type {\n",
              "        vertical-align: middle;\n",
              "    }\n",
              "\n",
              "    .dataframe tbody tr th {\n",
              "        vertical-align: top;\n",
              "    }\n",
              "\n",
              "    .dataframe thead th {\n",
              "        text-align: right;\n",
              "    }\n",
              "</style>\n",
              "<table border=\"1\" class=\"dataframe\">\n",
              "  <thead>\n",
              "    <tr style=\"text-align: right;\">\n",
              "      <th></th>\n",
              "      <th>user</th>\n",
              "      <th>item</th>\n",
              "      <th>ratings</th>\n",
              "    </tr>\n",
              "  </thead>\n",
              "  <tbody>\n",
              "    <tr>\n",
              "      <th>0</th>\n",
              "      <td>1</td>\n",
              "      <td>1193</td>\n",
              "      <td>5</td>\n",
              "    </tr>\n",
              "    <tr>\n",
              "      <th>1</th>\n",
              "      <td>1</td>\n",
              "      <td>661</td>\n",
              "      <td>3</td>\n",
              "    </tr>\n",
              "    <tr>\n",
              "      <th>2</th>\n",
              "      <td>1</td>\n",
              "      <td>914</td>\n",
              "      <td>3</td>\n",
              "    </tr>\n",
              "    <tr>\n",
              "      <th>3</th>\n",
              "      <td>1</td>\n",
              "      <td>3408</td>\n",
              "      <td>4</td>\n",
              "    </tr>\n",
              "    <tr>\n",
              "      <th>4</th>\n",
              "      <td>1</td>\n",
              "      <td>2355</td>\n",
              "      <td>5</td>\n",
              "    </tr>\n",
              "  </tbody>\n",
              "</table>\n",
              "</div>"
            ],
            "text/plain": [
              "   user  item  ratings\n",
              "0     1  1193        5\n",
              "1     1   661        3\n",
              "2     1   914        3\n",
              "3     1  3408        4\n",
              "4     1  2355        5"
            ]
          },
          "metadata": {
            "tags": []
          },
          "execution_count": 4
        }
      ]
    },
    {
      "metadata": {
        "id": "JV7Jc13kw1dT",
        "colab_type": "code",
        "colab": {}
      },
      "cell_type": "code",
      "source": [
        "data_dim = len(df.userID.unique()), len(df.movieID.unique())"
      ],
      "execution_count": 0,
      "outputs": []
    },
    {
      "metadata": {
        "id": "cg93D7srw1dW",
        "colab_type": "code",
        "outputId": "3ec2987e-51aa-450e-a04b-f3b4c399d315",
        "colab": {
          "base_uri": "https://localhost:8080/",
          "height": 34
        }
      },
      "cell_type": "code",
      "source": [
        "data_dim[0]"
      ],
      "execution_count": 0,
      "outputs": [
        {
          "output_type": "execute_result",
          "data": {
            "text/plain": [
              "17615"
            ]
          },
          "metadata": {
            "tags": []
          },
          "execution_count": 57
        }
      ]
    },
    {
      "metadata": {
        "id": "vUNWh3b3SDXF",
        "colab_type": "text"
      },
      "cell_type": "markdown",
      "source": [
        "# **Deep Recommend**"
      ]
    },
    {
      "metadata": {
        "id": "I3Yudpo8SC9v",
        "colab_type": "code",
        "colab": {}
      },
      "cell_type": "code",
      "source": [
        "ff = 'ratings.dat'"
      ],
      "execution_count": 0,
      "outputs": []
    },
    {
      "metadata": {
        "id": "So62lzBR8dUb",
        "colab_type": "code",
        "colab": {}
      },
      "cell_type": "code",
      "source": [
        ""
      ],
      "execution_count": 0,
      "outputs": []
    },
    {
      "metadata": {
        "id": "OvN0bqucSA9K",
        "colab_type": "code",
        "outputId": "ce2a737f-a3ee-4037-9c01-520f7a0aeb85",
        "colab": {
          "base_uri": "https://localhost:8080/",
          "height": 71
        }
      },
      "cell_type": "code",
      "source": [
        "name = ['user', 'item', 'rating', 'time']\n",
        "dff = pd.read_csv(ff, sep='::', names = name)\n",
        "dff = dff.drop(columns = ['time'])"
      ],
      "execution_count": 30,
      "outputs": [
        {
          "output_type": "stream",
          "text": [
            "/usr/local/lib/python3.6/dist-packages/ipykernel_launcher.py:2: ParserWarning: Falling back to the 'python' engine because the 'c' engine does not support regex separators (separators > 1 char and different from '\\s+' are interpreted as regex); you can avoid this warning by specifying engine='python'.\n",
            "  \n"
          ],
          "name": "stderr"
        }
      ]
    },
    {
      "metadata": {
        "id": "zAeQMBgqSkhS",
        "colab_type": "code",
        "outputId": "c5602f4b-7a16-4583-b50d-fba60ccf5f91",
        "colab": {
          "base_uri": "https://localhost:8080/",
          "height": 204
        }
      },
      "cell_type": "code",
      "source": [
        "dff.head()"
      ],
      "execution_count": 31,
      "outputs": [
        {
          "output_type": "execute_result",
          "data": {
            "text/html": [
              "<div>\n",
              "<style scoped>\n",
              "    .dataframe tbody tr th:only-of-type {\n",
              "        vertical-align: middle;\n",
              "    }\n",
              "\n",
              "    .dataframe tbody tr th {\n",
              "        vertical-align: top;\n",
              "    }\n",
              "\n",
              "    .dataframe thead th {\n",
              "        text-align: right;\n",
              "    }\n",
              "</style>\n",
              "<table border=\"1\" class=\"dataframe\">\n",
              "  <thead>\n",
              "    <tr style=\"text-align: right;\">\n",
              "      <th></th>\n",
              "      <th>user</th>\n",
              "      <th>item</th>\n",
              "      <th>rating</th>\n",
              "    </tr>\n",
              "  </thead>\n",
              "  <tbody>\n",
              "    <tr>\n",
              "      <th>0</th>\n",
              "      <td>1</td>\n",
              "      <td>1193</td>\n",
              "      <td>5</td>\n",
              "    </tr>\n",
              "    <tr>\n",
              "      <th>1</th>\n",
              "      <td>1</td>\n",
              "      <td>661</td>\n",
              "      <td>3</td>\n",
              "    </tr>\n",
              "    <tr>\n",
              "      <th>2</th>\n",
              "      <td>1</td>\n",
              "      <td>914</td>\n",
              "      <td>3</td>\n",
              "    </tr>\n",
              "    <tr>\n",
              "      <th>3</th>\n",
              "      <td>1</td>\n",
              "      <td>3408</td>\n",
              "      <td>4</td>\n",
              "    </tr>\n",
              "    <tr>\n",
              "      <th>4</th>\n",
              "      <td>1</td>\n",
              "      <td>2355</td>\n",
              "      <td>5</td>\n",
              "    </tr>\n",
              "  </tbody>\n",
              "</table>\n",
              "</div>"
            ],
            "text/plain": [
              "   user  item  rating\n",
              "0     1  1193       5\n",
              "1     1   661       3\n",
              "2     1   914       3\n",
              "3     1  3408       4\n",
              "4     1  2355       5"
            ]
          },
          "metadata": {
            "tags": []
          },
          "execution_count": 31
        }
      ]
    },
    {
      "metadata": {
        "id": "w_6a1YsLTCtS",
        "colab_type": "code",
        "colab": {}
      },
      "cell_type": "code",
      "source": [
        "data_dim = len(dff.user.unique()), len(dff.item.unique())"
      ],
      "execution_count": 0,
      "outputs": []
    },
    {
      "metadata": {
        "id": "tHarp6e88vKG",
        "colab_type": "code",
        "colab": {
          "base_uri": "https://localhost:8080/",
          "height": 34
        },
        "outputId": "d2ce58a0-45c0-49af-c40c-3184343891e0"
      },
      "cell_type": "code",
      "source": [
        "data_dim"
      ],
      "execution_count": 33,
      "outputs": [
        {
          "output_type": "execute_result",
          "data": {
            "text/plain": [
              "(6040, 3706)"
            ]
          },
          "metadata": {
            "tags": []
          },
          "execution_count": 33
        }
      ]
    },
    {
      "metadata": {
        "id": "N5eiVP68w1da",
        "colab_type": "code",
        "colab": {}
      },
      "cell_type": "code",
      "source": [
        "from sklearn.model_selection import train_test_split"
      ],
      "execution_count": 0,
      "outputs": []
    },
    {
      "metadata": {
        "id": "V2xM2alzw1dd",
        "colab_type": "code",
        "colab": {}
      },
      "cell_type": "code",
      "source": [
        "data = np.array(dff)\n",
        "train, test = train_test_split(data, test_size=0.2)"
      ],
      "execution_count": 0,
      "outputs": []
    },
    {
      "metadata": {
        "id": "_2JGflFow1de",
        "colab_type": "code",
        "colab": {}
      },
      "cell_type": "code",
      "source": [
        "u_train = train[:,0]\n",
        "i_train = train[:,1]\n",
        "r_train = train[:,2]\n",
        "u_test = test[:,0]\n",
        "i_test = test[:,1]\n",
        "r_test = test[:,2]"
      ],
      "execution_count": 0,
      "outputs": []
    },
    {
      "metadata": {
        "id": "aDVU9T7WPDHd",
        "colab_type": "code",
        "colab": {}
      },
      "cell_type": "code",
      "source": [
        "# r_train = r_train/5\n",
        "# r_test = r_test/5"
      ],
      "execution_count": 0,
      "outputs": []
    },
    {
      "metadata": {
        "id": "qUSbF6n9w1dk",
        "colab_type": "code",
        "colab": {}
      },
      "cell_type": "code",
      "source": [
        "from keras.models import Model\n",
        "from keras.callbacks import ModelCheckpoint\n",
        "from keras.layers import dot, concatenate, Embedding, Input, Flatten, Dropout, Dense, add\n",
        "from keras.models import Sequential\n",
        "from keras import optimizers\n",
        "from keras.layers.normalization import BatchNormalization\n",
        "from keras import backend as K"
      ],
      "execution_count": 0,
      "outputs": []
    },
    {
      "metadata": {
        "id": "x6OeRT2Aw1dn",
        "colab_type": "code",
        "colab": {}
      },
      "cell_type": "code",
      "source": [
        "len_dim_i = [100,200,300]\n",
        "len_dim_u = [100,200,300]\n",
        "len_dim_r = [200,100]"
      ],
      "execution_count": 0,
      "outputs": []
    },
    {
      "metadata": {
        "id": "KeR950zy-3lt",
        "colab_type": "code",
        "colab": {}
      },
      "cell_type": "code",
      "source": [
        "def rmse(y_true, y_pred):\n",
        "        return K.sqrt(K.mean(K.square(y_pred - y_true), axis=-1)) "
      ],
      "execution_count": 0,
      "outputs": []
    },
    {
      "metadata": {
        "id": "sQeQVpkyw1dq",
        "colab_type": "code",
        "colab": {}
      },
      "cell_type": "code",
      "source": [
        "user_id_input = Input(shape=[1], name='user')\n",
        "item_id_input = Input(shape=[1], name='item')\n",
        "\n",
        "user_embedding = Embedding(output_dim=10, input_dim=data_dim[0] + 1,\n",
        "                                   input_length=1, name='user_embedding')(user_id_input)\n",
        "item_embedding = Embedding(output_dim=10, input_dim=data_dim[1] + 1,\n",
        "                                   input_length=1, name='item_embedding')(item_id_input)\n",
        "#user-item init\n",
        "# user_layer = (Dense(100, activation=\"relu\"))(user_id_input)\n",
        "# item_layer = (Dense(100, activation=\"relu\"))(item_id_input)\n",
        "sub_layer_user = add([user_embedding, user_id_input])\n",
        "sub_layer_item = add([item_embedding, item_id_input])\n",
        "\n",
        "\n",
        "# user_embedding = (Dense(100, activation=\"relu\"))(user_embedding)\n",
        "# item_embedding = (Dense(100, activation=\"relu\"))(item_embedding)\n",
        "# sub_layer_user = (Dense(100, activation=\"relu\"))(sub_layer_user)\n",
        "# sub_layer_item = (Dense(100, activation=\"relu\"))(sub_layer_item)\n",
        "\n",
        "# for i in range(len(len_dim_u)):\n",
        "#     user_embedding = (Dense(len_dim_u[i], activation=\"relu\"))(user_embedding)\n",
        "#     user_embedding = (Dropout(0.1))(user_embedding)\n",
        "# for i in range(len(len_dim_i)):\n",
        "#     item_embedding = (Dense(len_dim_i[i], activation=\"relu\"))(item_embedding)\n",
        "#     item_embedding = (Dropout(0.1))(item_embedding)\n",
        "\n",
        "# sub_layer_user = add([user_embedding, user_layer])\n",
        "# sub_layer_item = add([item_embedding, item_layer])\n",
        "#1st block\n",
        "user_embedding = (Dense(100, activation=\"relu\"))(user_embedding)\n",
        "item_embedding = (Dense(100, activation=\"relu\"))(item_embedding)\n",
        "\n",
        "sub_layer_user = (Dense(100, activation=\"relu\"))(sub_layer_user)\n",
        "sub_layer_item = (Dense(100, activation=\"relu\"))(sub_layer_item)\n",
        "#xcep\n",
        "sub_layer_user = add([user_embedding, sub_layer_user])\n",
        "sub_layer_item = add([item_embedding, sub_layer_item])\n",
        "\n",
        "#2nd block\n",
        "user_embedding = (Dense(200, activation=\"relu\"))(user_embedding)\n",
        "item_embedding = (Dense(200, activation=\"relu\"))(item_embedding)\n",
        "\n",
        "sub_layer_user = (Dense(200, activation=\"relu\"))(sub_layer_user)\n",
        "sub_layer_item = (Dense(200, activation=\"relu\"))(sub_layer_item)\n",
        "\n",
        "user_embedding = add([user_embedding, sub_layer_user])\n",
        "item_embedding = add([item_embedding, sub_layer_item])\n",
        "\n",
        "user_vecs = Flatten()(user_embedding)\n",
        "item_vecs = Flatten()(item_embedding)\n",
        "\n",
        "    \n",
        "# y = merge([user_vecs, item_vecs], mode='dot', output_shape=(1,))\n",
        "y = concatenate([user_vecs, item_vecs])\n",
        "# # y = (Dense(1, activation=\"relu\"))(y)\n",
        "for i in range(len(len_dim_r)):\n",
        "    y = (Dense(len_dim_r[i], activation=\"relu\"))(y)\n",
        "    y = (BatchNormalization())(y)\n",
        "    y = (Dropout(0.2))(y)\n",
        "# y = Dense(1, activation=\"relu\")(y)\n",
        "# M = Sequential()\n",
        "# M.add(y)\n",
        "# y = (Dropout(0.25))(y)\n",
        "# y = (Dense(64))(y)\n",
        "# y = (Dropout(0.2))(y)\n",
        "# y = (Dense(32))(y)\n",
        "# y = (Dropout(0.25))(y)\n",
        "# y = (Dense(16))(y)\n",
        "# y = (Dropout(0.1))(y)\n",
        "# y = (Dense(4))(y)\n",
        "# y = (Dropout(0.2))(y)\n",
        "y = (Dense(1, activation='relu'))(y)\n",
        "\n",
        "model = Model(inputs=[user_id_input, item_id_input], outputs=[y])\n",
        "adam = optimizers.Adam(lr=0.001)\n",
        "model.compile(optimizer=adam, loss='mae', metrics=['mse'])"
      ],
      "execution_count": 0,
      "outputs": []
    },
    {
      "metadata": {
        "id": "ZHl7HAHIJSMp",
        "colab_type": "code",
        "colab": {}
      },
      "cell_type": "code",
      "source": [
        ""
      ],
      "execution_count": 0,
      "outputs": []
    },
    {
      "metadata": {
        "id": "CIEH7wMqhH7-",
        "colab_type": "text"
      },
      "cell_type": "markdown",
      "source": [
        ""
      ]
    },
    {
      "metadata": {
        "id": "6sJSbOMKw1ds",
        "colab_type": "code",
        "outputId": "8ceee68f-0fb6-4fa0-df74-06b3b1411083",
        "colab": {
          "base_uri": "https://localhost:8080/",
          "height": 292
        }
      },
      "cell_type": "code",
      "source": [
        "history = model.fit([u_train,i_train], r_train,validation_data=([u_test,i_test], r_test), batch_size=32, epochs = 7, verbose=1, shuffle=True)"
      ],
      "execution_count": 52,
      "outputs": [
        {
          "output_type": "stream",
          "text": [
            "Train on 800167 samples, validate on 200042 samples\n",
            "Epoch 1/7\n",
            "800167/800167 [==============================] - 369s 461us/step - loss: 0.9208 - mean_squared_error: 1.3966 - val_loss: 0.8875 - val_mean_squared_error: 1.3476\n",
            "Epoch 2/7\n",
            "800167/800167 [==============================] - 368s 459us/step - loss: 0.8627 - mean_squared_error: 1.2671 - val_loss: 0.8829 - val_mean_squared_error: 1.1257\n",
            "Epoch 3/7\n",
            "800167/800167 [==============================] - 368s 460us/step - loss: 0.7904 - mean_squared_error: 1.0440 - val_loss: 0.8351 - val_mean_squared_error: 1.0566\n",
            "Epoch 4/7\n",
            "800167/800167 [==============================] - 367s 458us/step - loss: 0.7868 - mean_squared_error: 1.0432 - val_loss: 1.0906 - val_mean_squared_error: 2294.0825\n",
            "Epoch 5/7\n",
            "800167/800167 [==============================] - 367s 459us/step - loss: 0.8516 - mean_squared_error: 1.3190 - val_loss: 0.8713 - val_mean_squared_error: 1.4246\n",
            "Epoch 6/7\n",
            "800167/800167 [==============================] - 368s 459us/step - loss: 0.8709 - mean_squared_error: 1.4223 - val_loss: 0.8713 - val_mean_squared_error: 1.4246\n",
            "Epoch 7/7\n",
            "800167/800167 [==============================] - 368s 460us/step - loss: 0.8709 - mean_squared_error: 1.4223 - val_loss: 0.8713 - val_mean_squared_error: 1.4246\n"
          ],
          "name": "stdout"
        }
      ]
    },
    {
      "metadata": {
        "id": "ASRFXuC1w1dx",
        "colab_type": "code",
        "outputId": "51231bd0-eb4c-43cd-f579-585678f2dfed",
        "colab": {
          "base_uri": "https://localhost:8080/",
          "height": 1207
        }
      },
      "cell_type": "code",
      "source": [
        "model.summary()"
      ],
      "execution_count": 53,
      "outputs": [
        {
          "output_type": "stream",
          "text": [
            "__________________________________________________________________________________________________\n",
            "Layer (type)                    Output Shape         Param #     Connected to                     \n",
            "==================================================================================================\n",
            "user (InputLayer)               (None, 1)            0                                            \n",
            "__________________________________________________________________________________________________\n",
            "item (InputLayer)               (None, 1)            0                                            \n",
            "__________________________________________________________________________________________________\n",
            "user_embedding (Embedding)      (None, 1, 10)        60410       user[0][0]                       \n",
            "__________________________________________________________________________________________________\n",
            "item_embedding (Embedding)      (None, 1, 10)        37070       item[0][0]                       \n",
            "__________________________________________________________________________________________________\n",
            "add_75 (Add)                    (None, 1, 10)        0           user_embedding[0][0]             \n",
            "                                                                 user[0][0]                       \n",
            "__________________________________________________________________________________________________\n",
            "add_76 (Add)                    (None, 1, 10)        0           item_embedding[0][0]             \n",
            "                                                                 item[0][0]                       \n",
            "__________________________________________________________________________________________________\n",
            "dense_132 (Dense)               (None, 1, 100)       1100        user_embedding[0][0]             \n",
            "__________________________________________________________________________________________________\n",
            "dense_134 (Dense)               (None, 1, 100)       1100        add_75[0][0]                     \n",
            "__________________________________________________________________________________________________\n",
            "dense_133 (Dense)               (None, 1, 100)       1100        item_embedding[0][0]             \n",
            "__________________________________________________________________________________________________\n",
            "dense_135 (Dense)               (None, 1, 100)       1100        add_76[0][0]                     \n",
            "__________________________________________________________________________________________________\n",
            "add_77 (Add)                    (None, 1, 100)       0           dense_132[0][0]                  \n",
            "                                                                 dense_134[0][0]                  \n",
            "__________________________________________________________________________________________________\n",
            "add_78 (Add)                    (None, 1, 100)       0           dense_133[0][0]                  \n",
            "                                                                 dense_135[0][0]                  \n",
            "__________________________________________________________________________________________________\n",
            "dense_136 (Dense)               (None, 1, 200)       20200       dense_132[0][0]                  \n",
            "__________________________________________________________________________________________________\n",
            "dense_138 (Dense)               (None, 1, 200)       20200       add_77[0][0]                     \n",
            "__________________________________________________________________________________________________\n",
            "dense_137 (Dense)               (None, 1, 200)       20200       dense_133[0][0]                  \n",
            "__________________________________________________________________________________________________\n",
            "dense_139 (Dense)               (None, 1, 200)       20200       add_78[0][0]                     \n",
            "__________________________________________________________________________________________________\n",
            "add_79 (Add)                    (None, 1, 200)       0           dense_136[0][0]                  \n",
            "                                                                 dense_138[0][0]                  \n",
            "__________________________________________________________________________________________________\n",
            "add_80 (Add)                    (None, 1, 200)       0           dense_137[0][0]                  \n",
            "                                                                 dense_139[0][0]                  \n",
            "__________________________________________________________________________________________________\n",
            "flatten_31 (Flatten)            (None, 200)          0           add_79[0][0]                     \n",
            "__________________________________________________________________________________________________\n",
            "flatten_32 (Flatten)            (None, 200)          0           add_80[0][0]                     \n",
            "__________________________________________________________________________________________________\n",
            "concatenate_16 (Concatenate)    (None, 400)          0           flatten_31[0][0]                 \n",
            "                                                                 flatten_32[0][0]                 \n",
            "__________________________________________________________________________________________________\n",
            "dense_140 (Dense)               (None, 200)          80200       concatenate_16[0][0]             \n",
            "__________________________________________________________________________________________________\n",
            "batch_normalization_21 (BatchNo (None, 200)          800         dense_140[0][0]                  \n",
            "__________________________________________________________________________________________________\n",
            "dropout_21 (Dropout)            (None, 200)          0           batch_normalization_21[0][0]     \n",
            "__________________________________________________________________________________________________\n",
            "dense_141 (Dense)               (None, 100)          20100       dropout_21[0][0]                 \n",
            "__________________________________________________________________________________________________\n",
            "batch_normalization_22 (BatchNo (None, 100)          400         dense_141[0][0]                  \n",
            "__________________________________________________________________________________________________\n",
            "dropout_22 (Dropout)            (None, 100)          0           batch_normalization_22[0][0]     \n",
            "__________________________________________________________________________________________________\n",
            "dense_142 (Dense)               (None, 1)            101         dropout_22[0][0]                 \n",
            "==================================================================================================\n",
            "Total params: 284,281\n",
            "Trainable params: 283,681\n",
            "Non-trainable params: 600\n",
            "__________________________________________________________________________________________________\n"
          ],
          "name": "stdout"
        }
      ]
    },
    {
      "metadata": {
        "id": "s7ZRKXj-cNVD",
        "colab_type": "code",
        "colab": {}
      },
      "cell_type": "code",
      "source": [
        "from IPython.display import SVG\n",
        "from keras.utils.vis_utils import model_to_dot"
      ],
      "execution_count": 0,
      "outputs": []
    },
    {
      "metadata": {
        "id": "nM-eF8ylcRc5",
        "colab_type": "code",
        "outputId": "d3e81fbf-7ec4-43f7-cd62-b81f5d7ee6c2",
        "colab": {
          "base_uri": "https://localhost:8080/",
          "height": 1774
        }
      },
      "cell_type": "code",
      "source": [
        "SVG(model_to_dot(model,  show_shapes=True, show_layer_names=True, rankdir='HB').create(prog='dot', format='svg'))"
      ],
      "execution_count": 54,
      "outputs": [
        {
          "output_type": "execute_result",
          "data": {
            "text/plain": [
              "<IPython.core.display.SVG object>"
            ],
            "image/svg+xml": "<svg height=\"1300pt\" viewBox=\"0.00 0.00 1302.00 1300.00\" width=\"1302pt\" xmlns=\"http://www.w3.org/2000/svg\" xmlns:xlink=\"http://www.w3.org/1999/xlink\">\n<g class=\"graph\" id=\"graph0\" transform=\"scale(1 1) rotate(0) translate(4 1296)\">\n<title>G</title>\n<polygon fill=\"#ffffff\" points=\"-4,4 -4,-1296 1298,-1296 1298,4 -4,4\" stroke=\"transparent\"/>\n<!-- 140403223958920 -->\n<g class=\"node\" id=\"node1\">\n<title>140403223958920</title>\n<polygon fill=\"none\" points=\"206.5,-1245.5 206.5,-1291.5 447.5,-1291.5 447.5,-1245.5 206.5,-1245.5\" stroke=\"#000000\"/>\n<text fill=\"#000000\" font-family=\"Times,serif\" font-size=\"14.00\" text-anchor=\"middle\" x=\"262\" y=\"-1264.8\">user: InputLayer</text>\n<polyline fill=\"none\" points=\"317.5,-1245.5 317.5,-1291.5 \" stroke=\"#000000\"/>\n<text fill=\"#000000\" font-family=\"Times,serif\" font-size=\"14.00\" text-anchor=\"middle\" x=\"346.5\" y=\"-1276.3\">input:</text>\n<polyline fill=\"none\" points=\"317.5,-1268.5 375.5,-1268.5 \" stroke=\"#000000\"/>\n<text fill=\"#000000\" font-family=\"Times,serif\" font-size=\"14.00\" text-anchor=\"middle\" x=\"346.5\" y=\"-1253.3\">output:</text>\n<polyline fill=\"none\" points=\"375.5,-1245.5 375.5,-1291.5 \" stroke=\"#000000\"/>\n<text fill=\"#000000\" font-family=\"Times,serif\" font-size=\"14.00\" text-anchor=\"middle\" x=\"411.5\" y=\"-1276.3\">(None, 1)</text>\n<polyline fill=\"none\" points=\"375.5,-1268.5 447.5,-1268.5 \" stroke=\"#000000\"/>\n<text fill=\"#000000\" font-family=\"Times,serif\" font-size=\"14.00\" text-anchor=\"middle\" x=\"411.5\" y=\"-1253.3\">(None, 1)</text>\n</g>\n<!-- 140403223959200 -->\n<g class=\"node\" id=\"node3\">\n<title>140403223959200</title>\n<polygon fill=\"none\" points=\"256,-1162.5 256,-1208.5 596,-1208.5 596,-1162.5 256,-1162.5\" stroke=\"#000000\"/>\n<text fill=\"#000000\" font-family=\"Times,serif\" font-size=\"14.00\" text-anchor=\"middle\" x=\"349.5\" y=\"-1181.8\">user_embedding: Embedding</text>\n<polyline fill=\"none\" points=\"443,-1162.5 443,-1208.5 \" stroke=\"#000000\"/>\n<text fill=\"#000000\" font-family=\"Times,serif\" font-size=\"14.00\" text-anchor=\"middle\" x=\"472\" y=\"-1193.3\">input:</text>\n<polyline fill=\"none\" points=\"443,-1185.5 501,-1185.5 \" stroke=\"#000000\"/>\n<text fill=\"#000000\" font-family=\"Times,serif\" font-size=\"14.00\" text-anchor=\"middle\" x=\"472\" y=\"-1170.3\">output:</text>\n<polyline fill=\"none\" points=\"501,-1162.5 501,-1208.5 \" stroke=\"#000000\"/>\n<text fill=\"#000000\" font-family=\"Times,serif\" font-size=\"14.00\" text-anchor=\"middle\" x=\"548.5\" y=\"-1193.3\">(None, 1)</text>\n<polyline fill=\"none\" points=\"501,-1185.5 596,-1185.5 \" stroke=\"#000000\"/>\n<text fill=\"#000000\" font-family=\"Times,serif\" font-size=\"14.00\" text-anchor=\"middle\" x=\"548.5\" y=\"-1170.3\">(None, 1, 10)</text>\n</g>\n<!-- 140403223958920&#45;&gt;140403223959200 -->\n<g class=\"edge\" id=\"edge1\">\n<title>140403223958920-&gt;140403223959200</title>\n<path d=\"M354.577,-1245.3799C365.6407,-1236.1043 378.5354,-1225.2936 390.2999,-1215.4304\" fill=\"none\" stroke=\"#000000\"/>\n<polygon fill=\"#000000\" points=\"392.813,-1217.8908 398.2275,-1208.784 388.3157,-1212.5266 392.813,-1217.8908\" stroke=\"#000000\"/>\n</g>\n<!-- 140403223959088 -->\n<g class=\"node\" id=\"node5\">\n<title>140403223959088</title>\n<polygon fill=\"none\" points=\"69.5,-1079.5 69.5,-1125.5 386.5,-1125.5 386.5,-1079.5 69.5,-1079.5\" stroke=\"#000000\"/>\n<text fill=\"#000000\" font-family=\"Times,serif\" font-size=\"14.00\" text-anchor=\"middle\" x=\"115.5\" y=\"-1098.8\">add_75: Add</text>\n<polyline fill=\"none\" points=\"161.5,-1079.5 161.5,-1125.5 \" stroke=\"#000000\"/>\n<text fill=\"#000000\" font-family=\"Times,serif\" font-size=\"14.00\" text-anchor=\"middle\" x=\"190.5\" y=\"-1110.3\">input:</text>\n<polyline fill=\"none\" points=\"161.5,-1102.5 219.5,-1102.5 \" stroke=\"#000000\"/>\n<text fill=\"#000000\" font-family=\"Times,serif\" font-size=\"14.00\" text-anchor=\"middle\" x=\"190.5\" y=\"-1087.3\">output:</text>\n<polyline fill=\"none\" points=\"219.5,-1079.5 219.5,-1125.5 \" stroke=\"#000000\"/>\n<text fill=\"#000000\" font-family=\"Times,serif\" font-size=\"14.00\" text-anchor=\"middle\" x=\"303\" y=\"-1110.3\">[(None, 1, 10), (None, 1)]</text>\n<polyline fill=\"none\" points=\"219.5,-1102.5 386.5,-1102.5 \" stroke=\"#000000\"/>\n<text fill=\"#000000\" font-family=\"Times,serif\" font-size=\"14.00\" text-anchor=\"middle\" x=\"303\" y=\"-1087.3\">(None, 1, 10)</text>\n</g>\n<!-- 140403223958920&#45;&gt;140403223959088 -->\n<g class=\"edge\" id=\"edge4\">\n<title>140403223958920-&gt;140403223959088</title>\n<path d=\"M283.8098,-1245.2567C270.0205,-1235.7738 256.0141,-1223.5736 247,-1209 233.5004,-1187.1743 228.9987,-1158.3067 227.7356,-1136.1324\" fill=\"none\" stroke=\"#000000\"/>\n<polygon fill=\"#000000\" points=\"231.2222,-1135.7067 227.3504,-1125.8447 224.2271,-1135.9687 231.2222,-1135.7067\" stroke=\"#000000\"/>\n</g>\n<!-- 140403223959032 -->\n<g class=\"node\" id=\"node2\">\n<title>140403223959032</title>\n<polygon fill=\"none\" points=\"880.5,-1245.5 880.5,-1291.5 1123.5,-1291.5 1123.5,-1245.5 880.5,-1245.5\" stroke=\"#000000\"/>\n<text fill=\"#000000\" font-family=\"Times,serif\" font-size=\"14.00\" text-anchor=\"middle\" x=\"937\" y=\"-1264.8\">item: InputLayer</text>\n<polyline fill=\"none\" points=\"993.5,-1245.5 993.5,-1291.5 \" stroke=\"#000000\"/>\n<text fill=\"#000000\" font-family=\"Times,serif\" font-size=\"14.00\" text-anchor=\"middle\" x=\"1022.5\" y=\"-1276.3\">input:</text>\n<polyline fill=\"none\" points=\"993.5,-1268.5 1051.5,-1268.5 \" stroke=\"#000000\"/>\n<text fill=\"#000000\" font-family=\"Times,serif\" font-size=\"14.00\" text-anchor=\"middle\" x=\"1022.5\" y=\"-1253.3\">output:</text>\n<polyline fill=\"none\" points=\"1051.5,-1245.5 1051.5,-1291.5 \" stroke=\"#000000\"/>\n<text fill=\"#000000\" font-family=\"Times,serif\" font-size=\"14.00\" text-anchor=\"middle\" x=\"1087.5\" y=\"-1276.3\">(None, 1)</text>\n<polyline fill=\"none\" points=\"1051.5,-1268.5 1123.5,-1268.5 \" stroke=\"#000000\"/>\n<text fill=\"#000000\" font-family=\"Times,serif\" font-size=\"14.00\" text-anchor=\"middle\" x=\"1087.5\" y=\"-1253.3\">(None, 1)</text>\n</g>\n<!-- 140403239767848 -->\n<g class=\"node\" id=\"node4\">\n<title>140403239767848</title>\n<polygon fill=\"none\" points=\"931.5,-1162.5 931.5,-1208.5 1272.5,-1208.5 1272.5,-1162.5 931.5,-1162.5\" stroke=\"#000000\"/>\n<text fill=\"#000000\" font-family=\"Times,serif\" font-size=\"14.00\" text-anchor=\"middle\" x=\"1025.5\" y=\"-1181.8\">item_embedding: Embedding</text>\n<polyline fill=\"none\" points=\"1119.5,-1162.5 1119.5,-1208.5 \" stroke=\"#000000\"/>\n<text fill=\"#000000\" font-family=\"Times,serif\" font-size=\"14.00\" text-anchor=\"middle\" x=\"1148.5\" y=\"-1193.3\">input:</text>\n<polyline fill=\"none\" points=\"1119.5,-1185.5 1177.5,-1185.5 \" stroke=\"#000000\"/>\n<text fill=\"#000000\" font-family=\"Times,serif\" font-size=\"14.00\" text-anchor=\"middle\" x=\"1148.5\" y=\"-1170.3\">output:</text>\n<polyline fill=\"none\" points=\"1177.5,-1162.5 1177.5,-1208.5 \" stroke=\"#000000\"/>\n<text fill=\"#000000\" font-family=\"Times,serif\" font-size=\"14.00\" text-anchor=\"middle\" x=\"1225\" y=\"-1193.3\">(None, 1)</text>\n<polyline fill=\"none\" points=\"1177.5,-1185.5 1272.5,-1185.5 \" stroke=\"#000000\"/>\n<text fill=\"#000000\" font-family=\"Times,serif\" font-size=\"14.00\" text-anchor=\"middle\" x=\"1225\" y=\"-1170.3\">(None, 1, 10)</text>\n</g>\n<!-- 140403223959032&#45;&gt;140403239767848 -->\n<g class=\"edge\" id=\"edge2\">\n<title>140403223959032-&gt;140403239767848</title>\n<path d=\"M1029.8556,-1245.3799C1041.031,-1236.1043 1054.056,-1225.2936 1065.9392,-1215.4304\" fill=\"none\" stroke=\"#000000\"/>\n<polygon fill=\"#000000\" points=\"1068.4875,-1217.8639 1073.947,-1208.784 1064.0168,-1212.4775 1068.4875,-1217.8639\" stroke=\"#000000\"/>\n</g>\n<!-- 140403223959368 -->\n<g class=\"node\" id=\"node6\">\n<title>140403223959368</title>\n<polygon fill=\"none\" points=\"744.5,-1079.5 744.5,-1125.5 1061.5,-1125.5 1061.5,-1079.5 744.5,-1079.5\" stroke=\"#000000\"/>\n<text fill=\"#000000\" font-family=\"Times,serif\" font-size=\"14.00\" text-anchor=\"middle\" x=\"790.5\" y=\"-1098.8\">add_76: Add</text>\n<polyline fill=\"none\" points=\"836.5,-1079.5 836.5,-1125.5 \" stroke=\"#000000\"/>\n<text fill=\"#000000\" font-family=\"Times,serif\" font-size=\"14.00\" text-anchor=\"middle\" x=\"865.5\" y=\"-1110.3\">input:</text>\n<polyline fill=\"none\" points=\"836.5,-1102.5 894.5,-1102.5 \" stroke=\"#000000\"/>\n<text fill=\"#000000\" font-family=\"Times,serif\" font-size=\"14.00\" text-anchor=\"middle\" x=\"865.5\" y=\"-1087.3\">output:</text>\n<polyline fill=\"none\" points=\"894.5,-1079.5 894.5,-1125.5 \" stroke=\"#000000\"/>\n<text fill=\"#000000\" font-family=\"Times,serif\" font-size=\"14.00\" text-anchor=\"middle\" x=\"978\" y=\"-1110.3\">[(None, 1, 10), (None, 1)]</text>\n<polyline fill=\"none\" points=\"894.5,-1102.5 1061.5,-1102.5 \" stroke=\"#000000\"/>\n<text fill=\"#000000\" font-family=\"Times,serif\" font-size=\"14.00\" text-anchor=\"middle\" x=\"978\" y=\"-1087.3\">(None, 1, 10)</text>\n</g>\n<!-- 140403223959032&#45;&gt;140403223959368 -->\n<g class=\"edge\" id=\"edge6\">\n<title>140403223959032-&gt;140403223959368</title>\n<path d=\"M959.8324,-1245.3962C946.0894,-1235.8591 932.0543,-1223.5888 923,-1209 909.4446,-1187.1587 904.6618,-1158.2921 903.1486,-1136.1222\" fill=\"none\" stroke=\"#000000\"/>\n<polygon fill=\"#000000\" points=\"906.63,-1135.6534 902.6444,-1125.8368 899.6384,-1135.9963 906.63,-1135.6534\" stroke=\"#000000\"/>\n</g>\n<!-- 140403223959200&#45;&gt;140403223959088 -->\n<g class=\"edge\" id=\"edge3\">\n<title>140403223959200-&gt;140403223959088</title>\n<path d=\"M371.1089,-1162.4901C346.7531,-1152.2803 317.9201,-1140.1938 292.5396,-1129.5545\" fill=\"none\" stroke=\"#000000\"/>\n<polygon fill=\"#000000\" points=\"293.5735,-1126.1928 282.9979,-1125.5547 290.8672,-1132.6486 293.5735,-1126.1928\" stroke=\"#000000\"/>\n</g>\n<!-- 140403223959648 -->\n<g class=\"node\" id=\"node7\">\n<title>140403223959648</title>\n<polygon fill=\"none\" points=\"336,-996.5 336,-1042.5 618,-1042.5 618,-996.5 336,-996.5\" stroke=\"#000000\"/>\n<text fill=\"#000000\" font-family=\"Times,serif\" font-size=\"14.00\" text-anchor=\"middle\" x=\"397\" y=\"-1015.8\">dense_132: Dense</text>\n<polyline fill=\"none\" points=\"458,-996.5 458,-1042.5 \" stroke=\"#000000\"/>\n<text fill=\"#000000\" font-family=\"Times,serif\" font-size=\"14.00\" text-anchor=\"middle\" x=\"487\" y=\"-1027.3\">input:</text>\n<polyline fill=\"none\" points=\"458,-1019.5 516,-1019.5 \" stroke=\"#000000\"/>\n<text fill=\"#000000\" font-family=\"Times,serif\" font-size=\"14.00\" text-anchor=\"middle\" x=\"487\" y=\"-1004.3\">output:</text>\n<polyline fill=\"none\" points=\"516,-996.5 516,-1042.5 \" stroke=\"#000000\"/>\n<text fill=\"#000000\" font-family=\"Times,serif\" font-size=\"14.00\" text-anchor=\"middle\" x=\"567\" y=\"-1027.3\">(None, 1, 10)</text>\n<polyline fill=\"none\" points=\"516,-1019.5 618,-1019.5 \" stroke=\"#000000\"/>\n<text fill=\"#000000\" font-family=\"Times,serif\" font-size=\"14.00\" text-anchor=\"middle\" x=\"567\" y=\"-1004.3\">(None, 1, 100)</text>\n</g>\n<!-- 140403223959200&#45;&gt;140403223959648 -->\n<g class=\"edge\" id=\"edge7\">\n<title>140403223959200-&gt;140403223959648</title>\n<path d=\"M433.0913,-1162.4184C441.8588,-1133.8812 456.843,-1085.1091 466.833,-1052.5924\" fill=\"none\" stroke=\"#000000\"/>\n<polygon fill=\"#000000\" points=\"470.2957,-1053.2395 469.8869,-1042.6525 463.6043,-1051.1837 470.2957,-1053.2395\" stroke=\"#000000\"/>\n</g>\n<!-- 140403239767848&#45;&gt;140403223959368 -->\n<g class=\"edge\" id=\"edge5\">\n<title>140403239767848-&gt;140403223959368</title>\n<path d=\"M1046.8317,-1162.4901C1022.245,-1152.2353 993.1188,-1140.0872 967.5287,-1129.414\" fill=\"none\" stroke=\"#000000\"/>\n<polygon fill=\"#000000\" points=\"968.8524,-1126.1739 958.2756,-1125.5547 966.1577,-1132.6345 968.8524,-1126.1739\" stroke=\"#000000\"/>\n</g>\n<!-- 140403223960264 -->\n<g class=\"node\" id=\"node9\">\n<title>140403223960264</title>\n<polygon fill=\"none\" points=\"1012,-996.5 1012,-1042.5 1294,-1042.5 1294,-996.5 1012,-996.5\" stroke=\"#000000\"/>\n<text fill=\"#000000\" font-family=\"Times,serif\" font-size=\"14.00\" text-anchor=\"middle\" x=\"1073\" y=\"-1015.8\">dense_133: Dense</text>\n<polyline fill=\"none\" points=\"1134,-996.5 1134,-1042.5 \" stroke=\"#000000\"/>\n<text fill=\"#000000\" font-family=\"Times,serif\" font-size=\"14.00\" text-anchor=\"middle\" x=\"1163\" y=\"-1027.3\">input:</text>\n<polyline fill=\"none\" points=\"1134,-1019.5 1192,-1019.5 \" stroke=\"#000000\"/>\n<text fill=\"#000000\" font-family=\"Times,serif\" font-size=\"14.00\" text-anchor=\"middle\" x=\"1163\" y=\"-1004.3\">output:</text>\n<polyline fill=\"none\" points=\"1192,-996.5 1192,-1042.5 \" stroke=\"#000000\"/>\n<text fill=\"#000000\" font-family=\"Times,serif\" font-size=\"14.00\" text-anchor=\"middle\" x=\"1243\" y=\"-1027.3\">(None, 1, 10)</text>\n<polyline fill=\"none\" points=\"1192,-1019.5 1294,-1019.5 \" stroke=\"#000000\"/>\n<text fill=\"#000000\" font-family=\"Times,serif\" font-size=\"14.00\" text-anchor=\"middle\" x=\"1243\" y=\"-1004.3\">(None, 1, 100)</text>\n</g>\n<!-- 140403239767848&#45;&gt;140403223960264 -->\n<g class=\"edge\" id=\"edge9\">\n<title>140403239767848-&gt;140403223960264</title>\n<path d=\"M1109.0913,-1162.4184C1117.8588,-1133.8812 1132.843,-1085.1091 1142.833,-1052.5924\" fill=\"none\" stroke=\"#000000\"/>\n<polygon fill=\"#000000\" points=\"1146.2957,-1053.2395 1145.8869,-1042.6525 1139.6043,-1051.1837 1146.2957,-1053.2395\" stroke=\"#000000\"/>\n</g>\n<!-- 140403223751704 -->\n<g class=\"node\" id=\"node8\">\n<title>140403223751704</title>\n<polygon fill=\"none\" points=\"36,-996.5 36,-1042.5 318,-1042.5 318,-996.5 36,-996.5\" stroke=\"#000000\"/>\n<text fill=\"#000000\" font-family=\"Times,serif\" font-size=\"14.00\" text-anchor=\"middle\" x=\"97\" y=\"-1015.8\">dense_134: Dense</text>\n<polyline fill=\"none\" points=\"158,-996.5 158,-1042.5 \" stroke=\"#000000\"/>\n<text fill=\"#000000\" font-family=\"Times,serif\" font-size=\"14.00\" text-anchor=\"middle\" x=\"187\" y=\"-1027.3\">input:</text>\n<polyline fill=\"none\" points=\"158,-1019.5 216,-1019.5 \" stroke=\"#000000\"/>\n<text fill=\"#000000\" font-family=\"Times,serif\" font-size=\"14.00\" text-anchor=\"middle\" x=\"187\" y=\"-1004.3\">output:</text>\n<polyline fill=\"none\" points=\"216,-996.5 216,-1042.5 \" stroke=\"#000000\"/>\n<text fill=\"#000000\" font-family=\"Times,serif\" font-size=\"14.00\" text-anchor=\"middle\" x=\"267\" y=\"-1027.3\">(None, 1, 10)</text>\n<polyline fill=\"none\" points=\"216,-1019.5 318,-1019.5 \" stroke=\"#000000\"/>\n<text fill=\"#000000\" font-family=\"Times,serif\" font-size=\"14.00\" text-anchor=\"middle\" x=\"267\" y=\"-1004.3\">(None, 1, 100)</text>\n</g>\n<!-- 140403223959088&#45;&gt;140403223751704 -->\n<g class=\"edge\" id=\"edge8\">\n<title>140403223959088-&gt;140403223751704</title>\n<path d=\"M213.7937,-1079.3799C208.4778,-1070.7286 202.3414,-1060.7419 196.6222,-1051.4341\" fill=\"none\" stroke=\"#000000\"/>\n<polygon fill=\"#000000\" points=\"199.5244,-1049.4718 191.307,-1042.784 193.5603,-1053.1365 199.5244,-1049.4718\" stroke=\"#000000\"/>\n</g>\n<!-- 140403225880840 -->\n<g class=\"node\" id=\"node10\">\n<title>140403225880840</title>\n<polygon fill=\"none\" points=\"712,-996.5 712,-1042.5 994,-1042.5 994,-996.5 712,-996.5\" stroke=\"#000000\"/>\n<text fill=\"#000000\" font-family=\"Times,serif\" font-size=\"14.00\" text-anchor=\"middle\" x=\"773\" y=\"-1015.8\">dense_135: Dense</text>\n<polyline fill=\"none\" points=\"834,-996.5 834,-1042.5 \" stroke=\"#000000\"/>\n<text fill=\"#000000\" font-family=\"Times,serif\" font-size=\"14.00\" text-anchor=\"middle\" x=\"863\" y=\"-1027.3\">input:</text>\n<polyline fill=\"none\" points=\"834,-1019.5 892,-1019.5 \" stroke=\"#000000\"/>\n<text fill=\"#000000\" font-family=\"Times,serif\" font-size=\"14.00\" text-anchor=\"middle\" x=\"863\" y=\"-1004.3\">output:</text>\n<polyline fill=\"none\" points=\"892,-996.5 892,-1042.5 \" stroke=\"#000000\"/>\n<text fill=\"#000000\" font-family=\"Times,serif\" font-size=\"14.00\" text-anchor=\"middle\" x=\"943\" y=\"-1027.3\">(None, 1, 10)</text>\n<polyline fill=\"none\" points=\"892,-1019.5 994,-1019.5 \" stroke=\"#000000\"/>\n<text fill=\"#000000\" font-family=\"Times,serif\" font-size=\"14.00\" text-anchor=\"middle\" x=\"943\" y=\"-1004.3\">(None, 1, 100)</text>\n</g>\n<!-- 140403223959368&#45;&gt;140403225880840 -->\n<g class=\"edge\" id=\"edge10\">\n<title>140403223959368-&gt;140403225880840</title>\n<path d=\"M889.0722,-1079.3799C883.8606,-1070.7286 877.8445,-1060.7419 872.2374,-1051.4341\" fill=\"none\" stroke=\"#000000\"/>\n<polygon fill=\"#000000\" points=\"875.1847,-1049.5438 867.0265,-1042.784 869.1886,-1053.1559 875.1847,-1049.5438\" stroke=\"#000000\"/>\n</g>\n<!-- 140403219212608 -->\n<g class=\"node\" id=\"node11\">\n<title>140403219212608</title>\n<polygon fill=\"none\" points=\"0,-913.5 0,-959.5 354,-959.5 354,-913.5 0,-913.5\" stroke=\"#000000\"/>\n<text fill=\"#000000\" font-family=\"Times,serif\" font-size=\"14.00\" text-anchor=\"middle\" x=\"46\" y=\"-932.8\">add_77: Add</text>\n<polyline fill=\"none\" points=\"92,-913.5 92,-959.5 \" stroke=\"#000000\"/>\n<text fill=\"#000000\" font-family=\"Times,serif\" font-size=\"14.00\" text-anchor=\"middle\" x=\"121\" y=\"-944.3\">input:</text>\n<polyline fill=\"none\" points=\"92,-936.5 150,-936.5 \" stroke=\"#000000\"/>\n<text fill=\"#000000\" font-family=\"Times,serif\" font-size=\"14.00\" text-anchor=\"middle\" x=\"121\" y=\"-921.3\">output:</text>\n<polyline fill=\"none\" points=\"150,-913.5 150,-959.5 \" stroke=\"#000000\"/>\n<text fill=\"#000000\" font-family=\"Times,serif\" font-size=\"14.00\" text-anchor=\"middle\" x=\"252\" y=\"-944.3\">[(None, 1, 100), (None, 1, 100)]</text>\n<polyline fill=\"none\" points=\"150,-936.5 354,-936.5 \" stroke=\"#000000\"/>\n<text fill=\"#000000\" font-family=\"Times,serif\" font-size=\"14.00\" text-anchor=\"middle\" x=\"252\" y=\"-921.3\">(None, 1, 100)</text>\n</g>\n<!-- 140403223959648&#45;&gt;140403219212608 -->\n<g class=\"edge\" id=\"edge11\">\n<title>140403223959648-&gt;140403219212608</title>\n<path d=\"M393.8317,-996.4901C355.3845,-985.853 309.5741,-973.1788 269.9876,-962.2266\" fill=\"none\" stroke=\"#000000\"/>\n<polygon fill=\"#000000\" points=\"270.9014,-958.848 260.3301,-959.5547 269.0348,-965.5945 270.9014,-958.848\" stroke=\"#000000\"/>\n</g>\n<!-- 140403218926504 -->\n<g class=\"node\" id=\"node13\">\n<title>140403218926504</title>\n<polygon fill=\"none\" points=\"372,-913.5 372,-959.5 654,-959.5 654,-913.5 372,-913.5\" stroke=\"#000000\"/>\n<text fill=\"#000000\" font-family=\"Times,serif\" font-size=\"14.00\" text-anchor=\"middle\" x=\"433\" y=\"-932.8\">dense_136: Dense</text>\n<polyline fill=\"none\" points=\"494,-913.5 494,-959.5 \" stroke=\"#000000\"/>\n<text fill=\"#000000\" font-family=\"Times,serif\" font-size=\"14.00\" text-anchor=\"middle\" x=\"523\" y=\"-944.3\">input:</text>\n<polyline fill=\"none\" points=\"494,-936.5 552,-936.5 \" stroke=\"#000000\"/>\n<text fill=\"#000000\" font-family=\"Times,serif\" font-size=\"14.00\" text-anchor=\"middle\" x=\"523\" y=\"-921.3\">output:</text>\n<polyline fill=\"none\" points=\"552,-913.5 552,-959.5 \" stroke=\"#000000\"/>\n<text fill=\"#000000\" font-family=\"Times,serif\" font-size=\"14.00\" text-anchor=\"middle\" x=\"603\" y=\"-944.3\">(None, 1, 100)</text>\n<polyline fill=\"none\" points=\"552,-936.5 654,-936.5 \" stroke=\"#000000\"/>\n<text fill=\"#000000\" font-family=\"Times,serif\" font-size=\"14.00\" text-anchor=\"middle\" x=\"603\" y=\"-921.3\">(None, 1, 200)</text>\n</g>\n<!-- 140403223959648&#45;&gt;140403218926504 -->\n<g class=\"edge\" id=\"edge15\">\n<title>140403223959648-&gt;140403218926504</title>\n<path d=\"M487.028,-996.3799C490.703,-987.907 494.9336,-978.1531 498.899,-969.0107\" fill=\"none\" stroke=\"#000000\"/>\n<polygon fill=\"#000000\" points=\"502.1327,-970.351 502.9009,-959.784 495.7107,-967.5655 502.1327,-970.351\" stroke=\"#000000\"/>\n</g>\n<!-- 140403223751704&#45;&gt;140403219212608 -->\n<g class=\"edge\" id=\"edge12\">\n<title>140403223751704-&gt;140403219212608</title>\n<path d=\"M177,-996.3799C177,-988.1745 177,-978.7679 177,-969.8786\" fill=\"none\" stroke=\"#000000\"/>\n<polygon fill=\"#000000\" points=\"180.5001,-969.784 177,-959.784 173.5001,-969.784 180.5001,-969.784\" stroke=\"#000000\"/>\n</g>\n<!-- 140403218924600 -->\n<g class=\"node\" id=\"node12\">\n<title>140403218924600</title>\n<polygon fill=\"none\" points=\"676,-913.5 676,-959.5 1030,-959.5 1030,-913.5 676,-913.5\" stroke=\"#000000\"/>\n<text fill=\"#000000\" font-family=\"Times,serif\" font-size=\"14.00\" text-anchor=\"middle\" x=\"722\" y=\"-932.8\">add_78: Add</text>\n<polyline fill=\"none\" points=\"768,-913.5 768,-959.5 \" stroke=\"#000000\"/>\n<text fill=\"#000000\" font-family=\"Times,serif\" font-size=\"14.00\" text-anchor=\"middle\" x=\"797\" y=\"-944.3\">input:</text>\n<polyline fill=\"none\" points=\"768,-936.5 826,-936.5 \" stroke=\"#000000\"/>\n<text fill=\"#000000\" font-family=\"Times,serif\" font-size=\"14.00\" text-anchor=\"middle\" x=\"797\" y=\"-921.3\">output:</text>\n<polyline fill=\"none\" points=\"826,-913.5 826,-959.5 \" stroke=\"#000000\"/>\n<text fill=\"#000000\" font-family=\"Times,serif\" font-size=\"14.00\" text-anchor=\"middle\" x=\"928\" y=\"-944.3\">[(None, 1, 100), (None, 1, 100)]</text>\n<polyline fill=\"none\" points=\"826,-936.5 1030,-936.5 \" stroke=\"#000000\"/>\n<text fill=\"#000000\" font-family=\"Times,serif\" font-size=\"14.00\" text-anchor=\"middle\" x=\"928\" y=\"-921.3\">(None, 1, 100)</text>\n</g>\n<!-- 140403223960264&#45;&gt;140403218924600 -->\n<g class=\"edge\" id=\"edge13\">\n<title>140403223960264-&gt;140403218924600</title>\n<path d=\"M1069.8317,-996.4901C1031.3845,-985.853 985.5741,-973.1788 945.9876,-962.2266\" fill=\"none\" stroke=\"#000000\"/>\n<polygon fill=\"#000000\" points=\"946.9014,-958.848 936.3301,-959.5547 945.0348,-965.5945 946.9014,-958.848\" stroke=\"#000000\"/>\n</g>\n<!-- 140403221524720 -->\n<g class=\"node\" id=\"node15\">\n<title>140403221524720</title>\n<polygon fill=\"none\" points=\"1012,-830.5 1012,-876.5 1294,-876.5 1294,-830.5 1012,-830.5\" stroke=\"#000000\"/>\n<text fill=\"#000000\" font-family=\"Times,serif\" font-size=\"14.00\" text-anchor=\"middle\" x=\"1073\" y=\"-849.8\">dense_137: Dense</text>\n<polyline fill=\"none\" points=\"1134,-830.5 1134,-876.5 \" stroke=\"#000000\"/>\n<text fill=\"#000000\" font-family=\"Times,serif\" font-size=\"14.00\" text-anchor=\"middle\" x=\"1163\" y=\"-861.3\">input:</text>\n<polyline fill=\"none\" points=\"1134,-853.5 1192,-853.5 \" stroke=\"#000000\"/>\n<text fill=\"#000000\" font-family=\"Times,serif\" font-size=\"14.00\" text-anchor=\"middle\" x=\"1163\" y=\"-838.3\">output:</text>\n<polyline fill=\"none\" points=\"1192,-830.5 1192,-876.5 \" stroke=\"#000000\"/>\n<text fill=\"#000000\" font-family=\"Times,serif\" font-size=\"14.00\" text-anchor=\"middle\" x=\"1243\" y=\"-861.3\">(None, 1, 100)</text>\n<polyline fill=\"none\" points=\"1192,-853.5 1294,-853.5 \" stroke=\"#000000\"/>\n<text fill=\"#000000\" font-family=\"Times,serif\" font-size=\"14.00\" text-anchor=\"middle\" x=\"1243\" y=\"-838.3\">(None, 1, 200)</text>\n</g>\n<!-- 140403223960264&#45;&gt;140403221524720 -->\n<g class=\"edge\" id=\"edge17\">\n<title>140403223960264-&gt;140403221524720</title>\n<path d=\"M1153,-996.4184C1153,-968.0047 1153,-919.531 1153,-887.0156\" fill=\"none\" stroke=\"#000000\"/>\n<polygon fill=\"#000000\" points=\"1156.5001,-886.6525 1153,-876.6525 1149.5001,-886.6526 1156.5001,-886.6525\" stroke=\"#000000\"/>\n</g>\n<!-- 140403225880840&#45;&gt;140403218924600 -->\n<g class=\"edge\" id=\"edge14\">\n<title>140403225880840-&gt;140403218924600</title>\n<path d=\"M853,-996.3799C853,-988.1745 853,-978.7679 853,-969.8786\" fill=\"none\" stroke=\"#000000\"/>\n<polygon fill=\"#000000\" points=\"856.5001,-969.784 853,-959.784 849.5001,-969.784 856.5001,-969.784\" stroke=\"#000000\"/>\n</g>\n<!-- 140403220431592 -->\n<g class=\"node\" id=\"node14\">\n<title>140403220431592</title>\n<polygon fill=\"none\" points=\"111,-830.5 111,-876.5 393,-876.5 393,-830.5 111,-830.5\" stroke=\"#000000\"/>\n<text fill=\"#000000\" font-family=\"Times,serif\" font-size=\"14.00\" text-anchor=\"middle\" x=\"172\" y=\"-849.8\">dense_138: Dense</text>\n<polyline fill=\"none\" points=\"233,-830.5 233,-876.5 \" stroke=\"#000000\"/>\n<text fill=\"#000000\" font-family=\"Times,serif\" font-size=\"14.00\" text-anchor=\"middle\" x=\"262\" y=\"-861.3\">input:</text>\n<polyline fill=\"none\" points=\"233,-853.5 291,-853.5 \" stroke=\"#000000\"/>\n<text fill=\"#000000\" font-family=\"Times,serif\" font-size=\"14.00\" text-anchor=\"middle\" x=\"262\" y=\"-838.3\">output:</text>\n<polyline fill=\"none\" points=\"291,-830.5 291,-876.5 \" stroke=\"#000000\"/>\n<text fill=\"#000000\" font-family=\"Times,serif\" font-size=\"14.00\" text-anchor=\"middle\" x=\"342\" y=\"-861.3\">(None, 1, 100)</text>\n<polyline fill=\"none\" points=\"291,-853.5 393,-853.5 \" stroke=\"#000000\"/>\n<text fill=\"#000000\" font-family=\"Times,serif\" font-size=\"14.00\" text-anchor=\"middle\" x=\"342\" y=\"-838.3\">(None, 1, 200)</text>\n</g>\n<!-- 140403219212608&#45;&gt;140403220431592 -->\n<g class=\"edge\" id=\"edge16\">\n<title>140403219212608-&gt;140403220431592</title>\n<path d=\"M197.8917,-913.3799C206.0315,-904.3718 215.4795,-893.916 224.1811,-884.2863\" fill=\"none\" stroke=\"#000000\"/>\n<polygon fill=\"#000000\" points=\"226.8526,-886.5502 230.9602,-876.784 221.6589,-881.8571 226.8526,-886.5502\" stroke=\"#000000\"/>\n</g>\n<!-- 140403220792936 -->\n<g class=\"node\" id=\"node16\">\n<title>140403220792936</title>\n<polygon fill=\"none\" points=\"712,-830.5 712,-876.5 994,-876.5 994,-830.5 712,-830.5\" stroke=\"#000000\"/>\n<text fill=\"#000000\" font-family=\"Times,serif\" font-size=\"14.00\" text-anchor=\"middle\" x=\"773\" y=\"-849.8\">dense_139: Dense</text>\n<polyline fill=\"none\" points=\"834,-830.5 834,-876.5 \" stroke=\"#000000\"/>\n<text fill=\"#000000\" font-family=\"Times,serif\" font-size=\"14.00\" text-anchor=\"middle\" x=\"863\" y=\"-861.3\">input:</text>\n<polyline fill=\"none\" points=\"834,-853.5 892,-853.5 \" stroke=\"#000000\"/>\n<text fill=\"#000000\" font-family=\"Times,serif\" font-size=\"14.00\" text-anchor=\"middle\" x=\"863\" y=\"-838.3\">output:</text>\n<polyline fill=\"none\" points=\"892,-830.5 892,-876.5 \" stroke=\"#000000\"/>\n<text fill=\"#000000\" font-family=\"Times,serif\" font-size=\"14.00\" text-anchor=\"middle\" x=\"943\" y=\"-861.3\">(None, 1, 100)</text>\n<polyline fill=\"none\" points=\"892,-853.5 994,-853.5 \" stroke=\"#000000\"/>\n<text fill=\"#000000\" font-family=\"Times,serif\" font-size=\"14.00\" text-anchor=\"middle\" x=\"943\" y=\"-838.3\">(None, 1, 200)</text>\n</g>\n<!-- 140403218924600&#45;&gt;140403220792936 -->\n<g class=\"edge\" id=\"edge18\">\n<title>140403218924600-&gt;140403220792936</title>\n<path d=\"M853,-913.3799C853,-905.1745 853,-895.7679 853,-886.8786\" fill=\"none\" stroke=\"#000000\"/>\n<polygon fill=\"#000000\" points=\"856.5001,-886.784 853,-876.784 849.5001,-886.784 856.5001,-886.784\" stroke=\"#000000\"/>\n</g>\n<!-- 140403219425152 -->\n<g class=\"node\" id=\"node17\">\n<title>140403219425152</title>\n<polygon fill=\"none\" points=\"313,-747.5 313,-793.5 667,-793.5 667,-747.5 313,-747.5\" stroke=\"#000000\"/>\n<text fill=\"#000000\" font-family=\"Times,serif\" font-size=\"14.00\" text-anchor=\"middle\" x=\"359\" y=\"-766.8\">add_79: Add</text>\n<polyline fill=\"none\" points=\"405,-747.5 405,-793.5 \" stroke=\"#000000\"/>\n<text fill=\"#000000\" font-family=\"Times,serif\" font-size=\"14.00\" text-anchor=\"middle\" x=\"434\" y=\"-778.3\">input:</text>\n<polyline fill=\"none\" points=\"405,-770.5 463,-770.5 \" stroke=\"#000000\"/>\n<text fill=\"#000000\" font-family=\"Times,serif\" font-size=\"14.00\" text-anchor=\"middle\" x=\"434\" y=\"-755.3\">output:</text>\n<polyline fill=\"none\" points=\"463,-747.5 463,-793.5 \" stroke=\"#000000\"/>\n<text fill=\"#000000\" font-family=\"Times,serif\" font-size=\"14.00\" text-anchor=\"middle\" x=\"565\" y=\"-778.3\">[(None, 1, 200), (None, 1, 200)]</text>\n<polyline fill=\"none\" points=\"463,-770.5 667,-770.5 \" stroke=\"#000000\"/>\n<text fill=\"#000000\" font-family=\"Times,serif\" font-size=\"14.00\" text-anchor=\"middle\" x=\"565\" y=\"-755.3\">(None, 1, 200)</text>\n</g>\n<!-- 140403218926504&#45;&gt;140403219425152 -->\n<g class=\"edge\" id=\"edge19\">\n<title>140403218926504-&gt;140403219425152</title>\n<path d=\"M509.8019,-913.4184C505.848,-884.8812 499.0904,-836.1091 494.5851,-803.5924\" fill=\"none\" stroke=\"#000000\"/>\n<polygon fill=\"#000000\" points=\"498.0473,-803.0775 493.2079,-793.6525 491.1135,-804.0383 498.0473,-803.0775\" stroke=\"#000000\"/>\n</g>\n<!-- 140403220431592&#45;&gt;140403219425152 -->\n<g class=\"edge\" id=\"edge20\">\n<title>140403220431592-&gt;140403219425152</title>\n<path d=\"M317.9802,-830.4901C347.9013,-820.0554 383.4436,-807.6604 414.4319,-796.8536\" fill=\"none\" stroke=\"#000000\"/>\n<polygon fill=\"#000000\" points=\"415.6017,-800.1524 423.8914,-793.5547 413.2966,-793.5428 415.6017,-800.1524\" stroke=\"#000000\"/>\n</g>\n<!-- 140403219999152 -->\n<g class=\"node\" id=\"node18\">\n<title>140403219999152</title>\n<polygon fill=\"none\" points=\"685,-747.5 685,-793.5 1039,-793.5 1039,-747.5 685,-747.5\" stroke=\"#000000\"/>\n<text fill=\"#000000\" font-family=\"Times,serif\" font-size=\"14.00\" text-anchor=\"middle\" x=\"731\" y=\"-766.8\">add_80: Add</text>\n<polyline fill=\"none\" points=\"777,-747.5 777,-793.5 \" stroke=\"#000000\"/>\n<text fill=\"#000000\" font-family=\"Times,serif\" font-size=\"14.00\" text-anchor=\"middle\" x=\"806\" y=\"-778.3\">input:</text>\n<polyline fill=\"none\" points=\"777,-770.5 835,-770.5 \" stroke=\"#000000\"/>\n<text fill=\"#000000\" font-family=\"Times,serif\" font-size=\"14.00\" text-anchor=\"middle\" x=\"806\" y=\"-755.3\">output:</text>\n<polyline fill=\"none\" points=\"835,-747.5 835,-793.5 \" stroke=\"#000000\"/>\n<text fill=\"#000000\" font-family=\"Times,serif\" font-size=\"14.00\" text-anchor=\"middle\" x=\"937\" y=\"-778.3\">[(None, 1, 200), (None, 1, 200)]</text>\n<polyline fill=\"none\" points=\"835,-770.5 1039,-770.5 \" stroke=\"#000000\"/>\n<text fill=\"#000000\" font-family=\"Times,serif\" font-size=\"14.00\" text-anchor=\"middle\" x=\"937\" y=\"-755.3\">(None, 1, 200)</text>\n</g>\n<!-- 140403221524720&#45;&gt;140403219999152 -->\n<g class=\"edge\" id=\"edge21\">\n<title>140403221524720-&gt;140403219999152</title>\n<path d=\"M1072.3267,-830.4901C1035.2695,-819.9205 991.1603,-807.3395 952.9293,-796.4352\" fill=\"none\" stroke=\"#000000\"/>\n<polygon fill=\"#000000\" points=\"953.4067,-792.9318 942.8302,-793.5547 951.4867,-799.6634 953.4067,-792.9318\" stroke=\"#000000\"/>\n</g>\n<!-- 140403220792936&#45;&gt;140403219999152 -->\n<g class=\"edge\" id=\"edge22\">\n<title>140403220792936-&gt;140403219999152</title>\n<path d=\"M855.507,-830.3799C856.3967,-822.1745 857.4167,-812.7679 858.3806,-803.8786\" fill=\"none\" stroke=\"#000000\"/>\n<polygon fill=\"#000000\" points=\"861.8767,-804.1031 859.4752,-793.784 854.9175,-803.3484 861.8767,-804.1031\" stroke=\"#000000\"/>\n</g>\n<!-- 140403219999096 -->\n<g class=\"node\" id=\"node19\">\n<title>140403219999096</title>\n<polygon fill=\"none\" points=\"385.5,-664.5 385.5,-710.5 666.5,-710.5 666.5,-664.5 385.5,-664.5\" stroke=\"#000000\"/>\n<text fill=\"#000000\" font-family=\"Times,serif\" font-size=\"14.00\" text-anchor=\"middle\" x=\"446\" y=\"-683.8\">flatten_31: Flatten</text>\n<polyline fill=\"none\" points=\"506.5,-664.5 506.5,-710.5 \" stroke=\"#000000\"/>\n<text fill=\"#000000\" font-family=\"Times,serif\" font-size=\"14.00\" text-anchor=\"middle\" x=\"535.5\" y=\"-695.3\">input:</text>\n<polyline fill=\"none\" points=\"506.5,-687.5 564.5,-687.5 \" stroke=\"#000000\"/>\n<text fill=\"#000000\" font-family=\"Times,serif\" font-size=\"14.00\" text-anchor=\"middle\" x=\"535.5\" y=\"-672.3\">output:</text>\n<polyline fill=\"none\" points=\"564.5,-664.5 564.5,-710.5 \" stroke=\"#000000\"/>\n<text fill=\"#000000\" font-family=\"Times,serif\" font-size=\"14.00\" text-anchor=\"middle\" x=\"615.5\" y=\"-695.3\">(None, 1, 200)</text>\n<polyline fill=\"none\" points=\"564.5,-687.5 666.5,-687.5 \" stroke=\"#000000\"/>\n<text fill=\"#000000\" font-family=\"Times,serif\" font-size=\"14.00\" text-anchor=\"middle\" x=\"615.5\" y=\"-672.3\">(None, 200)</text>\n</g>\n<!-- 140403219425152&#45;&gt;140403219999096 -->\n<g class=\"edge\" id=\"edge23\">\n<title>140403219425152-&gt;140403219999096</title>\n<path d=\"M500.028,-747.3799C503.703,-738.907 507.9336,-729.1531 511.899,-720.0107\" fill=\"none\" stroke=\"#000000\"/>\n<polygon fill=\"#000000\" points=\"515.1327,-721.351 515.9009,-710.784 508.7107,-718.5655 515.1327,-721.351\" stroke=\"#000000\"/>\n</g>\n<!-- 140403220000272 -->\n<g class=\"node\" id=\"node20\">\n<title>140403220000272</title>\n<polygon fill=\"none\" points=\"702.5,-664.5 702.5,-710.5 983.5,-710.5 983.5,-664.5 702.5,-664.5\" stroke=\"#000000\"/>\n<text fill=\"#000000\" font-family=\"Times,serif\" font-size=\"14.00\" text-anchor=\"middle\" x=\"763\" y=\"-683.8\">flatten_32: Flatten</text>\n<polyline fill=\"none\" points=\"823.5,-664.5 823.5,-710.5 \" stroke=\"#000000\"/>\n<text fill=\"#000000\" font-family=\"Times,serif\" font-size=\"14.00\" text-anchor=\"middle\" x=\"852.5\" y=\"-695.3\">input:</text>\n<polyline fill=\"none\" points=\"823.5,-687.5 881.5,-687.5 \" stroke=\"#000000\"/>\n<text fill=\"#000000\" font-family=\"Times,serif\" font-size=\"14.00\" text-anchor=\"middle\" x=\"852.5\" y=\"-672.3\">output:</text>\n<polyline fill=\"none\" points=\"881.5,-664.5 881.5,-710.5 \" stroke=\"#000000\"/>\n<text fill=\"#000000\" font-family=\"Times,serif\" font-size=\"14.00\" text-anchor=\"middle\" x=\"932.5\" y=\"-695.3\">(None, 1, 200)</text>\n<polyline fill=\"none\" points=\"881.5,-687.5 983.5,-687.5 \" stroke=\"#000000\"/>\n<text fill=\"#000000\" font-family=\"Times,serif\" font-size=\"14.00\" text-anchor=\"middle\" x=\"932.5\" y=\"-672.3\">(None, 200)</text>\n</g>\n<!-- 140403219999152&#45;&gt;140403220000272 -->\n<g class=\"edge\" id=\"edge24\">\n<title>140403219999152-&gt;140403220000272</title>\n<path d=\"M856.7074,-747.3799C854.8087,-739.0854 852.6289,-729.5633 850.5746,-720.5889\" fill=\"none\" stroke=\"#000000\"/>\n<polygon fill=\"#000000\" points=\"853.9733,-719.7508 848.3301,-710.784 847.1498,-721.3129 853.9733,-719.7508\" stroke=\"#000000\"/>\n</g>\n<!-- 140403222194440 -->\n<g class=\"node\" id=\"node21\">\n<title>140403222194440</title>\n<polygon fill=\"none\" points=\"468,-581.5 468,-627.5 882,-627.5 882,-581.5 468,-581.5\" stroke=\"#000000\"/>\n<text fill=\"#000000\" font-family=\"Times,serif\" font-size=\"14.00\" text-anchor=\"middle\" x=\"559\" y=\"-600.8\">concatenate_16: Concatenate</text>\n<polyline fill=\"none\" points=\"650,-581.5 650,-627.5 \" stroke=\"#000000\"/>\n<text fill=\"#000000\" font-family=\"Times,serif\" font-size=\"14.00\" text-anchor=\"middle\" x=\"679\" y=\"-612.3\">input:</text>\n<polyline fill=\"none\" points=\"650,-604.5 708,-604.5 \" stroke=\"#000000\"/>\n<text fill=\"#000000\" font-family=\"Times,serif\" font-size=\"14.00\" text-anchor=\"middle\" x=\"679\" y=\"-589.3\">output:</text>\n<polyline fill=\"none\" points=\"708,-581.5 708,-627.5 \" stroke=\"#000000\"/>\n<text fill=\"#000000\" font-family=\"Times,serif\" font-size=\"14.00\" text-anchor=\"middle\" x=\"795\" y=\"-612.3\">[(None, 200), (None, 200)]</text>\n<polyline fill=\"none\" points=\"708,-604.5 882,-604.5 \" stroke=\"#000000\"/>\n<text fill=\"#000000\" font-family=\"Times,serif\" font-size=\"14.00\" text-anchor=\"middle\" x=\"795\" y=\"-589.3\">(None, 400)</text>\n</g>\n<!-- 140403219999096&#45;&gt;140403222194440 -->\n<g class=\"edge\" id=\"edge25\">\n<title>140403219999096-&gt;140403222194440</title>\n<path d=\"M567.5048,-664.3799C585.1908,-654.5279 605.9858,-642.9442 624.5493,-632.6034\" fill=\"none\" stroke=\"#000000\"/>\n<polygon fill=\"#000000\" points=\"626.4268,-635.564 633.4596,-627.6399 623.0203,-629.4488 626.4268,-635.564\" stroke=\"#000000\"/>\n</g>\n<!-- 140403220000272&#45;&gt;140403222194440 -->\n<g class=\"edge\" id=\"edge26\">\n<title>140403220000272-&gt;140403222194440</title>\n<path d=\"M796.2026,-664.3799C775.9894,-654.3936 752.1746,-642.6279 731.0292,-632.1811\" fill=\"none\" stroke=\"#000000\"/>\n<polygon fill=\"#000000\" points=\"732.3533,-628.9315 721.8375,-627.6399 729.2527,-635.2073 732.3533,-628.9315\" stroke=\"#000000\"/>\n</g>\n<!-- 140403219763664 -->\n<g class=\"node\" id=\"node22\">\n<title>140403219763664</title>\n<polygon fill=\"none\" points=\"541.5,-498.5 541.5,-544.5 808.5,-544.5 808.5,-498.5 541.5,-498.5\" stroke=\"#000000\"/>\n<text fill=\"#000000\" font-family=\"Times,serif\" font-size=\"14.00\" text-anchor=\"middle\" x=\"602.5\" y=\"-517.8\">dense_140: Dense</text>\n<polyline fill=\"none\" points=\"663.5,-498.5 663.5,-544.5 \" stroke=\"#000000\"/>\n<text fill=\"#000000\" font-family=\"Times,serif\" font-size=\"14.00\" text-anchor=\"middle\" x=\"692.5\" y=\"-529.3\">input:</text>\n<polyline fill=\"none\" points=\"663.5,-521.5 721.5,-521.5 \" stroke=\"#000000\"/>\n<text fill=\"#000000\" font-family=\"Times,serif\" font-size=\"14.00\" text-anchor=\"middle\" x=\"692.5\" y=\"-506.3\">output:</text>\n<polyline fill=\"none\" points=\"721.5,-498.5 721.5,-544.5 \" stroke=\"#000000\"/>\n<text fill=\"#000000\" font-family=\"Times,serif\" font-size=\"14.00\" text-anchor=\"middle\" x=\"765\" y=\"-529.3\">(None, 400)</text>\n<polyline fill=\"none\" points=\"721.5,-521.5 808.5,-521.5 \" stroke=\"#000000\"/>\n<text fill=\"#000000\" font-family=\"Times,serif\" font-size=\"14.00\" text-anchor=\"middle\" x=\"765\" y=\"-506.3\">(None, 200)</text>\n</g>\n<!-- 140403222194440&#45;&gt;140403219763664 -->\n<g class=\"edge\" id=\"edge27\">\n<title>140403222194440-&gt;140403219763664</title>\n<path d=\"M675,-581.3799C675,-573.1745 675,-563.7679 675,-554.8786\" fill=\"none\" stroke=\"#000000\"/>\n<polygon fill=\"#000000\" points=\"678.5001,-554.784 675,-544.784 671.5001,-554.784 678.5001,-554.784\" stroke=\"#000000\"/>\n</g>\n<!-- 140403219884856 -->\n<g class=\"node\" id=\"node23\">\n<title>140403219884856</title>\n<polygon fill=\"none\" points=\"463.5,-415.5 463.5,-461.5 886.5,-461.5 886.5,-415.5 463.5,-415.5\" stroke=\"#000000\"/>\n<text fill=\"#000000\" font-family=\"Times,serif\" font-size=\"14.00\" text-anchor=\"middle\" x=\"602.5\" y=\"-434.8\">batch_normalization_21: BatchNormalization</text>\n<polyline fill=\"none\" points=\"741.5,-415.5 741.5,-461.5 \" stroke=\"#000000\"/>\n<text fill=\"#000000\" font-family=\"Times,serif\" font-size=\"14.00\" text-anchor=\"middle\" x=\"770.5\" y=\"-446.3\">input:</text>\n<polyline fill=\"none\" points=\"741.5,-438.5 799.5,-438.5 \" stroke=\"#000000\"/>\n<text fill=\"#000000\" font-family=\"Times,serif\" font-size=\"14.00\" text-anchor=\"middle\" x=\"770.5\" y=\"-423.3\">output:</text>\n<polyline fill=\"none\" points=\"799.5,-415.5 799.5,-461.5 \" stroke=\"#000000\"/>\n<text fill=\"#000000\" font-family=\"Times,serif\" font-size=\"14.00\" text-anchor=\"middle\" x=\"843\" y=\"-446.3\">(None, 200)</text>\n<polyline fill=\"none\" points=\"799.5,-438.5 886.5,-438.5 \" stroke=\"#000000\"/>\n<text fill=\"#000000\" font-family=\"Times,serif\" font-size=\"14.00\" text-anchor=\"middle\" x=\"843\" y=\"-423.3\">(None, 200)</text>\n</g>\n<!-- 140403219763664&#45;&gt;140403219884856 -->\n<g class=\"edge\" id=\"edge28\">\n<title>140403219763664-&gt;140403219884856</title>\n<path d=\"M675,-498.3799C675,-490.1745 675,-480.7679 675,-471.8786\" fill=\"none\" stroke=\"#000000\"/>\n<polygon fill=\"#000000\" points=\"678.5001,-471.784 675,-461.784 671.5001,-471.784 678.5001,-471.784\" stroke=\"#000000\"/>\n</g>\n<!-- 140403219749576 -->\n<g class=\"node\" id=\"node24\">\n<title>140403219749576</title>\n<polygon fill=\"none\" points=\"532,-332.5 532,-378.5 818,-378.5 818,-332.5 532,-332.5\" stroke=\"#000000\"/>\n<text fill=\"#000000\" font-family=\"Times,serif\" font-size=\"14.00\" text-anchor=\"middle\" x=\"602.5\" y=\"-351.8\">dropout_21: Dropout</text>\n<polyline fill=\"none\" points=\"673,-332.5 673,-378.5 \" stroke=\"#000000\"/>\n<text fill=\"#000000\" font-family=\"Times,serif\" font-size=\"14.00\" text-anchor=\"middle\" x=\"702\" y=\"-363.3\">input:</text>\n<polyline fill=\"none\" points=\"673,-355.5 731,-355.5 \" stroke=\"#000000\"/>\n<text fill=\"#000000\" font-family=\"Times,serif\" font-size=\"14.00\" text-anchor=\"middle\" x=\"702\" y=\"-340.3\">output:</text>\n<polyline fill=\"none\" points=\"731,-332.5 731,-378.5 \" stroke=\"#000000\"/>\n<text fill=\"#000000\" font-family=\"Times,serif\" font-size=\"14.00\" text-anchor=\"middle\" x=\"774.5\" y=\"-363.3\">(None, 200)</text>\n<polyline fill=\"none\" points=\"731,-355.5 818,-355.5 \" stroke=\"#000000\"/>\n<text fill=\"#000000\" font-family=\"Times,serif\" font-size=\"14.00\" text-anchor=\"middle\" x=\"774.5\" y=\"-340.3\">(None, 200)</text>\n</g>\n<!-- 140403219884856&#45;&gt;140403219749576 -->\n<g class=\"edge\" id=\"edge29\">\n<title>140403219884856-&gt;140403219749576</title>\n<path d=\"M675,-415.3799C675,-407.1745 675,-397.7679 675,-388.8786\" fill=\"none\" stroke=\"#000000\"/>\n<polygon fill=\"#000000\" points=\"678.5001,-388.784 675,-378.784 671.5001,-388.784 678.5001,-388.784\" stroke=\"#000000\"/>\n</g>\n<!-- 140403221251128 -->\n<g class=\"node\" id=\"node25\">\n<title>140403221251128</title>\n<polygon fill=\"none\" points=\"541.5,-249.5 541.5,-295.5 808.5,-295.5 808.5,-249.5 541.5,-249.5\" stroke=\"#000000\"/>\n<text fill=\"#000000\" font-family=\"Times,serif\" font-size=\"14.00\" text-anchor=\"middle\" x=\"602.5\" y=\"-268.8\">dense_141: Dense</text>\n<polyline fill=\"none\" points=\"663.5,-249.5 663.5,-295.5 \" stroke=\"#000000\"/>\n<text fill=\"#000000\" font-family=\"Times,serif\" font-size=\"14.00\" text-anchor=\"middle\" x=\"692.5\" y=\"-280.3\">input:</text>\n<polyline fill=\"none\" points=\"663.5,-272.5 721.5,-272.5 \" stroke=\"#000000\"/>\n<text fill=\"#000000\" font-family=\"Times,serif\" font-size=\"14.00\" text-anchor=\"middle\" x=\"692.5\" y=\"-257.3\">output:</text>\n<polyline fill=\"none\" points=\"721.5,-249.5 721.5,-295.5 \" stroke=\"#000000\"/>\n<text fill=\"#000000\" font-family=\"Times,serif\" font-size=\"14.00\" text-anchor=\"middle\" x=\"765\" y=\"-280.3\">(None, 200)</text>\n<polyline fill=\"none\" points=\"721.5,-272.5 808.5,-272.5 \" stroke=\"#000000\"/>\n<text fill=\"#000000\" font-family=\"Times,serif\" font-size=\"14.00\" text-anchor=\"middle\" x=\"765\" y=\"-257.3\">(None, 100)</text>\n</g>\n<!-- 140403219749576&#45;&gt;140403221251128 -->\n<g class=\"edge\" id=\"edge30\">\n<title>140403219749576-&gt;140403221251128</title>\n<path d=\"M675,-332.3799C675,-324.1745 675,-314.7679 675,-305.8786\" fill=\"none\" stroke=\"#000000\"/>\n<polygon fill=\"#000000\" points=\"678.5001,-305.784 675,-295.784 671.5001,-305.784 678.5001,-305.784\" stroke=\"#000000\"/>\n</g>\n<!-- 140403221932856 -->\n<g class=\"node\" id=\"node26\">\n<title>140403221932856</title>\n<polygon fill=\"none\" points=\"463.5,-166.5 463.5,-212.5 886.5,-212.5 886.5,-166.5 463.5,-166.5\" stroke=\"#000000\"/>\n<text fill=\"#000000\" font-family=\"Times,serif\" font-size=\"14.00\" text-anchor=\"middle\" x=\"602.5\" y=\"-185.8\">batch_normalization_22: BatchNormalization</text>\n<polyline fill=\"none\" points=\"741.5,-166.5 741.5,-212.5 \" stroke=\"#000000\"/>\n<text fill=\"#000000\" font-family=\"Times,serif\" font-size=\"14.00\" text-anchor=\"middle\" x=\"770.5\" y=\"-197.3\">input:</text>\n<polyline fill=\"none\" points=\"741.5,-189.5 799.5,-189.5 \" stroke=\"#000000\"/>\n<text fill=\"#000000\" font-family=\"Times,serif\" font-size=\"14.00\" text-anchor=\"middle\" x=\"770.5\" y=\"-174.3\">output:</text>\n<polyline fill=\"none\" points=\"799.5,-166.5 799.5,-212.5 \" stroke=\"#000000\"/>\n<text fill=\"#000000\" font-family=\"Times,serif\" font-size=\"14.00\" text-anchor=\"middle\" x=\"843\" y=\"-197.3\">(None, 100)</text>\n<polyline fill=\"none\" points=\"799.5,-189.5 886.5,-189.5 \" stroke=\"#000000\"/>\n<text fill=\"#000000\" font-family=\"Times,serif\" font-size=\"14.00\" text-anchor=\"middle\" x=\"843\" y=\"-174.3\">(None, 100)</text>\n</g>\n<!-- 140403221251128&#45;&gt;140403221932856 -->\n<g class=\"edge\" id=\"edge31\">\n<title>140403221251128-&gt;140403221932856</title>\n<path d=\"M675,-249.3799C675,-241.1745 675,-231.7679 675,-222.8786\" fill=\"none\" stroke=\"#000000\"/>\n<polygon fill=\"#000000\" points=\"678.5001,-222.784 675,-212.784 671.5001,-222.784 678.5001,-222.784\" stroke=\"#000000\"/>\n</g>\n<!-- 140403220190656 -->\n<g class=\"node\" id=\"node27\">\n<title>140403220190656</title>\n<polygon fill=\"none\" points=\"532,-83.5 532,-129.5 818,-129.5 818,-83.5 532,-83.5\" stroke=\"#000000\"/>\n<text fill=\"#000000\" font-family=\"Times,serif\" font-size=\"14.00\" text-anchor=\"middle\" x=\"602.5\" y=\"-102.8\">dropout_22: Dropout</text>\n<polyline fill=\"none\" points=\"673,-83.5 673,-129.5 \" stroke=\"#000000\"/>\n<text fill=\"#000000\" font-family=\"Times,serif\" font-size=\"14.00\" text-anchor=\"middle\" x=\"702\" y=\"-114.3\">input:</text>\n<polyline fill=\"none\" points=\"673,-106.5 731,-106.5 \" stroke=\"#000000\"/>\n<text fill=\"#000000\" font-family=\"Times,serif\" font-size=\"14.00\" text-anchor=\"middle\" x=\"702\" y=\"-91.3\">output:</text>\n<polyline fill=\"none\" points=\"731,-83.5 731,-129.5 \" stroke=\"#000000\"/>\n<text fill=\"#000000\" font-family=\"Times,serif\" font-size=\"14.00\" text-anchor=\"middle\" x=\"774.5\" y=\"-114.3\">(None, 100)</text>\n<polyline fill=\"none\" points=\"731,-106.5 818,-106.5 \" stroke=\"#000000\"/>\n<text fill=\"#000000\" font-family=\"Times,serif\" font-size=\"14.00\" text-anchor=\"middle\" x=\"774.5\" y=\"-91.3\">(None, 100)</text>\n</g>\n<!-- 140403221932856&#45;&gt;140403220190656 -->\n<g class=\"edge\" id=\"edge32\">\n<title>140403221932856-&gt;140403220190656</title>\n<path d=\"M675,-166.3799C675,-158.1745 675,-148.7679 675,-139.8786\" fill=\"none\" stroke=\"#000000\"/>\n<polygon fill=\"#000000\" points=\"678.5001,-139.784 675,-129.784 671.5001,-139.784 678.5001,-139.784\" stroke=\"#000000\"/>\n</g>\n<!-- 140403219763552 -->\n<g class=\"node\" id=\"node28\">\n<title>140403219763552</title>\n<polygon fill=\"none\" points=\"541.5,-.5 541.5,-46.5 808.5,-46.5 808.5,-.5 541.5,-.5\" stroke=\"#000000\"/>\n<text fill=\"#000000\" font-family=\"Times,serif\" font-size=\"14.00\" text-anchor=\"middle\" x=\"602.5\" y=\"-19.8\">dense_142: Dense</text>\n<polyline fill=\"none\" points=\"663.5,-.5 663.5,-46.5 \" stroke=\"#000000\"/>\n<text fill=\"#000000\" font-family=\"Times,serif\" font-size=\"14.00\" text-anchor=\"middle\" x=\"692.5\" y=\"-31.3\">input:</text>\n<polyline fill=\"none\" points=\"663.5,-23.5 721.5,-23.5 \" stroke=\"#000000\"/>\n<text fill=\"#000000\" font-family=\"Times,serif\" font-size=\"14.00\" text-anchor=\"middle\" x=\"692.5\" y=\"-8.3\">output:</text>\n<polyline fill=\"none\" points=\"721.5,-.5 721.5,-46.5 \" stroke=\"#000000\"/>\n<text fill=\"#000000\" font-family=\"Times,serif\" font-size=\"14.00\" text-anchor=\"middle\" x=\"765\" y=\"-31.3\">(None, 100)</text>\n<polyline fill=\"none\" points=\"721.5,-23.5 808.5,-23.5 \" stroke=\"#000000\"/>\n<text fill=\"#000000\" font-family=\"Times,serif\" font-size=\"14.00\" text-anchor=\"middle\" x=\"765\" y=\"-8.3\">(None, 1)</text>\n</g>\n<!-- 140403220190656&#45;&gt;140403219763552 -->\n<g class=\"edge\" id=\"edge33\">\n<title>140403220190656-&gt;140403219763552</title>\n<path d=\"M675,-83.3799C675,-75.1745 675,-65.7679 675,-56.8786\" fill=\"none\" stroke=\"#000000\"/>\n<polygon fill=\"#000000\" points=\"678.5001,-56.784 675,-46.784 671.5001,-56.784 678.5001,-56.784\" stroke=\"#000000\"/>\n</g>\n</g>\n</svg>"
          },
          "metadata": {
            "tags": []
          },
          "execution_count": 54
        }
      ]
    },
    {
      "metadata": {
        "id": "MAbt2hkMw1d2",
        "colab_type": "code",
        "colab": {}
      },
      "cell_type": "code",
      "source": [
        "# print(history)"
      ],
      "execution_count": 0,
      "outputs": []
    },
    {
      "metadata": {
        "id": "-clQPYuFw1d6",
        "colab_type": "code",
        "outputId": "70a1f704-264e-4ac6-9c46-16a0f248c473",
        "colab": {
          "base_uri": "https://localhost:8080/",
          "height": 376
        }
      },
      "cell_type": "code",
      "source": [
        "import matplotlib.pyplot as plt\n",
        "plt.plot(history.history['loss'])\n",
        "plt.title('Model Loss')\n",
        "plt.ylabel('Loss')\n",
        "plt.xlabel('Epoch')\n",
        "plt.show()"
      ],
      "execution_count": 0,
      "outputs": [
        {
          "output_type": "display_data",
          "data": {
            "image/png": "[encoded data removed]",
            "text/plain": [
              "<Figure size 576x396 with 1 Axes>"
            ]
          },
          "metadata": {
            "tags": []
          }
        }
      ]
    },
    {
      "metadata": {
        "id": "DbphJTtnw1d-",
        "colab_type": "code",
        "outputId": "42183350-a5e3-4ac9-e3db-19326128eaaf",
        "colab": {
          "base_uri": "https://localhost:8080/",
          "height": 376
        }
      },
      "cell_type": "code",
      "source": [
        "# Plot training & validation loss values\n",
        "plt.plot(history.history['loss'])\n",
        "plt.plot(history.history['val_loss'])\n",
        "plt.title('Model loss')\n",
        "plt.ylabel('Loss')\n",
        "plt.xlabel('Epoch')\n",
        "plt.legend(['Loss', 'Val_Loss'], loc='upper left')\n",
        "plt.show()"
      ],
      "execution_count": 0,
      "outputs": [
        {
          "output_type": "display_data",
          "data": {
            "image/png": "[encoded data removed]",
            "text/plain": [
              "<Figure size 576x396 with 1 Axes>"
            ]
          },
          "metadata": {
            "tags": []
          }
        }
      ]
    },
    {
      "metadata": {
        "id": "lM_VSmhq4Hjx",
        "colab_type": "code",
        "outputId": "da53b989-c181-4e96-af21-69a130229b99",
        "colab": {
          "base_uri": "https://localhost:8080/",
          "height": 231
        }
      },
      "cell_type": "code",
      "source": [
        "# Plot training & validation loss values\n",
        "plt.plot(history.history['acc'])\n",
        "plt.plot(history.history['val_acc'])\n",
        "plt.title('Model Accury')\n",
        "plt.ylabel('accury')\n",
        "plt.xlabel('Epoch')\n",
        "plt.legend(['Acc', 'Val_acc'], loc='upper left')\n",
        "plt.show()"
      ],
      "execution_count": 0,
      "outputs": [
        {
          "output_type": "error",
          "ename": "KeyError",
          "evalue": "ignored",
          "traceback": [
            "\u001b[0;31m---------------------------------------------------------------------------\u001b[0m",
            "\u001b[0;31mKeyError\u001b[0m                                  Traceback (most recent call last)",
            "\u001b[0;32m<ipython-input-34-06517f5d40f2>\u001b[0m in \u001b[0;36m<module>\u001b[0;34m()\u001b[0m\n\u001b[0;32m----> 1\u001b[0;31m \u001b[0mplt\u001b[0m\u001b[0;34m.\u001b[0m\u001b[0mplot\u001b[0m\u001b[0;34m(\u001b[0m\u001b[0mhistory\u001b[0m\u001b[0;34m.\u001b[0m\u001b[0mhistory\u001b[0m\u001b[0;34m[\u001b[0m\u001b[0;34m'acc'\u001b[0m\u001b[0;34m]\u001b[0m\u001b[0;34m)\u001b[0m\u001b[0;34m\u001b[0m\u001b[0;34m\u001b[0m\u001b[0m\n\u001b[0m\u001b[1;32m      2\u001b[0m \u001b[0mplt\u001b[0m\u001b[0;34m.\u001b[0m\u001b[0mplot\u001b[0m\u001b[0;34m(\u001b[0m\u001b[0mhistory\u001b[0m\u001b[0;34m.\u001b[0m\u001b[0mhistory\u001b[0m\u001b[0;34m[\u001b[0m\u001b[0;34m'val_acc'\u001b[0m\u001b[0;34m]\u001b[0m\u001b[0;34m)\u001b[0m\u001b[0;34m\u001b[0m\u001b[0;34m\u001b[0m\u001b[0m\n\u001b[1;32m      3\u001b[0m \u001b[0mplt\u001b[0m\u001b[0;34m.\u001b[0m\u001b[0mtitle\u001b[0m\u001b[0;34m(\u001b[0m\u001b[0;34m'Model Accury'\u001b[0m\u001b[0;34m)\u001b[0m\u001b[0;34m\u001b[0m\u001b[0;34m\u001b[0m\u001b[0m\n\u001b[1;32m      4\u001b[0m \u001b[0mplt\u001b[0m\u001b[0;34m.\u001b[0m\u001b[0mylabel\u001b[0m\u001b[0;34m(\u001b[0m\u001b[0;34m'accury'\u001b[0m\u001b[0;34m)\u001b[0m\u001b[0;34m\u001b[0m\u001b[0;34m\u001b[0m\u001b[0m\n\u001b[1;32m      5\u001b[0m \u001b[0mplt\u001b[0m\u001b[0;34m.\u001b[0m\u001b[0mxlabel\u001b[0m\u001b[0;34m(\u001b[0m\u001b[0;34m'Epoch'\u001b[0m\u001b[0;34m)\u001b[0m\u001b[0;34m\u001b[0m\u001b[0;34m\u001b[0m\u001b[0m\n",
            "\u001b[0;31mKeyError\u001b[0m: 'acc'"
          ]
        }
      ]
    },
    {
      "metadata": {
        "id": "gy05rWkmu1al",
        "colab_type": "code",
        "colab": {}
      },
      "cell_type": "code",
      "source": [
        "from keras.models import load_model\n",
        "\n",
        "model.save('my_model.h5')  # creates a HDF5 file 'my_model.h5'"
      ],
      "execution_count": 0,
      "outputs": []
    },
    {
      "metadata": {
        "id": "7D2i5euRwsX7",
        "colab_type": "code",
        "colab": {}
      },
      "cell_type": "code",
      "source": [
        "model1 = load_model('my_model.h5')"
      ],
      "execution_count": 0,
      "outputs": []
    },
    {
      "metadata": {
        "id": "R2yRws8nwsvB",
        "colab_type": "code",
        "colab": {}
      },
      "cell_type": "code",
      "source": [
        "dtest = pd.read_csv('u1.test', sep = '\\t', names = ['user', 'item', 'rating', 'time'])\n",
        "dtest = dtest.drop(columns=['time'])"
      ],
      "execution_count": 0,
      "outputs": []
    },
    {
      "metadata": {
        "id": "gYjdx7kx7YbB",
        "colab_type": "code",
        "outputId": "05543ab6-8ea0-4ac9-edb6-bab9ddd8fee6",
        "colab": {
          "base_uri": "https://localhost:8080/",
          "height": 204
        }
      },
      "cell_type": "code",
      "source": [
        "dtest.head()"
      ],
      "execution_count": 0,
      "outputs": [
        {
          "output_type": "execute_result",
          "data": {
            "text/html": [
              "<div>\n",
              "<style scoped>\n",
              "    .dataframe tbody tr th:only-of-type {\n",
              "        vertical-align: middle;\n",
              "    }\n",
              "\n",
              "    .dataframe tbody tr th {\n",
              "        vertical-align: top;\n",
              "    }\n",
              "\n",
              "    .dataframe thead th {\n",
              "        text-align: right;\n",
              "    }\n",
              "</style>\n",
              "<table border=\"1\" class=\"dataframe\">\n",
              "  <thead>\n",
              "    <tr style=\"text-align: right;\">\n",
              "      <th></th>\n",
              "      <th>user</th>\n",
              "      <th>item</th>\n",
              "      <th>rating</th>\n",
              "    </tr>\n",
              "  </thead>\n",
              "  <tbody>\n",
              "    <tr>\n",
              "      <th>0</th>\n",
              "      <td>1</td>\n",
              "      <td>6</td>\n",
              "      <td>5</td>\n",
              "    </tr>\n",
              "    <tr>\n",
              "      <th>1</th>\n",
              "      <td>1</td>\n",
              "      <td>10</td>\n",
              "      <td>3</td>\n",
              "    </tr>\n",
              "    <tr>\n",
              "      <th>2</th>\n",
              "      <td>1</td>\n",
              "      <td>12</td>\n",
              "      <td>5</td>\n",
              "    </tr>\n",
              "    <tr>\n",
              "      <th>3</th>\n",
              "      <td>1</td>\n",
              "      <td>14</td>\n",
              "      <td>5</td>\n",
              "    </tr>\n",
              "    <tr>\n",
              "      <th>4</th>\n",
              "      <td>1</td>\n",
              "      <td>17</td>\n",
              "      <td>3</td>\n",
              "    </tr>\n",
              "  </tbody>\n",
              "</table>\n",
              "</div>"
            ],
            "text/plain": [
              "   user  item  rating\n",
              "0     1     6       5\n",
              "1     1    10       3\n",
              "2     1    12       5\n",
              "3     1    14       5\n",
              "4     1    17       3"
            ]
          },
          "metadata": {
            "tags": []
          },
          "execution_count": 27
        }
      ]
    },
    {
      "metadata": {
        "id": "LUKr4sUf7YeZ",
        "colab_type": "code",
        "colab": {}
      },
      "cell_type": "code",
      "source": [
        "pre = np.array(dtest)"
      ],
      "execution_count": 0,
      "outputs": []
    },
    {
      "metadata": {
        "id": "IQpTcXdz72NC",
        "colab_type": "code",
        "colab": {}
      },
      "cell_type": "code",
      "source": [
        "utest = pre[:,0]\n",
        "itest = pre[:,1]\n",
        "rtest = pre[:,2]"
      ],
      "execution_count": 0,
      "outputs": []
    },
    {
      "metadata": {
        "id": "Xvl_RiLG_SOU",
        "colab_type": "code",
        "colab": {}
      },
      "cell_type": "code",
      "source": [
        "a = np.ones((1410,))"
      ],
      "execution_count": 0,
      "outputs": []
    },
    {
      "metadata": {
        "id": "jQFsPKsa72QC",
        "colab_type": "code",
        "outputId": "f6e1197b-0eb4-4052-b9f7-0e6dfa53191b",
        "colab": {
          "base_uri": "https://localhost:8080/",
          "height": 34
        }
      },
      "cell_type": "code",
      "source": [
        "utest.shape"
      ],
      "execution_count": 0,
      "outputs": [
        {
          "output_type": "execute_result",
          "data": {
            "text/plain": [
              "(20000,)"
            ]
          },
          "metadata": {
            "tags": []
          },
          "execution_count": 30
        }
      ]
    },
    {
      "metadata": {
        "id": "JrfoSRZb9xII",
        "colab_type": "code",
        "colab": {}
      },
      "cell_type": "code",
      "source": [
        "useru = dtest.user.unique()\n",
        "itemu = dtest.item.unique()"
      ],
      "execution_count": 0,
      "outputs": []
    },
    {
      "metadata": {
        "id": "Z5P9S9Tn-HKE",
        "colab_type": "code",
        "colab": {}
      },
      "cell_type": "code",
      "source": [
        "itemtest = dtest[dtest['user'] != 1].item.unique()"
      ],
      "execution_count": 0,
      "outputs": []
    },
    {
      "metadata": {
        "id": "2CB6Ftxb-wYG",
        "colab_type": "code",
        "outputId": "888011a4-8cff-4168-b0e2-b31f3cca3f4a",
        "colab": {
          "base_uri": "https://localhost:8080/",
          "height": 34
        }
      },
      "cell_type": "code",
      "source": [
        "itemtest.shape"
      ],
      "execution_count": 0,
      "outputs": [
        {
          "output_type": "execute_result",
          "data": {
            "text/plain": [
              "(1410,)"
            ]
          },
          "metadata": {
            "tags": []
          },
          "execution_count": 36
        }
      ]
    },
    {
      "metadata": {
        "id": "ddgUzBr-A8Gl",
        "colab_type": "code",
        "colab": {}
      },
      "cell_type": "code",
      "source": [
        "aaa = np.empty((5,)); aaa.fill(3)"
      ],
      "execution_count": 0,
      "outputs": []
    },
    {
      "metadata": {
        "id": "0gDepNGZBKIZ",
        "colab_type": "code",
        "outputId": "36c82236-7c13-42e8-dd9e-fb4cb843d9f2",
        "colab": {
          "base_uri": "https://localhost:8080/",
          "height": 34
        }
      },
      "cell_type": "code",
      "source": [
        "aaa.shape"
      ],
      "execution_count": 0,
      "outputs": [
        {
          "output_type": "execute_result",
          "data": {
            "text/plain": [
              "(5,)"
            ]
          },
          "metadata": {
            "tags": []
          },
          "execution_count": 38
        }
      ]
    },
    {
      "metadata": {
        "id": "HTuKbuSY9Bcc",
        "colab_type": "code",
        "outputId": "3050a862-83d3-46e2-f8ba-cab0d31fbd0c",
        "colab": {
          "base_uri": "https://localhost:8080/",
          "height": 2346
        }
      },
      "cell_type": "code",
      "source": [
        "for i in range(len(pre)):\n",
        "  if pre[i][0] == 1:\n",
        "    print()"
      ],
      "execution_count": 0,
      "outputs": [
        {
          "output_type": "stream",
          "text": [
            "\n",
            "\n",
            "\n",
            "\n",
            "\n",
            "\n",
            "\n",
            "\n",
            "\n",
            "\n",
            "\n",
            "\n",
            "\n",
            "\n",
            "\n",
            "\n",
            "\n",
            "\n",
            "\n",
            "\n",
            "\n",
            "\n",
            "\n",
            "\n",
            "\n",
            "\n",
            "\n",
            "\n",
            "\n",
            "\n",
            "\n",
            "\n",
            "\n",
            "\n",
            "\n",
            "\n",
            "\n",
            "\n",
            "\n",
            "\n",
            "\n",
            "\n",
            "\n",
            "\n",
            "\n",
            "\n",
            "\n",
            "\n",
            "\n",
            "\n",
            "\n",
            "\n",
            "\n",
            "\n",
            "\n",
            "\n",
            "\n",
            "\n",
            "\n",
            "\n",
            "\n",
            "\n",
            "\n",
            "\n",
            "\n",
            "\n",
            "\n",
            "\n",
            "\n",
            "\n",
            "\n",
            "\n",
            "\n",
            "\n",
            "\n",
            "\n",
            "\n",
            "\n",
            "\n",
            "\n",
            "\n",
            "\n",
            "\n",
            "\n",
            "\n",
            "\n",
            "\n",
            "\n",
            "\n",
            "\n",
            "\n",
            "\n",
            "\n",
            "\n",
            "\n",
            "\n",
            "\n",
            "\n",
            "\n",
            "\n",
            "\n",
            "\n",
            "\n",
            "\n",
            "\n",
            "\n",
            "\n",
            "\n",
            "\n",
            "\n",
            "\n",
            "\n",
            "\n",
            "\n",
            "\n",
            "\n",
            "\n",
            "\n",
            "\n",
            "\n",
            "\n",
            "\n",
            "\n",
            "\n",
            "\n",
            "\n",
            "\n",
            "\n",
            "\n",
            "\n",
            "\n",
            "\n",
            "\n",
            "\n",
            "\n",
            "\n",
            "\n"
          ],
          "name": "stdout"
        }
      ]
    },
    {
      "metadata": {
        "id": "vegCeZBC7YhP",
        "colab_type": "code",
        "colab": {}
      },
      "cell_type": "code",
      "source": [
        "list_result = model.predict([pre[:,0],pre[:,1]])"
      ],
      "execution_count": 0,
      "outputs": []
    },
    {
      "metadata": {
        "id": "hIpUh1rYOsNo",
        "colab_type": "code",
        "colab": {}
      },
      "cell_type": "code",
      "source": [
        "kq = np.concatenate((pre,list_result), axis=1)"
      ],
      "execution_count": 0,
      "outputs": []
    },
    {
      "metadata": {
        "id": "B5TyYE86PB3c",
        "colab_type": "code",
        "outputId": "30c205d5-3da6-4496-8775-7633c7f93c00",
        "colab": {
          "base_uri": "https://localhost:8080/",
          "height": 357
        }
      },
      "cell_type": "code",
      "source": [
        "kq[20:40]"
      ],
      "execution_count": 0,
      "outputs": [
        {
          "output_type": "execute_result",
          "data": {
            "text/plain": [
              "array([[ 1.        , 60.        ,  5.        ,  4.95898485],\n",
              "       [ 1.        , 61.        ,  4.        ,  4.69534159],\n",
              "       [ 1.        , 62.        ,  3.        ,  4.17554617],\n",
              "       [ 1.        , 64.        ,  5.        ,  3.76302147],\n",
              "       [ 1.        , 65.        ,  4.        ,  1.88723934],\n",
              "       [ 1.        , 67.        ,  3.        ,  4.61987114],\n",
              "       [ 1.        , 69.        ,  3.        ,  4.26258707],\n",
              "       [ 1.        , 70.        ,  3.        ,  4.98160601],\n",
              "       [ 1.        , 72.        ,  4.        ,  4.97385073],\n",
              "       [ 1.        , 73.        ,  3.        ,  3.58459067],\n",
              "       [ 1.        , 74.        ,  1.        ,  3.34413075],\n",
              "       [ 1.        , 76.        ,  4.        ,  3.15184093],\n",
              "       [ 1.        , 78.        ,  1.        ,  2.74834776],\n",
              "       [ 1.        , 80.        ,  4.        ,  4.85453558],\n",
              "       [ 1.        , 81.        ,  5.        ,  3.76723695],\n",
              "       [ 1.        , 82.        ,  5.        ,  4.14285135],\n",
              "       [ 1.        , 84.        ,  4.        ,  4.29111242],\n",
              "       [ 1.        , 85.        ,  3.        ,  1.75160789],\n",
              "       [ 1.        , 86.        ,  5.        ,  5.01530695],\n",
              "       [ 1.        , 90.        ,  4.        ,  4.99991369]])"
            ]
          },
          "metadata": {
            "tags": []
          },
          "execution_count": 47
        }
      ]
    },
    {
      "metadata": {
        "id": "nYU8iamxAGEg",
        "colab_type": "code",
        "colab": {}
      },
      "cell_type": "code",
      "source": [
        "sort_list = list_result[list_result[:,0].argsort()[::-1]]"
      ],
      "execution_count": 0,
      "outputs": []
    },
    {
      "metadata": {
        "id": "6ohsHwLcCiJv",
        "colab_type": "code",
        "outputId": "cf29264c-6d62-450d-aee6-068b64d0d3c4",
        "colab": {
          "base_uri": "https://localhost:8080/",
          "height": 187
        }
      },
      "cell_type": "code",
      "source": [
        "print(sort_list[:10])"
      ],
      "execution_count": 0,
      "outputs": [
        {
          "output_type": "stream",
          "text": [
            "[[5.0807433]\n",
            " [5.0270395]\n",
            " [5.0107017]\n",
            " [4.993686 ]\n",
            " [4.969646 ]\n",
            " [4.841012 ]\n",
            " [4.8196573]\n",
            " [4.7776213]\n",
            " [4.7532244]\n",
            " [4.739296 ]]\n"
          ],
          "name": "stdout"
        }
      ]
    },
    {
      "metadata": {
        "id": "CzXeRDSwAd-j",
        "colab_type": "code",
        "outputId": "8fa8dd94-3524-4907-f789-300a17406a02",
        "colab": {
          "base_uri": "https://localhost:8080/",
          "height": 136
        }
      },
      "cell_type": "code",
      "source": [
        "list_result[list_result[:,0].argsort()[::-1]]"
      ],
      "execution_count": 0,
      "outputs": [
        {
          "output_type": "execute_result",
          "data": {
            "text/plain": [
              "array([[5.0807433 ],\n",
              "       [5.0270395 ],\n",
              "       [5.0107017 ],\n",
              "       ...,\n",
              "       [0.9137943 ],\n",
              "       [0.90736496],\n",
              "       [0.0081968 ]], dtype=float32)"
            ]
          },
          "metadata": {
            "tags": []
          },
          "execution_count": 43
        }
      ]
    },
    {
      "metadata": {
        "id": "7XWZyLBOAGVe",
        "colab_type": "code",
        "colab": {}
      },
      "cell_type": "code",
      "source": [
        ""
      ],
      "execution_count": 0,
      "outputs": []
    },
    {
      "metadata": {
        "id": "AxfivK-Bwt8B",
        "colab_type": "text"
      },
      "cell_type": "markdown",
      "source": [
        "## **Social**"
      ]
    },
    {
      "metadata": {
        "id": "AUQCK_MxJTfe",
        "colab_type": "code",
        "colab": {}
      },
      "cell_type": "code",
      "source": [
        ""
      ],
      "execution_count": 0,
      "outputs": []
    },
    {
      "metadata": {
        "id": "SdRMJForw3ba",
        "colab_type": "code",
        "colab": {}
      },
      "cell_type": "code",
      "source": [
        "import pandas as pd\n",
        "import numpy as np\n",
        "import matplotlib.pyplot as plt"
      ],
      "execution_count": 0,
      "outputs": []
    },
    {
      "metadata": {
        "id": "3CXs4I7LwsyD",
        "colab_type": "code",
        "colab": {}
      },
      "cell_type": "code",
      "source": [
        "file = 'trust_data.csv'\n"
      ],
      "execution_count": 0,
      "outputs": []
    },
    {
      "metadata": {
        "id": "btUAZbsxxBN0",
        "colab_type": "code",
        "colab": {}
      },
      "cell_type": "code",
      "source": [
        "\n",
        "df1 = pd.read_csv(file, sep = ' ', names = ['user1', 'user2', 'trust'])"
      ],
      "execution_count": 0,
      "outputs": []
    },
    {
      "metadata": {
        "id": "FUDIZ6PEofNQ",
        "colab_type": "code",
        "outputId": "65c638e3-2557-4ea6-c8ad-016b3ad3d48a",
        "colab": {
          "base_uri": "https://localhost:8080/",
          "height": 204
        }
      },
      "cell_type": "code",
      "source": [
        "df1.head()"
      ],
      "execution_count": 0,
      "outputs": [
        {
          "output_type": "execute_result",
          "data": {
            "text/html": [
              "<div>\n",
              "<style scoped>\n",
              "    .dataframe tbody tr th:only-of-type {\n",
              "        vertical-align: middle;\n",
              "    }\n",
              "\n",
              "    .dataframe tbody tr th {\n",
              "        vertical-align: top;\n",
              "    }\n",
              "\n",
              "    .dataframe thead th {\n",
              "        text-align: right;\n",
              "    }\n",
              "</style>\n",
              "<table border=\"1\" class=\"dataframe\">\n",
              "  <thead>\n",
              "    <tr style=\"text-align: right;\">\n",
              "      <th></th>\n",
              "      <th>user1</th>\n",
              "      <th>user2</th>\n",
              "      <th>trust</th>\n",
              "    </tr>\n",
              "  </thead>\n",
              "  <tbody>\n",
              "    <tr>\n",
              "      <th>NaN</th>\n",
              "      <td>22605</td>\n",
              "      <td>42915</td>\n",
              "      <td>1</td>\n",
              "    </tr>\n",
              "    <tr>\n",
              "      <th>NaN</th>\n",
              "      <td>22605</td>\n",
              "      <td>5052</td>\n",
              "      <td>1</td>\n",
              "    </tr>\n",
              "    <tr>\n",
              "      <th>NaN</th>\n",
              "      <td>22605</td>\n",
              "      <td>42913</td>\n",
              "      <td>1</td>\n",
              "    </tr>\n",
              "    <tr>\n",
              "      <th>NaN</th>\n",
              "      <td>22605</td>\n",
              "      <td>18420</td>\n",
              "      <td>1</td>\n",
              "    </tr>\n",
              "    <tr>\n",
              "      <th>NaN</th>\n",
              "      <td>22605</td>\n",
              "      <td>42914</td>\n",
              "      <td>1</td>\n",
              "    </tr>\n",
              "  </tbody>\n",
              "</table>\n",
              "</div>"
            ],
            "text/plain": [
              "     user1  user2  trust\n",
              "NaN  22605  42915      1\n",
              "NaN  22605   5052      1\n",
              "NaN  22605  42913      1\n",
              "NaN  22605  18420      1\n",
              "NaN  22605  42914      1"
            ]
          },
          "metadata": {
            "tags": []
          },
          "execution_count": 46
        }
      ]
    },
    {
      "metadata": {
        "id": "7jKgivQLo0ku",
        "colab_type": "code",
        "colab": {}
      },
      "cell_type": "code",
      "source": [
        "trustdata = np.array(df1)"
      ],
      "execution_count": 0,
      "outputs": []
    },
    {
      "metadata": {
        "id": "VOH-uw4mpJzz",
        "colab_type": "code",
        "outputId": "e962b98d-34fc-46dd-fadb-5826f351d2dc",
        "colab": {
          "base_uri": "https://localhost:8080/",
          "height": 34
        }
      },
      "cell_type": "code",
      "source": [
        "trustdata.shape"
      ],
      "execution_count": 0,
      "outputs": [
        {
          "output_type": "execute_result",
          "data": {
            "text/plain": [
              "(487183, 3)"
            ]
          },
          "metadata": {
            "tags": []
          },
          "execution_count": 7
        }
      ]
    },
    {
      "metadata": {
        "id": "Js8zsWo_rFEv",
        "colab_type": "code",
        "outputId": "9ecacb51-e54b-42c1-9ef6-558ae9e64edd",
        "colab": {
          "base_uri": "https://localhost:8080/",
          "height": 34
        }
      },
      "cell_type": "code",
      "source": [
        "len(df1.user2.unique())*len(df1.user1.unique())"
      ],
      "execution_count": 0,
      "outputs": [
        {
          "output_type": "execute_result",
          "data": {
            "text/plain": [
              "1673820480"
            ]
          },
          "metadata": {
            "tags": []
          },
          "execution_count": 6
        }
      ]
    },
    {
      "metadata": {
        "id": "3FWjzS0fs47q",
        "colab_type": "code",
        "colab": {}
      },
      "cell_type": "code",
      "source": [
        ""
      ],
      "execution_count": 0,
      "outputs": []
    },
    {
      "metadata": {
        "id": "h98gUmxLpaDB",
        "colab_type": "code",
        "colab": {}
      },
      "cell_type": "code",
      "source": [
        "matrix = np.zeros([len(df1.user1.unique())+1, len(df1.user2.unique())+1], dtype=np.float32)\n",
        "for i in range(1,len(df1.user2.unique())+1):\n",
        "  u = trustdata[i][0]\n",
        "  uu = trustdata[i][1]\n",
        "  t = trustdata[i][2]\n",
        "  matrix[u][uu] = t\n",
        "  \n",
        "matrix"
      ],
      "execution_count": 0,
      "outputs": []
    },
    {
      "metadata": {
        "id": "p6kW_80zzzEp",
        "colab_type": "code",
        "colab": {}
      },
      "cell_type": "code",
      "source": [
        "print(var)"
      ],
      "execution_count": 0,
      "outputs": []
    },
    {
      "metadata": {
        "id": "LkP9FRclxFh1",
        "colab_type": "code",
        "colab": {}
      },
      "cell_type": "code",
      "source": [
        "df.head()"
      ],
      "execution_count": 0,
      "outputs": []
    },
    {
      "metadata": {
        "id": "j9Bjew_Ys5Ya",
        "colab_type": "code",
        "colab": {}
      },
      "cell_type": "code",
      "source": [
        "uid1 = trustdata[:,0]\n",
        "uid2 = trustdata[:,1]\n",
        "tr = trustdata[:,2]"
      ],
      "execution_count": 0,
      "outputs": []
    },
    {
      "metadata": {
        "id": "FSfKk_O6u5oZ",
        "colab_type": "code",
        "outputId": "1082fb74-872d-4013-bbb6-3e6df8d308ed",
        "colab": {
          "base_uri": "https://localhost:8080/",
          "height": 34
        }
      },
      "cell_type": "code",
      "source": [
        "uid1.shape"
      ],
      "execution_count": 0,
      "outputs": [
        {
          "output_type": "execute_result",
          "data": {
            "text/plain": [
              "(487183,)"
            ]
          },
          "metadata": {
            "tags": []
          },
          "execution_count": 10
        }
      ]
    },
    {
      "metadata": {
        "id": "PRMAHYHBuOUO",
        "colab_type": "code",
        "colab": {}
      },
      "cell_type": "code",
      "source": [
        "user_id_input = Input(shape=[1], name='user')\n",
        "item_id_input = Input(shape=[1], name='item')\n",
        "uid_input = Input(shape=[1], name = 'uid1')\n",
        "uid_input_2 = Input(shape=[1], name = 'uid2')\n",
        "trust_input = Input(shape=[1], name = 'trust')\n",
        "\n",
        "user_embedding = Embedding(output_dim=10, input_dim=data_dim[0] + 1,\n",
        "                                   input_length=1, name='user_embedding')(user_id_input)\n",
        "item_embedding = Embedding(output_dim=10, input_dim=data_dim[1] + 1,\n",
        "                                   input_length=1, name='item_embedding')(item_id_input)\n",
        "\n",
        "# reshape from shape: (batch_size, input_length, embedding_size)\n",
        "# to shape: (batch_size, input_length * embedding_size) which is\n",
        "# equal to shape: (batch_size, embedding_size)\n",
        "# for i in range(len(len_dim_u)):\n",
        "#     user_embedding = (Dense(len_dim_u[i], activation=\"relu\"))(user_embedding)\n",
        "#     user_vecs = (Dropout(0.1))(user_vecs)\n",
        "# for i in range(len(len_dim_i)):\n",
        "#     item_embedding = (Dense(len_dim_i[i], activation=\"relu\"))(item_embedding)\n",
        "#     item_vecs = (Dropout(0.1))(item_vecs)\n",
        "user_vecs = Flatten()(user_embedding)\n",
        "item_vecs = Flatten()(item_embedding)\n",
        "\n",
        "# uid_input = Flatten()(uid_input)\n",
        "# uid_input_2 = Flatten()(uid_input_2)\n",
        "# trust_input = Flatten()(trust_input)\n",
        "\n",
        "    \n",
        "# y = merge([user_vecs, item_vecs], mode='dot', output_shape=(1,))\n",
        "y = concatenate([user_vecs, item_vecs,uid_input, uid_input_2,trust_input])\n",
        "# y = concatenate([uid_input, uid_input_2,trust_input])(y)\n",
        "# y = (Dense(1, activation=\"relu\"))(y)\n",
        "for i in range(len(len_dim_r)):\n",
        "    y = (Dense(len_dim_r[i], activation=\"relu\"))(y)\n",
        "    y = (BatchNormalization())(y)\n",
        "#     y = (Dropout(0.2))(y)\n",
        "y = (Dense(1, activation='relu'))(y)\n",
        "\n",
        "model = Model(inputs=[user_id_input, item_id_input,uid_input, uid_input_2,trust_input], outputs=[y])\n",
        "adam = optimizers.Adam(lr=0.0001)\n",
        "model.compile(optimizer=adam, loss=rmse,metrics=['accuracy'])"
      ],
      "execution_count": 0,
      "outputs": []
    },
    {
      "metadata": {
        "id": "18lM3-Rys5cr",
        "colab_type": "code",
        "outputId": "e86d1ada-d0a3-4b47-aba5-eaf6455df65a",
        "colab": {
          "base_uri": "https://localhost:8080/",
          "height": 540
        }
      },
      "cell_type": "code",
      "source": [
        "history = model.fit([u_train,i_train,uid1,uid2,tr], r_train, batch_size=32, epochs = 15, verbose=1)"
      ],
      "execution_count": 0,
      "outputs": [
        {
          "output_type": "error",
          "ename": "ValueError",
          "evalue": "ignored",
          "traceback": [
            "\u001b[0;31m---------------------------------------------------------------------------\u001b[0m",
            "\u001b[0;31mValueError\u001b[0m                                Traceback (most recent call last)",
            "\u001b[0;32m<ipython-input-24-24bd03539af8>\u001b[0m in \u001b[0;36m<module>\u001b[0;34m()\u001b[0m\n\u001b[0;32m----> 1\u001b[0;31m \u001b[0mhistory\u001b[0m \u001b[0;34m=\u001b[0m \u001b[0mmodel\u001b[0m\u001b[0;34m.\u001b[0m\u001b[0mfit\u001b[0m\u001b[0;34m(\u001b[0m\u001b[0;34m[\u001b[0m\u001b[0mu_train\u001b[0m\u001b[0;34m,\u001b[0m\u001b[0mi_train\u001b[0m\u001b[0;34m,\u001b[0m\u001b[0muid1\u001b[0m\u001b[0;34m,\u001b[0m\u001b[0muid2\u001b[0m\u001b[0;34m,\u001b[0m\u001b[0mtr\u001b[0m\u001b[0;34m]\u001b[0m\u001b[0;34m,\u001b[0m \u001b[0mr_train\u001b[0m\u001b[0;34m,\u001b[0m \u001b[0mbatch_size\u001b[0m\u001b[0;34m=\u001b[0m\u001b[0;36m32\u001b[0m\u001b[0;34m,\u001b[0m \u001b[0mepochs\u001b[0m \u001b[0;34m=\u001b[0m \u001b[0;36m15\u001b[0m\u001b[0;34m,\u001b[0m \u001b[0mverbose\u001b[0m\u001b[0;34m=\u001b[0m\u001b[0;36m1\u001b[0m\u001b[0;34m)\u001b[0m\u001b[0;34m\u001b[0m\u001b[0;34m\u001b[0m\u001b[0m\n\u001b[0m",
            "\u001b[0;32m/usr/local/lib/python3.6/dist-packages/keras/engine/training.py\u001b[0m in \u001b[0;36mfit\u001b[0;34m(self, x, y, batch_size, epochs, verbose, callbacks, validation_split, validation_data, shuffle, class_weight, sample_weight, initial_epoch, steps_per_epoch, validation_steps, **kwargs)\u001b[0m\n\u001b[1;32m    950\u001b[0m             \u001b[0msample_weight\u001b[0m\u001b[0;34m=\u001b[0m\u001b[0msample_weight\u001b[0m\u001b[0;34m,\u001b[0m\u001b[0;34m\u001b[0m\u001b[0;34m\u001b[0m\u001b[0m\n\u001b[1;32m    951\u001b[0m             \u001b[0mclass_weight\u001b[0m\u001b[0;34m=\u001b[0m\u001b[0mclass_weight\u001b[0m\u001b[0;34m,\u001b[0m\u001b[0;34m\u001b[0m\u001b[0;34m\u001b[0m\u001b[0m\n\u001b[0;32m--> 952\u001b[0;31m             batch_size=batch_size)\n\u001b[0m\u001b[1;32m    953\u001b[0m         \u001b[0;31m# Prepare validation data.\u001b[0m\u001b[0;34m\u001b[0m\u001b[0;34m\u001b[0m\u001b[0;34m\u001b[0m\u001b[0m\n\u001b[1;32m    954\u001b[0m         \u001b[0mdo_validation\u001b[0m \u001b[0;34m=\u001b[0m \u001b[0;32mFalse\u001b[0m\u001b[0;34m\u001b[0m\u001b[0;34m\u001b[0m\u001b[0m\n",
            "\u001b[0;32m/usr/local/lib/python3.6/dist-packages/keras/engine/training.py\u001b[0m in \u001b[0;36m_standardize_user_data\u001b[0;34m(self, x, y, sample_weight, class_weight, check_array_lengths, batch_size)\u001b[0m\n\u001b[1;32m    802\u001b[0m             ]\n\u001b[1;32m    803\u001b[0m             \u001b[0;31m# Check that all arrays have the same length.\u001b[0m\u001b[0;34m\u001b[0m\u001b[0;34m\u001b[0m\u001b[0;34m\u001b[0m\u001b[0m\n\u001b[0;32m--> 804\u001b[0;31m             \u001b[0mcheck_array_length_consistency\u001b[0m\u001b[0;34m(\u001b[0m\u001b[0mx\u001b[0m\u001b[0;34m,\u001b[0m \u001b[0my\u001b[0m\u001b[0;34m,\u001b[0m \u001b[0msample_weights\u001b[0m\u001b[0;34m)\u001b[0m\u001b[0;34m\u001b[0m\u001b[0;34m\u001b[0m\u001b[0m\n\u001b[0m\u001b[1;32m    805\u001b[0m             \u001b[0;32mif\u001b[0m \u001b[0mself\u001b[0m\u001b[0;34m.\u001b[0m\u001b[0m_is_graph_network\u001b[0m\u001b[0;34m:\u001b[0m\u001b[0;34m\u001b[0m\u001b[0;34m\u001b[0m\u001b[0m\n\u001b[1;32m    806\u001b[0m                 \u001b[0;31m# Additional checks to avoid users mistakenly\u001b[0m\u001b[0;34m\u001b[0m\u001b[0;34m\u001b[0m\u001b[0;34m\u001b[0m\u001b[0m\n",
            "\u001b[0;32m/usr/local/lib/python3.6/dist-packages/keras/engine/training_utils.py\u001b[0m in \u001b[0;36mcheck_array_length_consistency\u001b[0;34m(inputs, targets, weights)\u001b[0m\n\u001b[1;32m    226\u001b[0m         raise ValueError('All input arrays (x) should have '\n\u001b[1;32m    227\u001b[0m                          \u001b[0;34m'the same number of samples. Got array shapes: '\u001b[0m \u001b[0;34m+\u001b[0m\u001b[0;34m\u001b[0m\u001b[0;34m\u001b[0m\u001b[0m\n\u001b[0;32m--> 228\u001b[0;31m                          str([x.shape for x in inputs]))\n\u001b[0m\u001b[1;32m    229\u001b[0m     \u001b[0;32mif\u001b[0m \u001b[0mlen\u001b[0m\u001b[0;34m(\u001b[0m\u001b[0mset_y\u001b[0m\u001b[0;34m)\u001b[0m \u001b[0;34m>\u001b[0m \u001b[0;36m1\u001b[0m\u001b[0;34m:\u001b[0m\u001b[0;34m\u001b[0m\u001b[0;34m\u001b[0m\u001b[0m\n\u001b[1;32m    230\u001b[0m         raise ValueError('All target arrays (y) should have '\n",
            "\u001b[0;31mValueError\u001b[0m: All input arrays (x) should have the same number of samples. Got array shapes: [(800167, 1), (800167, 1), (487183, 1), (487183, 1), (487183, 1)]"
          ]
        }
      ]
    },
    {
      "metadata": {
        "id": "gnMGAb-jJVPH",
        "colab_type": "code",
        "colab": {}
      },
      "cell_type": "code",
      "source": [
        "a = np.zeros((lenu, leni))"
      ],
      "execution_count": 0,
      "outputs": []
    },
    {
      "metadata": {
        "id": "6d03Wu63JgyY",
        "colab_type": "code",
        "colab": {}
      },
      "cell_type": "code",
      "source": [
        "b = np.array(df)"
      ],
      "execution_count": 0,
      "outputs": []
    },
    {
      "metadata": {
        "id": "1ndEMR4fKskL",
        "colab_type": "code",
        "colab": {}
      },
      "cell_type": "code",
      "source": [
        "for i in b:\n",
        "  u = i[0]\n",
        "  m = i[1]\n",
        "  r = i[2]\n",
        "  a[u-1][m-1] = r"
      ],
      "execution_count": 0,
      "outputs": []
    },
    {
      "metadata": {
        "id": "pN6DL2mpLESh",
        "colab_type": "code",
        "outputId": "47df113d-7c1d-4941-80a7-9fe1f68506f3",
        "colab": {
          "base_uri": "https://localhost:8080/",
          "height": 136
        }
      },
      "cell_type": "code",
      "source": [
        "a"
      ],
      "execution_count": 0,
      "outputs": [
        {
          "output_type": "execute_result",
          "data": {
            "text/plain": [
              "array([[5., 0., 0., ..., 0., 0., 0.],\n",
              "       [5., 0., 0., ..., 0., 0., 0.],\n",
              "       [5., 0., 0., ..., 0., 0., 0.],\n",
              "       ...,\n",
              "       [0., 0., 0., ..., 0., 0., 0.],\n",
              "       [0., 0., 0., ..., 0., 0., 0.],\n",
              "       [0., 0., 0., ..., 0., 0., 0.]])"
            ]
          },
          "metadata": {
            "tags": []
          },
          "execution_count": 54
        }
      ]
    },
    {
      "metadata": {
        "id": "hDIWZZZxLNL3",
        "colab_type": "code",
        "outputId": "36cb1768-7392-4fc6-a0ba-8abef20e5575",
        "colab": {
          "base_uri": "https://localhost:8080/",
          "height": 85
        }
      },
      "cell_type": "code",
      "source": [
        "df.loc[df['userID'].idxmax()]"
      ],
      "execution_count": 0,
      "outputs": [
        {
          "output_type": "execute_result",
          "data": {
            "text/plain": [
              "userID         17615\n",
              "movieID        16108\n",
              "movieRating        5\n",
              "Name: 72646, dtype: int64"
            ]
          },
          "metadata": {
            "tags": []
          },
          "execution_count": 34
        }
      ]
    },
    {
      "metadata": {
        "id": "zFvx8JLEMQfT",
        "colab_type": "code",
        "colab": {}
      },
      "cell_type": "code",
      "source": [
        "c = np.array(dft)"
      ],
      "execution_count": 0,
      "outputs": []
    },
    {
      "metadata": {
        "id": "11JX8dVGMTz7",
        "colab_type": "code",
        "outputId": "c45875da-70b5-4f36-b55f-fff1d8553c74",
        "colab": {
          "base_uri": "https://localhost:8080/",
          "height": 34
        }
      },
      "cell_type": "code",
      "source": [
        "for i in c:\n",
        "  if i[0] == 17615 or i[1] == 17615:\n",
        "    print(i)"
      ],
      "execution_count": 0,
      "outputs": [
        {
          "output_type": "stream",
          "text": [
            "[ 3792 17615     1]\n"
          ],
          "name": "stdout"
        }
      ]
    }
  ]
}